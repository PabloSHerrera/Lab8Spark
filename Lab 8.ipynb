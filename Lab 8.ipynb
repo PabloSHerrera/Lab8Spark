{
 "cells": [
  {
   "cell_type": "code",
   "execution_count": 0,
   "metadata": {
    "application/vnd.databricks.v1+cell": {
     "cellMetadata": {
      "byteLimit": 2048000,
      "rowLimit": 10000
     },
     "inputWidgets": {},
     "nuid": "a1d8aa95-f592-45dd-956a-f30f9a6367d9",
     "showTitle": false,
     "tableResultSettingsMap": {},
     "title": ""
    }
   },
   "outputs": [],
   "source": [
    "import pandas as pd\n",
    "from pathlib import Path\n",
    "\n",
    "VOLUME_NAME = \"basedatospnc-lab8\"  \n",
    "BASE_DIR = Path(f\"/Volumes/workspace/default/{VOLUME_NAME}\")\n",
    "INPUT_XLSX = BASE_DIR / \"Bases de datos principales PNC.xlsx\"  \n",
    "OUT_DIR = BASE_DIR / \"RawData\"\n",
    "OUT_DIR.mkdir(parents=True, exist_ok=True)\n",
    "SHEETS = [s for s in (f\"cuadro {i}\" for i in range(1, 66))]"
   ]
  },
  {
   "cell_type": "code",
   "execution_count": 0,
   "metadata": {
    "application/vnd.databricks.v1+cell": {
     "cellMetadata": {
      "byteLimit": 2048000,
      "rowLimit": 10000
     },
     "inputWidgets": {},
     "nuid": "e0d35566-abe2-4032-a4c8-d5c0925310dc",
     "showTitle": false,
     "tableResultSettingsMap": {},
     "title": ""
    }
   },
   "outputs": [
    {
     "output_type": "stream",
     "name": "stdout",
     "output_type": "stream",
     "text": [
      "[OK] Exportada hoja 'cuadro 1' -> /Volumes/workspace/default/basedatospnc-lab8/RawData/cuadro 1.csv\n[OK] Exportada hoja 'cuadro 2' -> /Volumes/workspace/default/basedatospnc-lab8/RawData/cuadro 2.csv\n[OK] Exportada hoja 'cuadro 3' -> /Volumes/workspace/default/basedatospnc-lab8/RawData/cuadro 3.csv\n[OK] Exportada hoja 'cuadro 4' -> /Volumes/workspace/default/basedatospnc-lab8/RawData/cuadro 4.csv\n[OK] Exportada hoja 'cuadro 5' -> /Volumes/workspace/default/basedatospnc-lab8/RawData/cuadro 5.csv\n[OK] Exportada hoja 'cuadro 6' -> /Volumes/workspace/default/basedatospnc-lab8/RawData/cuadro 6.csv\n[OK] Exportada hoja 'cuadro 7' -> /Volumes/workspace/default/basedatospnc-lab8/RawData/cuadro 7.csv\n[OK] Exportada hoja 'cuadro 8' -> /Volumes/workspace/default/basedatospnc-lab8/RawData/cuadro 8.csv\n[OK] Exportada hoja 'cuadro 9' -> /Volumes/workspace/default/basedatospnc-lab8/RawData/cuadro 9.csv\n[OK] Exportada hoja 'cuadro 10' -> /Volumes/workspace/default/basedatospnc-lab8/RawData/cuadro 10.csv\n[OK] Exportada hoja 'cuadro 11' -> /Volumes/workspace/default/basedatospnc-lab8/RawData/cuadro 11.csv\n[OK] Exportada hoja 'cuadro 12' -> /Volumes/workspace/default/basedatospnc-lab8/RawData/cuadro 12.csv\n[OK] Exportada hoja 'cuadro 13' -> /Volumes/workspace/default/basedatospnc-lab8/RawData/cuadro 13.csv\n[OK] Exportada hoja 'cuadro 14' -> /Volumes/workspace/default/basedatospnc-lab8/RawData/cuadro 14.csv\n[OK] Exportada hoja 'cuadro 15' -> /Volumes/workspace/default/basedatospnc-lab8/RawData/cuadro 15.csv\n[OK] Exportada hoja 'cuadro 16' -> /Volumes/workspace/default/basedatospnc-lab8/RawData/cuadro 16.csv\n[OK] Exportada hoja 'cuadro 17' -> /Volumes/workspace/default/basedatospnc-lab8/RawData/cuadro 17.csv\n[OK] Exportada hoja 'cuadro 18' -> /Volumes/workspace/default/basedatospnc-lab8/RawData/cuadro 18.csv\n[OK] Exportada hoja 'cuadro 19' -> /Volumes/workspace/default/basedatospnc-lab8/RawData/cuadro 19.csv\n[OK] Exportada hoja 'cuadro 20' -> /Volumes/workspace/default/basedatospnc-lab8/RawData/cuadro 20.csv\n[OK] Exportada hoja 'cuadro 21' -> /Volumes/workspace/default/basedatospnc-lab8/RawData/cuadro 21.csv\n[OK] Exportada hoja 'cuadro 22' -> /Volumes/workspace/default/basedatospnc-lab8/RawData/cuadro 22.csv\n[OK] Exportada hoja 'cuadro 23' -> /Volumes/workspace/default/basedatospnc-lab8/RawData/cuadro 23.csv\n[OK] Exportada hoja 'cuadro 24' -> /Volumes/workspace/default/basedatospnc-lab8/RawData/cuadro 24.csv\n[OK] Exportada hoja 'cuadro 25' -> /Volumes/workspace/default/basedatospnc-lab8/RawData/cuadro 25.csv\n[OK] Exportada hoja 'cuadro 26' -> /Volumes/workspace/default/basedatospnc-lab8/RawData/cuadro 26.csv\n[OK] Exportada hoja 'cuadro 27' -> /Volumes/workspace/default/basedatospnc-lab8/RawData/cuadro 27.csv\n[OK] Exportada hoja 'cuadro 28' -> /Volumes/workspace/default/basedatospnc-lab8/RawData/cuadro 28.csv\n[OK] Exportada hoja 'cuadro 29' -> /Volumes/workspace/default/basedatospnc-lab8/RawData/cuadro 29.csv\n[OK] Exportada hoja 'cuadro 30' -> /Volumes/workspace/default/basedatospnc-lab8/RawData/cuadro 30.csv\n[OK] Exportada hoja 'cuadro 31' -> /Volumes/workspace/default/basedatospnc-lab8/RawData/cuadro 31.csv\n[OK] Exportada hoja 'cuadro 32' -> /Volumes/workspace/default/basedatospnc-lab8/RawData/cuadro 32.csv\n[OK] Exportada hoja 'cuadro 33' -> /Volumes/workspace/default/basedatospnc-lab8/RawData/cuadro 33.csv\n[OK] Exportada hoja 'cuadro 34' -> /Volumes/workspace/default/basedatospnc-lab8/RawData/cuadro 34.csv\n[OK] Exportada hoja 'cuadro 35' -> /Volumes/workspace/default/basedatospnc-lab8/RawData/cuadro 35.csv\n[OK] Exportada hoja 'cuadro 36' -> /Volumes/workspace/default/basedatospnc-lab8/RawData/cuadro 36.csv\n[OK] Exportada hoja 'cuadro 37' -> /Volumes/workspace/default/basedatospnc-lab8/RawData/cuadro 37.csv\n[OK] Exportada hoja 'cuadro 38' -> /Volumes/workspace/default/basedatospnc-lab8/RawData/cuadro 38.csv\n[OK] Exportada hoja 'cuadro 39' -> /Volumes/workspace/default/basedatospnc-lab8/RawData/cuadro 39.csv\n[OK] Exportada hoja 'cuadro 40' -> /Volumes/workspace/default/basedatospnc-lab8/RawData/cuadro 40.csv\n[OK] Exportada hoja 'cuadro 41' -> /Volumes/workspace/default/basedatospnc-lab8/RawData/cuadro 41.csv\n[OK] Exportada hoja 'cuadro 42' -> /Volumes/workspace/default/basedatospnc-lab8/RawData/cuadro 42.csv\n[OK] Exportada hoja 'cuadro 43' -> /Volumes/workspace/default/basedatospnc-lab8/RawData/cuadro 43.csv\n[OK] Exportada hoja 'cuadro 44' -> /Volumes/workspace/default/basedatospnc-lab8/RawData/cuadro 44.csv\n[OK] Exportada hoja 'cuadro 45' -> /Volumes/workspace/default/basedatospnc-lab8/RawData/cuadro 45.csv\n[OK] Exportada hoja 'cuadro 46' -> /Volumes/workspace/default/basedatospnc-lab8/RawData/cuadro 46.csv\n[OK] Exportada hoja 'cuadro 47' -> /Volumes/workspace/default/basedatospnc-lab8/RawData/cuadro 47.csv\n[OK] Exportada hoja 'cuadro 48' -> /Volumes/workspace/default/basedatospnc-lab8/RawData/cuadro 48.csv\n[OK] Exportada hoja 'cuadro 49' -> /Volumes/workspace/default/basedatospnc-lab8/RawData/cuadro 49.csv\n[OK] Exportada hoja 'cuadro 50' -> /Volumes/workspace/default/basedatospnc-lab8/RawData/cuadro 50.csv\n[OK] Exportada hoja 'cuadro 51' -> /Volumes/workspace/default/basedatospnc-lab8/RawData/cuadro 51.csv\n[OK] Exportada hoja 'cuadro 52' -> /Volumes/workspace/default/basedatospnc-lab8/RawData/cuadro 52.csv\n[OK] Exportada hoja 'cuadro 53' -> /Volumes/workspace/default/basedatospnc-lab8/RawData/cuadro 53.csv\n[OK] Exportada hoja 'cuadro 54' -> /Volumes/workspace/default/basedatospnc-lab8/RawData/cuadro 54.csv\n[OK] Exportada hoja 'cuadro 55' -> /Volumes/workspace/default/basedatospnc-lab8/RawData/cuadro 55.csv\n[OK] Exportada hoja 'cuadro 56' -> /Volumes/workspace/default/basedatospnc-lab8/RawData/cuadro 56.csv\n[OK] Exportada hoja 'cuadro 57' -> /Volumes/workspace/default/basedatospnc-lab8/RawData/cuadro 57.csv\n[OK] Exportada hoja 'cuadro 58' -> /Volumes/workspace/default/basedatospnc-lab8/RawData/cuadro 58.csv\n[OK] Exportada hoja 'cuadro 59' -> /Volumes/workspace/default/basedatospnc-lab8/RawData/cuadro 59.csv\n[OK] Exportada hoja 'cuadro 60' -> /Volumes/workspace/default/basedatospnc-lab8/RawData/cuadro 60.csv\n[OK] Exportada hoja 'cuadro 61' -> /Volumes/workspace/default/basedatospnc-lab8/RawData/cuadro 61.csv\n[OK] Exportada hoja 'cuadro 62' -> /Volumes/workspace/default/basedatospnc-lab8/RawData/cuadro 62.csv\n[OK] Exportada hoja 'cuadro 63' -> /Volumes/workspace/default/basedatospnc-lab8/RawData/cuadro 63.csv\n[OK] Exportada hoja 'cuadro 64' -> /Volumes/workspace/default/basedatospnc-lab8/RawData/cuadro 64.csv\n[OK] Exportada hoja 'cuadro 65' -> /Volumes/workspace/default/basedatospnc-lab8/RawData/cuadro 65.csv\n"
     ]
    }
   ],
   "source": [
    "xls = pd.ExcelFile(INPUT_XLSX)\n",
    "for sheet in SHEETS:\n",
    "    if sheet not in xls.sheet_names:\n",
    "        print(f\"[WARN] La hoja '{sheet}' no existe en el archivo. Se omite.\")\n",
    "        continue\n",
    "\n",
    "    df = pd.read_excel(xls, sheet_name=sheet, dtype=object)  \n",
    "    out_csv = OUT_DIR / f\"{sheet.lower()}.csv\"\n",
    "    df.to_csv(out_csv, index=False)\n",
    "    print(f\"[OK] Exportada hoja '{sheet}' -> {out_csv}\")"
   ]
  },
  {
   "cell_type": "markdown",
   "metadata": {
    "application/vnd.databricks.v1+cell": {
     "cellMetadata": {
      "byteLimit": 2048000,
      "rowLimit": 10000
     },
     "inputWidgets": {},
     "nuid": "ffc372f2-d156-4f24-9409-f6ac73c6ce0b",
     "showTitle": false,
     "tableResultSettingsMap": {},
     "title": ""
    }
   },
   "source": [
    "Mostrar cuántos registros hay en cada tabla (hechos, vehículos, fallecidos, lesionados). Muestre algunos resultados con la función .show(). Genere un describe y summary para aquellas columnas que considere importantes según cada archivo"
   ]
  },
  {
   "cell_type": "code",
   "execution_count": 0,
   "metadata": {
    "application/vnd.databricks.v1+cell": {
     "cellMetadata": {
      "byteLimit": 2048000,
      "rowLimit": 10000
     },
     "inputWidgets": {},
     "nuid": "edad3f67-58b8-401b-b6ea-7f2ca1399e00",
     "showTitle": false,
     "tableResultSettingsMap": {
      "0": {
       "dataGridStateBlob": "{\"version\":1,\"tableState\":{\"columnPinning\":{\"left\":[\"#row_number#\"],\"right\":[]},\"columnSizing\":{},\"columnVisibility\":{}},\"settings\":{\"columns\":{}},\"syncTimestamp\":1759381924119}",
       "filterBlob": null,
       "queryPlanFiltersBlob": null,
       "tableResultIndex": 0
      }
     },
     "title": ""
    }
   },
   "outputs": [
    {
     "output_type": "stream",
     "name": "stdout",
     "output_type": "stream",
     "text": [
      "[OK] Cargado cuadro 1: 26 filas, 6 columnas -> dbfs:/Volumes/workspace/default/basedatospnc-lab8/RawData/cuadro 1.csv\n[OK] Cargado cuadro 2: 23 filas, 14 columnas -> dbfs:/Volumes/workspace/default/basedatospnc-lab8/RawData/cuadro 2.csv\n[OK] Cargado cuadro 3: 23 filas, 9 columnas -> dbfs:/Volumes/workspace/default/basedatospnc-lab8/RawData/cuadro 3.csv\n[OK] Cargado cuadro 4: 13 filas, 6 columnas -> dbfs:/Volumes/workspace/default/basedatospnc-lab8/RawData/cuadro 4.csv\n[OK] Cargado cuadro 5: 13 filas, 9 columnas -> dbfs:/Volumes/workspace/default/basedatospnc-lab8/RawData/cuadro 5.csv\n[OK] Cargado cuadro 6: 8 filas, 13 columnas -> dbfs:/Volumes/workspace/default/basedatospnc-lab8/RawData/cuadro 6.csv\n[OK] Cargado cuadro 7: 26 filas, 9 columnas -> dbfs:/Volumes/workspace/default/basedatospnc-lab8/RawData/cuadro 7.csv\n[OK] Cargado cuadro 8: 23 filas, 11 columnas -> dbfs:/Volumes/workspace/default/basedatospnc-lab8/RawData/cuadro 8.csv\n[OK] Cargado cuadro 9: 13 filas, 11 columnas -> dbfs:/Volumes/workspace/default/basedatospnc-lab8/RawData/cuadro 9.csv\n[OK] Cargado cuadro 10: 32 filas, 11 columnas -> dbfs:/Volumes/workspace/default/basedatospnc-lab8/RawData/cuadro 10.csv\n[OK] Cargado cuadro 11: 23 filas, 14 columnas -> dbfs:/Volumes/workspace/default/basedatospnc-lab8/RawData/cuadro 11.csv\n[OK] Cargado cuadro 12: 23 filas, 9 columnas -> dbfs:/Volumes/workspace/default/basedatospnc-lab8/RawData/cuadro 12.csv\n[OK] Cargado cuadro 13: 13 filas, 9 columnas -> dbfs:/Volumes/workspace/default/basedatospnc-lab8/RawData/cuadro 13.csv\n[OK] Cargado cuadro 14: 26 filas, 25 columnas -> dbfs:/Volumes/workspace/default/basedatospnc-lab8/RawData/cuadro 14.csv\n[OK] Cargado cuadro 15: 24 filas, 9 columnas -> dbfs:/Volumes/workspace/default/basedatospnc-lab8/RawData/cuadro 15.csv\n[OK] Cargado cuadro 16: 24 filas, 8 columnas -> dbfs:/Volumes/workspace/default/basedatospnc-lab8/RawData/cuadro 16.csv\n[OK] Cargado cuadro 17: 23 filas, 6 columnas -> dbfs:/Volumes/workspace/default/basedatospnc-lab8/RawData/cuadro 17.csv\n[OK] Cargado cuadro 18: 19 filas, 13 columnas -> dbfs:/Volumes/workspace/default/basedatospnc-lab8/RawData/cuadro 18.csv\n[OK] Cargado cuadro 19: 17 filas, 11 columnas -> dbfs:/Volumes/workspace/default/basedatospnc-lab8/RawData/cuadro 19.csv\n[OK] Cargado cuadro 20: 8 filas, 11 columnas -> dbfs:/Volumes/workspace/default/basedatospnc-lab8/RawData/cuadro 20.csv\n[OK] Cargado cuadro 21: 23 filas, 20 columnas -> dbfs:/Volumes/workspace/default/basedatospnc-lab8/RawData/cuadro 21.csv\n[OK] Cargado cuadro 22: 23 filas, 16 columnas -> dbfs:/Volumes/workspace/default/basedatospnc-lab8/RawData/cuadro 22.csv\n[OK] Cargado cuadro 23: 13 filas, 16 columnas -> dbfs:/Volumes/workspace/default/basedatospnc-lab8/RawData/cuadro 23.csv\n[OK] Cargado cuadro 24: 15 filas, 9 columnas -> dbfs:/Volumes/workspace/default/basedatospnc-lab8/RawData/cuadro 24.csv\n[OK] Cargado cuadro 25: 26 filas, 16 columnas -> dbfs:/Volumes/workspace/default/basedatospnc-lab8/RawData/cuadro 25.csv\n[OK] Cargado cuadro 26: 17 filas, 16 columnas -> dbfs:/Volumes/workspace/default/basedatospnc-lab8/RawData/cuadro 26.csv\n[OK] Cargado cuadro 27: 63 filas, 11 columnas -> dbfs:/Volumes/workspace/default/basedatospnc-lab8/RawData/cuadro 27.csv\n[OK] Cargado cuadro 28: 24 filas, 18 columnas -> dbfs:/Volumes/workspace/default/basedatospnc-lab8/RawData/cuadro 28.csv\n[OK] Cargado cuadro 29: 23 filas, 6 columnas -> dbfs:/Volumes/workspace/default/basedatospnc-lab8/RawData/cuadro 29.csv\n[OK] Cargado cuadro 30: 23 filas, 16 columnas -> dbfs:/Volumes/workspace/default/basedatospnc-lab8/RawData/cuadro 30.csv\n[OK] Cargado cuadro 31: 23 filas, 6 columnas -> dbfs:/Volumes/workspace/default/basedatospnc-lab8/RawData/cuadro 31.csv\n[OK] Cargado cuadro 32: 23 filas, 14 columnas -> dbfs:/Volumes/workspace/default/basedatospnc-lab8/RawData/cuadro 32.csv\n[OK] Cargado cuadro 33: 23 filas, 9 columnas -> dbfs:/Volumes/workspace/default/basedatospnc-lab8/RawData/cuadro 33.csv\n[OK] Cargado cuadro 34: 23 filas, 18 columnas -> dbfs:/Volumes/workspace/default/basedatospnc-lab8/RawData/cuadro 34.csv\n[OK] Cargado cuadro 35: 26 filas, 9 columnas -> dbfs:/Volumes/workspace/default/basedatospnc-lab8/RawData/cuadro 35.csv\n[OK] Cargado cuadro 36: 20 filas, 35 columnas -> dbfs:/Volumes/workspace/default/basedatospnc-lab8/RawData/cuadro 36.csv\n[OK] Cargado cuadro 37: 34 filas, 9 columnas -> dbfs:/Volumes/workspace/default/basedatospnc-lab8/RawData/cuadro 37.csv\n[OK] Cargado cuadro 38: 17 filas, 5 columnas -> dbfs:/Volumes/workspace/default/basedatospnc-lab8/RawData/cuadro 38.csv\n[OK] Cargado cuadro 39: 23 filas, 13 columnas -> dbfs:/Volumes/workspace/default/basedatospnc-lab8/RawData/cuadro 39.csv\n[OK] Cargado cuadro 40: 23 filas, 9 columnas -> dbfs:/Volumes/workspace/default/basedatospnc-lab8/RawData/cuadro 40.csv\n[OK] Cargado cuadro 41: 23 filas, 18 columnas -> dbfs:/Volumes/workspace/default/basedatospnc-lab8/RawData/cuadro 41.csv\n[OK] Cargado cuadro 42: 25 filas, 9 columnas -> dbfs:/Volumes/workspace/default/basedatospnc-lab8/RawData/cuadro 42.csv\n[OK] Cargado cuadro 43: 18 filas, 5 columnas -> dbfs:/Volumes/workspace/default/basedatospnc-lab8/RawData/cuadro 43.csv\n[OK] Cargado cuadro 44: 24 filas, 18 columnas -> dbfs:/Volumes/workspace/default/basedatospnc-lab8/RawData/cuadro 44.csv\n[OK] Cargado cuadro 45: 24 filas, 9 columnas -> dbfs:/Volumes/workspace/default/basedatospnc-lab8/RawData/cuadro 45.csv\n[OK] Cargado cuadro 46: 24 filas, 5 columnas -> dbfs:/Volumes/workspace/default/basedatospnc-lab8/RawData/cuadro 46.csv\n[OK] Cargado cuadro 47: 23 filas, 11 columnas -> dbfs:/Volumes/workspace/default/basedatospnc-lab8/RawData/cuadro 47.csv\n[OK] Cargado cuadro 48: 23 filas, 14 columnas -> dbfs:/Volumes/workspace/default/basedatospnc-lab8/RawData/cuadro 48.csv\n[OK] Cargado cuadro 49: 23 filas, 9 columnas -> dbfs:/Volumes/workspace/default/basedatospnc-lab8/RawData/cuadro 49.csv\n[OK] Cargado cuadro 50: 23 filas, 18 columnas -> dbfs:/Volumes/workspace/default/basedatospnc-lab8/RawData/cuadro 50.csv\n[OK] Cargado cuadro 51: 25 filas, 9 columnas -> dbfs:/Volumes/workspace/default/basedatospnc-lab8/RawData/cuadro 51.csv\n[OK] Cargado cuadro 52: 16 filas, 29 columnas -> dbfs:/Volumes/workspace/default/basedatospnc-lab8/RawData/cuadro 52.csv\n[OK] Cargado cuadro 53: 28 filas, 9 columnas -> dbfs:/Volumes/workspace/default/basedatospnc-lab8/RawData/cuadro 53.csv\n[OK] Cargado cuadro 54: 17 filas, 5 columnas -> dbfs:/Volumes/workspace/default/basedatospnc-lab8/RawData/cuadro 54.csv\n[OK] Cargado cuadro 55: 23 filas, 13 columnas -> dbfs:/Volumes/workspace/default/basedatospnc-lab8/RawData/cuadro 55.csv\n[OK] Cargado cuadro 56: 23 filas, 9 columnas -> dbfs:/Volumes/workspace/default/basedatospnc-lab8/RawData/cuadro 56.csv\n[OK] Cargado cuadro 57: 23 filas, 18 columnas -> dbfs:/Volumes/workspace/default/basedatospnc-lab8/RawData/cuadro 57.csv\n[OK] Cargado cuadro 58: 25 filas, 9 columnas -> dbfs:/Volumes/workspace/default/basedatospnc-lab8/RawData/cuadro 58.csv\n[OK] Cargado cuadro 59: 16 filas, 5 columnas -> dbfs:/Volumes/workspace/default/basedatospnc-lab8/RawData/cuadro 59.csv\n[OK] Cargado cuadro 60: 23 filas, 18 columnas -> dbfs:/Volumes/workspace/default/basedatospnc-lab8/RawData/cuadro 60.csv\n[OK] Cargado cuadro 61: 23 filas, 9 columnas -> dbfs:/Volumes/workspace/default/basedatospnc-lab8/RawData/cuadro 61.csv\n[OK] Cargado cuadro 62: 23 filas, 5 columnas -> dbfs:/Volumes/workspace/default/basedatospnc-lab8/RawData/cuadro 62.csv\n[OK] Cargado cuadro 63: 23 filas, 6 columnas -> dbfs:/Volumes/workspace/default/basedatospnc-lab8/RawData/cuadro 63.csv\n[OK] Cargado cuadro 64: 23 filas, 6 columnas -> dbfs:/Volumes/workspace/default/basedatospnc-lab8/RawData/cuadro 64.csv\n[OK] Cargado cuadro 65: 23 filas, 6 columnas -> dbfs:/Volumes/workspace/default/basedatospnc-lab8/RawData/cuadro 65.csv\n"
     ]
    },
    {
     "output_type": "display_data",
     "data": {
      "text/html": [
       "<h3 style='margin:10px 0'>Cuadro 15</h3><p style='margin:0 0 8px 0'>Registros: <b>24</b></p>"
      ]
     },
     "metadata": {},
     "output_type": "display_data"
    },
    {
     "output_type": "display_data",
     "data": {
      "text/html": [
       "<style scoped>\n",
       "  .table-result-container {\n",
       "    max-height: 300px;\n",
       "    overflow: auto;\n",
       "  }\n",
       "  table, th, td {\n",
       "    border: 1px solid black;\n",
       "    border-collapse: collapse;\n",
       "  }\n",
       "  th, td {\n",
       "    padding: 5px;\n",
       "  }\n",
       "  th {\n",
       "    text-align: left;\n",
       "  }\n",
       "</style><div class='table-result-container'><table class='table-result'><thead style='background-color: white'><tr><th>Zona_de_ocurrencia</th><th>Total</th><th>Lunes</th><th>Martes</th><th>Mircoles</th><th>Jueves</th><th>Viernes</th><th>Sbado</th><th>Domingo</th></tr></thead><tbody><tr><td>Total</td><td>1739</td><td>218</td><td>202</td><td>184</td><td>200</td><td>279</td><td>353</td><td>303</td></tr><tr><td>1</td><td>182</td><td>21</td><td>29</td><td>20</td><td>24</td><td>28</td><td>26</td><td>34</td></tr><tr><td>2</td><td>37</td><td>5</td><td>6</td><td>5</td><td>3</td><td>6</td><td>7</td><td>5</td></tr><tr><td>3</td><td>51</td><td>5</td><td>6</td><td>9</td><td>6</td><td>6</td><td>8</td><td>11</td></tr><tr><td>4</td><td>27</td><td>3</td><td>3</td><td>1</td><td>5</td><td>7</td><td>6</td><td>2</td></tr><tr><td>5</td><td>69</td><td>12</td><td>6</td><td>8</td><td>4</td><td>11</td><td>13</td><td>15</td></tr><tr><td>6</td><td>96</td><td>15</td><td>14</td><td>15</td><td>10</td><td>10</td><td>17</td><td>15</td></tr><tr><td>7</td><td>219</td><td>24</td><td>18</td><td>21</td><td>19</td><td>37</td><td>56</td><td>44</td></tr><tr><td>8</td><td>25</td><td>3</td><td>6</td><td>2</td><td>2</td><td>0</td><td>8</td><td>4</td></tr><tr><td>9</td><td>90</td><td>9</td><td>15</td><td>10</td><td>10</td><td>20</td><td>13</td><td>13</td></tr></tbody></table></div>"
      ]
     },
     "metadata": {
      "application/vnd.databricks.v1+output": {
       "addedWidgets": {},
       "aggData": [],
       "aggError": "",
       "aggOverflow": false,
       "aggSchema": [],
       "aggSeriesLimitReached": false,
       "aggType": "",
       "arguments": {},
       "columnCustomDisplayInfos": {},
       "data": [
        [
         "Total",
         1739,
         218,
         202,
         184,
         200,
         279,
         353,
         303
        ],
        [
         "1",
         182,
         21,
         29,
         20,
         24,
         28,
         26,
         34
        ],
        [
         "2",
         37,
         5,
         6,
         5,
         3,
         6,
         7,
         5
        ],
        [
         "3",
         51,
         5,
         6,
         9,
         6,
         6,
         8,
         11
        ],
        [
         "4",
         27,
         3,
         3,
         1,
         5,
         7,
         6,
         2
        ],
        [
         "5",
         69,
         12,
         6,
         8,
         4,
         11,
         13,
         15
        ],
        [
         "6",
         96,
         15,
         14,
         15,
         10,
         10,
         17,
         15
        ],
        [
         "7",
         219,
         24,
         18,
         21,
         19,
         37,
         56,
         44
        ],
        [
         "8",
         25,
         3,
         6,
         2,
         2,
         0,
         8,
         4
        ],
        [
         "9",
         90,
         9,
         15,
         10,
         10,
         20,
         13,
         13
        ]
       ],
       "datasetInfos": [],
       "dbfsResultPath": null,
       "isJsonSchema": true,
       "metadata": {},
       "overflow": false,
       "plotOptions": {
        "customPlotOptions": {},
        "displayType": "table",
        "pivotAggregation": null,
        "pivotColumns": null,
        "xColumns": null,
        "yColumns": null
       },
       "removedWidgets": [],
       "schema": [
        {
         "metadata": "{}",
         "name": "Zona_de_ocurrencia",
         "type": "\"string\""
        },
        {
         "metadata": "{}",
         "name": "Total",
         "type": "\"integer\""
        },
        {
         "metadata": "{}",
         "name": "Lunes",
         "type": "\"integer\""
        },
        {
         "metadata": "{}",
         "name": "Martes",
         "type": "\"integer\""
        },
        {
         "metadata": "{}",
         "name": "Mircoles",
         "type": "\"integer\""
        },
        {
         "metadata": "{}",
         "name": "Jueves",
         "type": "\"integer\""
        },
        {
         "metadata": "{}",
         "name": "Viernes",
         "type": "\"integer\""
        },
        {
         "metadata": "{}",
         "name": "Sbado",
         "type": "\"integer\""
        },
        {
         "metadata": "{}",
         "name": "Domingo",
         "type": "\"integer\""
        }
       ],
       "type": "table"
      }
     },
     "output_type": "display_data"
    },
    {
     "output_type": "display_data",
     "data": {
      "text/html": [
       "<h3 style='margin:10px 0'>Cuadro 4</h3><p style='margin:0 0 8px 0'>Registros: <b>13</b></p>"
      ]
     },
     "metadata": {},
     "output_type": "display_data"
    },
    {
     "output_type": "display_data",
     "data": {
      "text/html": [
       "<style scoped>\n",
       "  .table-result-container {\n",
       "    max-height: 300px;\n",
       "    overflow: auto;\n",
       "  }\n",
       "  table, th, td {\n",
       "    border: 1px solid black;\n",
       "    border-collapse: collapse;\n",
       "  }\n",
       "  th, td {\n",
       "    padding: 5px;\n",
       "  }\n",
       "  th {\n",
       "    text-align: left;\n",
       "  }\n",
       "</style><div class='table-result-container'><table class='table-result'><thead style='background-color: white'><tr><th>Mes_de_ocurrencia</th><th>2020</th><th>2021</th><th>2022</th><th>2023</th><th>2024</th></tr></thead><tbody><tr><td>Total</td><td>6350</td><td>8153</td><td>7924</td><td>8218</td><td>8401</td></tr><tr><td>Enero</td><td>610</td><td>695</td><td>714</td><td>696</td><td>626</td></tr><tr><td>Febrero</td><td>670</td><td>626</td><td>614</td><td>683</td><td>711</td></tr><tr><td>Marzo</td><td>590</td><td>657</td><td>727</td><td>635</td><td>780</td></tr><tr><td>Abril</td><td>329</td><td>644</td><td>632</td><td>938</td><td>630</td></tr><tr><td>Mayo</td><td>374</td><td>701</td><td>671</td><td>696</td><td>674</td></tr><tr><td>Junio</td><td>372</td><td>625</td><td>554</td><td>647</td><td>549</td></tr><tr><td>Julio</td><td>405</td><td>614</td><td>683</td><td>640</td><td>703</td></tr><tr><td>Agosto</td><td>571</td><td>643</td><td>624</td><td>605</td><td>687</td></tr><tr><td>Septiembre</td><td>495</td><td>648</td><td>612</td><td>615</td><td>686</td></tr></tbody></table></div>"
      ]
     },
     "metadata": {
      "application/vnd.databricks.v1+output": {
       "addedWidgets": {},
       "aggData": [],
       "aggError": "",
       "aggOverflow": false,
       "aggSchema": [],
       "aggSeriesLimitReached": false,
       "aggType": "",
       "arguments": {},
       "columnCustomDisplayInfos": {},
       "data": [
        [
         "Total",
         6350,
         8153,
         7924,
         8218,
         8401
        ],
        [
         "Enero",
         610,
         695,
         714,
         696,
         626
        ],
        [
         "Febrero",
         670,
         626,
         614,
         683,
         711
        ],
        [
         "Marzo",
         590,
         657,
         727,
         635,
         780
        ],
        [
         "Abril",
         329,
         644,
         632,
         938,
         630
        ],
        [
         "Mayo",
         374,
         701,
         671,
         696,
         674
        ],
        [
         "Junio",
         372,
         625,
         554,
         647,
         549
        ],
        [
         "Julio",
         405,
         614,
         683,
         640,
         703
        ],
        [
         "Agosto",
         571,
         643,
         624,
         605,
         687
        ],
        [
         "Septiembre",
         495,
         648,
         612,
         615,
         686
        ]
       ],
       "datasetInfos": [],
       "dbfsResultPath": null,
       "isJsonSchema": true,
       "metadata": {},
       "overflow": false,
       "plotOptions": {
        "customPlotOptions": {},
        "displayType": "table",
        "pivotAggregation": null,
        "pivotColumns": null,
        "xColumns": null,
        "yColumns": null
       },
       "removedWidgets": [],
       "schema": [
        {
         "metadata": "{}",
         "name": "Mes_de_ocurrencia",
         "type": "\"string\""
        },
        {
         "metadata": "{}",
         "name": "2020",
         "type": "\"integer\""
        },
        {
         "metadata": "{}",
         "name": "2021",
         "type": "\"integer\""
        },
        {
         "metadata": "{}",
         "name": "2022",
         "type": "\"integer\""
        },
        {
         "metadata": "{}",
         "name": "2023",
         "type": "\"integer\""
        },
        {
         "metadata": "{}",
         "name": "2024",
         "type": "\"integer\""
        }
       ],
       "type": "table"
      }
     },
     "output_type": "display_data"
    },
    {
     "output_type": "display_data",
     "data": {
      "text/html": [
       "<h3 style='margin:10px 0'>Cuadro 36</h3><p style='margin:0 0 8px 0'>Registros: <b>20</b></p>"
      ]
     },
     "metadata": {},
     "output_type": "display_data"
    },
    {
     "output_type": "display_data",
     "data": {
      "text/html": [
       "<style scoped>\n",
       "  .table-result-container {\n",
       "    max-height: 300px;\n",
       "    overflow: auto;\n",
       "  }\n",
       "  table, th, td {\n",
       "    border: 1px solid black;\n",
       "    border-collapse: collapse;\n",
       "  }\n",
       "  th, td {\n",
       "    padding: 5px;\n",
       "  }\n",
       "  th {\n",
       "    text-align: left;\n",
       "  }\n",
       "</style><div class='table-result-container'><table class='table-result'><thead style='background-color: white'><tr><th>Tipo_de_vehculo</th><th>Total</th><th>Hombre</th><th>Mujer</th><th>Ignorado</th><th>total_colision</th><th>hombre_colision</th><th>mujer_colision</th><th>ignorado_colision</th><th>total_atropello</th><th>hombre_atropello</th><th>mujer_atropello</th><th>ognorado_atropello</th><th>total_derrape</th><th>hombre_derrape</th><th>mujer_derrape</th><th>choque_total</th><th>choque_hombre</th><th>choque_mujer</th><th>choque_ignorado</th><th>total_vuelco</th><th>hombre_vuelco</th><th>mujer_vuelco</th><th>total_embarranc</th><th>hombre_embarranc</th><th>mujer_embarranc</th><th>ignorado_embarranc</th><th>total_encunet</th><th>hombre_encunet</th><th>mujeres_encunet</th><th>total_caida</th><th>mujer_caida</th><th>ignorado_caida</th><th>hombre_ignorado</th><th>mujer_ignorado</th></tr></thead><tbody><tr><td>Total</td><td>8907</td><td>6446</td><td>2445</td><td>16</td><td>5289</td><td>3931</td><td>1355</td><td>3</td><td>1495</td><td>986</td><td>499</td><td>10</td><td>1027</td><td>820</td><td>207</td><td>321</td><td>216</td><td>103</td><td>2</td><td>341</td><td>199</td><td>142</td><td>262</td><td>164</td><td>97</td><td>1</td><td>6</td><td>5</td><td>1</td><td>1</td><td>1</td><td>165</td><td>125</td><td>40</td></tr><tr><td>Motocicleta</td><td>5675</td><td>4389</td><td>1280</td><td>6</td><td>3865</td><td>3061</td><td>801</td><td>3</td><td>673</td><td>405</td><td>266</td><td>2</td><td>952</td><td>780</td><td>172</td><td>81</td><td>68</td><td>13</td><td>0</td><td>2</td><td>2</td><td>0</td><td>31</td><td>27</td><td>3</td><td>1</td><td>0</td><td>0</td><td>0</td><td>0</td><td>0</td><td>71</td><td>46</td><td>25</td></tr><tr><td>Automóvil</td><td>952</td><td>650</td><td>296</td><td>6</td><td>376</td><td>232</td><td>144</td><td>0</td><td>379</td><td>279</td><td>94</td><td>6</td><td>9</td><td>9</td><td>0</td><td>63</td><td>35</td><td>28</td><td>0</td><td>34</td><td>26</td><td>8</td><td>49</td><td>30</td><td>19</td><td>0</td><td>1</td><td>0</td><td>1</td><td>0</td><td>0</td><td>41</td><td>39</td><td>2</td></tr><tr><td>Pick Up</td><td>675</td><td>407</td><td>268</td><td>0</td><td>351</td><td>217</td><td>134</td><td>0</td><td>101</td><td>69</td><td>32</td><td>0</td><td>23</td><td>6</td><td>17</td><td>52</td><td>30</td><td>22</td><td>0</td><td>97</td><td>51</td><td>46</td><td>27</td><td>17</td><td>10</td><td>0</td><td>5</td><td>5</td><td>0</td><td>0</td><td>0</td><td>19</td><td>12</td><td>7</td></tr><tr><td>Camioneta</td><td>397</td><td>245</td><td>150</td><td>2</td><td>215</td><td>131</td><td>84</td><td>0</td><td>103</td><td>66</td><td>37</td><td>0</td><td>0</td><td>0</td><td>0</td><td>24</td><td>14</td><td>8</td><td>2</td><td>14</td><td>8</td><td>6</td><td>31</td><td>19</td><td>12</td><td>0</td><td>0</td><td>0</td><td>0</td><td>0</td><td>0</td><td>10</td><td>7</td><td>3</td></tr><tr><td>Bus Urbano</td><td>313</td><td>159</td><td>154</td><td>0</td><td>73</td><td>30</td><td>43</td><td>0</td><td>38</td><td>23</td><td>15</td><td>0</td><td>4</td><td>1</td><td>3</td><td>27</td><td>17</td><td>10</td><td>0</td><td>98</td><td>53</td><td>45</td><td>71</td><td>34</td><td>37</td><td>0</td><td>0</td><td>0</td><td>0</td><td>1</td><td>1</td><td>1</td><td>1</td><td>0</td></tr><tr><td>Camión</td><td>260</td><td>199</td><td>60</td><td>1</td><td>115</td><td>93</td><td>22</td><td>0</td><td>48</td><td>31</td><td>16</td><td>1</td><td>2</td><td>2</td><td>0</td><td>37</td><td>28</td><td>9</td><td>0</td><td>39</td><td>30</td><td>9</td><td>11</td><td>10</td><td>1</td><td>0</td><td>0</td><td>0</td><td>0</td><td>0</td><td>0</td><td>8</td><td>5</td><td>3</td></tr><tr><td>Microbús</td><td>229</td><td>123</td><td>106</td><td>0</td><td>133</td><td>70</td><td>63</td><td>0</td><td>14</td><td>7</td><td>7</td><td>0</td><td>6</td><td>5</td><td>1</td><td>18</td><td>10</td><td>8</td><td>0</td><td>29</td><td>10</td><td>19</td><td>28</td><td>20</td><td>8</td><td>0</td><td>0</td><td>0</td><td>0</td><td>0</td><td>0</td><td>1</td><td>1</td><td>0</td></tr><tr><td>Moto Taxi</td><td>137</td><td>68</td><td>69</td><td>0</td><td>87</td><td>40</td><td>47</td><td>0</td><td>14</td><td>11</td><td>3</td><td>0</td><td>5</td><td>2</td><td>3</td><td>5</td><td>2</td><td>3</td><td>0</td><td>18</td><td>10</td><td>8</td><td>7</td><td>2</td><td>5</td><td>0</td><td>0</td><td>0</td><td>0</td><td>0</td><td>0</td><td>1</td><td>1</td><td>0</td></tr><tr><td>Cabezal</td><td>63</td><td>52</td><td>11</td><td>0</td><td>30</td><td>25</td><td>5</td><td>0</td><td>23</td><td>17</td><td>6</td><td>0</td><td>1</td><td>1</td><td>0</td><td>1</td><td>1</td><td>0</td><td>0</td><td>7</td><td>7</td><td>0</td><td>1</td><td>1</td><td>0</td><td>0</td><td>0</td><td>0</td><td>0</td><td>0</td><td>0</td><td>0</td><td>0</td><td>0</td></tr></tbody></table></div>"
      ]
     },
     "metadata": {
      "application/vnd.databricks.v1+output": {
       "addedWidgets": {},
       "aggData": [],
       "aggError": "",
       "aggOverflow": false,
       "aggSchema": [],
       "aggSeriesLimitReached": false,
       "aggType": "",
       "arguments": {},
       "columnCustomDisplayInfos": {},
       "data": [
        [
         "Total",
         8907,
         6446,
         2445,
         16,
         5289,
         3931,
         1355,
         3,
         1495,
         986,
         499,
         10,
         1027,
         820,
         207,
         321,
         216,
         103,
         2,
         341,
         199,
         142,
         262,
         164,
         97,
         1,
         6,
         5,
         1,
         1,
         1,
         165,
         125,
         40
        ],
        [
         "Motocicleta",
         5675,
         4389,
         1280,
         6,
         3865,
         3061,
         801,
         3,
         673,
         405,
         266,
         2,
         952,
         780,
         172,
         81,
         68,
         13,
         0,
         2,
         2,
         0,
         31,
         27,
         3,
         1,
         0,
         0,
         0,
         0,
         0,
         71,
         46,
         25
        ],
        [
         "Automóvil",
         952,
         650,
         296,
         6,
         376,
         232,
         144,
         0,
         379,
         279,
         94,
         6,
         9,
         9,
         0,
         63,
         35,
         28,
         0,
         34,
         26,
         8,
         49,
         30,
         19,
         0,
         1,
         0,
         1,
         0,
         0,
         41,
         39,
         2
        ],
        [
         "Pick Up",
         675,
         407,
         268,
         0,
         351,
         217,
         134,
         0,
         101,
         69,
         32,
         0,
         23,
         6,
         17,
         52,
         30,
         22,
         0,
         97,
         51,
         46,
         27,
         17,
         10,
         0,
         5,
         5,
         0,
         0,
         0,
         19,
         12,
         7
        ],
        [
         "Camioneta",
         397,
         245,
         150,
         2,
         215,
         131,
         84,
         0,
         103,
         66,
         37,
         0,
         0,
         0,
         0,
         24,
         14,
         8,
         2,
         14,
         8,
         6,
         31,
         19,
         12,
         0,
         0,
         0,
         0,
         0,
         0,
         10,
         7,
         3
        ],
        [
         "Bus Urbano",
         313,
         159,
         154,
         0,
         73,
         30,
         43,
         0,
         38,
         23,
         15,
         0,
         4,
         1,
         3,
         27,
         17,
         10,
         0,
         98,
         53,
         45,
         71,
         34,
         37,
         0,
         0,
         0,
         0,
         1,
         1,
         1,
         1,
         0
        ],
        [
         "Camión",
         260,
         199,
         60,
         1,
         115,
         93,
         22,
         0,
         48,
         31,
         16,
         1,
         2,
         2,
         0,
         37,
         28,
         9,
         0,
         39,
         30,
         9,
         11,
         10,
         1,
         0,
         0,
         0,
         0,
         0,
         0,
         8,
         5,
         3
        ],
        [
         "Microbús",
         229,
         123,
         106,
         0,
         133,
         70,
         63,
         0,
         14,
         7,
         7,
         0,
         6,
         5,
         1,
         18,
         10,
         8,
         0,
         29,
         10,
         19,
         28,
         20,
         8,
         0,
         0,
         0,
         0,
         0,
         0,
         1,
         1,
         0
        ],
        [
         "Moto Taxi",
         137,
         68,
         69,
         0,
         87,
         40,
         47,
         0,
         14,
         11,
         3,
         0,
         5,
         2,
         3,
         5,
         2,
         3,
         0,
         18,
         10,
         8,
         7,
         2,
         5,
         0,
         0,
         0,
         0,
         0,
         0,
         1,
         1,
         0
        ],
        [
         "Cabezal",
         63,
         52,
         11,
         0,
         30,
         25,
         5,
         0,
         23,
         17,
         6,
         0,
         1,
         1,
         0,
         1,
         1,
         0,
         0,
         7,
         7,
         0,
         1,
         1,
         0,
         0,
         0,
         0,
         0,
         0,
         0,
         0,
         0,
         0
        ]
       ],
       "datasetInfos": [],
       "dbfsResultPath": null,
       "isJsonSchema": true,
       "metadata": {},
       "overflow": false,
       "plotOptions": {
        "customPlotOptions": {},
        "displayType": "table",
        "pivotAggregation": null,
        "pivotColumns": null,
        "xColumns": null,
        "yColumns": null
       },
       "removedWidgets": [],
       "schema": [
        {
         "metadata": "{}",
         "name": "Tipo_de_vehculo",
         "type": "\"string\""
        },
        {
         "metadata": "{}",
         "name": "Total",
         "type": "\"integer\""
        },
        {
         "metadata": "{}",
         "name": "Hombre",
         "type": "\"integer\""
        },
        {
         "metadata": "{}",
         "name": "Mujer",
         "type": "\"integer\""
        },
        {
         "metadata": "{}",
         "name": "Ignorado",
         "type": "\"integer\""
        },
        {
         "metadata": "{}",
         "name": "total_colision",
         "type": "\"integer\""
        },
        {
         "metadata": "{}",
         "name": "hombre_colision",
         "type": "\"integer\""
        },
        {
         "metadata": "{}",
         "name": "mujer_colision",
         "type": "\"integer\""
        },
        {
         "metadata": "{}",
         "name": "ignorado_colision",
         "type": "\"integer\""
        },
        {
         "metadata": "{}",
         "name": "total_atropello",
         "type": "\"integer\""
        },
        {
         "metadata": "{}",
         "name": "hombre_atropello",
         "type": "\"integer\""
        },
        {
         "metadata": "{}",
         "name": "mujer_atropello",
         "type": "\"integer\""
        },
        {
         "metadata": "{}",
         "name": "ognorado_atropello",
         "type": "\"integer\""
        },
        {
         "metadata": "{}",
         "name": "total_derrape",
         "type": "\"integer\""
        },
        {
         "metadata": "{}",
         "name": "hombre_derrape",
         "type": "\"integer\""
        },
        {
         "metadata": "{}",
         "name": "mujer_derrape",
         "type": "\"integer\""
        },
        {
         "metadata": "{}",
         "name": "choque_total",
         "type": "\"integer\""
        },
        {
         "metadata": "{}",
         "name": "choque_hombre",
         "type": "\"integer\""
        },
        {
         "metadata": "{}",
         "name": "choque_mujer",
         "type": "\"integer\""
        },
        {
         "metadata": "{}",
         "name": "choque_ignorado",
         "type": "\"integer\""
        },
        {
         "metadata": "{}",
         "name": "total_vuelco",
         "type": "\"integer\""
        },
        {
         "metadata": "{}",
         "name": "hombre_vuelco",
         "type": "\"integer\""
        },
        {
         "metadata": "{}",
         "name": "mujer_vuelco",
         "type": "\"integer\""
        },
        {
         "metadata": "{}",
         "name": "total_embarranc",
         "type": "\"integer\""
        },
        {
         "metadata": "{}",
         "name": "hombre_embarranc",
         "type": "\"integer\""
        },
        {
         "metadata": "{}",
         "name": "mujer_embarranc",
         "type": "\"integer\""
        },
        {
         "metadata": "{}",
         "name": "ignorado_embarranc",
         "type": "\"integer\""
        },
        {
         "metadata": "{}",
         "name": "total_encunet",
         "type": "\"integer\""
        },
        {
         "metadata": "{}",
         "name": "hombre_encunet",
         "type": "\"integer\""
        },
        {
         "metadata": "{}",
         "name": "mujeres_encunet",
         "type": "\"integer\""
        },
        {
         "metadata": "{}",
         "name": "total_caida",
         "type": "\"integer\""
        },
        {
         "metadata": "{}",
         "name": "mujer_caida",
         "type": "\"integer\""
        },
        {
         "metadata": "{}",
         "name": "ignorado_caida",
         "type": "\"integer\""
        },
        {
         "metadata": "{}",
         "name": "hombre_ignorado",
         "type": "\"integer\""
        },
        {
         "metadata": "{}",
         "name": "mujer_ignorado",
         "type": "\"integer\""
        }
       ],
       "type": "table"
      }
     },
     "output_type": "display_data"
    },
    {
     "output_type": "display_data",
     "data": {
      "text/html": [
       "<h3 style='margin:10px 0'>Cuadro 32</h3><p style='margin:0 0 8px 0'>Registros: <b>23</b></p>"
      ]
     },
     "metadata": {},
     "output_type": "display_data"
    },
    {
     "output_type": "display_data",
     "data": {
      "text/html": [
       "<style scoped>\n",
       "  .table-result-container {\n",
       "    max-height: 300px;\n",
       "    overflow: auto;\n",
       "  }\n",
       "  table, th, td {\n",
       "    border: 1px solid black;\n",
       "    border-collapse: collapse;\n",
       "  }\n",
       "  th, td {\n",
       "    padding: 5px;\n",
       "  }\n",
       "  th {\n",
       "    text-align: left;\n",
       "  }\n",
       "</style><div class='table-result-container'><table class='table-result'><thead style='background-color: white'><tr><th>Departamento</th><th>Total</th><th>Enero</th><th>Febrero</th><th>Marzo</th><th>Abril</th><th>Mayo</th><th>Junio</th><th>Julio</th><th>Agosto</th><th>Septiembre</th><th>Octubre</th><th>Noviembre</th><th>Diciembre</th></tr></thead><tbody><tr><td>Total</td><td>8907</td><td>671</td><td>721</td><td>840</td><td>686</td><td>717</td><td>526</td><td>672</td><td>700</td><td>737</td><td>832</td><td>893</td><td>912</td></tr><tr><td>Guatemala</td><td>3516</td><td>277</td><td>292</td><td>315</td><td>278</td><td>268</td><td>228</td><td>286</td><td>269</td><td>260</td><td>320</td><td>357</td><td>366</td></tr><tr><td>El Progreso</td><td>214</td><td>12</td><td>11</td><td>25</td><td>20</td><td>14</td><td>21</td><td>13</td><td>20</td><td>13</td><td>21</td><td>22</td><td>22</td></tr><tr><td>Sacatepéquez</td><td>384</td><td>34</td><td>24</td><td>26</td><td>31</td><td>13</td><td>19</td><td>35</td><td>39</td><td>57</td><td>38</td><td>30</td><td>38</td></tr><tr><td>Chimaltenango</td><td>215</td><td>14</td><td>24</td><td>15</td><td>9</td><td>22</td><td>7</td><td>10</td><td>16</td><td>17</td><td>27</td><td>37</td><td>17</td></tr><tr><td>Escuintla</td><td>1253</td><td>78</td><td>109</td><td>159</td><td>107</td><td>103</td><td>61</td><td>74</td><td>105</td><td>101</td><td>98</td><td>130</td><td>128</td></tr><tr><td>Santa Rosa</td><td>242</td><td>28</td><td>23</td><td>30</td><td>28</td><td>20</td><td>11</td><td>9</td><td>14</td><td>18</td><td>23</td><td>9</td><td>29</td></tr><tr><td>Sololá</td><td>100</td><td>13</td><td>1</td><td>4</td><td>7</td><td>7</td><td>2</td><td>9</td><td>15</td><td>6</td><td>6</td><td>8</td><td>22</td></tr><tr><td>Totonicapán</td><td>88</td><td>4</td><td>1</td><td>14</td><td>1</td><td>5</td><td>3</td><td>11</td><td>8</td><td>7</td><td>17</td><td>10</td><td>7</td></tr><tr><td>Quetzaltenango</td><td>240</td><td>15</td><td>16</td><td>17</td><td>12</td><td>12</td><td>20</td><td>26</td><td>17</td><td>25</td><td>18</td><td>46</td><td>16</td></tr></tbody></table></div>"
      ]
     },
     "metadata": {
      "application/vnd.databricks.v1+output": {
       "addedWidgets": {},
       "aggData": [],
       "aggError": "",
       "aggOverflow": false,
       "aggSchema": [],
       "aggSeriesLimitReached": false,
       "aggType": "",
       "arguments": {},
       "columnCustomDisplayInfos": {},
       "data": [
        [
         "Total",
         8907,
         671,
         721,
         840,
         686,
         717,
         526,
         672,
         700,
         737,
         832,
         893,
         912
        ],
        [
         "Guatemala",
         3516,
         277,
         292,
         315,
         278,
         268,
         228,
         286,
         269,
         260,
         320,
         357,
         366
        ],
        [
         "El Progreso",
         214,
         12,
         11,
         25,
         20,
         14,
         21,
         13,
         20,
         13,
         21,
         22,
         22
        ],
        [
         "Sacatepéquez",
         384,
         34,
         24,
         26,
         31,
         13,
         19,
         35,
         39,
         57,
         38,
         30,
         38
        ],
        [
         "Chimaltenango",
         215,
         14,
         24,
         15,
         9,
         22,
         7,
         10,
         16,
         17,
         27,
         37,
         17
        ],
        [
         "Escuintla",
         1253,
         78,
         109,
         159,
         107,
         103,
         61,
         74,
         105,
         101,
         98,
         130,
         128
        ],
        [
         "Santa Rosa",
         242,
         28,
         23,
         30,
         28,
         20,
         11,
         9,
         14,
         18,
         23,
         9,
         29
        ],
        [
         "Sololá",
         100,
         13,
         1,
         4,
         7,
         7,
         2,
         9,
         15,
         6,
         6,
         8,
         22
        ],
        [
         "Totonicapán",
         88,
         4,
         1,
         14,
         1,
         5,
         3,
         11,
         8,
         7,
         17,
         10,
         7
        ],
        [
         "Quetzaltenango",
         240,
         15,
         16,
         17,
         12,
         12,
         20,
         26,
         17,
         25,
         18,
         46,
         16
        ]
       ],
       "datasetInfos": [],
       "dbfsResultPath": null,
       "isJsonSchema": true,
       "metadata": {},
       "overflow": false,
       "plotOptions": {
        "customPlotOptions": {},
        "displayType": "table",
        "pivotAggregation": null,
        "pivotColumns": null,
        "xColumns": null,
        "yColumns": null
       },
       "removedWidgets": [],
       "schema": [
        {
         "metadata": "{}",
         "name": "Departamento",
         "type": "\"string\""
        },
        {
         "metadata": "{}",
         "name": "Total",
         "type": "\"integer\""
        },
        {
         "metadata": "{}",
         "name": "Enero",
         "type": "\"integer\""
        },
        {
         "metadata": "{}",
         "name": "Febrero",
         "type": "\"integer\""
        },
        {
         "metadata": "{}",
         "name": "Marzo",
         "type": "\"integer\""
        },
        {
         "metadata": "{}",
         "name": "Abril",
         "type": "\"integer\""
        },
        {
         "metadata": "{}",
         "name": "Mayo",
         "type": "\"integer\""
        },
        {
         "metadata": "{}",
         "name": "Junio",
         "type": "\"integer\""
        },
        {
         "metadata": "{}",
         "name": "Julio",
         "type": "\"integer\""
        },
        {
         "metadata": "{}",
         "name": "Agosto",
         "type": "\"integer\""
        },
        {
         "metadata": "{}",
         "name": "Septiembre",
         "type": "\"integer\""
        },
        {
         "metadata": "{}",
         "name": "Octubre",
         "type": "\"integer\""
        },
        {
         "metadata": "{}",
         "name": "Noviembre",
         "type": "\"integer\""
        },
        {
         "metadata": "{}",
         "name": "Diciembre",
         "type": "\"integer\""
        }
       ],
       "type": "table"
      }
     },
     "output_type": "display_data"
    },
    {
     "output_type": "display_data",
     "data": {
      "text/html": [
       "<h3 style='margin:10px 0'>Cuadro 29</h3><p style='margin:0 0 8px 0'>Registros: <b>23</b></p>"
      ]
     },
     "metadata": {},
     "output_type": "display_data"
    },
    {
     "output_type": "display_data",
     "data": {
      "text/html": [
       "<style scoped>\n",
       "  .table-result-container {\n",
       "    max-height: 300px;\n",
       "    overflow: auto;\n",
       "  }\n",
       "  table, th, td {\n",
       "    border: 1px solid black;\n",
       "    border-collapse: collapse;\n",
       "  }\n",
       "  th, td {\n",
       "    padding: 5px;\n",
       "  }\n",
       "  th {\n",
       "    text-align: left;\n",
       "  }\n",
       "</style><div class='table-result-container'><table class='table-result'><thead style='background-color: white'><tr><th>Departamento</th><th>2020</th><th>2021</th><th>2022</th><th>2023</th><th>2024</th></tr></thead><tbody><tr><td>Total</td><td>8142</td><td>10544</td><td>10722</td><td>11198</td><td>11274</td></tr><tr><td>Guatemala</td><td>3025</td><td>3982</td><td>3947</td><td>4074</td><td>4092</td></tr><tr><td>El Progreso</td><td>198</td><td>253</td><td>265</td><td>276</td><td>276</td></tr><tr><td>Sacatepéquez</td><td>262</td><td>336</td><td>466</td><td>468</td><td>478</td></tr><tr><td>Chimaltenango</td><td>316</td><td>372</td><td>403</td><td>372</td><td>349</td></tr><tr><td>Escuintla</td><td>659</td><td>896</td><td>1041</td><td>1322</td><td>1549</td></tr><tr><td>Santa Rosa</td><td>283</td><td>333</td><td>380</td><td>442</td><td>338</td></tr><tr><td>Sololá</td><td>101</td><td>177</td><td>93</td><td>139</td><td>126</td></tr><tr><td>Totonicapán</td><td>74</td><td>79</td><td>113</td><td>107</td><td>102</td></tr><tr><td>Quetzaltenango</td><td>240</td><td>296</td><td>364</td><td>392</td><td>311</td></tr></tbody></table></div>"
      ]
     },
     "metadata": {
      "application/vnd.databricks.v1+output": {
       "addedWidgets": {},
       "aggData": [],
       "aggError": "",
       "aggOverflow": false,
       "aggSchema": [],
       "aggSeriesLimitReached": false,
       "aggType": "",
       "arguments": {},
       "columnCustomDisplayInfos": {},
       "data": [
        [
         "Total",
         8142,
         10544,
         10722,
         11198,
         11274
        ],
        [
         "Guatemala",
         3025,
         3982,
         3947,
         4074,
         4092
        ],
        [
         "El Progreso",
         198,
         253,
         265,
         276,
         276
        ],
        [
         "Sacatepéquez",
         262,
         336,
         466,
         468,
         478
        ],
        [
         "Chimaltenango",
         316,
         372,
         403,
         372,
         349
        ],
        [
         "Escuintla",
         659,
         896,
         1041,
         1322,
         1549
        ],
        [
         "Santa Rosa",
         283,
         333,
         380,
         442,
         338
        ],
        [
         "Sololá",
         101,
         177,
         93,
         139,
         126
        ],
        [
         "Totonicapán",
         74,
         79,
         113,
         107,
         102
        ],
        [
         "Quetzaltenango",
         240,
         296,
         364,
         392,
         311
        ]
       ],
       "datasetInfos": [],
       "dbfsResultPath": null,
       "isJsonSchema": true,
       "metadata": {},
       "overflow": false,
       "plotOptions": {
        "customPlotOptions": {},
        "displayType": "table",
        "pivotAggregation": null,
        "pivotColumns": null,
        "xColumns": null,
        "yColumns": null
       },
       "removedWidgets": [],
       "schema": [
        {
         "metadata": "{}",
         "name": "Departamento",
         "type": "\"string\""
        },
        {
         "metadata": "{}",
         "name": "2020",
         "type": "\"integer\""
        },
        {
         "metadata": "{}",
         "name": "2021",
         "type": "\"integer\""
        },
        {
         "metadata": "{}",
         "name": "2022",
         "type": "\"integer\""
        },
        {
         "metadata": "{}",
         "name": "2023",
         "type": "\"integer\""
        },
        {
         "metadata": "{}",
         "name": "2024",
         "type": "\"integer\""
        }
       ],
       "type": "table"
      }
     },
     "output_type": "display_data"
    }
   ],
   "source": [
    "import re, random\n",
    "\n",
    "random.seed(42)\n",
    "files = {f.path.split(\"/\")[-1].lower(): f.path for f in dbutils.fs.ls(str(OUT_DIR))}\n",
    "\n",
    "def find_csv_for(i: int):\n",
    "    candidates = [\n",
    "        f\"cuadro {i}.csv\",\n",
    "        f\"cuadro_{i}.csv\",\n",
    "        f\"Cuadro {i}.csv\".lower(),\n",
    "        f\"Cuadro_{i}.csv\".lower(),\n",
    "    ]\n",
    "    for c in candidates:\n",
    "        if c.lower() in files:\n",
    "            return files[c.lower()]\n",
    "    return None\n",
    "\n",
    "# --- Función para limpiar nombres de columnas ---\n",
    "def normalizar_cols(df):\n",
    "    nuevos = []\n",
    "    vistos = set()\n",
    "    for i, c in enumerate(df.columns):\n",
    "        name = str(c) if c is not None else f\"col_{i+1}\"\n",
    "        # quitar espacios adelante/atrás\n",
    "        name = name.strip()\n",
    "        # reemplazar espacios por \"_\"\n",
    "        name = re.sub(r\"\\s+\", \"_\", name)\n",
    "        # quitar caracteres no alfanuméricos\n",
    "        name = re.sub(r\"[^0-9A-Za-z_]\", \"\", name)\n",
    "        # evitar nombres vacíos\n",
    "        if not name:\n",
    "            name = f\"col_{i+1}\"\n",
    "        # asegurar que no se repitan nombres\n",
    "        base = name\n",
    "        k = 1\n",
    "        while name in vistos:\n",
    "            k += 1\n",
    "            name = f\"{base}_{k}\"\n",
    "        vistos.add(name)\n",
    "        nuevos.append(name)\n",
    "    return df.toDF(*nuevos)\n",
    "\n",
    "# 2) Cargar todos los que existan del 1 al 65\n",
    "dfs = {}         \n",
    "counts = {}\n",
    "loaded_names = [] \n",
    "\n",
    "for i in range(1, 66):\n",
    "    name = f\"cuadro {i}\"\n",
    "    path = find_csv_for(i)\n",
    "    if not path:\n",
    "        print(f\"[WARN] No encontré CSV para {name} en {OUT_DIR}\")\n",
    "        continue\n",
    "    try:\n",
    "        df = (spark.read.format(\"csv\")\n",
    "              .option(\"header\",\"true\")\n",
    "              .option(\"inferSchema\",\"true\")\n",
    "              .load(path))\n",
    "        # normalizar columnas\n",
    "        df = normalizar_cols(df)\n",
    "        dfs[name] = df\n",
    "        cnt = df.count()\n",
    "        counts[name] = cnt\n",
    "        loaded_names.append(name)\n",
    "        print(f\"[OK] Cargado {name}: {cnt} filas, {len(df.columns)} columnas -> {path}\")\n",
    "    except Exception as e:\n",
    "        print(f\"[ERR] No se pudo cargar {name} desde {path}: {e}\")\n",
    "\n",
    "if not loaded_names:\n",
    "    displayHTML(\"<p style='color:#c00'>No se cargó ningún cuadro. Revisa los nombres de archivos en OUT_DIR.</p>\")\n",
    "\n",
    "# 3) Elegir 5 al azar (o menos si hay menos de 5 cargados)\n",
    "k = min(5, len(loaded_names))\n",
    "sampled = random.sample(loaded_names, k) if k > 0 else []\n",
    "\n",
    "# 4) Mostrar 5 tablas aleatorias con título + conteo + vista de 10 filas\n",
    "for name in sampled:\n",
    "    df = dfs[name]\n",
    "    n  = counts[name]\n",
    "    displayHTML(f\"<h3 style='margin:10px 0'>{name.title()}</h3>\"\n",
    "                f\"<p style='margin:0 0 8px 0'>Registros: <b>{n}</b></p>\")\n",
    "    display(df.limit(10))"
   ]
  },
  {
   "cell_type": "code",
   "execution_count": 0,
   "metadata": {
    "application/vnd.databricks.v1+cell": {
     "cellMetadata": {
      "byteLimit": 2048000,
      "rowLimit": 10000
     },
     "inputWidgets": {},
     "nuid": "1f207b84-d470-4667-8d46-59fc2ee945d1",
     "showTitle": false,
     "tableResultSettingsMap": {},
     "title": ""
    }
   },
   "outputs": [
    {
     "output_type": "display_data",
     "data": {
      "text/html": [
       "<h4 style='margin:6px 0'>Accidentes de tránsito ocurridos en el municipio de Guatemala, por día de la semana, según zona de ocurrencia, año 2024. — muestra de 10 filas</h4>"
      ]
     },
     "metadata": {},
     "output_type": "display_data"
    },
    {
     "output_type": "display_data",
     "data": {
      "text/html": [
       "<style scoped>\n",
       "  .table-result-container {\n",
       "    max-height: 300px;\n",
       "    overflow: auto;\n",
       "  }\n",
       "  table, th, td {\n",
       "    border: 1px solid black;\n",
       "    border-collapse: collapse;\n",
       "  }\n",
       "  th, td {\n",
       "    padding: 5px;\n",
       "  }\n",
       "  th {\n",
       "    text-align: left;\n",
       "  }\n",
       "</style><div class='table-result-container'><table class='table-result'><thead style='background-color: white'><tr><th>Zona_de_ocurrencia</th><th>Total</th><th>Lunes</th><th>Martes</th><th>Mircoles</th><th>Jueves</th><th>Viernes</th><th>Sbado</th><th>Domingo</th></tr></thead><tbody><tr><td>Total</td><td>1739</td><td>218</td><td>202</td><td>184</td><td>200</td><td>279</td><td>353</td><td>303</td></tr><tr><td>1</td><td>182</td><td>21</td><td>29</td><td>20</td><td>24</td><td>28</td><td>26</td><td>34</td></tr><tr><td>2</td><td>37</td><td>5</td><td>6</td><td>5</td><td>3</td><td>6</td><td>7</td><td>5</td></tr><tr><td>3</td><td>51</td><td>5</td><td>6</td><td>9</td><td>6</td><td>6</td><td>8</td><td>11</td></tr><tr><td>4</td><td>27</td><td>3</td><td>3</td><td>1</td><td>5</td><td>7</td><td>6</td><td>2</td></tr><tr><td>5</td><td>69</td><td>12</td><td>6</td><td>8</td><td>4</td><td>11</td><td>13</td><td>15</td></tr><tr><td>6</td><td>96</td><td>15</td><td>14</td><td>15</td><td>10</td><td>10</td><td>17</td><td>15</td></tr><tr><td>7</td><td>219</td><td>24</td><td>18</td><td>21</td><td>19</td><td>37</td><td>56</td><td>44</td></tr><tr><td>8</td><td>25</td><td>3</td><td>6</td><td>2</td><td>2</td><td>0</td><td>8</td><td>4</td></tr><tr><td>9</td><td>90</td><td>9</td><td>15</td><td>10</td><td>10</td><td>20</td><td>13</td><td>13</td></tr></tbody></table></div>"
      ]
     },
     "metadata": {
      "application/vnd.databricks.v1+output": {
       "addedWidgets": {},
       "aggData": [],
       "aggError": "",
       "aggOverflow": false,
       "aggSchema": [],
       "aggSeriesLimitReached": false,
       "aggType": "",
       "arguments": {},
       "columnCustomDisplayInfos": {},
       "data": [
        [
         "Total",
         1739,
         218,
         202,
         184,
         200,
         279,
         353,
         303
        ],
        [
         "1",
         182,
         21,
         29,
         20,
         24,
         28,
         26,
         34
        ],
        [
         "2",
         37,
         5,
         6,
         5,
         3,
         6,
         7,
         5
        ],
        [
         "3",
         51,
         5,
         6,
         9,
         6,
         6,
         8,
         11
        ],
        [
         "4",
         27,
         3,
         3,
         1,
         5,
         7,
         6,
         2
        ],
        [
         "5",
         69,
         12,
         6,
         8,
         4,
         11,
         13,
         15
        ],
        [
         "6",
         96,
         15,
         14,
         15,
         10,
         10,
         17,
         15
        ],
        [
         "7",
         219,
         24,
         18,
         21,
         19,
         37,
         56,
         44
        ],
        [
         "8",
         25,
         3,
         6,
         2,
         2,
         0,
         8,
         4
        ],
        [
         "9",
         90,
         9,
         15,
         10,
         10,
         20,
         13,
         13
        ]
       ],
       "datasetInfos": [],
       "dbfsResultPath": null,
       "isJsonSchema": true,
       "metadata": {},
       "overflow": false,
       "plotOptions": {
        "customPlotOptions": {},
        "displayType": "table",
        "pivotAggregation": null,
        "pivotColumns": null,
        "xColumns": null,
        "yColumns": null
       },
       "removedWidgets": [],
       "schema": [
        {
         "metadata": "{}",
         "name": "Zona_de_ocurrencia",
         "type": "\"string\""
        },
        {
         "metadata": "{}",
         "name": "Total",
         "type": "\"integer\""
        },
        {
         "metadata": "{}",
         "name": "Lunes",
         "type": "\"integer\""
        },
        {
         "metadata": "{}",
         "name": "Martes",
         "type": "\"integer\""
        },
        {
         "metadata": "{}",
         "name": "Mircoles",
         "type": "\"integer\""
        },
        {
         "metadata": "{}",
         "name": "Jueves",
         "type": "\"integer\""
        },
        {
         "metadata": "{}",
         "name": "Viernes",
         "type": "\"integer\""
        },
        {
         "metadata": "{}",
         "name": "Sbado",
         "type": "\"integer\""
        },
        {
         "metadata": "{}",
         "name": "Domingo",
         "type": "\"integer\""
        }
       ],
       "type": "table"
      }
     },
     "output_type": "display_data"
    },
    {
     "output_type": "display_data",
     "data": {
      "text/html": [
       "<h4 style='margin:6px 0'>Accidentes de tránsito ocurridos en la República de Guatemala, por año, según mes. Serie histórica 2020 - 2024. — muestra de 10 filas</h4>"
      ]
     },
     "metadata": {},
     "output_type": "display_data"
    },
    {
     "output_type": "display_data",
     "data": {
      "text/html": [
       "<style scoped>\n",
       "  .table-result-container {\n",
       "    max-height: 300px;\n",
       "    overflow: auto;\n",
       "  }\n",
       "  table, th, td {\n",
       "    border: 1px solid black;\n",
       "    border-collapse: collapse;\n",
       "  }\n",
       "  th, td {\n",
       "    padding: 5px;\n",
       "  }\n",
       "  th {\n",
       "    text-align: left;\n",
       "  }\n",
       "</style><div class='table-result-container'><table class='table-result'><thead style='background-color: white'><tr><th>Mes_de_ocurrencia</th><th>2020</th><th>2021</th><th>2022</th><th>2023</th><th>2024</th></tr></thead><tbody><tr><td>Total</td><td>6350</td><td>8153</td><td>7924</td><td>8218</td><td>8401</td></tr><tr><td>Enero</td><td>610</td><td>695</td><td>714</td><td>696</td><td>626</td></tr><tr><td>Febrero</td><td>670</td><td>626</td><td>614</td><td>683</td><td>711</td></tr><tr><td>Marzo</td><td>590</td><td>657</td><td>727</td><td>635</td><td>780</td></tr><tr><td>Abril</td><td>329</td><td>644</td><td>632</td><td>938</td><td>630</td></tr><tr><td>Mayo</td><td>374</td><td>701</td><td>671</td><td>696</td><td>674</td></tr><tr><td>Junio</td><td>372</td><td>625</td><td>554</td><td>647</td><td>549</td></tr><tr><td>Julio</td><td>405</td><td>614</td><td>683</td><td>640</td><td>703</td></tr><tr><td>Agosto</td><td>571</td><td>643</td><td>624</td><td>605</td><td>687</td></tr><tr><td>Septiembre</td><td>495</td><td>648</td><td>612</td><td>615</td><td>686</td></tr></tbody></table></div>"
      ]
     },
     "metadata": {
      "application/vnd.databricks.v1+output": {
       "addedWidgets": {},
       "aggData": [],
       "aggError": "",
       "aggOverflow": false,
       "aggSchema": [],
       "aggSeriesLimitReached": false,
       "aggType": "",
       "arguments": {},
       "columnCustomDisplayInfos": {},
       "data": [
        [
         "Total",
         6350,
         8153,
         7924,
         8218,
         8401
        ],
        [
         "Enero",
         610,
         695,
         714,
         696,
         626
        ],
        [
         "Febrero",
         670,
         626,
         614,
         683,
         711
        ],
        [
         "Marzo",
         590,
         657,
         727,
         635,
         780
        ],
        [
         "Abril",
         329,
         644,
         632,
         938,
         630
        ],
        [
         "Mayo",
         374,
         701,
         671,
         696,
         674
        ],
        [
         "Junio",
         372,
         625,
         554,
         647,
         549
        ],
        [
         "Julio",
         405,
         614,
         683,
         640,
         703
        ],
        [
         "Agosto",
         571,
         643,
         624,
         605,
         687
        ],
        [
         "Septiembre",
         495,
         648,
         612,
         615,
         686
        ]
       ],
       "datasetInfos": [],
       "dbfsResultPath": null,
       "isJsonSchema": true,
       "metadata": {},
       "overflow": false,
       "plotOptions": {
        "customPlotOptions": {},
        "displayType": "table",
        "pivotAggregation": null,
        "pivotColumns": null,
        "xColumns": null,
        "yColumns": null
       },
       "removedWidgets": [],
       "schema": [
        {
         "metadata": "{}",
         "name": "Mes_de_ocurrencia",
         "type": "\"string\""
        },
        {
         "metadata": "{}",
         "name": "2020",
         "type": "\"integer\""
        },
        {
         "metadata": "{}",
         "name": "2021",
         "type": "\"integer\""
        },
        {
         "metadata": "{}",
         "name": "2022",
         "type": "\"integer\""
        },
        {
         "metadata": "{}",
         "name": "2023",
         "type": "\"integer\""
        },
        {
         "metadata": "{}",
         "name": "2024",
         "type": "\"integer\""
        }
       ],
       "type": "table"
      }
     },
     "output_type": "display_data"
    },
    {
     "output_type": "display_data",
     "data": {
      "text/html": [
       "<h4 style='margin:6px 0'>Lesionados en accidentes de tránsito ocurridos en la República de Guatemala, por sexo y tipo de accidente, según tipo de vehículo, año 2024. — muestra de 10 filas</h4>"
      ]
     },
     "metadata": {},
     "output_type": "display_data"
    },
    {
     "output_type": "display_data",
     "data": {
      "text/html": [
       "<style scoped>\n",
       "  .table-result-container {\n",
       "    max-height: 300px;\n",
       "    overflow: auto;\n",
       "  }\n",
       "  table, th, td {\n",
       "    border: 1px solid black;\n",
       "    border-collapse: collapse;\n",
       "  }\n",
       "  th, td {\n",
       "    padding: 5px;\n",
       "  }\n",
       "  th {\n",
       "    text-align: left;\n",
       "  }\n",
       "</style><div class='table-result-container'><table class='table-result'><thead style='background-color: white'><tr><th>Tipo_de_vehculo</th><th>Total</th><th>Hombre</th><th>Mujer</th><th>Ignorado</th><th>total_colision</th><th>hombre_colision</th><th>mujer_colision</th><th>ignorado_colision</th><th>total_atropello</th><th>hombre_atropello</th><th>mujer_atropello</th><th>ognorado_atropello</th><th>total_derrape</th><th>hombre_derrape</th><th>mujer_derrape</th><th>choque_total</th><th>choque_hombre</th><th>choque_mujer</th><th>choque_ignorado</th><th>total_vuelco</th><th>hombre_vuelco</th><th>mujer_vuelco</th><th>total_embarranc</th><th>hombre_embarranc</th><th>mujer_embarranc</th><th>ignorado_embarranc</th><th>total_encunet</th><th>hombre_encunet</th><th>mujeres_encunet</th><th>total_caida</th><th>mujer_caida</th><th>ignorado_caida</th><th>hombre_ignorado</th><th>mujer_ignorado</th></tr></thead><tbody><tr><td>Total</td><td>8907</td><td>6446</td><td>2445</td><td>16</td><td>5289</td><td>3931</td><td>1355</td><td>3</td><td>1495</td><td>986</td><td>499</td><td>10</td><td>1027</td><td>820</td><td>207</td><td>321</td><td>216</td><td>103</td><td>2</td><td>341</td><td>199</td><td>142</td><td>262</td><td>164</td><td>97</td><td>1</td><td>6</td><td>5</td><td>1</td><td>1</td><td>1</td><td>165</td><td>125</td><td>40</td></tr><tr><td>Motocicleta</td><td>5675</td><td>4389</td><td>1280</td><td>6</td><td>3865</td><td>3061</td><td>801</td><td>3</td><td>673</td><td>405</td><td>266</td><td>2</td><td>952</td><td>780</td><td>172</td><td>81</td><td>68</td><td>13</td><td>0</td><td>2</td><td>2</td><td>0</td><td>31</td><td>27</td><td>3</td><td>1</td><td>0</td><td>0</td><td>0</td><td>0</td><td>0</td><td>71</td><td>46</td><td>25</td></tr><tr><td>Automóvil</td><td>952</td><td>650</td><td>296</td><td>6</td><td>376</td><td>232</td><td>144</td><td>0</td><td>379</td><td>279</td><td>94</td><td>6</td><td>9</td><td>9</td><td>0</td><td>63</td><td>35</td><td>28</td><td>0</td><td>34</td><td>26</td><td>8</td><td>49</td><td>30</td><td>19</td><td>0</td><td>1</td><td>0</td><td>1</td><td>0</td><td>0</td><td>41</td><td>39</td><td>2</td></tr><tr><td>Pick Up</td><td>675</td><td>407</td><td>268</td><td>0</td><td>351</td><td>217</td><td>134</td><td>0</td><td>101</td><td>69</td><td>32</td><td>0</td><td>23</td><td>6</td><td>17</td><td>52</td><td>30</td><td>22</td><td>0</td><td>97</td><td>51</td><td>46</td><td>27</td><td>17</td><td>10</td><td>0</td><td>5</td><td>5</td><td>0</td><td>0</td><td>0</td><td>19</td><td>12</td><td>7</td></tr><tr><td>Camioneta</td><td>397</td><td>245</td><td>150</td><td>2</td><td>215</td><td>131</td><td>84</td><td>0</td><td>103</td><td>66</td><td>37</td><td>0</td><td>0</td><td>0</td><td>0</td><td>24</td><td>14</td><td>8</td><td>2</td><td>14</td><td>8</td><td>6</td><td>31</td><td>19</td><td>12</td><td>0</td><td>0</td><td>0</td><td>0</td><td>0</td><td>0</td><td>10</td><td>7</td><td>3</td></tr><tr><td>Bus Urbano</td><td>313</td><td>159</td><td>154</td><td>0</td><td>73</td><td>30</td><td>43</td><td>0</td><td>38</td><td>23</td><td>15</td><td>0</td><td>4</td><td>1</td><td>3</td><td>27</td><td>17</td><td>10</td><td>0</td><td>98</td><td>53</td><td>45</td><td>71</td><td>34</td><td>37</td><td>0</td><td>0</td><td>0</td><td>0</td><td>1</td><td>1</td><td>1</td><td>1</td><td>0</td></tr><tr><td>Camión</td><td>260</td><td>199</td><td>60</td><td>1</td><td>115</td><td>93</td><td>22</td><td>0</td><td>48</td><td>31</td><td>16</td><td>1</td><td>2</td><td>2</td><td>0</td><td>37</td><td>28</td><td>9</td><td>0</td><td>39</td><td>30</td><td>9</td><td>11</td><td>10</td><td>1</td><td>0</td><td>0</td><td>0</td><td>0</td><td>0</td><td>0</td><td>8</td><td>5</td><td>3</td></tr><tr><td>Microbús</td><td>229</td><td>123</td><td>106</td><td>0</td><td>133</td><td>70</td><td>63</td><td>0</td><td>14</td><td>7</td><td>7</td><td>0</td><td>6</td><td>5</td><td>1</td><td>18</td><td>10</td><td>8</td><td>0</td><td>29</td><td>10</td><td>19</td><td>28</td><td>20</td><td>8</td><td>0</td><td>0</td><td>0</td><td>0</td><td>0</td><td>0</td><td>1</td><td>1</td><td>0</td></tr><tr><td>Moto Taxi</td><td>137</td><td>68</td><td>69</td><td>0</td><td>87</td><td>40</td><td>47</td><td>0</td><td>14</td><td>11</td><td>3</td><td>0</td><td>5</td><td>2</td><td>3</td><td>5</td><td>2</td><td>3</td><td>0</td><td>18</td><td>10</td><td>8</td><td>7</td><td>2</td><td>5</td><td>0</td><td>0</td><td>0</td><td>0</td><td>0</td><td>0</td><td>1</td><td>1</td><td>0</td></tr><tr><td>Cabezal</td><td>63</td><td>52</td><td>11</td><td>0</td><td>30</td><td>25</td><td>5</td><td>0</td><td>23</td><td>17</td><td>6</td><td>0</td><td>1</td><td>1</td><td>0</td><td>1</td><td>1</td><td>0</td><td>0</td><td>7</td><td>7</td><td>0</td><td>1</td><td>1</td><td>0</td><td>0</td><td>0</td><td>0</td><td>0</td><td>0</td><td>0</td><td>0</td><td>0</td><td>0</td></tr></tbody></table></div>"
      ]
     },
     "metadata": {
      "application/vnd.databricks.v1+output": {
       "addedWidgets": {},
       "aggData": [],
       "aggError": "",
       "aggOverflow": false,
       "aggSchema": [],
       "aggSeriesLimitReached": false,
       "aggType": "",
       "arguments": {},
       "columnCustomDisplayInfos": {},
       "data": [
        [
         "Total",
         8907,
         6446,
         2445,
         16,
         5289,
         3931,
         1355,
         3,
         1495,
         986,
         499,
         10,
         1027,
         820,
         207,
         321,
         216,
         103,
         2,
         341,
         199,
         142,
         262,
         164,
         97,
         1,
         6,
         5,
         1,
         1,
         1,
         165,
         125,
         40
        ],
        [
         "Motocicleta",
         5675,
         4389,
         1280,
         6,
         3865,
         3061,
         801,
         3,
         673,
         405,
         266,
         2,
         952,
         780,
         172,
         81,
         68,
         13,
         0,
         2,
         2,
         0,
         31,
         27,
         3,
         1,
         0,
         0,
         0,
         0,
         0,
         71,
         46,
         25
        ],
        [
         "Automóvil",
         952,
         650,
         296,
         6,
         376,
         232,
         144,
         0,
         379,
         279,
         94,
         6,
         9,
         9,
         0,
         63,
         35,
         28,
         0,
         34,
         26,
         8,
         49,
         30,
         19,
         0,
         1,
         0,
         1,
         0,
         0,
         41,
         39,
         2
        ],
        [
         "Pick Up",
         675,
         407,
         268,
         0,
         351,
         217,
         134,
         0,
         101,
         69,
         32,
         0,
         23,
         6,
         17,
         52,
         30,
         22,
         0,
         97,
         51,
         46,
         27,
         17,
         10,
         0,
         5,
         5,
         0,
         0,
         0,
         19,
         12,
         7
        ],
        [
         "Camioneta",
         397,
         245,
         150,
         2,
         215,
         131,
         84,
         0,
         103,
         66,
         37,
         0,
         0,
         0,
         0,
         24,
         14,
         8,
         2,
         14,
         8,
         6,
         31,
         19,
         12,
         0,
         0,
         0,
         0,
         0,
         0,
         10,
         7,
         3
        ],
        [
         "Bus Urbano",
         313,
         159,
         154,
         0,
         73,
         30,
         43,
         0,
         38,
         23,
         15,
         0,
         4,
         1,
         3,
         27,
         17,
         10,
         0,
         98,
         53,
         45,
         71,
         34,
         37,
         0,
         0,
         0,
         0,
         1,
         1,
         1,
         1,
         0
        ],
        [
         "Camión",
         260,
         199,
         60,
         1,
         115,
         93,
         22,
         0,
         48,
         31,
         16,
         1,
         2,
         2,
         0,
         37,
         28,
         9,
         0,
         39,
         30,
         9,
         11,
         10,
         1,
         0,
         0,
         0,
         0,
         0,
         0,
         8,
         5,
         3
        ],
        [
         "Microbús",
         229,
         123,
         106,
         0,
         133,
         70,
         63,
         0,
         14,
         7,
         7,
         0,
         6,
         5,
         1,
         18,
         10,
         8,
         0,
         29,
         10,
         19,
         28,
         20,
         8,
         0,
         0,
         0,
         0,
         0,
         0,
         1,
         1,
         0
        ],
        [
         "Moto Taxi",
         137,
         68,
         69,
         0,
         87,
         40,
         47,
         0,
         14,
         11,
         3,
         0,
         5,
         2,
         3,
         5,
         2,
         3,
         0,
         18,
         10,
         8,
         7,
         2,
         5,
         0,
         0,
         0,
         0,
         0,
         0,
         1,
         1,
         0
        ],
        [
         "Cabezal",
         63,
         52,
         11,
         0,
         30,
         25,
         5,
         0,
         23,
         17,
         6,
         0,
         1,
         1,
         0,
         1,
         1,
         0,
         0,
         7,
         7,
         0,
         1,
         1,
         0,
         0,
         0,
         0,
         0,
         0,
         0,
         0,
         0,
         0
        ]
       ],
       "datasetInfos": [],
       "dbfsResultPath": null,
       "isJsonSchema": true,
       "metadata": {},
       "overflow": false,
       "plotOptions": {
        "customPlotOptions": {},
        "displayType": "table",
        "pivotAggregation": null,
        "pivotColumns": null,
        "xColumns": null,
        "yColumns": null
       },
       "removedWidgets": [],
       "schema": [
        {
         "metadata": "{}",
         "name": "Tipo_de_vehculo",
         "type": "\"string\""
        },
        {
         "metadata": "{}",
         "name": "Total",
         "type": "\"integer\""
        },
        {
         "metadata": "{}",
         "name": "Hombre",
         "type": "\"integer\""
        },
        {
         "metadata": "{}",
         "name": "Mujer",
         "type": "\"integer\""
        },
        {
         "metadata": "{}",
         "name": "Ignorado",
         "type": "\"integer\""
        },
        {
         "metadata": "{}",
         "name": "total_colision",
         "type": "\"integer\""
        },
        {
         "metadata": "{}",
         "name": "hombre_colision",
         "type": "\"integer\""
        },
        {
         "metadata": "{}",
         "name": "mujer_colision",
         "type": "\"integer\""
        },
        {
         "metadata": "{}",
         "name": "ignorado_colision",
         "type": "\"integer\""
        },
        {
         "metadata": "{}",
         "name": "total_atropello",
         "type": "\"integer\""
        },
        {
         "metadata": "{}",
         "name": "hombre_atropello",
         "type": "\"integer\""
        },
        {
         "metadata": "{}",
         "name": "mujer_atropello",
         "type": "\"integer\""
        },
        {
         "metadata": "{}",
         "name": "ognorado_atropello",
         "type": "\"integer\""
        },
        {
         "metadata": "{}",
         "name": "total_derrape",
         "type": "\"integer\""
        },
        {
         "metadata": "{}",
         "name": "hombre_derrape",
         "type": "\"integer\""
        },
        {
         "metadata": "{}",
         "name": "mujer_derrape",
         "type": "\"integer\""
        },
        {
         "metadata": "{}",
         "name": "choque_total",
         "type": "\"integer\""
        },
        {
         "metadata": "{}",
         "name": "choque_hombre",
         "type": "\"integer\""
        },
        {
         "metadata": "{}",
         "name": "choque_mujer",
         "type": "\"integer\""
        },
        {
         "metadata": "{}",
         "name": "choque_ignorado",
         "type": "\"integer\""
        },
        {
         "metadata": "{}",
         "name": "total_vuelco",
         "type": "\"integer\""
        },
        {
         "metadata": "{}",
         "name": "hombre_vuelco",
         "type": "\"integer\""
        },
        {
         "metadata": "{}",
         "name": "mujer_vuelco",
         "type": "\"integer\""
        },
        {
         "metadata": "{}",
         "name": "total_embarranc",
         "type": "\"integer\""
        },
        {
         "metadata": "{}",
         "name": "hombre_embarranc",
         "type": "\"integer\""
        },
        {
         "metadata": "{}",
         "name": "mujer_embarranc",
         "type": "\"integer\""
        },
        {
         "metadata": "{}",
         "name": "ignorado_embarranc",
         "type": "\"integer\""
        },
        {
         "metadata": "{}",
         "name": "total_encunet",
         "type": "\"integer\""
        },
        {
         "metadata": "{}",
         "name": "hombre_encunet",
         "type": "\"integer\""
        },
        {
         "metadata": "{}",
         "name": "mujeres_encunet",
         "type": "\"integer\""
        },
        {
         "metadata": "{}",
         "name": "total_caida",
         "type": "\"integer\""
        },
        {
         "metadata": "{}",
         "name": "mujer_caida",
         "type": "\"integer\""
        },
        {
         "metadata": "{}",
         "name": "ignorado_caida",
         "type": "\"integer\""
        },
        {
         "metadata": "{}",
         "name": "hombre_ignorado",
         "type": "\"integer\""
        },
        {
         "metadata": "{}",
         "name": "mujer_ignorado",
         "type": "\"integer\""
        }
       ],
       "type": "table"
      }
     },
     "output_type": "display_data"
    },
    {
     "output_type": "display_data",
     "data": {
      "text/html": [
       "<h4 style='margin:6px 0'>Lesionados en accidentes de tránsito ocurridos en la República de Guatemala, por mes, según departamento, año 2024. — muestra de 10 filas</h4>"
      ]
     },
     "metadata": {},
     "output_type": "display_data"
    },
    {
     "output_type": "display_data",
     "data": {
      "text/html": [
       "<style scoped>\n",
       "  .table-result-container {\n",
       "    max-height: 300px;\n",
       "    overflow: auto;\n",
       "  }\n",
       "  table, th, td {\n",
       "    border: 1px solid black;\n",
       "    border-collapse: collapse;\n",
       "  }\n",
       "  th, td {\n",
       "    padding: 5px;\n",
       "  }\n",
       "  th {\n",
       "    text-align: left;\n",
       "  }\n",
       "</style><div class='table-result-container'><table class='table-result'><thead style='background-color: white'><tr><th>Departamento</th><th>Total</th><th>Enero</th><th>Febrero</th><th>Marzo</th><th>Abril</th><th>Mayo</th><th>Junio</th><th>Julio</th><th>Agosto</th><th>Septiembre</th><th>Octubre</th><th>Noviembre</th><th>Diciembre</th></tr></thead><tbody><tr><td>Total</td><td>8907</td><td>671</td><td>721</td><td>840</td><td>686</td><td>717</td><td>526</td><td>672</td><td>700</td><td>737</td><td>832</td><td>893</td><td>912</td></tr><tr><td>Guatemala</td><td>3516</td><td>277</td><td>292</td><td>315</td><td>278</td><td>268</td><td>228</td><td>286</td><td>269</td><td>260</td><td>320</td><td>357</td><td>366</td></tr><tr><td>El Progreso</td><td>214</td><td>12</td><td>11</td><td>25</td><td>20</td><td>14</td><td>21</td><td>13</td><td>20</td><td>13</td><td>21</td><td>22</td><td>22</td></tr><tr><td>Sacatepéquez</td><td>384</td><td>34</td><td>24</td><td>26</td><td>31</td><td>13</td><td>19</td><td>35</td><td>39</td><td>57</td><td>38</td><td>30</td><td>38</td></tr><tr><td>Chimaltenango</td><td>215</td><td>14</td><td>24</td><td>15</td><td>9</td><td>22</td><td>7</td><td>10</td><td>16</td><td>17</td><td>27</td><td>37</td><td>17</td></tr><tr><td>Escuintla</td><td>1253</td><td>78</td><td>109</td><td>159</td><td>107</td><td>103</td><td>61</td><td>74</td><td>105</td><td>101</td><td>98</td><td>130</td><td>128</td></tr><tr><td>Santa Rosa</td><td>242</td><td>28</td><td>23</td><td>30</td><td>28</td><td>20</td><td>11</td><td>9</td><td>14</td><td>18</td><td>23</td><td>9</td><td>29</td></tr><tr><td>Sololá</td><td>100</td><td>13</td><td>1</td><td>4</td><td>7</td><td>7</td><td>2</td><td>9</td><td>15</td><td>6</td><td>6</td><td>8</td><td>22</td></tr><tr><td>Totonicapán</td><td>88</td><td>4</td><td>1</td><td>14</td><td>1</td><td>5</td><td>3</td><td>11</td><td>8</td><td>7</td><td>17</td><td>10</td><td>7</td></tr><tr><td>Quetzaltenango</td><td>240</td><td>15</td><td>16</td><td>17</td><td>12</td><td>12</td><td>20</td><td>26</td><td>17</td><td>25</td><td>18</td><td>46</td><td>16</td></tr></tbody></table></div>"
      ]
     },
     "metadata": {
      "application/vnd.databricks.v1+output": {
       "addedWidgets": {},
       "aggData": [],
       "aggError": "",
       "aggOverflow": false,
       "aggSchema": [],
       "aggSeriesLimitReached": false,
       "aggType": "",
       "arguments": {},
       "columnCustomDisplayInfos": {},
       "data": [
        [
         "Total",
         8907,
         671,
         721,
         840,
         686,
         717,
         526,
         672,
         700,
         737,
         832,
         893,
         912
        ],
        [
         "Guatemala",
         3516,
         277,
         292,
         315,
         278,
         268,
         228,
         286,
         269,
         260,
         320,
         357,
         366
        ],
        [
         "El Progreso",
         214,
         12,
         11,
         25,
         20,
         14,
         21,
         13,
         20,
         13,
         21,
         22,
         22
        ],
        [
         "Sacatepéquez",
         384,
         34,
         24,
         26,
         31,
         13,
         19,
         35,
         39,
         57,
         38,
         30,
         38
        ],
        [
         "Chimaltenango",
         215,
         14,
         24,
         15,
         9,
         22,
         7,
         10,
         16,
         17,
         27,
         37,
         17
        ],
        [
         "Escuintla",
         1253,
         78,
         109,
         159,
         107,
         103,
         61,
         74,
         105,
         101,
         98,
         130,
         128
        ],
        [
         "Santa Rosa",
         242,
         28,
         23,
         30,
         28,
         20,
         11,
         9,
         14,
         18,
         23,
         9,
         29
        ],
        [
         "Sololá",
         100,
         13,
         1,
         4,
         7,
         7,
         2,
         9,
         15,
         6,
         6,
         8,
         22
        ],
        [
         "Totonicapán",
         88,
         4,
         1,
         14,
         1,
         5,
         3,
         11,
         8,
         7,
         17,
         10,
         7
        ],
        [
         "Quetzaltenango",
         240,
         15,
         16,
         17,
         12,
         12,
         20,
         26,
         17,
         25,
         18,
         46,
         16
        ]
       ],
       "datasetInfos": [],
       "dbfsResultPath": null,
       "isJsonSchema": true,
       "metadata": {},
       "overflow": false,
       "plotOptions": {
        "customPlotOptions": {},
        "displayType": "table",
        "pivotAggregation": null,
        "pivotColumns": null,
        "xColumns": null,
        "yColumns": null
       },
       "removedWidgets": [],
       "schema": [
        {
         "metadata": "{}",
         "name": "Departamento",
         "type": "\"string\""
        },
        {
         "metadata": "{}",
         "name": "Total",
         "type": "\"integer\""
        },
        {
         "metadata": "{}",
         "name": "Enero",
         "type": "\"integer\""
        },
        {
         "metadata": "{}",
         "name": "Febrero",
         "type": "\"integer\""
        },
        {
         "metadata": "{}",
         "name": "Marzo",
         "type": "\"integer\""
        },
        {
         "metadata": "{}",
         "name": "Abril",
         "type": "\"integer\""
        },
        {
         "metadata": "{}",
         "name": "Mayo",
         "type": "\"integer\""
        },
        {
         "metadata": "{}",
         "name": "Junio",
         "type": "\"integer\""
        },
        {
         "metadata": "{}",
         "name": "Julio",
         "type": "\"integer\""
        },
        {
         "metadata": "{}",
         "name": "Agosto",
         "type": "\"integer\""
        },
        {
         "metadata": "{}",
         "name": "Septiembre",
         "type": "\"integer\""
        },
        {
         "metadata": "{}",
         "name": "Octubre",
         "type": "\"integer\""
        },
        {
         "metadata": "{}",
         "name": "Noviembre",
         "type": "\"integer\""
        },
        {
         "metadata": "{}",
         "name": "Diciembre",
         "type": "\"integer\""
        }
       ],
       "type": "table"
      }
     },
     "output_type": "display_data"
    },
    {
     "output_type": "display_data",
     "data": {
      "text/html": [
       "<h4 style='margin:6px 0'>Víctimas por accidentes de tránsito ocurridos en la República de Guatemala por año, según departamento. Serie histórica 2020 - 2024. — muestra de 10 filas</h4>"
      ]
     },
     "metadata": {},
     "output_type": "display_data"
    },
    {
     "output_type": "display_data",
     "data": {
      "text/html": [
       "<style scoped>\n",
       "  .table-result-container {\n",
       "    max-height: 300px;\n",
       "    overflow: auto;\n",
       "  }\n",
       "  table, th, td {\n",
       "    border: 1px solid black;\n",
       "    border-collapse: collapse;\n",
       "  }\n",
       "  th, td {\n",
       "    padding: 5px;\n",
       "  }\n",
       "  th {\n",
       "    text-align: left;\n",
       "  }\n",
       "</style><div class='table-result-container'><table class='table-result'><thead style='background-color: white'><tr><th>Departamento</th><th>2020</th><th>2021</th><th>2022</th><th>2023</th><th>2024</th></tr></thead><tbody><tr><td>Total</td><td>8142</td><td>10544</td><td>10722</td><td>11198</td><td>11274</td></tr><tr><td>Guatemala</td><td>3025</td><td>3982</td><td>3947</td><td>4074</td><td>4092</td></tr><tr><td>El Progreso</td><td>198</td><td>253</td><td>265</td><td>276</td><td>276</td></tr><tr><td>Sacatepéquez</td><td>262</td><td>336</td><td>466</td><td>468</td><td>478</td></tr><tr><td>Chimaltenango</td><td>316</td><td>372</td><td>403</td><td>372</td><td>349</td></tr><tr><td>Escuintla</td><td>659</td><td>896</td><td>1041</td><td>1322</td><td>1549</td></tr><tr><td>Santa Rosa</td><td>283</td><td>333</td><td>380</td><td>442</td><td>338</td></tr><tr><td>Sololá</td><td>101</td><td>177</td><td>93</td><td>139</td><td>126</td></tr><tr><td>Totonicapán</td><td>74</td><td>79</td><td>113</td><td>107</td><td>102</td></tr><tr><td>Quetzaltenango</td><td>240</td><td>296</td><td>364</td><td>392</td><td>311</td></tr></tbody></table></div>"
      ]
     },
     "metadata": {
      "application/vnd.databricks.v1+output": {
       "addedWidgets": {},
       "aggData": [],
       "aggError": "",
       "aggOverflow": false,
       "aggSchema": [],
       "aggSeriesLimitReached": false,
       "aggType": "",
       "arguments": {},
       "columnCustomDisplayInfos": {},
       "data": [
        [
         "Total",
         8142,
         10544,
         10722,
         11198,
         11274
        ],
        [
         "Guatemala",
         3025,
         3982,
         3947,
         4074,
         4092
        ],
        [
         "El Progreso",
         198,
         253,
         265,
         276,
         276
        ],
        [
         "Sacatepéquez",
         262,
         336,
         466,
         468,
         478
        ],
        [
         "Chimaltenango",
         316,
         372,
         403,
         372,
         349
        ],
        [
         "Escuintla",
         659,
         896,
         1041,
         1322,
         1549
        ],
        [
         "Santa Rosa",
         283,
         333,
         380,
         442,
         338
        ],
        [
         "Sololá",
         101,
         177,
         93,
         139,
         126
        ],
        [
         "Totonicapán",
         74,
         79,
         113,
         107,
         102
        ],
        [
         "Quetzaltenango",
         240,
         296,
         364,
         392,
         311
        ]
       ],
       "datasetInfos": [],
       "dbfsResultPath": null,
       "isJsonSchema": true,
       "metadata": {},
       "overflow": false,
       "plotOptions": {
        "customPlotOptions": {},
        "displayType": "table",
        "pivotAggregation": null,
        "pivotColumns": null,
        "xColumns": null,
        "yColumns": null
       },
       "removedWidgets": [],
       "schema": [
        {
         "metadata": "{}",
         "name": "Departamento",
         "type": "\"string\""
        },
        {
         "metadata": "{}",
         "name": "2020",
         "type": "\"integer\""
        },
        {
         "metadata": "{}",
         "name": "2021",
         "type": "\"integer\""
        },
        {
         "metadata": "{}",
         "name": "2022",
         "type": "\"integer\""
        },
        {
         "metadata": "{}",
         "name": "2023",
         "type": "\"integer\""
        },
        {
         "metadata": "{}",
         "name": "2024",
         "type": "\"integer\""
        }
       ],
       "type": "table"
      }
     },
     "output_type": "display_data"
    }
   ],
   "source": [
    "# ======================= MUESTRA DINÁMICA (reemplaza las 4 llamadas fijas) =======================\n",
    "TITULOS = {\n",
    "    1: \"Accidentes de tránsito ocurridos en la República de Guatemala, por año, según departamento. Serie histórica 2020 - 2024.\",\n",
    "    2: \"Accidentes de tránsito ocurridos en la República de Guatemala, por mes, según departamento, año 2024.\",\n",
    "    3: \"Accidentes de tránsito ocurridos en la República de Guatemala, por día de la semana, según departamento, año 2024.\",\n",
    "    4: \"Accidentes de tránsito ocurridos en la República de Guatemala, por año, según mes. Serie histórica 2020 - 2024.\",\n",
    "    5: \"Accidentes de tránsito ocurridos en la República de Guatemala, por día de la semana, según mes, año 2024.\",\n",
    "    6: \"Accidentes de tránsito ocurridos en la República de Guatemala, por año, según día de la semana. Serie histórica 2020 - 2024.\",\n",
    "    7: \"Accidentes de tránsito ocurridos en la República de Guatemala, por día de la semana, según hora de ocurrencia, año 2024.\",\n",
    "    8: \"Accidentes de tránsito ocurridos en la República de Guatemala, por tipo de accidente, según departamento, año 2024.\",\n",
    "    9: \"Accidentes de tránsito ocurridos en la República de Guatemala, por tipo de accidente, según mes, año 2024.\",\n",
    "    10: \"Accidentes de tránsito ocurridos en la República de Guatemala, por tipo de accidente, según día de ocurrencia, año 2024.\",\n",
    "    11: \"Accidentes de tránsito ocurridos por atropello en la República de Guatemala, por mes, según departamento, año 2024.\",\n",
    "    12: \"Accidentes de tránsito ocurridos por atropello en la República de Guatemala, por día de la semana, según departamento, año 2024.\",\n",
    "    13: \"Accidentes de tránsito ocurridos por atropello en la República de Guatemala, por día de la semana, según mes, año 2024.\",\n",
    "    14: \"Accidentes de tránsito ocurridos en el municipio de Guatemala, por zona de ocurrencia, según hora, año 2024.\",\n",
    "    15: \"Accidentes de tránsito ocurridos en el municipio de Guatemala, por día de la semana, según zona de ocurrencia, año 2024.\",\n",
    "    16: \"Accidentes de tránsito ocurridos en el municipio de Guatemala, por tipo de accidente, según zona de ocurrencia, año 2024.\",\n",
    "    17: \"Cantidad de vehículos involucrados en accidentes de tránsito ocurridos en la República de Guatemala, por año, según departamento. Serie histórica 2020 -2024.\",\n",
    "    18: \"Cantidad de vehículos involucrados en accidentes de tránsito ocurridos en la República de Guatemala, por tipo de accidente, según tipo de vehículo, año 2024.\",\n",
    "    19: \"Cantidad de vehículos involucrados en accidentes de tránsito ocurridos en la República de Guatemala, por tipo de accidente, según color de vehículo, año 2024.\",\n",
    "    20: \"Cantidad de vehículos involucrados en accidentes de tránsito ocurridos en la República de Guatemala, por tipo de accidente, según modelo de vehículo, año 2024.\",\n",
    "    21: \"Cantidad de vehículos involucrados en accidentes de tránsito ocurridos en la República de Guatemala, por tipo de vehículo, según departamento, año 2024.\",\n",
    "    22: \"Cantidad de vehículos involucrados en accidentes de tránsito ocurridos en la República de Guatemala, por sexo y condición del conductor, según departamento, año 2024.\",\n",
    "    23: \"Cantidad de vehículos involucrados en accidentes de tránsito ocurridos en la República de Guatemala, por sexo y condición del conductor, según mes, año 2024.\",\n",
    "    24: \"Cantidad de vehículos involucrados en accidentes de tránsito ocurridos en la República de Guatemala, por día de la semana, según condición del conductor y sexo, año 2024.\",\n",
    "    25: \"Cantidad de vehículos involucrados en accidentes de tránsito ocurridos en la República de Guatemala, por sexo y condición del conductor, según hora, año 2024.\",\n",
    "    26: \"Cantidad de vehículos involucrados en accidentes de tránsito ocurridos en la República de Guatemala, por sexo y condición del conductor, según grupos de edad, año 2024\",\n",
    "    27: \"Cantidad de vehículos involucrados en accidentes de tránsito ocurridos en la República de Guatemala, por tipo de accidente, según tipo de vehículo y sexo, año 2024.\",\n",
    "    28: \"Cantidad de vehículos involucrados en accidentes de tránsito ocurridos en el municipio de Guatemala, por tipo de vehículo, según zona de ocurrencia, año 2024.\",\n",
    "    29: \"Víctimas por accidentes de tránsito ocurridos en la República de Guatemala por año, según departamento. Serie histórica 2020 - 2024.\",\n",
    "    30: \"Víctimas por accidentes de tránsito ocurridos en la República de Guatemala, por sexo y estado del implicado, según departamento, año 2024.\",\n",
    "    31: \"Lesionados en accidentes de tránsito ocurridos en la República de Guatemala, por año, según departamento. Serie histórica 2020 - 2024.\",\n",
    "    32: \"Lesionados en accidentes de tránsito ocurridos en la República de Guatemala, por mes, según departamento, año 2024.\",\n",
    "    33: \"Lesionados en accidentes de tránsito ocurridos en la República de Guatemala, por día de la semana, según departamento, año 2024.\",\n",
    "    34: \"Lesionados en accidentes de tránsito ocurridos en la República de Guatemala, por grupos de edad, según departamento, año 2024.\",\n",
    "    35: \"Lesionados en accidentes de tránsito ocurridos en la República de Guatemala, por día de la semana, según hora, año 2024.\",\n",
    "    36: \"Lesionados en accidentes de tránsito ocurridos en la República de Guatemala, por sexo y tipo de accidente, según tipo de vehículo, año 2024.\",\n",
    "    37: \"Lesionados en accidentes de tránsito ocurridos en la República de Guatemala, por día de la semana, según tipo de accidente y sexo, año 2024.\",\n",
    "    38: \"Lesionados en accidentes de tránsito ocurridos en la República de Guatemala, por sexo, según grupos de edad, año 2024.\",\n",
    "    39: \"Lesionados por atropello en accidentes de tránsito ocurridos en la República de Guatemala, por mes, según departamento, año 2024.\",\n",
    "    40: \"Lesionados por atropello en accidentes de tránsito ocurridos en la República de Guatemala, por día de la semana, según departamento, año 2024.\",\n",
    "    41: \"Lesionados por atropello en accidentes de tránsito ocurridos en la República de Guatemala, por grupos de edad, según departamento, año 2024.\",\n",
    "    42: \"Lesionados por atropello en accidentes de tránsito ocurridos en la República de Guatemala, por día de la semana, según hora, año 2024.\",\n",
    "    43: \"Lesionados por atropello en accidentes de tránsito ocurridos en la República de Guatemala, por sexo, según tipo de vehículo, año 2024.\",\n",
    "    44: \"Lesionados en accidentes de tránsito ocurridos en el municipio de Guatemala, por grupos de edad, según zona de ocurrencia, año 2024.\",\n",
    "    45: \"Lesionados en accidentes de tránsito ocurridos en el municipio de Guatemala, por día de la semana, según zona de ocurrencia, año 2024.\",\n",
    "    46: \"Lesionados en accidentes de tránsito ocurridos en el municipio de Guatemala, por sexo, según zona de ocurrencia, año 2024.\",\n",
    "    47: \"Fallecidos en accidentes de tránsito ocurridos en la República de Guatemala, por año, según departamento. Serie histórica 2020 - 2024.\",\n",
    "    48: \"Fallecidos en accidentes de tránsito ocurridos en la República de Guatemala, por mes, según departamento, año 2024.\",\n",
    "    49: \"Fallecidos en accidentes de tránsito ocurridos en la República de Guatemala, por día de la semana, según departamento, año 2024.\",\n",
    "    50: \"Fallecidos en accidentes de tránsito ocurridos en la República de Guatemala, por grupos de edad, según departamento, año 2024.\",\n",
    "    51: \"Fallecidos en accidentes de tránsito ocurridos en la República de Guatemala, por día de la semana, según hora, año 2024.\",\n",
    "    52: \"Fallecidos en accidentes de tránsito ocurridos en la República de Guatemala, por sexo y tipo de accidente, según tipo de vehículo, año 2024.\",\n",
    "    53: \"Fallecidos en accidentes de tránsito ocurridos en la República de Guatemala, por día de la semana, según tipo de accidente y sexo, año 2024.\",\n",
    "    54: \"Fallecidos en accidentes de tránsito ocurridos en la República de Guatemala, por sexo, según grupos de edad, año 2024.\",\n",
    "    55: \"Fallecidos por atropello en accidentes de tránsito ocurridos en la República de Guatemala, por mes, según departamento, año 2024.\",\n",
    "    56: \"Fallecidos por atropello en accidentes de tránsito ocurridos en la República de Guatemala, por día de la semana, según departamento, año 2024.\",\n",
    "    57: \"Fallecidos por atropello en accidentes de tránsito ocurridos en la República de Guatemala, por grupos de edad, según departamento, año 2024.\",\n",
    "    58: \"Fallecidos por atropello en accidentes de tránsito ocurridos en la República de Guatemala, por día de la semana, según hora, año 2024.\",\n",
    "    59: \"Fallecidos por atropello en accidentes de tránsito ocurridos en la República de Guatemala, por sexo, según tipo de vehículo, año 2024.\",\n",
    "    60: \"Fallecidos en accidentes de tránsito ocurridos en el municipio de Guatemala, por grupos de edad, según zona de ocurrencia, año 2024.\",\n",
    "    61: \"Fallecidos en accidentes de tránsito ocurridos en el municipio de Guatemala, por día de la semana, según zona de ocurrencia, año 2024.\",\n",
    "    62: \"Fallecidos en accidentes de tránsito ocurridos en el municipio de Guatemala, por sexo, según zona de ocurrencia, año 2024.\",\n",
    "    63: \"Tasa de víctimas involucradas en accidentes de tránsito ocurridos en la República de Guatemala por año, según departamento por cada 100,000 habitantes. Serie histórica 2020 - 2024.\",\n",
    "    64: \"Tasa de víctimas lesionadas involucradas en accidentes de tránsito ocurridos en la República de Guatemala por año, según departamento por cada 100,000 habitantes. Serie histórica 2020 – 2024.\",\n",
    "    65: \"Tasa de víctimas fallecidas involucradas en accidentes de tránsito ocurridos en la República de Guatemala por año, según departamento por cada 100,000 habitantes. Serie histórica 2020 - 2024.\"\n",
    "}\n",
    "\n",
    "import re\n",
    "\n",
    "def _titulo_para(name: str) -> str:\n",
    "    # name viene como \"cuadro 12\", extraemos el índice para buscar en TITULOS\n",
    "    m = re.search(r\"(\\d+)$\", name.strip())\n",
    "    if m:\n",
    "        idx = int(m.group(1))\n",
    "        return TITULOS.get(idx, f\"Cuadro {idx}\")\n",
    "    return name.title()\n",
    "\n",
    "from pyspark.sql import functions as F\n",
    "\n",
    "def show_sample(df, titulo, n=10, cols=None, truncate=False):\n",
    "    displayHTML(f\"<h4 style='margin:6px 0'>{titulo} — muestra de {n} filas</h4>\")\n",
    "    # Si nos pasan columnas, filtramos a las que existan\n",
    "    if cols:\n",
    "        if isinstance(cols, str):\n",
    "            cols = [c.strip() for c in cols.split(\",\")]\n",
    "        keep = [c for c in cols if c in df.columns]\n",
    "        if keep:\n",
    "            df = df.select(*[F.col(c) for c in keep])\n",
    "    # En Databricks, display(df.limit(n)) es más cómodo que df.show()\n",
    "    display(df.limit(n))\n",
    "\n",
    "# Qué mostramos: si ya tienes 'sampled', úsalo; si no, usa hasta 5 de loaded_names\n",
    "a_mostrar = sampled if sampled else loaded_names[:5]\n",
    "\n",
    "for name in a_mostrar:\n",
    "    df = dfs[name]\n",
    "    titulo = _titulo_para(name)\n",
    "    show_sample(df, titulo, n=10)\n",
    "# ================================================================================================"
   ]
  },
  {
   "cell_type": "code",
   "execution_count": 0,
   "metadata": {
    "application/vnd.databricks.v1+cell": {
     "cellMetadata": {
      "byteLimit": 2048000,
      "rowLimit": 10000
     },
     "inputWidgets": {},
     "nuid": "2c0ddadd-1fb3-4a6e-8887-25f5e47ec6a0",
     "showTitle": false,
     "tableResultSettingsMap": {
      "1": {
       "dataGridStateBlob": "{\"version\":1,\"tableState\":{\"columnPinning\":{\"left\":[\"#row_number#\"],\"right\":[]},\"columnSizing\":{},\"columnVisibility\":{}},\"settings\":{\"columns\":{}},\"syncTimestamp\":1759398910755}",
       "filterBlob": null,
       "queryPlanFiltersBlob": null,
       "tableResultIndex": 1
      }
     },
     "title": ""
    }
   },
   "outputs": [
    {
     "output_type": "display_data",
     "data": {
      "text/html": [
       "<h4 style='margin:10px 0'>Cuadro 1 — columnas numéricas</h4>"
      ]
     },
     "metadata": {},
     "output_type": "display_data"
    },
    {
     "output_type": "display_data",
     "data": {
      "text/html": [
       "<p style='margin:6px 0 4px 0'><i>Resumen (describe):</i></p>"
      ]
     },
     "metadata": {},
     "output_type": "display_data"
    },
    {
     "output_type": "display_data",
     "data": {
      "text/html": [
       "<style scoped>\n",
       "  .table-result-container {\n",
       "    max-height: 300px;\n",
       "    overflow: auto;\n",
       "  }\n",
       "  table, th, td {\n",
       "    border: 1px solid black;\n",
       "    border-collapse: collapse;\n",
       "  }\n",
       "  th, td {\n",
       "    padding: 5px;\n",
       "  }\n",
       "  th {\n",
       "    text-align: left;\n",
       "  }\n",
       "</style><div class='table-result-container'><table class='table-result'><thead style='background-color: white'><tr><th>summary</th><th>2020</th><th>2021</th><th>2022</th><th>2023</th><th>2024</th></tr></thead><tbody><tr><td>count</td><td>23</td><td>23</td><td>23</td><td>23</td><td>23</td></tr><tr><td>mean</td><td>552.1739130434783</td><td>708.9565217391304</td><td>689.0434782608696</td><td>714.6086956521739</td><td>730.5217391304348</td></tr><tr><td>stddev</td><td>1369.43431095318</td><td>1759.7049462974512</td><td>1714.6234274684678</td><td>1777.0637871380172</td><td>1809.9987661865516</td></tr><tr><td>min</td><td>49</td><td>77</td><td>68</td><td>40</td><td>49</td></tr><tr><td>max</td><td>6350</td><td>8153</td><td>7924</td><td>8218</td><td>8401</td></tr></tbody></table></div>"
      ]
     },
     "metadata": {
      "application/vnd.databricks.v1+output": {
       "addedWidgets": {},
       "aggData": [],
       "aggError": "",
       "aggOverflow": false,
       "aggSchema": [],
       "aggSeriesLimitReached": false,
       "aggType": "",
       "arguments": {},
       "columnCustomDisplayInfos": {},
       "data": [
        [
         "count",
         "23",
         "23",
         "23",
         "23",
         "23"
        ],
        [
         "mean",
         "552.1739130434783",
         "708.9565217391304",
         "689.0434782608696",
         "714.6086956521739",
         "730.5217391304348"
        ],
        [
         "stddev",
         "1369.43431095318",
         "1759.7049462974512",
         "1714.6234274684678",
         "1777.0637871380172",
         "1809.9987661865516"
        ],
        [
         "min",
         "49",
         "77",
         "68",
         "40",
         "49"
        ],
        [
         "max",
         "6350",
         "8153",
         "7924",
         "8218",
         "8401"
        ]
       ],
       "datasetInfos": [],
       "dbfsResultPath": null,
       "isJsonSchema": true,
       "metadata": {},
       "overflow": false,
       "plotOptions": {
        "customPlotOptions": {},
        "displayType": "table",
        "pivotAggregation": null,
        "pivotColumns": null,
        "xColumns": null,
        "yColumns": null
       },
       "removedWidgets": [],
       "schema": [
        {
         "metadata": "{}",
         "name": "summary",
         "type": "\"string\""
        },
        {
         "metadata": "{}",
         "name": "2020",
         "type": "\"string\""
        },
        {
         "metadata": "{}",
         "name": "2021",
         "type": "\"string\""
        },
        {
         "metadata": "{}",
         "name": "2022",
         "type": "\"string\""
        },
        {
         "metadata": "{}",
         "name": "2023",
         "type": "\"string\""
        },
        {
         "metadata": "{}",
         "name": "2024",
         "type": "\"string\""
        }
       ],
       "type": "table"
      }
     },
     "output_type": "display_data"
    },
    {
     "output_type": "display_data",
     "data": {
      "text/html": [
       "<h4 style='margin:10px 0'>Cuadro 2 — columnas numéricas</h4>"
      ]
     },
     "metadata": {},
     "output_type": "display_data"
    },
    {
     "output_type": "display_data",
     "data": {
      "text/html": [
       "<p style='margin:6px 0 4px 0'><i>Resumen (describe):</i></p>"
      ]
     },
     "metadata": {},
     "output_type": "display_data"
    },
    {
     "output_type": "display_data",
     "data": {
      "text/html": [
       "<style scoped>\n",
       "  .table-result-container {\n",
       "    max-height: 300px;\n",
       "    overflow: auto;\n",
       "  }\n",
       "  table, th, td {\n",
       "    border: 1px solid black;\n",
       "    border-collapse: collapse;\n",
       "  }\n",
       "  th, td {\n",
       "    padding: 5px;\n",
       "  }\n",
       "  th {\n",
       "    text-align: left;\n",
       "  }\n",
       "</style><div class='table-result-container'><table class='table-result'><thead style='background-color: white'><tr><th>summary</th><th>Total</th><th>Enero</th><th>Febrero</th><th>Marzo</th><th>Abril</th><th>Mayo</th><th>Junio</th><th>Julio</th><th>Agosto</th><th>Septiembre</th><th>Octubre</th><th>Noviembre</th><th>Diciembre</th></tr></thead><tbody><tr><td>count</td><td>23</td><td>23</td><td>23</td><td>23</td><td>23</td><td>23</td><td>23</td><td>23</td><td>23</td><td>23</td><td>23</td><td>23</td><td>23</td></tr><tr><td>mean</td><td>730.5217391304348</td><td>54.43478260869565</td><td>61.82608695652174</td><td>67.82608695652173</td><td>54.78260869565217</td><td>58.608695652173914</td><td>47.73913043478261</td><td>61.130434782608695</td><td>59.73913043478261</td><td>59.65217391304348</td><td>64.95652173913044</td><td>66.78260869565217</td><td>73.04347826086956</td></tr><tr><td>stddev</td><td>1809.9987661865516</td><td>135.630455847349</td><td>153.8717447551437</td><td>166.43525964222218</td><td>135.53327552561976</td><td>144.82206610195675</td><td>119.17413439291424</td><td>153.2648641309387</td><td>148.25844062781488</td><td>146.29161682799938</td><td>160.07625406232023</td><td>167.15261304398098</td><td>180.71335370008936</td></tr><tr><td>min</td><td>49</td><td>2</td><td>2</td><td>1</td><td>3</td><td>3</td><td>3</td><td>5</td><td>4</td><td>4</td><td>5</td><td>4</td><td>2</td></tr><tr><td>max</td><td>8401</td><td>626</td><td>711</td><td>780</td><td>630</td><td>674</td><td>549</td><td>703</td><td>687</td><td>686</td><td>747</td><td>768</td><td>840</td></tr></tbody></table></div>"
      ]
     },
     "metadata": {
      "application/vnd.databricks.v1+output": {
       "addedWidgets": {},
       "aggData": [],
       "aggError": "",
       "aggOverflow": false,
       "aggSchema": [],
       "aggSeriesLimitReached": false,
       "aggType": "",
       "arguments": {},
       "columnCustomDisplayInfos": {},
       "data": [
        [
         "count",
         "23",
         "23",
         "23",
         "23",
         "23",
         "23",
         "23",
         "23",
         "23",
         "23",
         "23",
         "23",
         "23"
        ],
        [
         "mean",
         "730.5217391304348",
         "54.43478260869565",
         "61.82608695652174",
         "67.82608695652173",
         "54.78260869565217",
         "58.608695652173914",
         "47.73913043478261",
         "61.130434782608695",
         "59.73913043478261",
         "59.65217391304348",
         "64.95652173913044",
         "66.78260869565217",
         "73.04347826086956"
        ],
        [
         "stddev",
         "1809.9987661865516",
         "135.630455847349",
         "153.8717447551437",
         "166.43525964222218",
         "135.53327552561976",
         "144.82206610195675",
         "119.17413439291424",
         "153.2648641309387",
         "148.25844062781488",
         "146.29161682799938",
         "160.07625406232023",
         "167.15261304398098",
         "180.71335370008936"
        ],
        [
         "min",
         "49",
         "2",
         "2",
         "1",
         "3",
         "3",
         "3",
         "5",
         "4",
         "4",
         "5",
         "4",
         "2"
        ],
        [
         "max",
         "8401",
         "626",
         "711",
         "780",
         "630",
         "674",
         "549",
         "703",
         "687",
         "686",
         "747",
         "768",
         "840"
        ]
       ],
       "datasetInfos": [],
       "dbfsResultPath": null,
       "isJsonSchema": true,
       "metadata": {},
       "overflow": false,
       "plotOptions": {
        "customPlotOptions": {},
        "displayType": "table",
        "pivotAggregation": null,
        "pivotColumns": null,
        "xColumns": null,
        "yColumns": null
       },
       "removedWidgets": [],
       "schema": [
        {
         "metadata": "{}",
         "name": "summary",
         "type": "\"string\""
        },
        {
         "metadata": "{}",
         "name": "Total",
         "type": "\"string\""
        },
        {
         "metadata": "{}",
         "name": "Enero",
         "type": "\"string\""
        },
        {
         "metadata": "{}",
         "name": "Febrero",
         "type": "\"string\""
        },
        {
         "metadata": "{}",
         "name": "Marzo",
         "type": "\"string\""
        },
        {
         "metadata": "{}",
         "name": "Abril",
         "type": "\"string\""
        },
        {
         "metadata": "{}",
         "name": "Mayo",
         "type": "\"string\""
        },
        {
         "metadata": "{}",
         "name": "Junio",
         "type": "\"string\""
        },
        {
         "metadata": "{}",
         "name": "Julio",
         "type": "\"string\""
        },
        {
         "metadata": "{}",
         "name": "Agosto",
         "type": "\"string\""
        },
        {
         "metadata": "{}",
         "name": "Septiembre",
         "type": "\"string\""
        },
        {
         "metadata": "{}",
         "name": "Octubre",
         "type": "\"string\""
        },
        {
         "metadata": "{}",
         "name": "Noviembre",
         "type": "\"string\""
        },
        {
         "metadata": "{}",
         "name": "Diciembre",
         "type": "\"string\""
        }
       ],
       "type": "table"
      }
     },
     "output_type": "display_data"
    },
    {
     "output_type": "display_data",
     "data": {
      "text/html": [
       "<h4 style='margin:10px 0'>Cuadro 3 — columnas numéricas</h4>"
      ]
     },
     "metadata": {},
     "output_type": "display_data"
    },
    {
     "output_type": "display_data",
     "data": {
      "text/html": [
       "<p style='margin:6px 0 4px 0'><i>Resumen (describe):</i></p>"
      ]
     },
     "metadata": {},
     "output_type": "display_data"
    },
    {
     "output_type": "display_data",
     "data": {
      "text/html": [
       "<style scoped>\n",
       "  .table-result-container {\n",
       "    max-height: 300px;\n",
       "    overflow: auto;\n",
       "  }\n",
       "  table, th, td {\n",
       "    border: 1px solid black;\n",
       "    border-collapse: collapse;\n",
       "  }\n",
       "  th, td {\n",
       "    padding: 5px;\n",
       "  }\n",
       "  th {\n",
       "    text-align: left;\n",
       "  }\n",
       "</style><div class='table-result-container'><table class='table-result'><thead style='background-color: white'><tr><th>summary</th><th>Total</th><th>Lunes</th><th>Martes</th><th>Mircoles</th><th>Jueves</th><th>Viernes</th><th>Sbado</th><th>Domingo</th></tr></thead><tbody><tr><td>count</td><td>23</td><td>23</td><td>23</td><td>23</td><td>23</td><td>23</td><td>23</td><td>23</td></tr><tr><td>mean</td><td>730.5217391304348</td><td>99.21739130434783</td><td>84.34782608695652</td><td>79.1304347826087</td><td>85.30434782608695</td><td>102.78260869565217</td><td>140.43478260869566</td><td>139.30434782608697</td></tr><tr><td>stddev</td><td>1809.9987661865516</td><td>244.82906031495432</td><td>208.18165334753647</td><td>195.47269150070463</td><td>212.35678270791192</td><td>257.59428221381194</td><td>349.57049309727046</td><td>342.6977776385761</td></tr><tr><td>min</td><td>49</td><td>3</td><td>9</td><td>5</td><td>7</td><td>7</td><td>8</td><td>6</td></tr><tr><td>max</td><td>8401</td><td>1141</td><td>970</td><td>910</td><td>981</td><td>1182</td><td>1615</td><td>1602</td></tr></tbody></table></div>"
      ]
     },
     "metadata": {
      "application/vnd.databricks.v1+output": {
       "addedWidgets": {},
       "aggData": [],
       "aggError": "",
       "aggOverflow": false,
       "aggSchema": [],
       "aggSeriesLimitReached": false,
       "aggType": "",
       "arguments": {},
       "columnCustomDisplayInfos": {},
       "data": [
        [
         "count",
         "23",
         "23",
         "23",
         "23",
         "23",
         "23",
         "23",
         "23"
        ],
        [
         "mean",
         "730.5217391304348",
         "99.21739130434783",
         "84.34782608695652",
         "79.1304347826087",
         "85.30434782608695",
         "102.78260869565217",
         "140.43478260869566",
         "139.30434782608697"
        ],
        [
         "stddev",
         "1809.9987661865516",
         "244.82906031495432",
         "208.18165334753647",
         "195.47269150070463",
         "212.35678270791192",
         "257.59428221381194",
         "349.57049309727046",
         "342.6977776385761"
        ],
        [
         "min",
         "49",
         "3",
         "9",
         "5",
         "7",
         "7",
         "8",
         "6"
        ],
        [
         "max",
         "8401",
         "1141",
         "970",
         "910",
         "981",
         "1182",
         "1615",
         "1602"
        ]
       ],
       "datasetInfos": [],
       "dbfsResultPath": null,
       "isJsonSchema": true,
       "metadata": {},
       "overflow": false,
       "plotOptions": {
        "customPlotOptions": {},
        "displayType": "table",
        "pivotAggregation": null,
        "pivotColumns": null,
        "xColumns": null,
        "yColumns": null
       },
       "removedWidgets": [],
       "schema": [
        {
         "metadata": "{}",
         "name": "summary",
         "type": "\"string\""
        },
        {
         "metadata": "{}",
         "name": "Total",
         "type": "\"string\""
        },
        {
         "metadata": "{}",
         "name": "Lunes",
         "type": "\"string\""
        },
        {
         "metadata": "{}",
         "name": "Martes",
         "type": "\"string\""
        },
        {
         "metadata": "{}",
         "name": "Mircoles",
         "type": "\"string\""
        },
        {
         "metadata": "{}",
         "name": "Jueves",
         "type": "\"string\""
        },
        {
         "metadata": "{}",
         "name": "Viernes",
         "type": "\"string\""
        },
        {
         "metadata": "{}",
         "name": "Sbado",
         "type": "\"string\""
        },
        {
         "metadata": "{}",
         "name": "Domingo",
         "type": "\"string\""
        }
       ],
       "type": "table"
      }
     },
     "output_type": "display_data"
    },
    {
     "output_type": "display_data",
     "data": {
      "text/html": [
       "<h4 style='margin:10px 0'>Cuadro 4 — columnas numéricas</h4>"
      ]
     },
     "metadata": {},
     "output_type": "display_data"
    },
    {
     "output_type": "display_data",
     "data": {
      "text/html": [
       "<p style='margin:6px 0 4px 0'><i>Resumen (describe):</i></p>"
      ]
     },
     "metadata": {},
     "output_type": "display_data"
    },
    {
     "output_type": "display_data",
     "data": {
      "text/html": [
       "<style scoped>\n",
       "  .table-result-container {\n",
       "    max-height: 300px;\n",
       "    overflow: auto;\n",
       "  }\n",
       "  table, th, td {\n",
       "    border: 1px solid black;\n",
       "    border-collapse: collapse;\n",
       "  }\n",
       "  th, td {\n",
       "    padding: 5px;\n",
       "  }\n",
       "  th {\n",
       "    text-align: left;\n",
       "  }\n",
       "</style><div class='table-result-container'><table class='table-result'><thead style='background-color: white'><tr><th>summary</th><th>2020</th><th>2021</th><th>2022</th><th>2023</th><th>2024</th></tr></thead><tbody><tr><td>count</td><td>13</td><td>13</td><td>13</td><td>13</td><td>13</td></tr><tr><td>mean</td><td>976.9230769230769</td><td>1254.3076923076924</td><td>1219.076923076923</td><td>1264.3076923076924</td><td>1292.4615384615386</td></tr><tr><td>stddev</td><td>1619.1951427349359</td><td>2073.9072377445505</td><td>2015.358051792057</td><td>2091.5900803222808</td><td>2137.1601724166817</td></tr><tr><td>min</td><td>329</td><td>614</td><td>554</td><td>605</td><td>549</td></tr><tr><td>max</td><td>6350</td><td>8153</td><td>7924</td><td>8218</td><td>8401</td></tr></tbody></table></div>"
      ]
     },
     "metadata": {
      "application/vnd.databricks.v1+output": {
       "addedWidgets": {},
       "aggData": [],
       "aggError": "",
       "aggOverflow": false,
       "aggSchema": [],
       "aggSeriesLimitReached": false,
       "aggType": "",
       "arguments": {},
       "columnCustomDisplayInfos": {},
       "data": [
        [
         "count",
         "13",
         "13",
         "13",
         "13",
         "13"
        ],
        [
         "mean",
         "976.9230769230769",
         "1254.3076923076924",
         "1219.076923076923",
         "1264.3076923076924",
         "1292.4615384615386"
        ],
        [
         "stddev",
         "1619.1951427349359",
         "2073.9072377445505",
         "2015.358051792057",
         "2091.5900803222808",
         "2137.1601724166817"
        ],
        [
         "min",
         "329",
         "614",
         "554",
         "605",
         "549"
        ],
        [
         "max",
         "6350",
         "8153",
         "7924",
         "8218",
         "8401"
        ]
       ],
       "datasetInfos": [],
       "dbfsResultPath": null,
       "isJsonSchema": true,
       "metadata": {},
       "overflow": false,
       "plotOptions": {
        "customPlotOptions": {},
        "displayType": "table",
        "pivotAggregation": null,
        "pivotColumns": null,
        "xColumns": null,
        "yColumns": null
       },
       "removedWidgets": [],
       "schema": [
        {
         "metadata": "{}",
         "name": "summary",
         "type": "\"string\""
        },
        {
         "metadata": "{}",
         "name": "2020",
         "type": "\"string\""
        },
        {
         "metadata": "{}",
         "name": "2021",
         "type": "\"string\""
        },
        {
         "metadata": "{}",
         "name": "2022",
         "type": "\"string\""
        },
        {
         "metadata": "{}",
         "name": "2023",
         "type": "\"string\""
        },
        {
         "metadata": "{}",
         "name": "2024",
         "type": "\"string\""
        }
       ],
       "type": "table"
      }
     },
     "output_type": "display_data"
    },
    {
     "output_type": "display_data",
     "data": {
      "text/html": [
       "<h4 style='margin:10px 0'>Cuadro 5 — columnas numéricas</h4>"
      ]
     },
     "metadata": {},
     "output_type": "display_data"
    },
    {
     "output_type": "display_data",
     "data": {
      "text/html": [
       "<p style='margin:6px 0 4px 0'><i>Resumen (describe):</i></p>"
      ]
     },
     "metadata": {},
     "output_type": "display_data"
    },
    {
     "output_type": "display_data",
     "data": {
      "text/html": [
       "<style scoped>\n",
       "  .table-result-container {\n",
       "    max-height: 300px;\n",
       "    overflow: auto;\n",
       "  }\n",
       "  table, th, td {\n",
       "    border: 1px solid black;\n",
       "    border-collapse: collapse;\n",
       "  }\n",
       "  th, td {\n",
       "    padding: 5px;\n",
       "  }\n",
       "  th {\n",
       "    text-align: left;\n",
       "  }\n",
       "</style><div class='table-result-container'><table class='table-result'><thead style='background-color: white'><tr><th>summary</th><th>Total</th><th>Lunes</th><th>Martes</th><th>Mircoles</th><th>Jueves</th><th>Viernes</th><th>Sbado</th><th>Domingo</th></tr></thead><tbody><tr><td>count</td><td>13</td><td>13</td><td>13</td><td>13</td><td>13</td><td>13</td><td>13</td><td>13</td></tr><tr><td>mean</td><td>1292.4615384615386</td><td>175.53846153846155</td><td>149.23076923076923</td><td>140.0</td><td>150.92307692307693</td><td>181.84615384615384</td><td>248.46153846153845</td><td>246.46153846153845</td></tr><tr><td>stddev</td><td>2137.1601724166817</td><td>290.6503097608922</td><td>247.1727310492785</td><td>231.6559949580412</td><td>249.79406903102586</td><td>301.2136136127333</td><td>411.06682655918115</td><td>407.76026767873776</td></tr><tr><td>min</td><td>549</td><td>57</td><td>58</td><td>50</td><td>64</td><td>66</td><td>100</td><td>100</td></tr><tr><td>max</td><td>8401</td><td>1141</td><td>970</td><td>910</td><td>981</td><td>1182</td><td>1615</td><td>1602</td></tr></tbody></table></div>"
      ]
     },
     "metadata": {
      "application/vnd.databricks.v1+output": {
       "addedWidgets": {},
       "aggData": [],
       "aggError": "",
       "aggOverflow": false,
       "aggSchema": [],
       "aggSeriesLimitReached": false,
       "aggType": "",
       "arguments": {},
       "columnCustomDisplayInfos": {},
       "data": [
        [
         "count",
         "13",
         "13",
         "13",
         "13",
         "13",
         "13",
         "13",
         "13"
        ],
        [
         "mean",
         "1292.4615384615386",
         "175.53846153846155",
         "149.23076923076923",
         "140.0",
         "150.92307692307693",
         "181.84615384615384",
         "248.46153846153845",
         "246.46153846153845"
        ],
        [
         "stddev",
         "2137.1601724166817",
         "290.6503097608922",
         "247.1727310492785",
         "231.6559949580412",
         "249.79406903102586",
         "301.2136136127333",
         "411.06682655918115",
         "407.76026767873776"
        ],
        [
         "min",
         "549",
         "57",
         "58",
         "50",
         "64",
         "66",
         "100",
         "100"
        ],
        [
         "max",
         "8401",
         "1141",
         "970",
         "910",
         "981",
         "1182",
         "1615",
         "1602"
        ]
       ],
       "datasetInfos": [],
       "dbfsResultPath": null,
       "isJsonSchema": true,
       "metadata": {},
       "overflow": false,
       "plotOptions": {
        "customPlotOptions": {},
        "displayType": "table",
        "pivotAggregation": null,
        "pivotColumns": null,
        "xColumns": null,
        "yColumns": null
       },
       "removedWidgets": [],
       "schema": [
        {
         "metadata": "{}",
         "name": "summary",
         "type": "\"string\""
        },
        {
         "metadata": "{}",
         "name": "Total",
         "type": "\"string\""
        },
        {
         "metadata": "{}",
         "name": "Lunes",
         "type": "\"string\""
        },
        {
         "metadata": "{}",
         "name": "Martes",
         "type": "\"string\""
        },
        {
         "metadata": "{}",
         "name": "Mircoles",
         "type": "\"string\""
        },
        {
         "metadata": "{}",
         "name": "Jueves",
         "type": "\"string\""
        },
        {
         "metadata": "{}",
         "name": "Viernes",
         "type": "\"string\""
        },
        {
         "metadata": "{}",
         "name": "Sbado",
         "type": "\"string\""
        },
        {
         "metadata": "{}",
         "name": "Domingo",
         "type": "\"string\""
        }
       ],
       "type": "table"
      }
     },
     "output_type": "display_data"
    },
    {
     "output_type": "display_data",
     "data": {
      "text/html": [
       "<h4 style='margin:10px 0'>Cuadro 6 — columnas numéricas</h4>"
      ]
     },
     "metadata": {},
     "output_type": "display_data"
    },
    {
     "output_type": "display_data",
     "data": {
      "text/html": [
       "<p style='margin:6px 0 4px 0'><i>Resumen (describe):</i></p>"
      ]
     },
     "metadata": {},
     "output_type": "display_data"
    },
    {
     "output_type": "display_data",
     "data": {
      "text/html": [
       "<style scoped>\n",
       "  .table-result-container {\n",
       "    max-height: 300px;\n",
       "    overflow: auto;\n",
       "  }\n",
       "  table, th, td {\n",
       "    border: 1px solid black;\n",
       "    border-collapse: collapse;\n",
       "  }\n",
       "  th, td {\n",
       "    padding: 5px;\n",
       "  }\n",
       "  th {\n",
       "    text-align: left;\n",
       "  }\n",
       "</style><div class='table-result-container'><table class='table-result'><thead style='background-color: white'><tr><th>summary</th><th>2020</th><th>2021</th><th>2022</th><th>2023</th><th>2024</th></tr></thead><tbody><tr><td>count</td><td>8</td><td>8</td><td>8</td><td>8</td><td>8</td></tr><tr><td>mean</td><td>1587.5</td><td>2038.25</td><td>1981.0</td><td>2054.5</td><td>2100.25</td></tr><tr><td>stddev</td><td>1929.5816719101135</td><td>2485.5717221022383</td><td>2416.5445814811105</td><td>2505.5380374567967</td><td>2560.5076366109233</td></tr><tr><td>min</td><td>783</td><td>899</td><td>840</td><td>924</td><td>910</td></tr><tr><td>max</td><td>6350</td><td>8153</td><td>7924</td><td>8218</td><td>8401</td></tr></tbody></table></div>"
      ]
     },
     "metadata": {
      "application/vnd.databricks.v1+output": {
       "addedWidgets": {},
       "aggData": [],
       "aggError": "",
       "aggOverflow": false,
       "aggSchema": [],
       "aggSeriesLimitReached": false,
       "aggType": "",
       "arguments": {},
       "columnCustomDisplayInfos": {},
       "data": [
        [
         "count",
         "8",
         "8",
         "8",
         "8",
         "8"
        ],
        [
         "mean",
         "1587.5",
         "2038.25",
         "1981.0",
         "2054.5",
         "2100.25"
        ],
        [
         "stddev",
         "1929.5816719101135",
         "2485.5717221022383",
         "2416.5445814811105",
         "2505.5380374567967",
         "2560.5076366109233"
        ],
        [
         "min",
         "783",
         "899",
         "840",
         "924",
         "910"
        ],
        [
         "max",
         "6350",
         "8153",
         "7924",
         "8218",
         "8401"
        ]
       ],
       "datasetInfos": [],
       "dbfsResultPath": null,
       "isJsonSchema": true,
       "metadata": {},
       "overflow": false,
       "plotOptions": {
        "customPlotOptions": {},
        "displayType": "table",
        "pivotAggregation": null,
        "pivotColumns": null,
        "xColumns": null,
        "yColumns": null
       },
       "removedWidgets": [],
       "schema": [
        {
         "metadata": "{}",
         "name": "summary",
         "type": "\"string\""
        },
        {
         "metadata": "{}",
         "name": "2020",
         "type": "\"string\""
        },
        {
         "metadata": "{}",
         "name": "2021",
         "type": "\"string\""
        },
        {
         "metadata": "{}",
         "name": "2022",
         "type": "\"string\""
        },
        {
         "metadata": "{}",
         "name": "2023",
         "type": "\"string\""
        },
        {
         "metadata": "{}",
         "name": "2024",
         "type": "\"string\""
        }
       ],
       "type": "table"
      }
     },
     "output_type": "display_data"
    },
    {
     "output_type": "display_data",
     "data": {
      "text/html": [
       "<h4 style='margin:10px 0'>Cuadro 7 — columnas numéricas</h4>"
      ]
     },
     "metadata": {},
     "output_type": "display_data"
    },
    {
     "output_type": "display_data",
     "data": {
      "text/html": [
       "<p style='margin:6px 0 4px 0'><i>Resumen (describe):</i></p>"
      ]
     },
     "metadata": {},
     "output_type": "display_data"
    },
    {
     "output_type": "display_data",
     "data": {
      "text/html": [
       "<style scoped>\n",
       "  .table-result-container {\n",
       "    max-height: 300px;\n",
       "    overflow: auto;\n",
       "  }\n",
       "  table, th, td {\n",
       "    border: 1px solid black;\n",
       "    border-collapse: collapse;\n",
       "  }\n",
       "  th, td {\n",
       "    padding: 5px;\n",
       "  }\n",
       "  th {\n",
       "    text-align: left;\n",
       "  }\n",
       "</style><div class='table-result-container'><table class='table-result'><thead style='background-color: white'><tr><th>summary</th><th>Total</th><th>Lunes</th><th>Martes</th><th>Mircoles</th><th>Jueves</th><th>Viernes</th><th>Sbado</th><th>Domingo</th></tr></thead><tbody><tr><td>count</td><td>26</td><td>26</td><td>26</td><td>26</td><td>26</td><td>26</td><td>26</td><td>26</td></tr><tr><td>mean</td><td>646.2307692307693</td><td>87.76923076923077</td><td>74.61538461538461</td><td>70.0</td><td>75.46153846153847</td><td>90.92307692307692</td><td>124.23076923076923</td><td>123.23076923076923</td></tr><tr><td>stddev</td><td>1588.844065544314</td><td>215.86464419951824</td><td>183.7067395438887</td><td>172.12878899242858</td><td>185.60134283333855</td><td>223.59766064553057</td><td>306.087740060566</td><td>303.19595085585263</td></tr><tr><td>min</td><td>2</td><td>0</td><td>0</td><td>0</td><td>0</td><td>1</td><td>0</td><td>1</td></tr><tr><td>max</td><td>8401</td><td>1141</td><td>970</td><td>910</td><td>981</td><td>1182</td><td>1615</td><td>1602</td></tr></tbody></table></div>"
      ]
     },
     "metadata": {
      "application/vnd.databricks.v1+output": {
       "addedWidgets": {},
       "aggData": [],
       "aggError": "",
       "aggOverflow": false,
       "aggSchema": [],
       "aggSeriesLimitReached": false,
       "aggType": "",
       "arguments": {},
       "columnCustomDisplayInfos": {},
       "data": [
        [
         "count",
         "26",
         "26",
         "26",
         "26",
         "26",
         "26",
         "26",
         "26"
        ],
        [
         "mean",
         "646.2307692307693",
         "87.76923076923077",
         "74.61538461538461",
         "70.0",
         "75.46153846153847",
         "90.92307692307692",
         "124.23076923076923",
         "123.23076923076923"
        ],
        [
         "stddev",
         "1588.844065544314",
         "215.86464419951824",
         "183.7067395438887",
         "172.12878899242858",
         "185.60134283333855",
         "223.59766064553057",
         "306.087740060566",
         "303.19595085585263"
        ],
        [
         "min",
         "2",
         "0",
         "0",
         "0",
         "0",
         "1",
         "0",
         "1"
        ],
        [
         "max",
         "8401",
         "1141",
         "970",
         "910",
         "981",
         "1182",
         "1615",
         "1602"
        ]
       ],
       "datasetInfos": [],
       "dbfsResultPath": null,
       "isJsonSchema": true,
       "metadata": {},
       "overflow": false,
       "plotOptions": {
        "customPlotOptions": {},
        "displayType": "table",
        "pivotAggregation": null,
        "pivotColumns": null,
        "xColumns": null,
        "yColumns": null
       },
       "removedWidgets": [],
       "schema": [
        {
         "metadata": "{}",
         "name": "summary",
         "type": "\"string\""
        },
        {
         "metadata": "{}",
         "name": "Total",
         "type": "\"string\""
        },
        {
         "metadata": "{}",
         "name": "Lunes",
         "type": "\"string\""
        },
        {
         "metadata": "{}",
         "name": "Martes",
         "type": "\"string\""
        },
        {
         "metadata": "{}",
         "name": "Mircoles",
         "type": "\"string\""
        },
        {
         "metadata": "{}",
         "name": "Jueves",
         "type": "\"string\""
        },
        {
         "metadata": "{}",
         "name": "Viernes",
         "type": "\"string\""
        },
        {
         "metadata": "{}",
         "name": "Sbado",
         "type": "\"string\""
        },
        {
         "metadata": "{}",
         "name": "Domingo",
         "type": "\"string\""
        }
       ],
       "type": "table"
      }
     },
     "output_type": "display_data"
    },
    {
     "output_type": "display_data",
     "data": {
      "text/html": [
       "<h4 style='margin:10px 0'>Cuadro 8 — columnas numéricas</h4>"
      ]
     },
     "metadata": {},
     "output_type": "display_data"
    },
    {
     "output_type": "display_data",
     "data": {
      "text/html": [
       "<p style='margin:6px 0 4px 0'><i>Resumen (describe):</i></p>"
      ]
     },
     "metadata": {},
     "output_type": "display_data"
    },
    {
     "output_type": "display_data",
     "data": {
      "text/html": [
       "<style scoped>\n",
       "  .table-result-container {\n",
       "    max-height: 300px;\n",
       "    overflow: auto;\n",
       "  }\n",
       "  table, th, td {\n",
       "    border: 1px solid black;\n",
       "    border-collapse: collapse;\n",
       "  }\n",
       "  th, td {\n",
       "    padding: 5px;\n",
       "  }\n",
       "  th {\n",
       "    text-align: left;\n",
       "  }\n",
       "</style><div class='table-result-container'><table class='table-result'><thead style='background-color: white'><tr><th>summary</th><th>Total</th><th>Colisin</th><th>Atropello</th><th>Derrape</th><th>Choque</th><th>Vuelco</th><th>Embarranc</th><th>Encunet</th><th>Cada</th><th>Ignorado</th></tr></thead><tbody><tr><td>count</td><td>23</td><td>23</td><td>23</td><td>23</td><td>23</td><td>23</td><td>23</td><td>23</td><td>23</td><td>23</td></tr><tr><td>mean</td><td>730.5217391304348</td><td>392.4347826086956</td><td>180.2608695652174</td><td>103.65217391304348</td><td>34.869565217391305</td><td>12.434782608695652</td><td>6.3478260869565215</td><td>0.2608695652173913</td><td>0.08695652173913043</td><td>0.17391304347826086</td></tr><tr><td>stddev</td><td>1809.9987661865516</td><td>972.6711032506382</td><td>447.1424643211708</td><td>263.24661936802846</td><td>85.05736264845899</td><td>29.15136997709544</td><td>14.680254814645586</td><td>0.6887004431501818</td><td>0.28810406552003054</td><td>0.49102619010353127</td></tr><tr><td>min</td><td>49</td><td>28</td><td>9</td><td>2</td><td>3</td><td>0</td><td>0</td><td>0</td><td>0</td><td>0</td></tr><tr><td>max</td><td>8401</td><td>4513</td><td>2073</td><td>1192</td><td>401</td><td>143</td><td>73</td><td>3</td><td>1</td><td>2</td></tr></tbody></table></div>"
      ]
     },
     "metadata": {
      "application/vnd.databricks.v1+output": {
       "addedWidgets": {},
       "aggData": [],
       "aggError": "",
       "aggOverflow": false,
       "aggSchema": [],
       "aggSeriesLimitReached": false,
       "aggType": "",
       "arguments": {},
       "columnCustomDisplayInfos": {},
       "data": [
        [
         "count",
         "23",
         "23",
         "23",
         "23",
         "23",
         "23",
         "23",
         "23",
         "23",
         "23"
        ],
        [
         "mean",
         "730.5217391304348",
         "392.4347826086956",
         "180.2608695652174",
         "103.65217391304348",
         "34.869565217391305",
         "12.434782608695652",
         "6.3478260869565215",
         "0.2608695652173913",
         "0.08695652173913043",
         "0.17391304347826086"
        ],
        [
         "stddev",
         "1809.9987661865516",
         "972.6711032506382",
         "447.1424643211708",
         "263.24661936802846",
         "85.05736264845899",
         "29.15136997709544",
         "14.680254814645586",
         "0.6887004431501818",
         "0.28810406552003054",
         "0.49102619010353127"
        ],
        [
         "min",
         "49",
         "28",
         "9",
         "2",
         "3",
         "0",
         "0",
         "0",
         "0",
         "0"
        ],
        [
         "max",
         "8401",
         "4513",
         "2073",
         "1192",
         "401",
         "143",
         "73",
         "3",
         "1",
         "2"
        ]
       ],
       "datasetInfos": [],
       "dbfsResultPath": null,
       "isJsonSchema": true,
       "metadata": {},
       "overflow": false,
       "plotOptions": {
        "customPlotOptions": {},
        "displayType": "table",
        "pivotAggregation": null,
        "pivotColumns": null,
        "xColumns": null,
        "yColumns": null
       },
       "removedWidgets": [],
       "schema": [
        {
         "metadata": "{}",
         "name": "summary",
         "type": "\"string\""
        },
        {
         "metadata": "{}",
         "name": "Total",
         "type": "\"string\""
        },
        {
         "metadata": "{}",
         "name": "Colisin",
         "type": "\"string\""
        },
        {
         "metadata": "{}",
         "name": "Atropello",
         "type": "\"string\""
        },
        {
         "metadata": "{}",
         "name": "Derrape",
         "type": "\"string\""
        },
        {
         "metadata": "{}",
         "name": "Choque",
         "type": "\"string\""
        },
        {
         "metadata": "{}",
         "name": "Vuelco",
         "type": "\"string\""
        },
        {
         "metadata": "{}",
         "name": "Embarranc",
         "type": "\"string\""
        },
        {
         "metadata": "{}",
         "name": "Encunet",
         "type": "\"string\""
        },
        {
         "metadata": "{}",
         "name": "Cada",
         "type": "\"string\""
        },
        {
         "metadata": "{}",
         "name": "Ignorado",
         "type": "\"string\""
        }
       ],
       "type": "table"
      }
     },
     "output_type": "display_data"
    },
    {
     "output_type": "display_data",
     "data": {
      "text/html": [
       "<h4 style='margin:10px 0'>Cuadro 9 — columnas numéricas</h4>"
      ]
     },
     "metadata": {},
     "output_type": "display_data"
    },
    {
     "output_type": "display_data",
     "data": {
      "text/html": [
       "<p style='margin:6px 0 4px 0'><i>Resumen (describe):</i></p>"
      ]
     },
     "metadata": {},
     "output_type": "display_data"
    },
    {
     "output_type": "display_data",
     "data": {
      "text/html": [
       "<style scoped>\n",
       "  .table-result-container {\n",
       "    max-height: 300px;\n",
       "    overflow: auto;\n",
       "  }\n",
       "  table, th, td {\n",
       "    border: 1px solid black;\n",
       "    border-collapse: collapse;\n",
       "  }\n",
       "  th, td {\n",
       "    padding: 5px;\n",
       "  }\n",
       "  th {\n",
       "    text-align: left;\n",
       "  }\n",
       "</style><div class='table-result-container'><table class='table-result'><thead style='background-color: white'><tr><th>summary</th><th>Total</th><th>Colisin</th><th>Atropello</th><th>Derrape</th><th>Choque</th><th>Vuelco</th><th>Embarranc</th><th>Encunet</th><th>Cada</th><th>Ignorado</th></tr></thead><tbody><tr><td>count</td><td>13</td><td>13</td><td>13</td><td>13</td><td>13</td><td>13</td><td>13</td><td>13</td><td>13</td><td>13</td></tr><tr><td>mean</td><td>1292.4615384615386</td><td>694.3076923076923</td><td>318.9230769230769</td><td>183.3846153846154</td><td>61.69230769230769</td><td>22.0</td><td>11.23076923076923</td><td>0.46153846153846156</td><td>0.15384615384615385</td><td>0.3076923076923077</td></tr><tr><td>stddev</td><td>2137.1601724166817</td><td>1148.3775065003222</td><td>527.5969834287123</td><td>303.2915369908241</td><td>102.04768870107137</td><td>36.51711927302043</td><td>18.996288436401848</td><td>1.1266014242982163</td><td>0.3755338080994053</td><td>0.630425171956115</td></tr><tr><td>min</td><td>549</td><td>289</td><td>134</td><td>76</td><td>25</td><td>6</td><td>0</td><td>0</td><td>0</td><td>0</td></tr><tr><td>max</td><td>8401</td><td>4513</td><td>2073</td><td>1192</td><td>401</td><td>143</td><td>73</td><td>3</td><td>1</td><td>2</td></tr></tbody></table></div>"
      ]
     },
     "metadata": {
      "application/vnd.databricks.v1+output": {
       "addedWidgets": {},
       "aggData": [],
       "aggError": "",
       "aggOverflow": false,
       "aggSchema": [],
       "aggSeriesLimitReached": false,
       "aggType": "",
       "arguments": {},
       "columnCustomDisplayInfos": {},
       "data": [
        [
         "count",
         "13",
         "13",
         "13",
         "13",
         "13",
         "13",
         "13",
         "13",
         "13",
         "13"
        ],
        [
         "mean",
         "1292.4615384615386",
         "694.3076923076923",
         "318.9230769230769",
         "183.3846153846154",
         "61.69230769230769",
         "22.0",
         "11.23076923076923",
         "0.46153846153846156",
         "0.15384615384615385",
         "0.3076923076923077"
        ],
        [
         "stddev",
         "2137.1601724166817",
         "1148.3775065003222",
         "527.5969834287123",
         "303.2915369908241",
         "102.04768870107137",
         "36.51711927302043",
         "18.996288436401848",
         "1.1266014242982163",
         "0.3755338080994053",
         "0.630425171956115"
        ],
        [
         "min",
         "549",
         "289",
         "134",
         "76",
         "25",
         "6",
         "0",
         "0",
         "0",
         "0"
        ],
        [
         "max",
         "8401",
         "4513",
         "2073",
         "1192",
         "401",
         "143",
         "73",
         "3",
         "1",
         "2"
        ]
       ],
       "datasetInfos": [],
       "dbfsResultPath": null,
       "isJsonSchema": true,
       "metadata": {},
       "overflow": false,
       "plotOptions": {
        "customPlotOptions": {},
        "displayType": "table",
        "pivotAggregation": null,
        "pivotColumns": null,
        "xColumns": null,
        "yColumns": null
       },
       "removedWidgets": [],
       "schema": [
        {
         "metadata": "{}",
         "name": "summary",
         "type": "\"string\""
        },
        {
         "metadata": "{}",
         "name": "Total",
         "type": "\"string\""
        },
        {
         "metadata": "{}",
         "name": "Colisin",
         "type": "\"string\""
        },
        {
         "metadata": "{}",
         "name": "Atropello",
         "type": "\"string\""
        },
        {
         "metadata": "{}",
         "name": "Derrape",
         "type": "\"string\""
        },
        {
         "metadata": "{}",
         "name": "Choque",
         "type": "\"string\""
        },
        {
         "metadata": "{}",
         "name": "Vuelco",
         "type": "\"string\""
        },
        {
         "metadata": "{}",
         "name": "Embarranc",
         "type": "\"string\""
        },
        {
         "metadata": "{}",
         "name": "Encunet",
         "type": "\"string\""
        },
        {
         "metadata": "{}",
         "name": "Cada",
         "type": "\"string\""
        },
        {
         "metadata": "{}",
         "name": "Ignorado",
         "type": "\"string\""
        }
       ],
       "type": "table"
      }
     },
     "output_type": "display_data"
    },
    {
     "output_type": "display_data",
     "data": {
      "text/html": [
       "<h4 style='margin:10px 0'>Cuadro 10 — columnas numéricas</h4>"
      ]
     },
     "metadata": {},
     "output_type": "display_data"
    },
    {
     "output_type": "display_data",
     "data": {
      "text/html": [
       "<p style='margin:6px 0 4px 0'><i>Resumen (describe):</i></p>"
      ]
     },
     "metadata": {},
     "output_type": "display_data"
    },
    {
     "output_type": "display_data",
     "data": {
      "text/html": [
       "<style scoped>\n",
       "  .table-result-container {\n",
       "    max-height: 300px;\n",
       "    overflow: auto;\n",
       "  }\n",
       "  table, th, td {\n",
       "    border: 1px solid black;\n",
       "    border-collapse: collapse;\n",
       "  }\n",
       "  th, td {\n",
       "    padding: 5px;\n",
       "  }\n",
       "  th {\n",
       "    text-align: left;\n",
       "  }\n",
       "</style><div class='table-result-container'><table class='table-result'><thead style='background-color: white'><tr><th>summary</th><th>Total</th><th>Colisin</th><th>Atropello</th><th>Derrape</th><th>Choque</th><th>Vuelco</th><th>Embarranc</th><th>Encunet</th><th>Cada</th><th>Ignorado</th></tr></thead><tbody><tr><td>count</td><td>32</td><td>32</td><td>32</td><td>32</td><td>32</td><td>32</td><td>32</td><td>32</td><td>32</td><td>32</td></tr><tr><td>mean</td><td>525.0625</td><td>282.0625</td><td>129.5625</td><td>74.5</td><td>25.0625</td><td>8.9375</td><td>4.5625</td><td>0.1875</td><td>0.0625</td><td>0.125</td></tr><tr><td>stddev</td><td>1437.5396754693024</td><td>772.3624394694668</td><td>354.75342981815123</td><td>204.09627709142723</td><td>68.67921576007807</td><td>24.535606121348124</td><td>12.577341377613644</td><td>0.5922891621605981</td><td>0.24593468841898236</td><td>0.421211769587116</td></tr><tr><td>min</td><td>163</td><td>76</td><td>46</td><td>21</td><td>6</td><td>2</td><td>0</td><td>0</td><td>0</td><td>0</td></tr><tr><td>max</td><td>8401</td><td>4513</td><td>2073</td><td>1192</td><td>401</td><td>143</td><td>73</td><td>3</td><td>1</td><td>2</td></tr></tbody></table></div>"
      ]
     },
     "metadata": {
      "application/vnd.databricks.v1+output": {
       "addedWidgets": {},
       "aggData": [],
       "aggError": "",
       "aggOverflow": false,
       "aggSchema": [],
       "aggSeriesLimitReached": false,
       "aggType": "",
       "arguments": {},
       "columnCustomDisplayInfos": {},
       "data": [
        [
         "count",
         "32",
         "32",
         "32",
         "32",
         "32",
         "32",
         "32",
         "32",
         "32",
         "32"
        ],
        [
         "mean",
         "525.0625",
         "282.0625",
         "129.5625",
         "74.5",
         "25.0625",
         "8.9375",
         "4.5625",
         "0.1875",
         "0.0625",
         "0.125"
        ],
        [
         "stddev",
         "1437.5396754693024",
         "772.3624394694668",
         "354.75342981815123",
         "204.09627709142723",
         "68.67921576007807",
         "24.535606121348124",
         "12.577341377613644",
         "0.5922891621605981",
         "0.24593468841898236",
         "0.421211769587116"
        ],
        [
         "min",
         "163",
         "76",
         "46",
         "21",
         "6",
         "2",
         "0",
         "0",
         "0",
         "0"
        ],
        [
         "max",
         "8401",
         "4513",
         "2073",
         "1192",
         "401",
         "143",
         "73",
         "3",
         "1",
         "2"
        ]
       ],
       "datasetInfos": [],
       "dbfsResultPath": null,
       "isJsonSchema": true,
       "metadata": {},
       "overflow": false,
       "plotOptions": {
        "customPlotOptions": {},
        "displayType": "table",
        "pivotAggregation": null,
        "pivotColumns": null,
        "xColumns": null,
        "yColumns": null
       },
       "removedWidgets": [],
       "schema": [
        {
         "metadata": "{}",
         "name": "summary",
         "type": "\"string\""
        },
        {
         "metadata": "{}",
         "name": "Total",
         "type": "\"string\""
        },
        {
         "metadata": "{}",
         "name": "Colisin",
         "type": "\"string\""
        },
        {
         "metadata": "{}",
         "name": "Atropello",
         "type": "\"string\""
        },
        {
         "metadata": "{}",
         "name": "Derrape",
         "type": "\"string\""
        },
        {
         "metadata": "{}",
         "name": "Choque",
         "type": "\"string\""
        },
        {
         "metadata": "{}",
         "name": "Vuelco",
         "type": "\"string\""
        },
        {
         "metadata": "{}",
         "name": "Embarranc",
         "type": "\"string\""
        },
        {
         "metadata": "{}",
         "name": "Encunet",
         "type": "\"string\""
        },
        {
         "metadata": "{}",
         "name": "Cada",
         "type": "\"string\""
        },
        {
         "metadata": "{}",
         "name": "Ignorado",
         "type": "\"string\""
        }
       ],
       "type": "table"
      }
     },
     "output_type": "display_data"
    },
    {
     "output_type": "display_data",
     "data": {
      "text/html": [
       "<h4 style='margin:10px 0'>Cuadro 11 — columnas numéricas</h4>"
      ]
     },
     "metadata": {},
     "output_type": "display_data"
    },
    {
     "output_type": "display_data",
     "data": {
      "text/html": [
       "<p style='margin:6px 0 4px 0'><i>Resumen (describe):</i></p>"
      ]
     },
     "metadata": {},
     "output_type": "display_data"
    },
    {
     "output_type": "display_data",
     "data": {
      "text/html": [
       "<style scoped>\n",
       "  .table-result-container {\n",
       "    max-height: 300px;\n",
       "    overflow: auto;\n",
       "  }\n",
       "  table, th, td {\n",
       "    border: 1px solid black;\n",
       "    border-collapse: collapse;\n",
       "  }\n",
       "  th, td {\n",
       "    padding: 5px;\n",
       "  }\n",
       "  th {\n",
       "    text-align: left;\n",
       "  }\n",
       "</style><div class='table-result-container'><table class='table-result'><thead style='background-color: white'><tr><th>summary</th><th>Total</th><th>Enero</th><th>Febrero</th><th>Marzo</th><th>Abril</th><th>Mayo</th><th>Junio</th><th>Julio</th><th>Agosto</th><th>Septiembre</th><th>Octubre</th><th>Noviembre</th><th>Diciembre</th></tr></thead><tbody><tr><td>count</td><td>23</td><td>23</td><td>23</td><td>23</td><td>23</td><td>23</td><td>23</td><td>23</td><td>23</td><td>23</td><td>23</td><td>23</td><td>23</td></tr><tr><td>mean</td><td>180.2608695652174</td><td>14.521739130434783</td><td>17.652173913043477</td><td>17.82608695652174</td><td>13.478260869565217</td><td>11.652173913043478</td><td>12.173913043478262</td><td>16.26086956521739</td><td>13.043478260869565</td><td>14.434782608695652</td><td>15.130434782608695</td><td>15.826086956521738</td><td>18.26086956521739</td></tr><tr><td>stddev</td><td>447.1424643211708</td><td>35.54493898921527</td><td>44.26224401292019</td><td>44.968324380929054</td><td>33.74620458822995</td><td>29.596696215582412</td><td>30.23792347054071</td><td>41.77234556204549</td><td>31.932426182443965</td><td>34.62372555837258</td><td>37.04702705263589</td><td>39.536694318423464</td><td>45.13234819677503</td></tr><tr><td>min</td><td>9</td><td>0</td><td>0</td><td>0</td><td>0</td><td>0</td><td>0</td><td>0</td><td>1</td><td>1</td><td>0</td><td>0</td><td>0</td></tr><tr><td>max</td><td>2073</td><td>167</td><td>203</td><td>205</td><td>155</td><td>134</td><td>140</td><td>187</td><td>150</td><td>166</td><td>174</td><td>182</td><td>210</td></tr></tbody></table></div>"
      ]
     },
     "metadata": {
      "application/vnd.databricks.v1+output": {
       "addedWidgets": {},
       "aggData": [],
       "aggError": "",
       "aggOverflow": false,
       "aggSchema": [],
       "aggSeriesLimitReached": false,
       "aggType": "",
       "arguments": {},
       "columnCustomDisplayInfos": {},
       "data": [
        [
         "count",
         "23",
         "23",
         "23",
         "23",
         "23",
         "23",
         "23",
         "23",
         "23",
         "23",
         "23",
         "23",
         "23"
        ],
        [
         "mean",
         "180.2608695652174",
         "14.521739130434783",
         "17.652173913043477",
         "17.82608695652174",
         "13.478260869565217",
         "11.652173913043478",
         "12.173913043478262",
         "16.26086956521739",
         "13.043478260869565",
         "14.434782608695652",
         "15.130434782608695",
         "15.826086956521738",
         "18.26086956521739"
        ],
        [
         "stddev",
         "447.1424643211708",
         "35.54493898921527",
         "44.26224401292019",
         "44.968324380929054",
         "33.74620458822995",
         "29.596696215582412",
         "30.23792347054071",
         "41.77234556204549",
         "31.932426182443965",
         "34.62372555837258",
         "37.04702705263589",
         "39.536694318423464",
         "45.13234819677503"
        ],
        [
         "min",
         "9",
         "0",
         "0",
         "0",
         "0",
         "0",
         "0",
         "0",
         "1",
         "1",
         "0",
         "0",
         "0"
        ],
        [
         "max",
         "2073",
         "167",
         "203",
         "205",
         "155",
         "134",
         "140",
         "187",
         "150",
         "166",
         "174",
         "182",
         "210"
        ]
       ],
       "datasetInfos": [],
       "dbfsResultPath": null,
       "isJsonSchema": true,
       "metadata": {},
       "overflow": false,
       "plotOptions": {
        "customPlotOptions": {},
        "displayType": "table",
        "pivotAggregation": null,
        "pivotColumns": null,
        "xColumns": null,
        "yColumns": null
       },
       "removedWidgets": [],
       "schema": [
        {
         "metadata": "{}",
         "name": "summary",
         "type": "\"string\""
        },
        {
         "metadata": "{}",
         "name": "Total",
         "type": "\"string\""
        },
        {
         "metadata": "{}",
         "name": "Enero",
         "type": "\"string\""
        },
        {
         "metadata": "{}",
         "name": "Febrero",
         "type": "\"string\""
        },
        {
         "metadata": "{}",
         "name": "Marzo",
         "type": "\"string\""
        },
        {
         "metadata": "{}",
         "name": "Abril",
         "type": "\"string\""
        },
        {
         "metadata": "{}",
         "name": "Mayo",
         "type": "\"string\""
        },
        {
         "metadata": "{}",
         "name": "Junio",
         "type": "\"string\""
        },
        {
         "metadata": "{}",
         "name": "Julio",
         "type": "\"string\""
        },
        {
         "metadata": "{}",
         "name": "Agosto",
         "type": "\"string\""
        },
        {
         "metadata": "{}",
         "name": "Septiembre",
         "type": "\"string\""
        },
        {
         "metadata": "{}",
         "name": "Octubre",
         "type": "\"string\""
        },
        {
         "metadata": "{}",
         "name": "Noviembre",
         "type": "\"string\""
        },
        {
         "metadata": "{}",
         "name": "Diciembre",
         "type": "\"string\""
        }
       ],
       "type": "table"
      }
     },
     "output_type": "display_data"
    },
    {
     "output_type": "display_data",
     "data": {
      "text/html": [
       "<h4 style='margin:10px 0'>Cuadro 12 — columnas numéricas</h4>"
      ]
     },
     "metadata": {},
     "output_type": "display_data"
    },
    {
     "output_type": "display_data",
     "data": {
      "text/html": [
       "<p style='margin:6px 0 4px 0'><i>Resumen (describe):</i></p>"
      ]
     },
     "metadata": {},
     "output_type": "display_data"
    },
    {
     "output_type": "display_data",
     "data": {
      "text/html": [
       "<style scoped>\n",
       "  .table-result-container {\n",
       "    max-height: 300px;\n",
       "    overflow: auto;\n",
       "  }\n",
       "  table, th, td {\n",
       "    border: 1px solid black;\n",
       "    border-collapse: collapse;\n",
       "  }\n",
       "  th, td {\n",
       "    padding: 5px;\n",
       "  }\n",
       "  th {\n",
       "    text-align: left;\n",
       "  }\n",
       "</style><div class='table-result-container'><table class='table-result'><thead style='background-color: white'><tr><th>summary</th><th>Total</th><th>Lunes</th><th>Martes</th><th>Mircoles</th><th>Jueves</th><th>Viernes</th><th>Sbado</th><th>Domingo</th></tr></thead><tbody><tr><td>count</td><td>23</td><td>23</td><td>23</td><td>23</td><td>23</td><td>23</td><td>23</td><td>23</td></tr><tr><td>mean</td><td>180.2608695652174</td><td>23.652173913043477</td><td>22.434782608695652</td><td>19.82608695652174</td><td>20.956521739130434</td><td>25.652173913043477</td><td>32.78260869565217</td><td>34.95652173913044</td></tr><tr><td>stddev</td><td>447.1424643211708</td><td>58.98043488823003</td><td>55.513164767022545</td><td>49.85492788072304</td><td>53.02441826938156</td><td>64.4801651642173</td><td>80.3412927463711</td><td>85.58753002886979</td></tr><tr><td>min</td><td>9</td><td>0</td><td>1</td><td>0</td><td>0</td><td>1</td><td>2</td><td>1</td></tr><tr><td>max</td><td>2073</td><td>272</td><td>258</td><td>228</td><td>241</td><td>295</td><td>377</td><td>402</td></tr></tbody></table></div>"
      ]
     },
     "metadata": {
      "application/vnd.databricks.v1+output": {
       "addedWidgets": {},
       "aggData": [],
       "aggError": "",
       "aggOverflow": false,
       "aggSchema": [],
       "aggSeriesLimitReached": false,
       "aggType": "",
       "arguments": {},
       "columnCustomDisplayInfos": {},
       "data": [
        [
         "count",
         "23",
         "23",
         "23",
         "23",
         "23",
         "23",
         "23",
         "23"
        ],
        [
         "mean",
         "180.2608695652174",
         "23.652173913043477",
         "22.434782608695652",
         "19.82608695652174",
         "20.956521739130434",
         "25.652173913043477",
         "32.78260869565217",
         "34.95652173913044"
        ],
        [
         "stddev",
         "447.1424643211708",
         "58.98043488823003",
         "55.513164767022545",
         "49.85492788072304",
         "53.02441826938156",
         "64.4801651642173",
         "80.3412927463711",
         "85.58753002886979"
        ],
        [
         "min",
         "9",
         "0",
         "1",
         "0",
         "0",
         "1",
         "2",
         "1"
        ],
        [
         "max",
         "2073",
         "272",
         "258",
         "228",
         "241",
         "295",
         "377",
         "402"
        ]
       ],
       "datasetInfos": [],
       "dbfsResultPath": null,
       "isJsonSchema": true,
       "metadata": {},
       "overflow": false,
       "plotOptions": {
        "customPlotOptions": {},
        "displayType": "table",
        "pivotAggregation": null,
        "pivotColumns": null,
        "xColumns": null,
        "yColumns": null
       },
       "removedWidgets": [],
       "schema": [
        {
         "metadata": "{}",
         "name": "summary",
         "type": "\"string\""
        },
        {
         "metadata": "{}",
         "name": "Total",
         "type": "\"string\""
        },
        {
         "metadata": "{}",
         "name": "Lunes",
         "type": "\"string\""
        },
        {
         "metadata": "{}",
         "name": "Martes",
         "type": "\"string\""
        },
        {
         "metadata": "{}",
         "name": "Mircoles",
         "type": "\"string\""
        },
        {
         "metadata": "{}",
         "name": "Jueves",
         "type": "\"string\""
        },
        {
         "metadata": "{}",
         "name": "Viernes",
         "type": "\"string\""
        },
        {
         "metadata": "{}",
         "name": "Sbado",
         "type": "\"string\""
        },
        {
         "metadata": "{}",
         "name": "Domingo",
         "type": "\"string\""
        }
       ],
       "type": "table"
      }
     },
     "output_type": "display_data"
    },
    {
     "output_type": "display_data",
     "data": {
      "text/html": [
       "<h4 style='margin:10px 0'>Cuadro 13 — columnas numéricas</h4>"
      ]
     },
     "metadata": {},
     "output_type": "display_data"
    },
    {
     "output_type": "display_data",
     "data": {
      "text/html": [
       "<p style='margin:6px 0 4px 0'><i>Resumen (describe):</i></p>"
      ]
     },
     "metadata": {},
     "output_type": "display_data"
    },
    {
     "output_type": "display_data",
     "data": {
      "text/html": [
       "<style scoped>\n",
       "  .table-result-container {\n",
       "    max-height: 300px;\n",
       "    overflow: auto;\n",
       "  }\n",
       "  table, th, td {\n",
       "    border: 1px solid black;\n",
       "    border-collapse: collapse;\n",
       "  }\n",
       "  th, td {\n",
       "    padding: 5px;\n",
       "  }\n",
       "  th {\n",
       "    text-align: left;\n",
       "  }\n",
       "</style><div class='table-result-container'><table class='table-result'><thead style='background-color: white'><tr><th>summary</th><th>Total</th><th>Lunes</th><th>Martes</th><th>Mircoles</th><th>Jueves</th><th>Viernes</th><th>Sbado</th><th>Domingo</th></tr></thead><tbody><tr><td>count</td><td>13</td><td>13</td><td>13</td><td>13</td><td>13</td><td>13</td><td>13</td><td>13</td></tr><tr><td>mean</td><td>318.9230769230769</td><td>41.84615384615385</td><td>39.69230769230769</td><td>35.07692307692308</td><td>37.07692307692308</td><td>45.38461538461539</td><td>58.0</td><td>61.84615384615385</td></tr><tr><td>stddev</td><td>527.5969834287123</td><td>69.4176324308723</td><td>65.8361408034936</td><td>58.105452323715625</td><td>61.54600114069358</td><td>75.26789760752196</td><td>96.09196983445946</td><td>102.40999800950925</td></tr><tr><td>min</td><td>134</td><td>13</td><td>15</td><td>11</td><td>12</td><td>16</td><td>20</td><td>24</td></tr><tr><td>max</td><td>2073</td><td>272</td><td>258</td><td>228</td><td>241</td><td>295</td><td>377</td><td>402</td></tr></tbody></table></div>"
      ]
     },
     "metadata": {
      "application/vnd.databricks.v1+output": {
       "addedWidgets": {},
       "aggData": [],
       "aggError": "",
       "aggOverflow": false,
       "aggSchema": [],
       "aggSeriesLimitReached": false,
       "aggType": "",
       "arguments": {},
       "columnCustomDisplayInfos": {},
       "data": [
        [
         "count",
         "13",
         "13",
         "13",
         "13",
         "13",
         "13",
         "13",
         "13"
        ],
        [
         "mean",
         "318.9230769230769",
         "41.84615384615385",
         "39.69230769230769",
         "35.07692307692308",
         "37.07692307692308",
         "45.38461538461539",
         "58.0",
         "61.84615384615385"
        ],
        [
         "stddev",
         "527.5969834287123",
         "69.4176324308723",
         "65.8361408034936",
         "58.105452323715625",
         "61.54600114069358",
         "75.26789760752196",
         "96.09196983445946",
         "102.40999800950925"
        ],
        [
         "min",
         "134",
         "13",
         "15",
         "11",
         "12",
         "16",
         "20",
         "24"
        ],
        [
         "max",
         "2073",
         "272",
         "258",
         "228",
         "241",
         "295",
         "377",
         "402"
        ]
       ],
       "datasetInfos": [],
       "dbfsResultPath": null,
       "isJsonSchema": true,
       "metadata": {},
       "overflow": false,
       "plotOptions": {
        "customPlotOptions": {},
        "displayType": "table",
        "pivotAggregation": null,
        "pivotColumns": null,
        "xColumns": null,
        "yColumns": null
       },
       "removedWidgets": [],
       "schema": [
        {
         "metadata": "{}",
         "name": "summary",
         "type": "\"string\""
        },
        {
         "metadata": "{}",
         "name": "Total",
         "type": "\"string\""
        },
        {
         "metadata": "{}",
         "name": "Lunes",
         "type": "\"string\""
        },
        {
         "metadata": "{}",
         "name": "Martes",
         "type": "\"string\""
        },
        {
         "metadata": "{}",
         "name": "Mircoles",
         "type": "\"string\""
        },
        {
         "metadata": "{}",
         "name": "Jueves",
         "type": "\"string\""
        },
        {
         "metadata": "{}",
         "name": "Viernes",
         "type": "\"string\""
        },
        {
         "metadata": "{}",
         "name": "Sbado",
         "type": "\"string\""
        },
        {
         "metadata": "{}",
         "name": "Domingo",
         "type": "\"string\""
        }
       ],
       "type": "table"
      }
     },
     "output_type": "display_data"
    },
    {
     "output_type": "display_data",
     "data": {
      "text/html": [
       "<h4 style='margin:10px 0'>Cuadro 14 — columnas numéricas</h4>"
      ]
     },
     "metadata": {},
     "output_type": "display_data"
    },
    {
     "output_type": "display_data",
     "data": {
      "text/html": [
       "<p style='margin:6px 0 4px 0'><i>Resumen (describe):</i></p>"
      ]
     },
     "metadata": {},
     "output_type": "display_data"
    },
    {
     "output_type": "display_data",
     "data": {
      "text/html": [
       "<style scoped>\n",
       "  .table-result-container {\n",
       "    max-height: 300px;\n",
       "    overflow: auto;\n",
       "  }\n",
       "  table, th, td {\n",
       "    border: 1px solid black;\n",
       "    border-collapse: collapse;\n",
       "  }\n",
       "  th, td {\n",
       "    padding: 5px;\n",
       "  }\n",
       "  th {\n",
       "    text-align: left;\n",
       "  }\n",
       "</style><div class='table-result-container'><table class='table-result'><thead style='background-color: white'><tr><th>summary</th><th>Total</th><th>1</th><th>2</th><th>3</th><th>4</th><th>5</th><th>6</th><th>7</th><th>8</th><th>9</th><th>10</th><th>11</th><th>12</th><th>13</th><th>14</th><th>15</th><th>16</th><th>17</th><th>18</th><th>19</th><th>21</th><th>24</th><th>25</th><th>Ignorada</th></tr></thead><tbody><tr><td>count</td><td>26</td><td>26</td><td>26</td><td>26</td><td>26</td><td>26</td><td>26</td><td>26</td><td>26</td><td>26</td><td>26</td><td>26</td><td>26</td><td>26</td><td>26</td><td>26</td><td>26</td><td>26</td><td>26</td><td>26</td><td>26</td><td>26</td><td>26</td><td>26</td></tr><tr><td>mean</td><td>133.76923076923077</td><td>14.0</td><td>2.8461538461538463</td><td>3.923076923076923</td><td>2.076923076923077</td><td>5.3076923076923075</td><td>7.384615384615385</td><td>16.846153846153847</td><td>1.9230769230769231</td><td>6.923076923076923</td><td>5.461538461538462</td><td>8.692307692307692</td><td>18.923076923076923</td><td>6.461538461538462</td><td>0.6153846153846154</td><td>2.1538461538461537</td><td>1.6923076923076923</td><td>3.230769230769231</td><td>11.692307692307692</td><td>1.3076923076923077</td><td>2.769230769230769</td><td>0.23076923076923078</td><td>0.6923076923076923</td><td>8.615384615384615</td></tr><tr><td>stddev</td><td>328.36897632904453</td><td>34.46157280218069</td><td>7.0975618782356955</td><td>9.78130084159802</td><td>5.24536425368593</td><td>13.171998271391415</td><td>18.216644966792156</td><td>41.42336761557883</td><td>4.7826609908968205</td><td>17.10888208369694</td><td>13.49735016729067</td><td>21.462095388417662</td><td>46.52562569330848</td><td>15.91032562641197</td><td>1.6019219226147845</td><td>5.3493349694503705</td><td>4.3245275420025315</td><td>8.026494588836112</td><td>28.739894545066416</td><td>3.2835253100194697</td><td>6.918425788039894</td><td>0.6516251872168424</td><td>1.7836867610481577</td><td>21.230312146696146</td></tr><tr><td>min</td><td>1</td><td>0</td><td>0</td><td>0</td><td>0</td><td>0</td><td>0</td><td>0</td><td>0</td><td>0</td><td>0</td><td>0</td><td>0</td><td>0</td><td>0</td><td>0</td><td>0</td><td>0</td><td>0</td><td>0</td><td>0</td><td>0</td><td>0</td><td>0</td></tr><tr><td>max</td><td>1739</td><td>182</td><td>37</td><td>51</td><td>27</td><td>69</td><td>96</td><td>219</td><td>25</td><td>90</td><td>71</td><td>113</td><td>246</td><td>84</td><td>8</td><td>28</td><td>22</td><td>42</td><td>152</td><td>17</td><td>36</td><td>3</td><td>9</td><td>112</td></tr></tbody></table></div>"
      ]
     },
     "metadata": {
      "application/vnd.databricks.v1+output": {
       "addedWidgets": {},
       "aggData": [],
       "aggError": "",
       "aggOverflow": false,
       "aggSchema": [],
       "aggSeriesLimitReached": false,
       "aggType": "",
       "arguments": {},
       "columnCustomDisplayInfos": {},
       "data": [
        [
         "count",
         "26",
         "26",
         "26",
         "26",
         "26",
         "26",
         "26",
         "26",
         "26",
         "26",
         "26",
         "26",
         "26",
         "26",
         "26",
         "26",
         "26",
         "26",
         "26",
         "26",
         "26",
         "26",
         "26",
         "26"
        ],
        [
         "mean",
         "133.76923076923077",
         "14.0",
         "2.8461538461538463",
         "3.923076923076923",
         "2.076923076923077",
         "5.3076923076923075",
         "7.384615384615385",
         "16.846153846153847",
         "1.9230769230769231",
         "6.923076923076923",
         "5.461538461538462",
         "8.692307692307692",
         "18.923076923076923",
         "6.461538461538462",
         "0.6153846153846154",
         "2.1538461538461537",
         "1.6923076923076923",
         "3.230769230769231",
         "11.692307692307692",
         "1.3076923076923077",
         "2.769230769230769",
         "0.23076923076923078",
         "0.6923076923076923",
         "8.615384615384615"
        ],
        [
         "stddev",
         "328.36897632904453",
         "34.46157280218069",
         "7.0975618782356955",
         "9.78130084159802",
         "5.24536425368593",
         "13.171998271391415",
         "18.216644966792156",
         "41.42336761557883",
         "4.7826609908968205",
         "17.10888208369694",
         "13.49735016729067",
         "21.462095388417662",
         "46.52562569330848",
         "15.91032562641197",
         "1.6019219226147845",
         "5.3493349694503705",
         "4.3245275420025315",
         "8.026494588836112",
         "28.739894545066416",
         "3.2835253100194697",
         "6.918425788039894",
         "0.6516251872168424",
         "1.7836867610481577",
         "21.230312146696146"
        ],
        [
         "min",
         "1",
         "0",
         "0",
         "0",
         "0",
         "0",
         "0",
         "0",
         "0",
         "0",
         "0",
         "0",
         "0",
         "0",
         "0",
         "0",
         "0",
         "0",
         "0",
         "0",
         "0",
         "0",
         "0",
         "0"
        ],
        [
         "max",
         "1739",
         "182",
         "37",
         "51",
         "27",
         "69",
         "96",
         "219",
         "25",
         "90",
         "71",
         "113",
         "246",
         "84",
         "8",
         "28",
         "22",
         "42",
         "152",
         "17",
         "36",
         "3",
         "9",
         "112"
        ]
       ],
       "datasetInfos": [],
       "dbfsResultPath": null,
       "isJsonSchema": true,
       "metadata": {},
       "overflow": false,
       "plotOptions": {
        "customPlotOptions": {},
        "displayType": "table",
        "pivotAggregation": null,
        "pivotColumns": null,
        "xColumns": null,
        "yColumns": null
       },
       "removedWidgets": [],
       "schema": [
        {
         "metadata": "{}",
         "name": "summary",
         "type": "\"string\""
        },
        {
         "metadata": "{}",
         "name": "Total",
         "type": "\"string\""
        },
        {
         "metadata": "{}",
         "name": "1",
         "type": "\"string\""
        },
        {
         "metadata": "{}",
         "name": "2",
         "type": "\"string\""
        },
        {
         "metadata": "{}",
         "name": "3",
         "type": "\"string\""
        },
        {
         "metadata": "{}",
         "name": "4",
         "type": "\"string\""
        },
        {
         "metadata": "{}",
         "name": "5",
         "type": "\"string\""
        },
        {
         "metadata": "{}",
         "name": "6",
         "type": "\"string\""
        },
        {
         "metadata": "{}",
         "name": "7",
         "type": "\"string\""
        },
        {
         "metadata": "{}",
         "name": "8",
         "type": "\"string\""
        },
        {
         "metadata": "{}",
         "name": "9",
         "type": "\"string\""
        },
        {
         "metadata": "{}",
         "name": "10",
         "type": "\"string\""
        },
        {
         "metadata": "{}",
         "name": "11",
         "type": "\"string\""
        },
        {
         "metadata": "{}",
         "name": "12",
         "type": "\"string\""
        },
        {
         "metadata": "{}",
         "name": "13",
         "type": "\"string\""
        },
        {
         "metadata": "{}",
         "name": "14",
         "type": "\"string\""
        },
        {
         "metadata": "{}",
         "name": "15",
         "type": "\"string\""
        },
        {
         "metadata": "{}",
         "name": "16",
         "type": "\"string\""
        },
        {
         "metadata": "{}",
         "name": "17",
         "type": "\"string\""
        },
        {
         "metadata": "{}",
         "name": "18",
         "type": "\"string\""
        },
        {
         "metadata": "{}",
         "name": "19",
         "type": "\"string\""
        },
        {
         "metadata": "{}",
         "name": "21",
         "type": "\"string\""
        },
        {
         "metadata": "{}",
         "name": "24",
         "type": "\"string\""
        },
        {
         "metadata": "{}",
         "name": "25",
         "type": "\"string\""
        },
        {
         "metadata": "{}",
         "name": "Ignorada",
         "type": "\"string\""
        }
       ],
       "type": "table"
      }
     },
     "output_type": "display_data"
    },
    {
     "output_type": "display_data",
     "data": {
      "text/html": [
       "<h4 style='margin:10px 0'>Cuadro 15 — columnas numéricas</h4>"
      ]
     },
     "metadata": {},
     "output_type": "display_data"
    },
    {
     "output_type": "display_data",
     "data": {
      "text/html": [
       "<p style='margin:6px 0 4px 0'><i>Resumen (describe):</i></p>"
      ]
     },
     "metadata": {},
     "output_type": "display_data"
    },
    {
     "output_type": "display_data",
     "data": {
      "text/html": [
       "<style scoped>\n",
       "  .table-result-container {\n",
       "    max-height: 300px;\n",
       "    overflow: auto;\n",
       "  }\n",
       "  table, th, td {\n",
       "    border: 1px solid black;\n",
       "    border-collapse: collapse;\n",
       "  }\n",
       "  th, td {\n",
       "    padding: 5px;\n",
       "  }\n",
       "  th {\n",
       "    text-align: left;\n",
       "  }\n",
       "</style><div class='table-result-container'><table class='table-result'><thead style='background-color: white'><tr><th>summary</th><th>Total</th><th>Lunes</th><th>Martes</th><th>Mircoles</th><th>Jueves</th><th>Viernes</th><th>Sbado</th><th>Domingo</th></tr></thead><tbody><tr><td>count</td><td>24</td><td>24</td><td>24</td><td>24</td><td>24</td><td>24</td><td>24</td><td>24</td></tr><tr><td>mean</td><td>144.91666666666666</td><td>18.166666666666668</td><td>16.833333333333332</td><td>15.333333333333334</td><td>16.666666666666668</td><td>23.25</td><td>29.416666666666668</td><td>25.25</td></tr><tr><td>stddev</td><td>346.05778817073787</td><td>43.364648662513</td><td>40.12010952634348</td><td>36.533090023520685</td><td>39.98441725458065</td><td>55.78160051954174</td><td>70.52962169352593</td><td>60.56132357407224</td></tr><tr><td>min</td><td>3</td><td>0</td><td>0</td><td>0</td><td>0</td><td>0</td><td>0</td><td>0</td></tr><tr><td>max</td><td>1739</td><td>218</td><td>202</td><td>184</td><td>200</td><td>279</td><td>353</td><td>303</td></tr></tbody></table></div>"
      ]
     },
     "metadata": {
      "application/vnd.databricks.v1+output": {
       "addedWidgets": {},
       "aggData": [],
       "aggError": "",
       "aggOverflow": false,
       "aggSchema": [],
       "aggSeriesLimitReached": false,
       "aggType": "",
       "arguments": {},
       "columnCustomDisplayInfos": {},
       "data": [
        [
         "count",
         "24",
         "24",
         "24",
         "24",
         "24",
         "24",
         "24",
         "24"
        ],
        [
         "mean",
         "144.91666666666666",
         "18.166666666666668",
         "16.833333333333332",
         "15.333333333333334",
         "16.666666666666668",
         "23.25",
         "29.416666666666668",
         "25.25"
        ],
        [
         "stddev",
         "346.05778817073787",
         "43.364648662513",
         "40.12010952634348",
         "36.533090023520685",
         "39.98441725458065",
         "55.78160051954174",
         "70.52962169352593",
         "60.56132357407224"
        ],
        [
         "min",
         "3",
         "0",
         "0",
         "0",
         "0",
         "0",
         "0",
         "0"
        ],
        [
         "max",
         "1739",
         "218",
         "202",
         "184",
         "200",
         "279",
         "353",
         "303"
        ]
       ],
       "datasetInfos": [],
       "dbfsResultPath": null,
       "isJsonSchema": true,
       "metadata": {},
       "overflow": false,
       "plotOptions": {
        "customPlotOptions": {},
        "displayType": "table",
        "pivotAggregation": null,
        "pivotColumns": null,
        "xColumns": null,
        "yColumns": null
       },
       "removedWidgets": [],
       "schema": [
        {
         "metadata": "{}",
         "name": "summary",
         "type": "\"string\""
        },
        {
         "metadata": "{}",
         "name": "Total",
         "type": "\"string\""
        },
        {
         "metadata": "{}",
         "name": "Lunes",
         "type": "\"string\""
        },
        {
         "metadata": "{}",
         "name": "Martes",
         "type": "\"string\""
        },
        {
         "metadata": "{}",
         "name": "Mircoles",
         "type": "\"string\""
        },
        {
         "metadata": "{}",
         "name": "Jueves",
         "type": "\"string\""
        },
        {
         "metadata": "{}",
         "name": "Viernes",
         "type": "\"string\""
        },
        {
         "metadata": "{}",
         "name": "Sbado",
         "type": "\"string\""
        },
        {
         "metadata": "{}",
         "name": "Domingo",
         "type": "\"string\""
        }
       ],
       "type": "table"
      }
     },
     "output_type": "display_data"
    },
    {
     "output_type": "display_data",
     "data": {
      "text/html": [
       "<h4 style='margin:10px 0'>Cuadro 16 — columnas numéricas</h4>"
      ]
     },
     "metadata": {},
     "output_type": "display_data"
    },
    {
     "output_type": "display_data",
     "data": {
      "text/html": [
       "<p style='margin:6px 0 4px 0'><i>Resumen (describe):</i></p>"
      ]
     },
     "metadata": {},
     "output_type": "display_data"
    },
    {
     "output_type": "display_data",
     "data": {
      "text/html": [
       "<style scoped>\n",
       "  .table-result-container {\n",
       "    max-height: 300px;\n",
       "    overflow: auto;\n",
       "  }\n",
       "  table, th, td {\n",
       "    border: 1px solid black;\n",
       "    border-collapse: collapse;\n",
       "  }\n",
       "  th, td {\n",
       "    padding: 5px;\n",
       "  }\n",
       "  th {\n",
       "    text-align: left;\n",
       "  }\n",
       "</style><div class='table-result-container'><table class='table-result'><thead style='background-color: white'><tr><th>summary</th><th>Total</th><th>Colisin</th><th>Atropello</th><th>Derrape</th><th>Choque</th><th>Vuelco</th><th>Embarranc</th></tr></thead><tbody><tr><td>count</td><td>24</td><td>24</td><td>24</td><td>24</td><td>24</td><td>24</td><td>24</td></tr><tr><td>mean</td><td>144.91666666666666</td><td>81.91666666666667</td><td>34.75</td><td>20.333333333333332</td><td>6.75</td><td>0.9166666666666666</td><td>0.25</td></tr><tr><td>stddev</td><td>346.05778817073787</td><td>196.21858190308578</td><td>82.85831279962198</td><td>48.98594888746974</td><td>16.138665426209517</td><td>2.244155049023567</td><td>0.6756639246921762</td></tr><tr><td>min</td><td>3</td><td>2</td><td>1</td><td>0</td><td>0</td><td>0</td><td>0</td></tr><tr><td>max</td><td>1739</td><td>983</td><td>417</td><td>244</td><td>81</td><td>11</td><td>3</td></tr></tbody></table></div>"
      ]
     },
     "metadata": {
      "application/vnd.databricks.v1+output": {
       "addedWidgets": {},
       "aggData": [],
       "aggError": "",
       "aggOverflow": false,
       "aggSchema": [],
       "aggSeriesLimitReached": false,
       "aggType": "",
       "arguments": {},
       "columnCustomDisplayInfos": {},
       "data": [
        [
         "count",
         "24",
         "24",
         "24",
         "24",
         "24",
         "24",
         "24"
        ],
        [
         "mean",
         "144.91666666666666",
         "81.91666666666667",
         "34.75",
         "20.333333333333332",
         "6.75",
         "0.9166666666666666",
         "0.25"
        ],
        [
         "stddev",
         "346.05778817073787",
         "196.21858190308578",
         "82.85831279962198",
         "48.98594888746974",
         "16.138665426209517",
         "2.244155049023567",
         "0.6756639246921762"
        ],
        [
         "min",
         "3",
         "2",
         "1",
         "0",
         "0",
         "0",
         "0"
        ],
        [
         "max",
         "1739",
         "983",
         "417",
         "244",
         "81",
         "11",
         "3"
        ]
       ],
       "datasetInfos": [],
       "dbfsResultPath": null,
       "isJsonSchema": true,
       "metadata": {},
       "overflow": false,
       "plotOptions": {
        "customPlotOptions": {},
        "displayType": "table",
        "pivotAggregation": null,
        "pivotColumns": null,
        "xColumns": null,
        "yColumns": null
       },
       "removedWidgets": [],
       "schema": [
        {
         "metadata": "{}",
         "name": "summary",
         "type": "\"string\""
        },
        {
         "metadata": "{}",
         "name": "Total",
         "type": "\"string\""
        },
        {
         "metadata": "{}",
         "name": "Colisin",
         "type": "\"string\""
        },
        {
         "metadata": "{}",
         "name": "Atropello",
         "type": "\"string\""
        },
        {
         "metadata": "{}",
         "name": "Derrape",
         "type": "\"string\""
        },
        {
         "metadata": "{}",
         "name": "Choque",
         "type": "\"string\""
        },
        {
         "metadata": "{}",
         "name": "Vuelco",
         "type": "\"string\""
        },
        {
         "metadata": "{}",
         "name": "Embarranc",
         "type": "\"string\""
        }
       ],
       "type": "table"
      }
     },
     "output_type": "display_data"
    },
    {
     "output_type": "display_data",
     "data": {
      "text/html": [
       "<h4 style='margin:10px 0'>Cuadro 17 — columnas numéricas</h4>"
      ]
     },
     "metadata": {},
     "output_type": "display_data"
    },
    {
     "output_type": "display_data",
     "data": {
      "text/html": [
       "<p style='margin:6px 0 4px 0'><i>Resumen (describe):</i></p>"
      ]
     },
     "metadata": {},
     "output_type": "display_data"
    },
    {
     "output_type": "display_data",
     "data": {
      "text/html": [
       "<style scoped>\n",
       "  .table-result-container {\n",
       "    max-height: 300px;\n",
       "    overflow: auto;\n",
       "  }\n",
       "  table, th, td {\n",
       "    border: 1px solid black;\n",
       "    border-collapse: collapse;\n",
       "  }\n",
       "  th, td {\n",
       "    padding: 5px;\n",
       "  }\n",
       "  th {\n",
       "    text-align: left;\n",
       "  }\n",
       "</style><div class='table-result-container'><table class='table-result'><thead style='background-color: white'><tr><th>summary</th><th>2020</th><th>2021</th><th>2022</th><th>2023</th><th>2024</th></tr></thead><tbody><tr><td>count</td><td>23</td><td>23</td><td>23</td><td>23</td><td>23</td></tr><tr><td>mean</td><td>878.5217391304348</td><td>1112.695652173913</td><td>1064.2608695652175</td><td>1060.608695652174</td><td>1134.3478260869565</td></tr><tr><td>stddev</td><td>2183.131901015878</td><td>2756.758891339655</td><td>2644.116542909961</td><td>2635.405536140681</td><td>2809.1181503469543</td></tr><tr><td>min</td><td>76</td><td>115</td><td>96</td><td>53</td><td>77</td></tr><tr><td>max</td><td>10103</td><td>12796</td><td>12239</td><td>12197</td><td>13045</td></tr></tbody></table></div>"
      ]
     },
     "metadata": {
      "application/vnd.databricks.v1+output": {
       "addedWidgets": {},
       "aggData": [],
       "aggError": "",
       "aggOverflow": false,
       "aggSchema": [],
       "aggSeriesLimitReached": false,
       "aggType": "",
       "arguments": {},
       "columnCustomDisplayInfos": {},
       "data": [
        [
         "count",
         "23",
         "23",
         "23",
         "23",
         "23"
        ],
        [
         "mean",
         "878.5217391304348",
         "1112.695652173913",
         "1064.2608695652175",
         "1060.608695652174",
         "1134.3478260869565"
        ],
        [
         "stddev",
         "2183.131901015878",
         "2756.758891339655",
         "2644.116542909961",
         "2635.405536140681",
         "2809.1181503469543"
        ],
        [
         "min",
         "76",
         "115",
         "96",
         "53",
         "77"
        ],
        [
         "max",
         "10103",
         "12796",
         "12239",
         "12197",
         "13045"
        ]
       ],
       "datasetInfos": [],
       "dbfsResultPath": null,
       "isJsonSchema": true,
       "metadata": {},
       "overflow": false,
       "plotOptions": {
        "customPlotOptions": {},
        "displayType": "table",
        "pivotAggregation": null,
        "pivotColumns": null,
        "xColumns": null,
        "yColumns": null
       },
       "removedWidgets": [],
       "schema": [
        {
         "metadata": "{}",
         "name": "summary",
         "type": "\"string\""
        },
        {
         "metadata": "{}",
         "name": "2020",
         "type": "\"string\""
        },
        {
         "metadata": "{}",
         "name": "2021",
         "type": "\"string\""
        },
        {
         "metadata": "{}",
         "name": "2022",
         "type": "\"string\""
        },
        {
         "metadata": "{}",
         "name": "2023",
         "type": "\"string\""
        },
        {
         "metadata": "{}",
         "name": "2024",
         "type": "\"string\""
        }
       ],
       "type": "table"
      }
     },
     "output_type": "display_data"
    },
    {
     "output_type": "display_data",
     "data": {
      "text/html": [
       "<h4 style='margin:10px 0'>Cuadro 18 — columnas numéricas</h4>"
      ]
     },
     "metadata": {},
     "output_type": "display_data"
    },
    {
     "output_type": "display_data",
     "data": {
      "text/html": [
       "<p style='margin:6px 0 4px 0'><i>Resumen (describe):</i></p>"
      ]
     },
     "metadata": {},
     "output_type": "display_data"
    },
    {
     "output_type": "display_data",
     "data": {
      "text/html": [
       "<style scoped>\n",
       "  .table-result-container {\n",
       "    max-height: 300px;\n",
       "    overflow: auto;\n",
       "  }\n",
       "  table, th, td {\n",
       "    border: 1px solid black;\n",
       "    border-collapse: collapse;\n",
       "  }\n",
       "  th, td {\n",
       "    padding: 5px;\n",
       "  }\n",
       "  th {\n",
       "    text-align: left;\n",
       "  }\n",
       "</style><div class='table-result-container'><table class='table-result'><thead style='background-color: white'><tr><th>summary</th><th>Total</th><th>Colisin</th><th>Atropello</th><th>Derrape</th><th>Choque</th><th>Vuelco</th><th>Embarranc</th><th>Encunet</th><th>Cada</th><th>Ignorado</th></tr></thead><tbody><tr><td>count</td><td>19</td><td>19</td><td>19</td><td>19</td><td>19</td><td>19</td><td>19</td><td>19</td><td>19</td><td>19</td></tr><tr><td>mean</td><td>1373.157894736842</td><td>956.5263157894736</td><td>218.21052631578948</td><td>128.31578947368422</td><td>46.0</td><td>15.157894736842104</td><td>8.210526315789474</td><td>0.3157894736842105</td><td>0.10526315789473684</td><td>0.3157894736842105</td></tr><tr><td>stddev</td><td>3206.7549582986703</td><td>2224.554671249982</td><td>493.3315967252506</td><td>376.16634214010224</td><td>104.11532067856297</td><td>32.88069875895572</td><td>17.874808304701464</td><td>0.820069887194403</td><td>0.31530176764230566</td><td>0.9459053029269173</td></tr><tr><td>min</td><td>1</td><td>0</td><td>1</td><td>0</td><td>0</td><td>0</td><td>0</td><td>0</td><td>0</td><td>0</td></tr><tr><td>max</td><td>13045</td><td>9087</td><td>2073</td><td>1219</td><td>437</td><td>144</td><td>78</td><td>3</td><td>1</td><td>3</td></tr></tbody></table></div>"
      ]
     },
     "metadata": {
      "application/vnd.databricks.v1+output": {
       "addedWidgets": {},
       "aggData": [],
       "aggError": "",
       "aggOverflow": false,
       "aggSchema": [],
       "aggSeriesLimitReached": false,
       "aggType": "",
       "arguments": {},
       "columnCustomDisplayInfos": {},
       "data": [
        [
         "count",
         "19",
         "19",
         "19",
         "19",
         "19",
         "19",
         "19",
         "19",
         "19",
         "19"
        ],
        [
         "mean",
         "1373.157894736842",
         "956.5263157894736",
         "218.21052631578948",
         "128.31578947368422",
         "46.0",
         "15.157894736842104",
         "8.210526315789474",
         "0.3157894736842105",
         "0.10526315789473684",
         "0.3157894736842105"
        ],
        [
         "stddev",
         "3206.7549582986703",
         "2224.554671249982",
         "493.3315967252506",
         "376.16634214010224",
         "104.11532067856297",
         "32.88069875895572",
         "17.874808304701464",
         "0.820069887194403",
         "0.31530176764230566",
         "0.9459053029269173"
        ],
        [
         "min",
         "1",
         "0",
         "1",
         "0",
         "0",
         "0",
         "0",
         "0",
         "0",
         "0"
        ],
        [
         "max",
         "13045",
         "9087",
         "2073",
         "1219",
         "437",
         "144",
         "78",
         "3",
         "1",
         "3"
        ]
       ],
       "datasetInfos": [],
       "dbfsResultPath": null,
       "isJsonSchema": true,
       "metadata": {},
       "overflow": false,
       "plotOptions": {
        "customPlotOptions": {},
        "displayType": "table",
        "pivotAggregation": null,
        "pivotColumns": null,
        "xColumns": null,
        "yColumns": null
       },
       "removedWidgets": [],
       "schema": [
        {
         "metadata": "{}",
         "name": "summary",
         "type": "\"string\""
        },
        {
         "metadata": "{}",
         "name": "Total",
         "type": "\"string\""
        },
        {
         "metadata": "{}",
         "name": "Colisin",
         "type": "\"string\""
        },
        {
         "metadata": "{}",
         "name": "Atropello",
         "type": "\"string\""
        },
        {
         "metadata": "{}",
         "name": "Derrape",
         "type": "\"string\""
        },
        {
         "metadata": "{}",
         "name": "Choque",
         "type": "\"string\""
        },
        {
         "metadata": "{}",
         "name": "Vuelco",
         "type": "\"string\""
        },
        {
         "metadata": "{}",
         "name": "Embarranc",
         "type": "\"string\""
        },
        {
         "metadata": "{}",
         "name": "Encunet",
         "type": "\"string\""
        },
        {
         "metadata": "{}",
         "name": "Cada",
         "type": "\"string\""
        },
        {
         "metadata": "{}",
         "name": "Ignorado",
         "type": "\"string\""
        }
       ],
       "type": "table"
      }
     },
     "output_type": "display_data"
    },
    {
     "output_type": "display_data",
     "data": {
      "text/html": [
       "<h4 style='margin:10px 0'>Cuadro 19 — columnas numéricas</h4>"
      ]
     },
     "metadata": {},
     "output_type": "display_data"
    },
    {
     "output_type": "display_data",
     "data": {
      "text/html": [
       "<p style='margin:6px 0 4px 0'><i>Resumen (describe):</i></p>"
      ]
     },
     "metadata": {},
     "output_type": "display_data"
    },
    {
     "output_type": "display_data",
     "data": {
      "text/html": [
       "<style scoped>\n",
       "  .table-result-container {\n",
       "    max-height: 300px;\n",
       "    overflow: auto;\n",
       "  }\n",
       "  table, th, td {\n",
       "    border: 1px solid black;\n",
       "    border-collapse: collapse;\n",
       "  }\n",
       "  th, td {\n",
       "    padding: 5px;\n",
       "  }\n",
       "  th {\n",
       "    text-align: left;\n",
       "  }\n",
       "</style><div class='table-result-container'><table class='table-result'><thead style='background-color: white'><tr><th>summary</th><th>Total</th><th>Colisin</th><th>Atropello</th><th>Derrape</th><th>Choque</th><th>Vuelco</th><th>Embarranc</th><th>Cada</th><th>Encunet</th><th>Ignorado</th></tr></thead><tbody><tr><td>count</td><td>17</td><td>17</td><td>17</td><td>17</td><td>17</td><td>17</td><td>17</td><td>17</td><td>17</td><td>17</td></tr><tr><td>mean</td><td>1534.7058823529412</td><td>1069.0588235294117</td><td>243.88235294117646</td><td>143.41176470588235</td><td>51.411764705882355</td><td>16.941176470588236</td><td>9.176470588235293</td><td>0.11764705882352941</td><td>0.35294117647058826</td><td>0.35294117647058826</td></tr><tr><td>stddev</td><td>3156.1140815230738</td><td>2177.399580652005</td><td>535.4236502939682</td><td>307.25764002371227</td><td>104.1915656516456</td><td>34.605762865878454</td><td>19.046769063668147</td><td>0.3321055820775357</td><td>0.8617697249402121</td><td>0.996316746232607</td></tr><tr><td>min</td><td>6</td><td>3</td><td>0</td><td>0</td><td>0</td><td>0</td><td>0</td><td>0</td><td>0</td><td>0</td></tr><tr><td>max</td><td>13045</td><td>9087</td><td>2073</td><td>1219</td><td>437</td><td>144</td><td>78</td><td>1</td><td>3</td><td>3</td></tr></tbody></table></div>"
      ]
     },
     "metadata": {
      "application/vnd.databricks.v1+output": {
       "addedWidgets": {},
       "aggData": [],
       "aggError": "",
       "aggOverflow": false,
       "aggSchema": [],
       "aggSeriesLimitReached": false,
       "aggType": "",
       "arguments": {},
       "columnCustomDisplayInfos": {},
       "data": [
        [
         "count",
         "17",
         "17",
         "17",
         "17",
         "17",
         "17",
         "17",
         "17",
         "17",
         "17"
        ],
        [
         "mean",
         "1534.7058823529412",
         "1069.0588235294117",
         "243.88235294117646",
         "143.41176470588235",
         "51.411764705882355",
         "16.941176470588236",
         "9.176470588235293",
         "0.11764705882352941",
         "0.35294117647058826",
         "0.35294117647058826"
        ],
        [
         "stddev",
         "3156.1140815230738",
         "2177.399580652005",
         "535.4236502939682",
         "307.25764002371227",
         "104.1915656516456",
         "34.605762865878454",
         "19.046769063668147",
         "0.3321055820775357",
         "0.8617697249402121",
         "0.996316746232607"
        ],
        [
         "min",
         "6",
         "3",
         "0",
         "0",
         "0",
         "0",
         "0",
         "0",
         "0",
         "0"
        ],
        [
         "max",
         "13045",
         "9087",
         "2073",
         "1219",
         "437",
         "144",
         "78",
         "1",
         "3",
         "3"
        ]
       ],
       "datasetInfos": [],
       "dbfsResultPath": null,
       "isJsonSchema": true,
       "metadata": {},
       "overflow": false,
       "plotOptions": {
        "customPlotOptions": {},
        "displayType": "table",
        "pivotAggregation": null,
        "pivotColumns": null,
        "xColumns": null,
        "yColumns": null
       },
       "removedWidgets": [],
       "schema": [
        {
         "metadata": "{}",
         "name": "summary",
         "type": "\"string\""
        },
        {
         "metadata": "{}",
         "name": "Total",
         "type": "\"string\""
        },
        {
         "metadata": "{}",
         "name": "Colisin",
         "type": "\"string\""
        },
        {
         "metadata": "{}",
         "name": "Atropello",
         "type": "\"string\""
        },
        {
         "metadata": "{}",
         "name": "Derrape",
         "type": "\"string\""
        },
        {
         "metadata": "{}",
         "name": "Choque",
         "type": "\"string\""
        },
        {
         "metadata": "{}",
         "name": "Vuelco",
         "type": "\"string\""
        },
        {
         "metadata": "{}",
         "name": "Embarranc",
         "type": "\"string\""
        },
        {
         "metadata": "{}",
         "name": "Cada",
         "type": "\"string\""
        },
        {
         "metadata": "{}",
         "name": "Encunet",
         "type": "\"string\""
        },
        {
         "metadata": "{}",
         "name": "Ignorado",
         "type": "\"string\""
        }
       ],
       "type": "table"
      }
     },
     "output_type": "display_data"
    },
    {
     "output_type": "display_data",
     "data": {
      "text/html": [
       "<h4 style='margin:10px 0'>Cuadro 20 — columnas numéricas</h4>"
      ]
     },
     "metadata": {},
     "output_type": "display_data"
    },
    {
     "output_type": "display_data",
     "data": {
      "text/html": [
       "<p style='margin:6px 0 4px 0'><i>Resumen (describe):</i></p>"
      ]
     },
     "metadata": {},
     "output_type": "display_data"
    },
    {
     "output_type": "display_data",
     "data": {
      "text/html": [
       "<style scoped>\n",
       "  .table-result-container {\n",
       "    max-height: 300px;\n",
       "    overflow: auto;\n",
       "  }\n",
       "  table, th, td {\n",
       "    border: 1px solid black;\n",
       "    border-collapse: collapse;\n",
       "  }\n",
       "  th, td {\n",
       "    padding: 5px;\n",
       "  }\n",
       "  th {\n",
       "    text-align: left;\n",
       "  }\n",
       "</style><div class='table-result-container'><table class='table-result'><thead style='background-color: white'><tr><th>summary</th><th>Total</th><th>Colisin</th><th>Atropello</th><th>Derrape</th><th>Choque</th><th>Vuelco</th><th>Embarranc</th><th>Encunet</th><th>Cada</th><th>Ignorado</th></tr></thead><tbody><tr><td>count</td><td>8</td><td>8</td><td>8</td><td>8</td><td>8</td><td>8</td><td>8</td><td>8</td><td>8</td><td>8</td></tr><tr><td>mean</td><td>3261.25</td><td>2271.75</td><td>518.25</td><td>304.75</td><td>109.25</td><td>36.0</td><td>19.5</td><td>0.75</td><td>0.25</td><td>0.75</td></tr><tr><td>stddev</td><td>4750.664427214366</td><td>3232.518555907408</td><td>801.769070778577</td><td>479.43947927315526</td><td>162.75200240155047</td><td>54.3323108288245</td><td>28.88400447108597</td><td>1.164964745021435</td><td>0.4629100498862757</td><td>1.3887301496588271</td></tr><tr><td>min</td><td>6</td><td>5</td><td>1</td><td>0</td><td>0</td><td>0</td><td>0</td><td>0</td><td>0</td><td>0</td></tr><tr><td>max</td><td>13045</td><td>9087</td><td>2073</td><td>1219</td><td>437</td><td>144</td><td>78</td><td>3</td><td>1</td><td>3</td></tr></tbody></table></div>"
      ]
     },
     "metadata": {
      "application/vnd.databricks.v1+output": {
       "addedWidgets": {},
       "aggData": [],
       "aggError": "",
       "aggOverflow": false,
       "aggSchema": [],
       "aggSeriesLimitReached": false,
       "aggType": "",
       "arguments": {},
       "columnCustomDisplayInfos": {},
       "data": [
        [
         "count",
         "8",
         "8",
         "8",
         "8",
         "8",
         "8",
         "8",
         "8",
         "8",
         "8"
        ],
        [
         "mean",
         "3261.25",
         "2271.75",
         "518.25",
         "304.75",
         "109.25",
         "36.0",
         "19.5",
         "0.75",
         "0.25",
         "0.75"
        ],
        [
         "stddev",
         "4750.664427214366",
         "3232.518555907408",
         "801.769070778577",
         "479.43947927315526",
         "162.75200240155047",
         "54.3323108288245",
         "28.88400447108597",
         "1.164964745021435",
         "0.4629100498862757",
         "1.3887301496588271"
        ],
        [
         "min",
         "6",
         "5",
         "1",
         "0",
         "0",
         "0",
         "0",
         "0",
         "0",
         "0"
        ],
        [
         "max",
         "13045",
         "9087",
         "2073",
         "1219",
         "437",
         "144",
         "78",
         "3",
         "1",
         "3"
        ]
       ],
       "datasetInfos": [],
       "dbfsResultPath": null,
       "isJsonSchema": true,
       "metadata": {},
       "overflow": false,
       "plotOptions": {
        "customPlotOptions": {},
        "displayType": "table",
        "pivotAggregation": null,
        "pivotColumns": null,
        "xColumns": null,
        "yColumns": null
       },
       "removedWidgets": [],
       "schema": [
        {
         "metadata": "{}",
         "name": "summary",
         "type": "\"string\""
        },
        {
         "metadata": "{}",
         "name": "Total",
         "type": "\"string\""
        },
        {
         "metadata": "{}",
         "name": "Colisin",
         "type": "\"string\""
        },
        {
         "metadata": "{}",
         "name": "Atropello",
         "type": "\"string\""
        },
        {
         "metadata": "{}",
         "name": "Derrape",
         "type": "\"string\""
        },
        {
         "metadata": "{}",
         "name": "Choque",
         "type": "\"string\""
        },
        {
         "metadata": "{}",
         "name": "Vuelco",
         "type": "\"string\""
        },
        {
         "metadata": "{}",
         "name": "Embarranc",
         "type": "\"string\""
        },
        {
         "metadata": "{}",
         "name": "Encunet",
         "type": "\"string\""
        },
        {
         "metadata": "{}",
         "name": "Cada",
         "type": "\"string\""
        },
        {
         "metadata": "{}",
         "name": "Ignorado",
         "type": "\"string\""
        }
       ],
       "type": "table"
      }
     },
     "output_type": "display_data"
    },
    {
     "output_type": "display_data",
     "data": {
      "text/html": [
       "<h4 style='margin:10px 0'>Cuadro 21 — columnas numéricas</h4>"
      ]
     },
     "metadata": {},
     "output_type": "display_data"
    },
    {
     "output_type": "display_data",
     "data": {
      "text/html": [
       "<p style='margin:6px 0 4px 0'><i>Resumen (describe):</i></p>"
      ]
     },
     "metadata": {},
     "output_type": "display_data"
    },
    {
     "output_type": "display_data",
     "data": {
      "text/html": [
       "<style scoped>\n",
       "  .table-result-container {\n",
       "    max-height: 300px;\n",
       "    overflow: auto;\n",
       "  }\n",
       "  table, th, td {\n",
       "    border: 1px solid black;\n",
       "    border-collapse: collapse;\n",
       "  }\n",
       "  th, td {\n",
       "    padding: 5px;\n",
       "  }\n",
       "  th {\n",
       "    text-align: left;\n",
       "  }\n",
       "</style><div class='table-result-container'><table class='table-result'><thead style='background-color: white'><tr><th>summary</th><th>Total</th><th>Motocicleta</th><th>Automvil</th><th>Pick_Up</th><th>Camioneta</th><th>Camin</th><th>Cabezal</th><th>Bus_Urbano</th><th>Microbs</th><th>Moto_Taxi</th><th>Panel</th><th>Cuatrimoto</th><th>Tractor</th><th>Bus_Extraurbano</th><th>Jeep</th><th>Bicicleta</th><th>Montacargas</th><th>Taxi</th><th>Ignorado</th></tr></thead><tbody><tr><td>count</td><td>23</td><td>23</td><td>23</td><td>23</td><td>23</td><td>23</td><td>23</td><td>23</td><td>23</td><td>23</td><td>23</td><td>23</td><td>23</td><td>23</td><td>23</td><td>23</td><td>23</td><td>23</td><td>23</td></tr><tr><td>mean</td><td>1134.3478260869565</td><td>561.9130434782609</td><td>212.43478260869566</td><td>96.34782608695652</td><td>85.04347826086956</td><td>57.73913043478261</td><td>40.78260869565217</td><td>24.434782608695652</td><td>13.652173913043478</td><td>10.08695652173913</td><td>4.260869565217392</td><td>3.652173913043478</td><td>0.782608695652174</td><td>0.6956521739130435</td><td>0.6086956521739131</td><td>0.34782608695652173</td><td>0.08695652173913043</td><td>0.08695652173913043</td><td>21.391304347826086</td></tr><tr><td>stddev</td><td>2809.1181503469543</td><td>1409.4395376449036</td><td>554.5513195439221</td><td>225.33179751719908</td><td>208.8179890937799</td><td>136.71809662463863</td><td>98.28944108727552</td><td>59.90433744119684</td><td>31.915525853631706</td><td>23.484836584637215</td><td>10.265641685227772</td><td>8.5896803605054</td><td>1.90588852433548</td><td>1.690475527738104</td><td>1.8766297265136715</td><td>0.9346217344793913</td><td>0.2881040655200304</td><td>0.28810406552003054</td><td>53.400492958598655</td></tr><tr><td>min</td><td>77</td><td>15</td><td>14</td><td>15</td><td>9</td><td>7</td><td>1</td><td>1</td><td>0</td><td>1</td><td>0</td><td>0</td><td>0</td><td>0</td><td>0</td><td>0</td><td>0</td><td>0</td><td>1</td></tr><tr><td>max</td><td>13045</td><td>6462</td><td>2443</td><td>1108</td><td>978</td><td>664</td><td>469</td><td>281</td><td>157</td><td>116</td><td>49</td><td>42</td><td>9</td><td>8</td><td>7</td><td>4</td><td>1</td><td>1</td><td>246</td></tr></tbody></table></div>"
      ]
     },
     "metadata": {
      "application/vnd.databricks.v1+output": {
       "addedWidgets": {},
       "aggData": [],
       "aggError": "",
       "aggOverflow": false,
       "aggSchema": [],
       "aggSeriesLimitReached": false,
       "aggType": "",
       "arguments": {},
       "columnCustomDisplayInfos": {},
       "data": [
        [
         "count",
         "23",
         "23",
         "23",
         "23",
         "23",
         "23",
         "23",
         "23",
         "23",
         "23",
         "23",
         "23",
         "23",
         "23",
         "23",
         "23",
         "23",
         "23",
         "23"
        ],
        [
         "mean",
         "1134.3478260869565",
         "561.9130434782609",
         "212.43478260869566",
         "96.34782608695652",
         "85.04347826086956",
         "57.73913043478261",
         "40.78260869565217",
         "24.434782608695652",
         "13.652173913043478",
         "10.08695652173913",
         "4.260869565217392",
         "3.652173913043478",
         "0.782608695652174",
         "0.6956521739130435",
         "0.6086956521739131",
         "0.34782608695652173",
         "0.08695652173913043",
         "0.08695652173913043",
         "21.391304347826086"
        ],
        [
         "stddev",
         "2809.1181503469543",
         "1409.4395376449036",
         "554.5513195439221",
         "225.33179751719908",
         "208.8179890937799",
         "136.71809662463863",
         "98.28944108727552",
         "59.90433744119684",
         "31.915525853631706",
         "23.484836584637215",
         "10.265641685227772",
         "8.5896803605054",
         "1.90588852433548",
         "1.690475527738104",
         "1.8766297265136715",
         "0.9346217344793913",
         "0.2881040655200304",
         "0.28810406552003054",
         "53.400492958598655"
        ],
        [
         "min",
         "77",
         "15",
         "14",
         "15",
         "9",
         "7",
         "1",
         "1",
         "0",
         "1",
         "0",
         "0",
         "0",
         "0",
         "0",
         "0",
         "0",
         "0",
         "1"
        ],
        [
         "max",
         "13045",
         "6462",
         "2443",
         "1108",
         "978",
         "664",
         "469",
         "281",
         "157",
         "116",
         "49",
         "42",
         "9",
         "8",
         "7",
         "4",
         "1",
         "1",
         "246"
        ]
       ],
       "datasetInfos": [],
       "dbfsResultPath": null,
       "isJsonSchema": true,
       "metadata": {},
       "overflow": false,
       "plotOptions": {
        "customPlotOptions": {},
        "displayType": "table",
        "pivotAggregation": null,
        "pivotColumns": null,
        "xColumns": null,
        "yColumns": null
       },
       "removedWidgets": [],
       "schema": [
        {
         "metadata": "{}",
         "name": "summary",
         "type": "\"string\""
        },
        {
         "metadata": "{}",
         "name": "Total",
         "type": "\"string\""
        },
        {
         "metadata": "{}",
         "name": "Motocicleta",
         "type": "\"string\""
        },
        {
         "metadata": "{}",
         "name": "Automvil",
         "type": "\"string\""
        },
        {
         "metadata": "{}",
         "name": "Pick_Up",
         "type": "\"string\""
        },
        {
         "metadata": "{}",
         "name": "Camioneta",
         "type": "\"string\""
        },
        {
         "metadata": "{}",
         "name": "Camin",
         "type": "\"string\""
        },
        {
         "metadata": "{}",
         "name": "Cabezal",
         "type": "\"string\""
        },
        {
         "metadata": "{}",
         "name": "Bus_Urbano",
         "type": "\"string\""
        },
        {
         "metadata": "{}",
         "name": "Microbs",
         "type": "\"string\""
        },
        {
         "metadata": "{}",
         "name": "Moto_Taxi",
         "type": "\"string\""
        },
        {
         "metadata": "{}",
         "name": "Panel",
         "type": "\"string\""
        },
        {
         "metadata": "{}",
         "name": "Cuatrimoto",
         "type": "\"string\""
        },
        {
         "metadata": "{}",
         "name": "Tractor",
         "type": "\"string\""
        },
        {
         "metadata": "{}",
         "name": "Bus_Extraurbano",
         "type": "\"string\""
        },
        {
         "metadata": "{}",
         "name": "Jeep",
         "type": "\"string\""
        },
        {
         "metadata": "{}",
         "name": "Bicicleta",
         "type": "\"string\""
        },
        {
         "metadata": "{}",
         "name": "Montacargas",
         "type": "\"string\""
        },
        {
         "metadata": "{}",
         "name": "Taxi",
         "type": "\"string\""
        },
        {
         "metadata": "{}",
         "name": "Ignorado",
         "type": "\"string\""
        }
       ],
       "type": "table"
      }
     },
     "output_type": "display_data"
    },
    {
     "output_type": "display_data",
     "data": {
      "text/html": [
       "<h4 style='margin:10px 0'>Cuadro 22 — columnas numéricas</h4>"
      ]
     },
     "metadata": {},
     "output_type": "display_data"
    },
    {
     "output_type": "display_data",
     "data": {
      "text/html": [
       "<p style='margin:6px 0 4px 0'><i>Resumen (describe):</i></p>"
      ]
     },
     "metadata": {},
     "output_type": "display_data"
    },
    {
     "output_type": "display_data",
     "data": {
      "text/html": [
       "<style scoped>\n",
       "  .table-result-container {\n",
       "    max-height: 300px;\n",
       "    overflow: auto;\n",
       "  }\n",
       "  table, th, td {\n",
       "    border: 1px solid black;\n",
       "    border-collapse: collapse;\n",
       "  }\n",
       "  th, td {\n",
       "    padding: 5px;\n",
       "  }\n",
       "  th {\n",
       "    text-align: left;\n",
       "  }\n",
       "</style><div class='table-result-container'><table class='table-result'><thead style='background-color: white'><tr><th>summary</th><th>Total</th><th>Hombre</th><th>Mujer</th><th>Ignorado</th><th>Total_no_ebrio</th><th>Hombre_no_ebrio</th><th>Mujer_no_ebrio</th><th>Ignorado1</th><th>Total_ebrio</th><th>Hombre_ebrio</th><th>Mujer_ebrio</th><th>Total_ignorados</th><th>Hombre_ignorados</th><th>Mujer_ignorados</th><th>Ignorado2</th></tr></thead><tbody><tr><td>count</td><td>23</td><td>23</td><td>23</td><td>23</td><td>23</td><td>23</td><td>23</td><td>23</td><td>23</td><td>23</td><td>23</td><td>23</td><td>23</td><td>23</td><td>23</td></tr><tr><td>mean</td><td>1134.3478260869565</td><td>1021.8260869565217</td><td>85.47826086956522</td><td>27.043478260869566</td><td>43.91304347826087</td><td>38.608695652173914</td><td>5.217391304347826</td><td>0.08695652173913043</td><td>43.04347826086956</td><td>41.56521739130435</td><td>1.4782608695652173</td><td>1047.391304347826</td><td>941.6521739130435</td><td>78.78260869565217</td><td>26.956521739130434</td></tr><tr><td>stddev</td><td>2809.1181503469543</td><td>2525.6253528433112</td><td>217.7715378274834</td><td>66.55105918211122</td><td>112.4293366129379</td><td>98.2375317697943</td><td>14.029049477744802</td><td>0.28810406552003054</td><td>105.05863222759754</td><td>101.54525461673659</td><td>3.5785924761939483</td><td>2592.750149922076</td><td>2326.8060943685255</td><td>200.38076402909877</td><td>66.29718097727533</td></tr><tr><td>min</td><td>77</td><td>74</td><td>3</td><td>0</td><td>0</td><td>0</td><td>0</td><td>0</td><td>0</td><td>0</td><td>0</td><td>77</td><td>74</td><td>3</td><td>0</td></tr><tr><td>max</td><td>13045</td><td>11751</td><td>983</td><td>311</td><td>505</td><td>444</td><td>60</td><td>1</td><td>495</td><td>478</td><td>17</td><td>12045</td><td>10829</td><td>906</td><td>310</td></tr></tbody></table></div>"
      ]
     },
     "metadata": {
      "application/vnd.databricks.v1+output": {
       "addedWidgets": {},
       "aggData": [],
       "aggError": "",
       "aggOverflow": false,
       "aggSchema": [],
       "aggSeriesLimitReached": false,
       "aggType": "",
       "arguments": {},
       "columnCustomDisplayInfos": {},
       "data": [
        [
         "count",
         "23",
         "23",
         "23",
         "23",
         "23",
         "23",
         "23",
         "23",
         "23",
         "23",
         "23",
         "23",
         "23",
         "23",
         "23"
        ],
        [
         "mean",
         "1134.3478260869565",
         "1021.8260869565217",
         "85.47826086956522",
         "27.043478260869566",
         "43.91304347826087",
         "38.608695652173914",
         "5.217391304347826",
         "0.08695652173913043",
         "43.04347826086956",
         "41.56521739130435",
         "1.4782608695652173",
         "1047.391304347826",
         "941.6521739130435",
         "78.78260869565217",
         "26.956521739130434"
        ],
        [
         "stddev",
         "2809.1181503469543",
         "2525.6253528433112",
         "217.7715378274834",
         "66.55105918211122",
         "112.4293366129379",
         "98.2375317697943",
         "14.029049477744802",
         "0.28810406552003054",
         "105.05863222759754",
         "101.54525461673659",
         "3.5785924761939483",
         "2592.750149922076",
         "2326.8060943685255",
         "200.38076402909877",
         "66.29718097727533"
        ],
        [
         "min",
         "77",
         "74",
         "3",
         "0",
         "0",
         "0",
         "0",
         "0",
         "0",
         "0",
         "0",
         "77",
         "74",
         "3",
         "0"
        ],
        [
         "max",
         "13045",
         "11751",
         "983",
         "311",
         "505",
         "444",
         "60",
         "1",
         "495",
         "478",
         "17",
         "12045",
         "10829",
         "906",
         "310"
        ]
       ],
       "datasetInfos": [],
       "dbfsResultPath": null,
       "isJsonSchema": true,
       "metadata": {},
       "overflow": false,
       "plotOptions": {
        "customPlotOptions": {},
        "displayType": "table",
        "pivotAggregation": null,
        "pivotColumns": null,
        "xColumns": null,
        "yColumns": null
       },
       "removedWidgets": [],
       "schema": [
        {
         "metadata": "{}",
         "name": "summary",
         "type": "\"string\""
        },
        {
         "metadata": "{}",
         "name": "Total",
         "type": "\"string\""
        },
        {
         "metadata": "{}",
         "name": "Hombre",
         "type": "\"string\""
        },
        {
         "metadata": "{}",
         "name": "Mujer",
         "type": "\"string\""
        },
        {
         "metadata": "{}",
         "name": "Ignorado",
         "type": "\"string\""
        },
        {
         "metadata": "{}",
         "name": "Total_no_ebrio",
         "type": "\"string\""
        },
        {
         "metadata": "{}",
         "name": "Hombre_no_ebrio",
         "type": "\"string\""
        },
        {
         "metadata": "{}",
         "name": "Mujer_no_ebrio",
         "type": "\"string\""
        },
        {
         "metadata": "{}",
         "name": "Ignorado1",
         "type": "\"string\""
        },
        {
         "metadata": "{}",
         "name": "Total_ebrio",
         "type": "\"string\""
        },
        {
         "metadata": "{}",
         "name": "Hombre_ebrio",
         "type": "\"string\""
        },
        {
         "metadata": "{}",
         "name": "Mujer_ebrio",
         "type": "\"string\""
        },
        {
         "metadata": "{}",
         "name": "Total_ignorados",
         "type": "\"string\""
        },
        {
         "metadata": "{}",
         "name": "Hombre_ignorados",
         "type": "\"string\""
        },
        {
         "metadata": "{}",
         "name": "Mujer_ignorados",
         "type": "\"string\""
        },
        {
         "metadata": "{}",
         "name": "Ignorado2",
         "type": "\"string\""
        }
       ],
       "type": "table"
      }
     },
     "output_type": "display_data"
    },
    {
     "output_type": "display_data",
     "data": {
      "text/html": [
       "<h4 style='margin:10px 0'>Cuadro 23 — columnas numéricas</h4>"
      ]
     },
     "metadata": {},
     "output_type": "display_data"
    },
    {
     "output_type": "display_data",
     "data": {
      "text/html": [
       "<p style='margin:6px 0 4px 0'><i>Resumen (describe):</i></p>"
      ]
     },
     "metadata": {},
     "output_type": "display_data"
    },
    {
     "output_type": "display_data",
     "data": {
      "text/html": [
       "<style scoped>\n",
       "  .table-result-container {\n",
       "    max-height: 300px;\n",
       "    overflow: auto;\n",
       "  }\n",
       "  table, th, td {\n",
       "    border: 1px solid black;\n",
       "    border-collapse: collapse;\n",
       "  }\n",
       "  th, td {\n",
       "    padding: 5px;\n",
       "  }\n",
       "  th {\n",
       "    text-align: left;\n",
       "  }\n",
       "</style><div class='table-result-container'><table class='table-result'><thead style='background-color: white'><tr><th>summary</th><th>Total1</th><th>Hombre</th><th>Mujer</th><th>Ignorado</th><th>total_no_ebrio</th><th>hombre_no_ebrio</th><th>mujer_no_ebrio</th><th>Ignorado1</th><th>total_ebrio</th><th>hombre_ebrio</th><th>mujer_ebrio</th><th>total12</th><th>hombre_ignorado</th><th>mujer_ignorado</th><th>Ignorado2</th></tr></thead><tbody><tr><td>count</td><td>13</td><td>13</td><td>13</td><td>13</td><td>13</td><td>13</td><td>13</td><td>13</td><td>13</td><td>13</td><td>13</td><td>13</td><td>13</td><td>13</td><td>13</td></tr><tr><td>mean</td><td>2006.923076923077</td><td>1807.8461538461538</td><td>151.23076923076923</td><td>47.84615384615385</td><td>77.6923076923077</td><td>68.3076923076923</td><td>9.23076923076923</td><td>0.15384615384615385</td><td>76.15384615384616</td><td>73.53846153846153</td><td>2.6153846153846154</td><td>1853.076923076923</td><td>1666.0</td><td>139.3846153846154</td><td>47.69230769230769</td></tr><tr><td>stddev</td><td>3318.858399649355</td><td>2990.7671492487743</td><td>250.11435845966997</td><td>88.47395676492052</td><td>132.1737395850531</td><td>116.24785633534971</td><td>15.96952225414527</td><td>0.3755338080994053</td><td>126.64967834795722</td><td>122.31626723690201</td><td>4.46352740812431</td><td>3064.4204036418387</td><td>2756.1764275894966</td><td>230.59290913553642</td><td>88.25284189511464</td></tr><tr><td>min</td><td>852</td><td>712</td><td>67</td><td>0</td><td>0</td><td>0</td><td>0</td><td>0</td><td>15</td><td>15</td><td>0</td><td>809</td><td>671</td><td>60</td><td>0</td></tr><tr><td>max</td><td>13045</td><td>11751</td><td>983</td><td>311</td><td>505</td><td>444</td><td>60</td><td>1</td><td>495</td><td>478</td><td>17</td><td>12045</td><td>10829</td><td>906</td><td>310</td></tr></tbody></table></div>"
      ]
     },
     "metadata": {
      "application/vnd.databricks.v1+output": {
       "addedWidgets": {},
       "aggData": [],
       "aggError": "",
       "aggOverflow": false,
       "aggSchema": [],
       "aggSeriesLimitReached": false,
       "aggType": "",
       "arguments": {},
       "columnCustomDisplayInfos": {},
       "data": [
        [
         "count",
         "13",
         "13",
         "13",
         "13",
         "13",
         "13",
         "13",
         "13",
         "13",
         "13",
         "13",
         "13",
         "13",
         "13",
         "13"
        ],
        [
         "mean",
         "2006.923076923077",
         "1807.8461538461538",
         "151.23076923076923",
         "47.84615384615385",
         "77.6923076923077",
         "68.3076923076923",
         "9.23076923076923",
         "0.15384615384615385",
         "76.15384615384616",
         "73.53846153846153",
         "2.6153846153846154",
         "1853.076923076923",
         "1666.0",
         "139.3846153846154",
         "47.69230769230769"
        ],
        [
         "stddev",
         "3318.858399649355",
         "2990.7671492487743",
         "250.11435845966997",
         "88.47395676492052",
         "132.1737395850531",
         "116.24785633534971",
         "15.96952225414527",
         "0.3755338080994053",
         "126.64967834795722",
         "122.31626723690201",
         "4.46352740812431",
         "3064.4204036418387",
         "2756.1764275894966",
         "230.59290913553642",
         "88.25284189511464"
        ],
        [
         "min",
         "852",
         "712",
         "67",
         "0",
         "0",
         "0",
         "0",
         "0",
         "15",
         "15",
         "0",
         "809",
         "671",
         "60",
         "0"
        ],
        [
         "max",
         "13045",
         "11751",
         "983",
         "311",
         "505",
         "444",
         "60",
         "1",
         "495",
         "478",
         "17",
         "12045",
         "10829",
         "906",
         "310"
        ]
       ],
       "datasetInfos": [],
       "dbfsResultPath": null,
       "isJsonSchema": true,
       "metadata": {},
       "overflow": false,
       "plotOptions": {
        "customPlotOptions": {},
        "displayType": "table",
        "pivotAggregation": null,
        "pivotColumns": null,
        "xColumns": null,
        "yColumns": null
       },
       "removedWidgets": [],
       "schema": [
        {
         "metadata": "{}",
         "name": "summary",
         "type": "\"string\""
        },
        {
         "metadata": "{}",
         "name": "Total1",
         "type": "\"string\""
        },
        {
         "metadata": "{}",
         "name": "Hombre",
         "type": "\"string\""
        },
        {
         "metadata": "{}",
         "name": "Mujer",
         "type": "\"string\""
        },
        {
         "metadata": "{}",
         "name": "Ignorado",
         "type": "\"string\""
        },
        {
         "metadata": "{}",
         "name": "total_no_ebrio",
         "type": "\"string\""
        },
        {
         "metadata": "{}",
         "name": "hombre_no_ebrio",
         "type": "\"string\""
        },
        {
         "metadata": "{}",
         "name": "mujer_no_ebrio",
         "type": "\"string\""
        },
        {
         "metadata": "{}",
         "name": "Ignorado1",
         "type": "\"string\""
        },
        {
         "metadata": "{}",
         "name": "total_ebrio",
         "type": "\"string\""
        },
        {
         "metadata": "{}",
         "name": "hombre_ebrio",
         "type": "\"string\""
        },
        {
         "metadata": "{}",
         "name": "mujer_ebrio",
         "type": "\"string\""
        },
        {
         "metadata": "{}",
         "name": "total12",
         "type": "\"string\""
        },
        {
         "metadata": "{}",
         "name": "hombre_ignorado",
         "type": "\"string\""
        },
        {
         "metadata": "{}",
         "name": "mujer_ignorado",
         "type": "\"string\""
        },
        {
         "metadata": "{}",
         "name": "Ignorado2",
         "type": "\"string\""
        }
       ],
       "type": "table"
      }
     },
     "output_type": "display_data"
    },
    {
     "output_type": "display_data",
     "data": {
      "text/html": [
       "<h4 style='margin:10px 0'>Cuadro 24 — columnas numéricas</h4>"
      ]
     },
     "metadata": {},
     "output_type": "display_data"
    },
    {
     "output_type": "display_data",
     "data": {
      "text/html": [
       "<p style='margin:6px 0 4px 0'><i>Resumen (describe):</i></p>"
      ]
     },
     "metadata": {},
     "output_type": "display_data"
    },
    {
     "output_type": "display_data",
     "data": {
      "text/html": [
       "<style scoped>\n",
       "  .table-result-container {\n",
       "    max-height: 300px;\n",
       "    overflow: auto;\n",
       "  }\n",
       "  table, th, td {\n",
       "    border: 1px solid black;\n",
       "    border-collapse: collapse;\n",
       "  }\n",
       "  th, td {\n",
       "    padding: 5px;\n",
       "  }\n",
       "  th {\n",
       "    text-align: left;\n",
       "  }\n",
       "</style><div class='table-result-container'><table class='table-result'><thead style='background-color: white'><tr><th>summary</th><th>Total</th><th>Lunes</th><th>Martes</th><th>Mircoles</th><th>Jueves</th><th>Viernes</th><th>Sbado</th><th>Domingo</th></tr></thead><tbody><tr><td>count</td><td>15</td><td>15</td><td>15</td><td>15</td><td>15</td><td>15</td><td>15</td><td>15</td></tr><tr><td>mean</td><td>3478.6666666666665</td><td>469.6</td><td>406.6666666666667</td><td>389.3333333333333</td><td>413.06666666666666</td><td>496.26666666666665</td><td>660.8</td><td>642.9333333333333</td></tr><tr><td>stddev</td><td>5291.502428647364</td><td>715.9719467768473</td><td>623.1371858434966</td><td>594.3407712591762</td><td>620.2577190936347</td><td>753.0840843459899</td><td>1004.5132581077692</td><td>980.9441127714424</td></tr><tr><td>min</td><td>1</td><td>0</td><td>0</td><td>0</td><td>0</td><td>1</td><td>0</td><td>0</td></tr><tr><td>max</td><td>13045</td><td>1761</td><td>1525</td><td>1460</td><td>1549</td><td>1861</td><td>2478</td><td>2411</td></tr></tbody></table></div>"
      ]
     },
     "metadata": {
      "application/vnd.databricks.v1+output": {
       "addedWidgets": {},
       "aggData": [],
       "aggError": "",
       "aggOverflow": false,
       "aggSchema": [],
       "aggSeriesLimitReached": false,
       "aggType": "",
       "arguments": {},
       "columnCustomDisplayInfos": {},
       "data": [
        [
         "count",
         "15",
         "15",
         "15",
         "15",
         "15",
         "15",
         "15",
         "15"
        ],
        [
         "mean",
         "3478.6666666666665",
         "469.6",
         "406.6666666666667",
         "389.3333333333333",
         "413.06666666666666",
         "496.26666666666665",
         "660.8",
         "642.9333333333333"
        ],
        [
         "stddev",
         "5291.502428647364",
         "715.9719467768473",
         "623.1371858434966",
         "594.3407712591762",
         "620.2577190936347",
         "753.0840843459899",
         "1004.5132581077692",
         "980.9441127714424"
        ],
        [
         "min",
         "1",
         "0",
         "0",
         "0",
         "0",
         "1",
         "0",
         "0"
        ],
        [
         "max",
         "13045",
         "1761",
         "1525",
         "1460",
         "1549",
         "1861",
         "2478",
         "2411"
        ]
       ],
       "datasetInfos": [],
       "dbfsResultPath": null,
       "isJsonSchema": true,
       "metadata": {},
       "overflow": false,
       "plotOptions": {
        "customPlotOptions": {},
        "displayType": "table",
        "pivotAggregation": null,
        "pivotColumns": null,
        "xColumns": null,
        "yColumns": null
       },
       "removedWidgets": [],
       "schema": [
        {
         "metadata": "{}",
         "name": "summary",
         "type": "\"string\""
        },
        {
         "metadata": "{}",
         "name": "Total",
         "type": "\"string\""
        },
        {
         "metadata": "{}",
         "name": "Lunes",
         "type": "\"string\""
        },
        {
         "metadata": "{}",
         "name": "Martes",
         "type": "\"string\""
        },
        {
         "metadata": "{}",
         "name": "Mircoles",
         "type": "\"string\""
        },
        {
         "metadata": "{}",
         "name": "Jueves",
         "type": "\"string\""
        },
        {
         "metadata": "{}",
         "name": "Viernes",
         "type": "\"string\""
        },
        {
         "metadata": "{}",
         "name": "Sbado",
         "type": "\"string\""
        },
        {
         "metadata": "{}",
         "name": "Domingo",
         "type": "\"string\""
        }
       ],
       "type": "table"
      }
     },
     "output_type": "display_data"
    },
    {
     "output_type": "display_data",
     "data": {
      "text/html": [
       "<h4 style='margin:10px 0'>Cuadro 25 — columnas numéricas</h4>"
      ]
     },
     "metadata": {},
     "output_type": "display_data"
    },
    {
     "output_type": "display_data",
     "data": {
      "text/html": [
       "<p style='margin:6px 0 4px 0'><i>Resumen (describe):</i></p>"
      ]
     },
     "metadata": {},
     "output_type": "display_data"
    },
    {
     "output_type": "display_data",
     "data": {
      "text/html": [
       "<style scoped>\n",
       "  .table-result-container {\n",
       "    max-height: 300px;\n",
       "    overflow: auto;\n",
       "  }\n",
       "  table, th, td {\n",
       "    border: 1px solid black;\n",
       "    border-collapse: collapse;\n",
       "  }\n",
       "  th, td {\n",
       "    padding: 5px;\n",
       "  }\n",
       "  th {\n",
       "    text-align: left;\n",
       "  }\n",
       "</style><div class='table-result-container'><table class='table-result'><thead style='background-color: white'><tr><th>summary</th><th>Total</th><th>Hombre</th><th>Mujer</th><th>Ignorado</th><th>total_no_ebrio</th><th>hombre_no_ebrio</th><th>mujer_no_ebrio</th><th>Ignorado1</th><th>total_ebrio</th><th>hombre_ebrio</th><th>mujer_ebrio</th><th>Total1</th><th>hombre_ignorado</th><th>mujer_ignorado</th><th>Ignorado2</th></tr></thead><tbody><tr><td>count</td><td>26</td><td>26</td><td>26</td><td>26</td><td>26</td><td>26</td><td>26</td><td>26</td><td>26</td><td>26</td><td>26</td><td>26</td><td>26</td><td>26</td><td>26</td></tr><tr><td>mean</td><td>1003.4615384615385</td><td>903.9230769230769</td><td>75.61538461538461</td><td>23.923076923076923</td><td>38.84615384615385</td><td>34.15384615384615</td><td>4.615384615384615</td><td>0.07692307692307693</td><td>38.07692307692308</td><td>36.76923076923077</td><td>1.3076923076923077</td><td>926.5384615384615</td><td>833.0</td><td>69.6923076923077</td><td>23.846153846153847</td></tr><tr><td>stddev</td><td>2467.699385756203</td><td>2223.0958579976154</td><td>185.99872621565493</td><td>58.89578801708869</td><td>95.51154581837413</td><td>83.9936627646121</td><td>11.416048083559994</td><td>0.27174648819470304</td><td>94.10926546389491</td><td>90.86751133042334</td><td>3.319870247696204</td><td>2278.524280858455</td><td>2048.6572578154696</td><td>171.4504638035766</td><td>58.710607087777454</td></tr><tr><td>min</td><td>2</td><td>0</td><td>1</td><td>1</td><td>0</td><td>0</td><td>0</td><td>0</td><td>0</td><td>0</td><td>0</td><td>2</td><td>0</td><td>1</td><td>1</td></tr><tr><td>max</td><td>13045</td><td>11751</td><td>983</td><td>311</td><td>505</td><td>444</td><td>60</td><td>1</td><td>495</td><td>478</td><td>17</td><td>12045</td><td>10829</td><td>906</td><td>310</td></tr></tbody></table></div>"
      ]
     },
     "metadata": {
      "application/vnd.databricks.v1+output": {
       "addedWidgets": {},
       "aggData": [],
       "aggError": "",
       "aggOverflow": false,
       "aggSchema": [],
       "aggSeriesLimitReached": false,
       "aggType": "",
       "arguments": {},
       "columnCustomDisplayInfos": {},
       "data": [
        [
         "count",
         "26",
         "26",
         "26",
         "26",
         "26",
         "26",
         "26",
         "26",
         "26",
         "26",
         "26",
         "26",
         "26",
         "26",
         "26"
        ],
        [
         "mean",
         "1003.4615384615385",
         "903.9230769230769",
         "75.61538461538461",
         "23.923076923076923",
         "38.84615384615385",
         "34.15384615384615",
         "4.615384615384615",
         "0.07692307692307693",
         "38.07692307692308",
         "36.76923076923077",
         "1.3076923076923077",
         "926.5384615384615",
         "833.0",
         "69.6923076923077",
         "23.846153846153847"
        ],
        [
         "stddev",
         "2467.699385756203",
         "2223.0958579976154",
         "185.99872621565493",
         "58.89578801708869",
         "95.51154581837413",
         "83.9936627646121",
         "11.416048083559994",
         "0.27174648819470304",
         "94.10926546389491",
         "90.86751133042334",
         "3.319870247696204",
         "2278.524280858455",
         "2048.6572578154696",
         "171.4504638035766",
         "58.710607087777454"
        ],
        [
         "min",
         "2",
         "0",
         "1",
         "1",
         "0",
         "0",
         "0",
         "0",
         "0",
         "0",
         "0",
         "2",
         "0",
         "1",
         "1"
        ],
        [
         "max",
         "13045",
         "11751",
         "983",
         "311",
         "505",
         "444",
         "60",
         "1",
         "495",
         "478",
         "17",
         "12045",
         "10829",
         "906",
         "310"
        ]
       ],
       "datasetInfos": [],
       "dbfsResultPath": null,
       "isJsonSchema": true,
       "metadata": {},
       "overflow": false,
       "plotOptions": {
        "customPlotOptions": {},
        "displayType": "table",
        "pivotAggregation": null,
        "pivotColumns": null,
        "xColumns": null,
        "yColumns": null
       },
       "removedWidgets": [],
       "schema": [
        {
         "metadata": "{}",
         "name": "summary",
         "type": "\"string\""
        },
        {
         "metadata": "{}",
         "name": "Total",
         "type": "\"string\""
        },
        {
         "metadata": "{}",
         "name": "Hombre",
         "type": "\"string\""
        },
        {
         "metadata": "{}",
         "name": "Mujer",
         "type": "\"string\""
        },
        {
         "metadata": "{}",
         "name": "Ignorado",
         "type": "\"string\""
        },
        {
         "metadata": "{}",
         "name": "total_no_ebrio",
         "type": "\"string\""
        },
        {
         "metadata": "{}",
         "name": "hombre_no_ebrio",
         "type": "\"string\""
        },
        {
         "metadata": "{}",
         "name": "mujer_no_ebrio",
         "type": "\"string\""
        },
        {
         "metadata": "{}",
         "name": "Ignorado1",
         "type": "\"string\""
        },
        {
         "metadata": "{}",
         "name": "total_ebrio",
         "type": "\"string\""
        },
        {
         "metadata": "{}",
         "name": "hombre_ebrio",
         "type": "\"string\""
        },
        {
         "metadata": "{}",
         "name": "mujer_ebrio",
         "type": "\"string\""
        },
        {
         "metadata": "{}",
         "name": "Total1",
         "type": "\"string\""
        },
        {
         "metadata": "{}",
         "name": "hombre_ignorado",
         "type": "\"string\""
        },
        {
         "metadata": "{}",
         "name": "mujer_ignorado",
         "type": "\"string\""
        },
        {
         "metadata": "{}",
         "name": "Ignorado2",
         "type": "\"string\""
        }
       ],
       "type": "table"
      }
     },
     "output_type": "display_data"
    },
    {
     "output_type": "display_data",
     "data": {
      "text/html": [
       "<h4 style='margin:10px 0'>Cuadro 26 — columnas numéricas</h4>"
      ]
     },
     "metadata": {},
     "output_type": "display_data"
    },
    {
     "output_type": "display_data",
     "data": {
      "text/html": [
       "<p style='margin:6px 0 4px 0'><i>Resumen (describe):</i></p>"
      ]
     },
     "metadata": {},
     "output_type": "display_data"
    },
    {
     "output_type": "display_data",
     "data": {
      "text/html": [
       "<style scoped>\n",
       "  .table-result-container {\n",
       "    max-height: 300px;\n",
       "    overflow: auto;\n",
       "  }\n",
       "  table, th, td {\n",
       "    border: 1px solid black;\n",
       "    border-collapse: collapse;\n",
       "  }\n",
       "  th, td {\n",
       "    padding: 5px;\n",
       "  }\n",
       "  th {\n",
       "    text-align: left;\n",
       "  }\n",
       "</style><div class='table-result-container'><table class='table-result'><thead style='background-color: white'><tr><th>summary</th><th>Total</th><th>Hombres</th><th>Mujeres</th><th>Ignorado</th><th>total_no_ebrio</th><th>hombre_no_ebrio</th><th>mujer_no_ebrio</th><th>Ignorado1</th><th>total_ebrio</th><th>hombre_ebrio</th><th>mujer_ebrio</th><th>Total1</th><th>hombre_ignorado</th><th>mujer_ignorado</th><th>Ignorado2</th></tr></thead><tbody><tr><td>count</td><td>17</td><td>17</td><td>17</td><td>17</td><td>17</td><td>17</td><td>17</td><td>17</td><td>17</td><td>17</td><td>17</td><td>17</td><td>17</td><td>17</td><td>17</td></tr><tr><td>mean</td><td>1534.7058823529412</td><td>1382.4705882352941</td><td>115.6470588235294</td><td>36.588235294117645</td><td>59.411764705882355</td><td>52.23529411764706</td><td>7.0588235294117645</td><td>0.11764705882352941</td><td>58.23529411764706</td><td>56.23529411764706</td><td>2.0</td><td>1417.0588235294117</td><td>1274.0</td><td>106.58823529411765</td><td>36.470588235294116</td></tr><tr><td>stddev</td><td>3090.237405214725</td><td>2780.4202496575735</td><td>231.19984352732337</td><td>102.53539561020465</td><td>118.0831586338254</td><td>103.75302972188612</td><td>14.263022944993523</td><td>0.3321055820775357</td><td>117.99657273188315</td><td>113.9953559425584</td><td>4.107919181288746</td><td>2859.867883106408</td><td>2567.667764723466</td><td>213.02290335299904</td><td>102.20330085609933</td></tr><tr><td>min</td><td>9</td><td>9</td><td>0</td><td>0</td><td>0</td><td>0</td><td>0</td><td>0</td><td>0</td><td>0</td><td>0</td><td>9</td><td>9</td><td>0</td><td>0</td></tr><tr><td>max</td><td>13045</td><td>11751</td><td>983</td><td>311</td><td>505</td><td>444</td><td>60</td><td>1</td><td>495</td><td>478</td><td>17</td><td>12045</td><td>10829</td><td>906</td><td>310</td></tr></tbody></table></div>"
      ]
     },
     "metadata": {
      "application/vnd.databricks.v1+output": {
       "addedWidgets": {},
       "aggData": [],
       "aggError": "",
       "aggOverflow": false,
       "aggSchema": [],
       "aggSeriesLimitReached": false,
       "aggType": "",
       "arguments": {},
       "columnCustomDisplayInfos": {},
       "data": [
        [
         "count",
         "17",
         "17",
         "17",
         "17",
         "17",
         "17",
         "17",
         "17",
         "17",
         "17",
         "17",
         "17",
         "17",
         "17",
         "17"
        ],
        [
         "mean",
         "1534.7058823529412",
         "1382.4705882352941",
         "115.6470588235294",
         "36.588235294117645",
         "59.411764705882355",
         "52.23529411764706",
         "7.0588235294117645",
         "0.11764705882352941",
         "58.23529411764706",
         "56.23529411764706",
         "2.0",
         "1417.0588235294117",
         "1274.0",
         "106.58823529411765",
         "36.470588235294116"
        ],
        [
         "stddev",
         "3090.237405214725",
         "2780.4202496575735",
         "231.19984352732337",
         "102.53539561020465",
         "118.0831586338254",
         "103.75302972188612",
         "14.263022944993523",
         "0.3321055820775357",
         "117.99657273188315",
         "113.9953559425584",
         "4.107919181288746",
         "2859.867883106408",
         "2567.667764723466",
         "213.02290335299904",
         "102.20330085609933"
        ],
        [
         "min",
         "9",
         "9",
         "0",
         "0",
         "0",
         "0",
         "0",
         "0",
         "0",
         "0",
         "0",
         "9",
         "9",
         "0",
         "0"
        ],
        [
         "max",
         "13045",
         "11751",
         "983",
         "311",
         "505",
         "444",
         "60",
         "1",
         "495",
         "478",
         "17",
         "12045",
         "10829",
         "906",
         "310"
        ]
       ],
       "datasetInfos": [],
       "dbfsResultPath": null,
       "isJsonSchema": true,
       "metadata": {},
       "overflow": false,
       "plotOptions": {
        "customPlotOptions": {},
        "displayType": "table",
        "pivotAggregation": null,
        "pivotColumns": null,
        "xColumns": null,
        "yColumns": null
       },
       "removedWidgets": [],
       "schema": [
        {
         "metadata": "{}",
         "name": "summary",
         "type": "\"string\""
        },
        {
         "metadata": "{}",
         "name": "Total",
         "type": "\"string\""
        },
        {
         "metadata": "{}",
         "name": "Hombres",
         "type": "\"string\""
        },
        {
         "metadata": "{}",
         "name": "Mujeres",
         "type": "\"string\""
        },
        {
         "metadata": "{}",
         "name": "Ignorado",
         "type": "\"string\""
        },
        {
         "metadata": "{}",
         "name": "total_no_ebrio",
         "type": "\"string\""
        },
        {
         "metadata": "{}",
         "name": "hombre_no_ebrio",
         "type": "\"string\""
        },
        {
         "metadata": "{}",
         "name": "mujer_no_ebrio",
         "type": "\"string\""
        },
        {
         "metadata": "{}",
         "name": "Ignorado1",
         "type": "\"string\""
        },
        {
         "metadata": "{}",
         "name": "total_ebrio",
         "type": "\"string\""
        },
        {
         "metadata": "{}",
         "name": "hombre_ebrio",
         "type": "\"string\""
        },
        {
         "metadata": "{}",
         "name": "mujer_ebrio",
         "type": "\"string\""
        },
        {
         "metadata": "{}",
         "name": "Total1",
         "type": "\"string\""
        },
        {
         "metadata": "{}",
         "name": "hombre_ignorado",
         "type": "\"string\""
        },
        {
         "metadata": "{}",
         "name": "mujer_ignorado",
         "type": "\"string\""
        },
        {
         "metadata": "{}",
         "name": "Ignorado2",
         "type": "\"string\""
        }
       ],
       "type": "table"
      }
     },
     "output_type": "display_data"
    },
    {
     "output_type": "display_data",
     "data": {
      "text/html": [
       "<h4 style='margin:10px 0'>Cuadro 27 — columnas numéricas</h4>"
      ]
     },
     "metadata": {},
     "output_type": "display_data"
    },
    {
     "output_type": "display_data",
     "data": {
      "text/html": [
       "<p style='margin:6px 0 4px 0'><i>Resumen (describe):</i></p>"
      ]
     },
     "metadata": {},
     "output_type": "display_data"
    },
    {
     "output_type": "display_data",
     "data": {
      "text/html": [
       "<style scoped>\n",
       "  .table-result-container {\n",
       "    max-height: 300px;\n",
       "    overflow: auto;\n",
       "  }\n",
       "  table, th, td {\n",
       "    border: 1px solid black;\n",
       "    border-collapse: collapse;\n",
       "  }\n",
       "  th, td {\n",
       "    padding: 5px;\n",
       "  }\n",
       "  th {\n",
       "    text-align: left;\n",
       "  }\n",
       "</style><div class='table-result-container'><table class='table-result'><thead style='background-color: white'><tr><th>summary</th><th>Total</th><th>Atropello</th></tr></thead><tbody><tr><td>count</td><td>63</td><td>63</td></tr><tr><td>mean</td><td>828.2539682539683</td><td>131.61904761904762</td></tr><tr><td>stddev</td><td>2406.326285549057</td><td>368.12495374100934</td></tr><tr><td>min</td><td>1</td><td>0</td></tr><tr><td>max</td><td>13045</td><td>2073</td></tr></tbody></table></div>"
      ]
     },
     "metadata": {
      "application/vnd.databricks.v1+output": {
       "addedWidgets": {},
       "aggData": [],
       "aggError": "",
       "aggOverflow": false,
       "aggSchema": [],
       "aggSeriesLimitReached": false,
       "aggType": "",
       "arguments": {},
       "columnCustomDisplayInfos": {},
       "data": [
        [
         "count",
         "63",
         "63"
        ],
        [
         "mean",
         "828.2539682539683",
         "131.61904761904762"
        ],
        [
         "stddev",
         "2406.326285549057",
         "368.12495374100934"
        ],
        [
         "min",
         "1",
         "0"
        ],
        [
         "max",
         "13045",
         "2073"
        ]
       ],
       "datasetInfos": [],
       "dbfsResultPath": null,
       "isJsonSchema": true,
       "metadata": {},
       "overflow": false,
       "plotOptions": {
        "customPlotOptions": {},
        "displayType": "table",
        "pivotAggregation": null,
        "pivotColumns": null,
        "xColumns": null,
        "yColumns": null
       },
       "removedWidgets": [],
       "schema": [
        {
         "metadata": "{}",
         "name": "summary",
         "type": "\"string\""
        },
        {
         "metadata": "{}",
         "name": "Total",
         "type": "\"string\""
        },
        {
         "metadata": "{}",
         "name": "Atropello",
         "type": "\"string\""
        }
       ],
       "type": "table"
      }
     },
     "output_type": "display_data"
    },
    {
     "output_type": "display_data",
     "data": {
      "text/html": [
       "<h4 style='margin:10px 0'>Cuadro 28 — columnas numéricas</h4>"
      ]
     },
     "metadata": {},
     "output_type": "display_data"
    },
    {
     "output_type": "display_data",
     "data": {
      "text/html": [
       "<p style='margin:6px 0 4px 0'><i>Resumen (describe):</i></p>"
      ]
     },
     "metadata": {},
     "output_type": "display_data"
    },
    {
     "output_type": "display_data",
     "data": {
      "text/html": [
       "<style scoped>\n",
       "  .table-result-container {\n",
       "    max-height: 300px;\n",
       "    overflow: auto;\n",
       "  }\n",
       "  table, th, td {\n",
       "    border: 1px solid black;\n",
       "    border-collapse: collapse;\n",
       "  }\n",
       "  th, td {\n",
       "    padding: 5px;\n",
       "  }\n",
       "  th {\n",
       "    text-align: left;\n",
       "  }\n",
       "</style><div class='table-result-container'><table class='table-result'><thead style='background-color: white'><tr><th>summary</th><th>Total</th><th>Motocicleta</th><th>Automvil</th><th>Camioneta</th><th>Pick_Up</th><th>Camin</th><th>Bus_Urbano</th><th>Cabezal</th><th>Microbs</th><th>Moto_Taxi</th><th>Panel</th><th>Jeep</th><th>Cuatrimoto</th><th>Bicicleta</th><th>Taxi</th><th>Bus_Extraurbano</th><th>Ignorado</th></tr></thead><tbody><tr><td>count</td><td>24</td><td>24</td><td>24</td><td>24</td><td>24</td><td>24</td><td>24</td><td>24</td><td>24</td><td>24</td><td>24</td><td>24</td><td>24</td><td>24</td><td>24</td><td>24</td><td>24</td></tr><tr><td>mean</td><td>228.16666666666666</td><td>118.33333333333333</td><td>61.5</td><td>18.5</td><td>9.0</td><td>6.583333333333333</td><td>4.083333333333333</td><td>3.1666666666666665</td><td>1.0833333333333333</td><td>0.8333333333333334</td><td>0.6666666666666666</td><td>0.25</td><td>0.08333333333333333</td><td>0.08333333333333333</td><td>0.08333333333333333</td><td>0.08333333333333333</td><td>3.8333333333333335</td></tr><tr><td>stddev</td><td>547.4091281876731</td><td>284.0031638933786</td><td>147.7477285928546</td><td>44.30820907353792</td><td>21.572929897161075</td><td>15.904379125332708</td><td>10.337423220540979</td><td>7.844503291098678</td><td>2.6525896561771436</td><td>2.160246899469286</td><td>1.7110044511584583</td><td>0.7372097807744856</td><td>0.2823298512866399</td><td>0.2823298512866399</td><td>0.2823298512866399</td><td>0.2823298512866399</td><td>9.612793407821124</td></tr><tr><td>min</td><td>5</td><td>2</td><td>1</td><td>0</td><td>0</td><td>0</td><td>0</td><td>0</td><td>0</td><td>0</td><td>0</td><td>0</td><td>0</td><td>0</td><td>0</td><td>0</td><td>0</td></tr><tr><td>max</td><td>2738</td><td>1420</td><td>738</td><td>222</td><td>108</td><td>79</td><td>49</td><td>38</td><td>13</td><td>10</td><td>8</td><td>3</td><td>1</td><td>1</td><td>1</td><td>1</td><td>46</td></tr></tbody></table></div>"
      ]
     },
     "metadata": {
      "application/vnd.databricks.v1+output": {
       "addedWidgets": {},
       "aggData": [],
       "aggError": "",
       "aggOverflow": false,
       "aggSchema": [],
       "aggSeriesLimitReached": false,
       "aggType": "",
       "arguments": {},
       "columnCustomDisplayInfos": {},
       "data": [
        [
         "count",
         "24",
         "24",
         "24",
         "24",
         "24",
         "24",
         "24",
         "24",
         "24",
         "24",
         "24",
         "24",
         "24",
         "24",
         "24",
         "24",
         "24"
        ],
        [
         "mean",
         "228.16666666666666",
         "118.33333333333333",
         "61.5",
         "18.5",
         "9.0",
         "6.583333333333333",
         "4.083333333333333",
         "3.1666666666666665",
         "1.0833333333333333",
         "0.8333333333333334",
         "0.6666666666666666",
         "0.25",
         "0.08333333333333333",
         "0.08333333333333333",
         "0.08333333333333333",
         "0.08333333333333333",
         "3.8333333333333335"
        ],
        [
         "stddev",
         "547.4091281876731",
         "284.0031638933786",
         "147.7477285928546",
         "44.30820907353792",
         "21.572929897161075",
         "15.904379125332708",
         "10.337423220540979",
         "7.844503291098678",
         "2.6525896561771436",
         "2.160246899469286",
         "1.7110044511584583",
         "0.7372097807744856",
         "0.2823298512866399",
         "0.2823298512866399",
         "0.2823298512866399",
         "0.2823298512866399",
         "9.612793407821124"
        ],
        [
         "min",
         "5",
         "2",
         "1",
         "0",
         "0",
         "0",
         "0",
         "0",
         "0",
         "0",
         "0",
         "0",
         "0",
         "0",
         "0",
         "0",
         "0"
        ],
        [
         "max",
         "2738",
         "1420",
         "738",
         "222",
         "108",
         "79",
         "49",
         "38",
         "13",
         "10",
         "8",
         "3",
         "1",
         "1",
         "1",
         "1",
         "46"
        ]
       ],
       "datasetInfos": [],
       "dbfsResultPath": null,
       "isJsonSchema": true,
       "metadata": {},
       "overflow": false,
       "plotOptions": {
        "customPlotOptions": {},
        "displayType": "table",
        "pivotAggregation": null,
        "pivotColumns": null,
        "xColumns": null,
        "yColumns": null
       },
       "removedWidgets": [],
       "schema": [
        {
         "metadata": "{}",
         "name": "summary",
         "type": "\"string\""
        },
        {
         "metadata": "{}",
         "name": "Total",
         "type": "\"string\""
        },
        {
         "metadata": "{}",
         "name": "Motocicleta",
         "type": "\"string\""
        },
        {
         "metadata": "{}",
         "name": "Automvil",
         "type": "\"string\""
        },
        {
         "metadata": "{}",
         "name": "Camioneta",
         "type": "\"string\""
        },
        {
         "metadata": "{}",
         "name": "Pick_Up",
         "type": "\"string\""
        },
        {
         "metadata": "{}",
         "name": "Camin",
         "type": "\"string\""
        },
        {
         "metadata": "{}",
         "name": "Bus_Urbano",
         "type": "\"string\""
        },
        {
         "metadata": "{}",
         "name": "Cabezal",
         "type": "\"string\""
        },
        {
         "metadata": "{}",
         "name": "Microbs",
         "type": "\"string\""
        },
        {
         "metadata": "{}",
         "name": "Moto_Taxi",
         "type": "\"string\""
        },
        {
         "metadata": "{}",
         "name": "Panel",
         "type": "\"string\""
        },
        {
         "metadata": "{}",
         "name": "Jeep",
         "type": "\"string\""
        },
        {
         "metadata": "{}",
         "name": "Cuatrimoto",
         "type": "\"string\""
        },
        {
         "metadata": "{}",
         "name": "Bicicleta",
         "type": "\"string\""
        },
        {
         "metadata": "{}",
         "name": "Taxi",
         "type": "\"string\""
        },
        {
         "metadata": "{}",
         "name": "Bus_Extraurbano",
         "type": "\"string\""
        },
        {
         "metadata": "{}",
         "name": "Ignorado",
         "type": "\"string\""
        }
       ],
       "type": "table"
      }
     },
     "output_type": "display_data"
    },
    {
     "output_type": "display_data",
     "data": {
      "text/html": [
       "<h4 style='margin:10px 0'>Cuadro 29 — columnas numéricas</h4>"
      ]
     },
     "metadata": {},
     "output_type": "display_data"
    },
    {
     "output_type": "display_data",
     "data": {
      "text/html": [
       "<p style='margin:6px 0 4px 0'><i>Resumen (describe):</i></p>"
      ]
     },
     "metadata": {},
     "output_type": "display_data"
    },
    {
     "output_type": "display_data",
     "data": {
      "text/html": [
       "<style scoped>\n",
       "  .table-result-container {\n",
       "    max-height: 300px;\n",
       "    overflow: auto;\n",
       "  }\n",
       "  table, th, td {\n",
       "    border: 1px solid black;\n",
       "    border-collapse: collapse;\n",
       "  }\n",
       "  th, td {\n",
       "    padding: 5px;\n",
       "  }\n",
       "  th {\n",
       "    text-align: left;\n",
       "  }\n",
       "</style><div class='table-result-container'><table class='table-result'><thead style='background-color: white'><tr><th>summary</th><th>2020</th><th>2021</th><th>2022</th><th>2023</th><th>2024</th></tr></thead><tbody><tr><td>count</td><td>23</td><td>23</td><td>23</td><td>23</td><td>23</td></tr><tr><td>mean</td><td>708.0</td><td>916.8695652173913</td><td>932.3478260869565</td><td>973.7391304347826</td><td>980.3478260869565</td></tr><tr><td>stddev</td><td>1724.8353017554512</td><td>2239.3072854293746</td><td>2271.3492707818905</td><td>2372.613484543063</td><td>2393.057925992213</td></tr><tr><td>min</td><td>74</td><td>79</td><td>93</td><td>107</td><td>102</td></tr><tr><td>max</td><td>8142</td><td>10544</td><td>10722</td><td>11198</td><td>11274</td></tr></tbody></table></div>"
      ]
     },
     "metadata": {
      "application/vnd.databricks.v1+output": {
       "addedWidgets": {},
       "aggData": [],
       "aggError": "",
       "aggOverflow": false,
       "aggSchema": [],
       "aggSeriesLimitReached": false,
       "aggType": "",
       "arguments": {},
       "columnCustomDisplayInfos": {},
       "data": [
        [
         "count",
         "23",
         "23",
         "23",
         "23",
         "23"
        ],
        [
         "mean",
         "708.0",
         "916.8695652173913",
         "932.3478260869565",
         "973.7391304347826",
         "980.3478260869565"
        ],
        [
         "stddev",
         "1724.8353017554512",
         "2239.3072854293746",
         "2271.3492707818905",
         "2372.613484543063",
         "2393.057925992213"
        ],
        [
         "min",
         "74",
         "79",
         "93",
         "107",
         "102"
        ],
        [
         "max",
         "8142",
         "10544",
         "10722",
         "11198",
         "11274"
        ]
       ],
       "datasetInfos": [],
       "dbfsResultPath": null,
       "isJsonSchema": true,
       "metadata": {},
       "overflow": false,
       "plotOptions": {
        "customPlotOptions": {},
        "displayType": "table",
        "pivotAggregation": null,
        "pivotColumns": null,
        "xColumns": null,
        "yColumns": null
       },
       "removedWidgets": [],
       "schema": [
        {
         "metadata": "{}",
         "name": "summary",
         "type": "\"string\""
        },
        {
         "metadata": "{}",
         "name": "2020",
         "type": "\"string\""
        },
        {
         "metadata": "{}",
         "name": "2021",
         "type": "\"string\""
        },
        {
         "metadata": "{}",
         "name": "2022",
         "type": "\"string\""
        },
        {
         "metadata": "{}",
         "name": "2023",
         "type": "\"string\""
        },
        {
         "metadata": "{}",
         "name": "2024",
         "type": "\"string\""
        }
       ],
       "type": "table"
      }
     },
     "output_type": "display_data"
    },
    {
     "output_type": "display_data",
     "data": {
      "text/html": [
       "<h4 style='margin:10px 0'>Cuadro 30 — columnas numéricas</h4>"
      ]
     },
     "metadata": {},
     "output_type": "display_data"
    },
    {
     "output_type": "display_data",
     "data": {
      "text/html": [
       "<p style='margin:6px 0 4px 0'><i>Resumen (describe):</i></p>"
      ]
     },
     "metadata": {},
     "output_type": "display_data"
    },
    {
     "output_type": "display_data",
     "data": {
      "text/html": [
       "<style scoped>\n",
       "  .table-result-container {\n",
       "    max-height: 300px;\n",
       "    overflow: auto;\n",
       "  }\n",
       "  table, th, td {\n",
       "    border: 1px solid black;\n",
       "    border-collapse: collapse;\n",
       "  }\n",
       "  th, td {\n",
       "    padding: 5px;\n",
       "  }\n",
       "  th {\n",
       "    text-align: left;\n",
       "  }\n",
       "</style><div class='table-result-container'><table class='table-result'><thead style='background-color: white'><tr><th>summary</th><th>Total</th><th>Hombre</th><th>Mujer</th><th>Ignorado</th><th>Total_fallecidos</th><th>hombre_fallecidoa</th><th>mujer_fallecidas</th><th>Ignorado1</th><th>Total_lesionados</th><th>hombre_lesionados</th><th>mujer_lesionados</th><th>Ignorado2</th><th>Total1</th><th>hombre_ignorado</th><th>mujer_ignorado</th></tr></thead><tbody><tr><td>count</td><td>23</td><td>23</td><td>23</td><td>23</td><td>23</td><td>23</td><td>23</td><td>23</td><td>23</td><td>23</td><td>23</td><td>23</td><td>23</td><td>23</td><td>23</td></tr><tr><td>mean</td><td>980.3478260869565</td><td>736.3478260869565</td><td>241.1304347826087</td><td>2.869565217391304</td><td>205.65217391304347</td><td>175.7391304347826</td><td>28.434782608695652</td><td>1.4782608695652173</td><td>774.5217391304348</td><td>560.5217391304348</td><td>212.6086956521739</td><td>1.391304347826087</td><td>0.17391304347826086</td><td>0.08695652173913043</td><td>0.08695652173913043</td></tr><tr><td>stddev</td><td>2393.057925992213</td><td>1799.4387662595764</td><td>586.9029890681041</td><td>6.9039142245941445</td><td>485.19430116338236</td><td>414.9370398452917</td><td>66.91162834593955</td><td>3.5658680597805135</td><td>1912.5380060291427</td><td>1388.7979062865586</td><td>520.6695636067112</td><td>3.407733590136393</td><td>0.49102619010353127</td><td>0.2881040655200304</td><td>0.28810406552003054</td></tr><tr><td>min</td><td>102</td><td>62</td><td>34</td><td>0</td><td>14</td><td>10</td><td>4</td><td>0</td><td>88</td><td>52</td><td>29</td><td>0</td><td>0</td><td>0</td><td>0</td></tr><tr><td>max</td><td>11274</td><td>8468</td><td>2773</td><td>33</td><td>2365</td><td>2021</td><td>327</td><td>17</td><td>8907</td><td>6446</td><td>2445</td><td>16</td><td>2</td><td>1</td><td>1</td></tr></tbody></table></div>"
      ]
     },
     "metadata": {
      "application/vnd.databricks.v1+output": {
       "addedWidgets": {},
       "aggData": [],
       "aggError": "",
       "aggOverflow": false,
       "aggSchema": [],
       "aggSeriesLimitReached": false,
       "aggType": "",
       "arguments": {},
       "columnCustomDisplayInfos": {},
       "data": [
        [
         "count",
         "23",
         "23",
         "23",
         "23",
         "23",
         "23",
         "23",
         "23",
         "23",
         "23",
         "23",
         "23",
         "23",
         "23",
         "23"
        ],
        [
         "mean",
         "980.3478260869565",
         "736.3478260869565",
         "241.1304347826087",
         "2.869565217391304",
         "205.65217391304347",
         "175.7391304347826",
         "28.434782608695652",
         "1.4782608695652173",
         "774.5217391304348",
         "560.5217391304348",
         "212.6086956521739",
         "1.391304347826087",
         "0.17391304347826086",
         "0.08695652173913043",
         "0.08695652173913043"
        ],
        [
         "stddev",
         "2393.057925992213",
         "1799.4387662595764",
         "586.9029890681041",
         "6.9039142245941445",
         "485.19430116338236",
         "414.9370398452917",
         "66.91162834593955",
         "3.5658680597805135",
         "1912.5380060291427",
         "1388.7979062865586",
         "520.6695636067112",
         "3.407733590136393",
         "0.49102619010353127",
         "0.2881040655200304",
         "0.28810406552003054"
        ],
        [
         "min",
         "102",
         "62",
         "34",
         "0",
         "14",
         "10",
         "4",
         "0",
         "88",
         "52",
         "29",
         "0",
         "0",
         "0",
         "0"
        ],
        [
         "max",
         "11274",
         "8468",
         "2773",
         "33",
         "2365",
         "2021",
         "327",
         "17",
         "8907",
         "6446",
         "2445",
         "16",
         "2",
         "1",
         "1"
        ]
       ],
       "datasetInfos": [],
       "dbfsResultPath": null,
       "isJsonSchema": true,
       "metadata": {},
       "overflow": false,
       "plotOptions": {
        "customPlotOptions": {},
        "displayType": "table",
        "pivotAggregation": null,
        "pivotColumns": null,
        "xColumns": null,
        "yColumns": null
       },
       "removedWidgets": [],
       "schema": [
        {
         "metadata": "{}",
         "name": "summary",
         "type": "\"string\""
        },
        {
         "metadata": "{}",
         "name": "Total",
         "type": "\"string\""
        },
        {
         "metadata": "{}",
         "name": "Hombre",
         "type": "\"string\""
        },
        {
         "metadata": "{}",
         "name": "Mujer",
         "type": "\"string\""
        },
        {
         "metadata": "{}",
         "name": "Ignorado",
         "type": "\"string\""
        },
        {
         "metadata": "{}",
         "name": "Total_fallecidos",
         "type": "\"string\""
        },
        {
         "metadata": "{}",
         "name": "hombre_fallecidoa",
         "type": "\"string\""
        },
        {
         "metadata": "{}",
         "name": "mujer_fallecidas",
         "type": "\"string\""
        },
        {
         "metadata": "{}",
         "name": "Ignorado1",
         "type": "\"string\""
        },
        {
         "metadata": "{}",
         "name": "Total_lesionados",
         "type": "\"string\""
        },
        {
         "metadata": "{}",
         "name": "hombre_lesionados",
         "type": "\"string\""
        },
        {
         "metadata": "{}",
         "name": "mujer_lesionados",
         "type": "\"string\""
        },
        {
         "metadata": "{}",
         "name": "Ignorado2",
         "type": "\"string\""
        },
        {
         "metadata": "{}",
         "name": "Total1",
         "type": "\"string\""
        },
        {
         "metadata": "{}",
         "name": "hombre_ignorado",
         "type": "\"string\""
        },
        {
         "metadata": "{}",
         "name": "mujer_ignorado",
         "type": "\"string\""
        }
       ],
       "type": "table"
      }
     },
     "output_type": "display_data"
    },
    {
     "output_type": "display_data",
     "data": {
      "text/html": [
       "<h4 style='margin:10px 0'>Cuadro 31 — columnas numéricas</h4>"
      ]
     },
     "metadata": {},
     "output_type": "display_data"
    },
    {
     "output_type": "display_data",
     "data": {
      "text/html": [
       "<p style='margin:6px 0 4px 0'><i>Resumen (describe):</i></p>"
      ]
     },
     "metadata": {},
     "output_type": "display_data"
    },
    {
     "output_type": "display_data",
     "data": {
      "text/html": [
       "<style scoped>\n",
       "  .table-result-container {\n",
       "    max-height: 300px;\n",
       "    overflow: auto;\n",
       "  }\n",
       "  table, th, td {\n",
       "    border: 1px solid black;\n",
       "    border-collapse: collapse;\n",
       "  }\n",
       "  th, td {\n",
       "    padding: 5px;\n",
       "  }\n",
       "  th {\n",
       "    text-align: left;\n",
       "  }\n",
       "</style><div class='table-result-container'><table class='table-result'><thead style='background-color: white'><tr><th>summary</th><th>2020</th><th>2021</th><th>2022</th><th>2023</th><th>2024</th></tr></thead><tbody><tr><td>count</td><td>23</td><td>23</td><td>23</td><td>23</td><td>23</td></tr><tr><td>mean</td><td>573.304347826087</td><td>729.9130434782609</td><td>743.0434782608696</td><td>775.7391304347826</td><td>774.5217391304348</td></tr><tr><td>stddev</td><td>1407.6078171132817</td><td>1804.9188325503342</td><td>1829.5847635774146</td><td>1909.822700418961</td><td>1912.5380060291427</td></tr><tr><td>min</td><td>60</td><td>56</td><td>67</td><td>89</td><td>88</td></tr><tr><td>max</td><td>6593</td><td>8394</td><td>8545</td><td>8921</td><td>8907</td></tr></tbody></table></div>"
      ]
     },
     "metadata": {
      "application/vnd.databricks.v1+output": {
       "addedWidgets": {},
       "aggData": [],
       "aggError": "",
       "aggOverflow": false,
       "aggSchema": [],
       "aggSeriesLimitReached": false,
       "aggType": "",
       "arguments": {},
       "columnCustomDisplayInfos": {},
       "data": [
        [
         "count",
         "23",
         "23",
         "23",
         "23",
         "23"
        ],
        [
         "mean",
         "573.304347826087",
         "729.9130434782609",
         "743.0434782608696",
         "775.7391304347826",
         "774.5217391304348"
        ],
        [
         "stddev",
         "1407.6078171132817",
         "1804.9188325503342",
         "1829.5847635774146",
         "1909.822700418961",
         "1912.5380060291427"
        ],
        [
         "min",
         "60",
         "56",
         "67",
         "89",
         "88"
        ],
        [
         "max",
         "6593",
         "8394",
         "8545",
         "8921",
         "8907"
        ]
       ],
       "datasetInfos": [],
       "dbfsResultPath": null,
       "isJsonSchema": true,
       "metadata": {},
       "overflow": false,
       "plotOptions": {
        "customPlotOptions": {},
        "displayType": "table",
        "pivotAggregation": null,
        "pivotColumns": null,
        "xColumns": null,
        "yColumns": null
       },
       "removedWidgets": [],
       "schema": [
        {
         "metadata": "{}",
         "name": "summary",
         "type": "\"string\""
        },
        {
         "metadata": "{}",
         "name": "2020",
         "type": "\"string\""
        },
        {
         "metadata": "{}",
         "name": "2021",
         "type": "\"string\""
        },
        {
         "metadata": "{}",
         "name": "2022",
         "type": "\"string\""
        },
        {
         "metadata": "{}",
         "name": "2023",
         "type": "\"string\""
        },
        {
         "metadata": "{}",
         "name": "2024",
         "type": "\"string\""
        }
       ],
       "type": "table"
      }
     },
     "output_type": "display_data"
    },
    {
     "output_type": "display_data",
     "data": {
      "text/html": [
       "<h4 style='margin:10px 0'>Cuadro 32 — columnas numéricas</h4>"
      ]
     },
     "metadata": {},
     "output_type": "display_data"
    },
    {
     "output_type": "display_data",
     "data": {
      "text/html": [
       "<p style='margin:6px 0 4px 0'><i>Resumen (describe):</i></p>"
      ]
     },
     "metadata": {},
     "output_type": "display_data"
    },
    {
     "output_type": "display_data",
     "data": {
      "text/html": [
       "<style scoped>\n",
       "  .table-result-container {\n",
       "    max-height: 300px;\n",
       "    overflow: auto;\n",
       "  }\n",
       "  table, th, td {\n",
       "    border: 1px solid black;\n",
       "    border-collapse: collapse;\n",
       "  }\n",
       "  th, td {\n",
       "    padding: 5px;\n",
       "  }\n",
       "  th {\n",
       "    text-align: left;\n",
       "  }\n",
       "</style><div class='table-result-container'><table class='table-result'><thead style='background-color: white'><tr><th>summary</th><th>Total</th><th>Enero</th><th>Febrero</th><th>Marzo</th><th>Abril</th><th>Mayo</th><th>Junio</th><th>Julio</th><th>Agosto</th><th>Septiembre</th><th>Octubre</th><th>Noviembre</th><th>Diciembre</th></tr></thead><tbody><tr><td>count</td><td>23</td><td>23</td><td>23</td><td>23</td><td>23</td><td>23</td><td>23</td><td>23</td><td>23</td><td>23</td><td>23</td><td>23</td><td>23</td></tr><tr><td>mean</td><td>774.5217391304348</td><td>58.34782608695652</td><td>62.69565217391305</td><td>73.04347826086956</td><td>59.65217391304348</td><td>62.34782608695652</td><td>45.73913043478261</td><td>58.43478260869565</td><td>60.869565217391305</td><td>64.08695652173913</td><td>72.34782608695652</td><td>77.65217391304348</td><td>79.30434782608695</td></tr><tr><td>stddev</td><td>1912.5380060291427</td><td>144.77179807471674</td><td>155.69796950349055</td><td>180.44578089248094</td><td>148.2836988207685</td><td>153.03582726563567</td><td>114.46802546455902</td><td>145.63210999793486</td><td>149.9500839212309</td><td>156.20816910412097</td><td>177.68399137376963</td><td>192.47446316935662</td><td>196.28398600511284</td></tr><tr><td>min</td><td>88</td><td>4</td><td>1</td><td>3</td><td>1</td><td>5</td><td>1</td><td>5</td><td>5</td><td>2</td><td>6</td><td>4</td><td>4</td></tr><tr><td>max</td><td>8907</td><td>671</td><td>721</td><td>840</td><td>686</td><td>717</td><td>526</td><td>672</td><td>700</td><td>737</td><td>832</td><td>893</td><td>912</td></tr></tbody></table></div>"
      ]
     },
     "metadata": {
      "application/vnd.databricks.v1+output": {
       "addedWidgets": {},
       "aggData": [],
       "aggError": "",
       "aggOverflow": false,
       "aggSchema": [],
       "aggSeriesLimitReached": false,
       "aggType": "",
       "arguments": {},
       "columnCustomDisplayInfos": {},
       "data": [
        [
         "count",
         "23",
         "23",
         "23",
         "23",
         "23",
         "23",
         "23",
         "23",
         "23",
         "23",
         "23",
         "23",
         "23"
        ],
        [
         "mean",
         "774.5217391304348",
         "58.34782608695652",
         "62.69565217391305",
         "73.04347826086956",
         "59.65217391304348",
         "62.34782608695652",
         "45.73913043478261",
         "58.43478260869565",
         "60.869565217391305",
         "64.08695652173913",
         "72.34782608695652",
         "77.65217391304348",
         "79.30434782608695"
        ],
        [
         "stddev",
         "1912.5380060291427",
         "144.77179807471674",
         "155.69796950349055",
         "180.44578089248094",
         "148.2836988207685",
         "153.03582726563567",
         "114.46802546455902",
         "145.63210999793486",
         "149.9500839212309",
         "156.20816910412097",
         "177.68399137376963",
         "192.47446316935662",
         "196.28398600511284"
        ],
        [
         "min",
         "88",
         "4",
         "1",
         "3",
         "1",
         "5",
         "1",
         "5",
         "5",
         "2",
         "6",
         "4",
         "4"
        ],
        [
         "max",
         "8907",
         "671",
         "721",
         "840",
         "686",
         "717",
         "526",
         "672",
         "700",
         "737",
         "832",
         "893",
         "912"
        ]
       ],
       "datasetInfos": [],
       "dbfsResultPath": null,
       "isJsonSchema": true,
       "metadata": {},
       "overflow": false,
       "plotOptions": {
        "customPlotOptions": {},
        "displayType": "table",
        "pivotAggregation": null,
        "pivotColumns": null,
        "xColumns": null,
        "yColumns": null
       },
       "removedWidgets": [],
       "schema": [
        {
         "metadata": "{}",
         "name": "summary",
         "type": "\"string\""
        },
        {
         "metadata": "{}",
         "name": "Total",
         "type": "\"string\""
        },
        {
         "metadata": "{}",
         "name": "Enero",
         "type": "\"string\""
        },
        {
         "metadata": "{}",
         "name": "Febrero",
         "type": "\"string\""
        },
        {
         "metadata": "{}",
         "name": "Marzo",
         "type": "\"string\""
        },
        {
         "metadata": "{}",
         "name": "Abril",
         "type": "\"string\""
        },
        {
         "metadata": "{}",
         "name": "Mayo",
         "type": "\"string\""
        },
        {
         "metadata": "{}",
         "name": "Junio",
         "type": "\"string\""
        },
        {
         "metadata": "{}",
         "name": "Julio",
         "type": "\"string\""
        },
        {
         "metadata": "{}",
         "name": "Agosto",
         "type": "\"string\""
        },
        {
         "metadata": "{}",
         "name": "Septiembre",
         "type": "\"string\""
        },
        {
         "metadata": "{}",
         "name": "Octubre",
         "type": "\"string\""
        },
        {
         "metadata": "{}",
         "name": "Noviembre",
         "type": "\"string\""
        },
        {
         "metadata": "{}",
         "name": "Diciembre",
         "type": "\"string\""
        }
       ],
       "type": "table"
      }
     },
     "output_type": "display_data"
    },
    {
     "output_type": "display_data",
     "data": {
      "text/html": [
       "<h4 style='margin:10px 0'>Cuadro 33 — columnas numéricas</h4>"
      ]
     },
     "metadata": {},
     "output_type": "display_data"
    },
    {
     "output_type": "display_data",
     "data": {
      "text/html": [
       "<p style='margin:6px 0 4px 0'><i>Resumen (describe):</i></p>"
      ]
     },
     "metadata": {},
     "output_type": "display_data"
    },
    {
     "output_type": "display_data",
     "data": {
      "text/html": [
       "<style scoped>\n",
       "  .table-result-container {\n",
       "    max-height: 300px;\n",
       "    overflow: auto;\n",
       "  }\n",
       "  table, th, td {\n",
       "    border: 1px solid black;\n",
       "    border-collapse: collapse;\n",
       "  }\n",
       "  th, td {\n",
       "    padding: 5px;\n",
       "  }\n",
       "  th {\n",
       "    text-align: left;\n",
       "  }\n",
       "</style><div class='table-result-container'><table class='table-result'><thead style='background-color: white'><tr><th>summary</th><th>Total</th><th>Lunes</th><th>Martes</th><th>Mircoles</th><th>Jueves</th><th>Viernes</th><th>Sbado</th><th>Domingo</th></tr></thead><tbody><tr><td>count</td><td>23</td><td>23</td><td>23</td><td>23</td><td>23</td><td>23</td><td>23</td><td>23</td></tr><tr><td>mean</td><td>774.5217391304348</td><td>108.78260869565217</td><td>90.08695652173913</td><td>84.78260869565217</td><td>90.26086956521739</td><td>105.65217391304348</td><td>147.04347826086956</td><td>147.91304347826087</td></tr><tr><td>stddev</td><td>1912.5380060291427</td><td>265.7738198546993</td><td>222.13425773279104</td><td>209.39804560209313</td><td>224.58248482488247</td><td>262.78397776944473</td><td>362.6677014293926</td><td>366.4522681361576</td></tr><tr><td>min</td><td>88</td><td>5</td><td>10</td><td>9</td><td>9</td><td>9</td><td>12</td><td>12</td></tr><tr><td>max</td><td>8907</td><td>1251</td><td>1036</td><td>975</td><td>1038</td><td>1215</td><td>1691</td><td>1701</td></tr></tbody></table></div>"
      ]
     },
     "metadata": {
      "application/vnd.databricks.v1+output": {
       "addedWidgets": {},
       "aggData": [],
       "aggError": "",
       "aggOverflow": false,
       "aggSchema": [],
       "aggSeriesLimitReached": false,
       "aggType": "",
       "arguments": {},
       "columnCustomDisplayInfos": {},
       "data": [
        [
         "count",
         "23",
         "23",
         "23",
         "23",
         "23",
         "23",
         "23",
         "23"
        ],
        [
         "mean",
         "774.5217391304348",
         "108.78260869565217",
         "90.08695652173913",
         "84.78260869565217",
         "90.26086956521739",
         "105.65217391304348",
         "147.04347826086956",
         "147.91304347826087"
        ],
        [
         "stddev",
         "1912.5380060291427",
         "265.7738198546993",
         "222.13425773279104",
         "209.39804560209313",
         "224.58248482488247",
         "262.78397776944473",
         "362.6677014293926",
         "366.4522681361576"
        ],
        [
         "min",
         "88",
         "5",
         "10",
         "9",
         "9",
         "9",
         "12",
         "12"
        ],
        [
         "max",
         "8907",
         "1251",
         "1036",
         "975",
         "1038",
         "1215",
         "1691",
         "1701"
        ]
       ],
       "datasetInfos": [],
       "dbfsResultPath": null,
       "isJsonSchema": true,
       "metadata": {},
       "overflow": false,
       "plotOptions": {
        "customPlotOptions": {},
        "displayType": "table",
        "pivotAggregation": null,
        "pivotColumns": null,
        "xColumns": null,
        "yColumns": null
       },
       "removedWidgets": [],
       "schema": [
        {
         "metadata": "{}",
         "name": "summary",
         "type": "\"string\""
        },
        {
         "metadata": "{}",
         "name": "Total",
         "type": "\"string\""
        },
        {
         "metadata": "{}",
         "name": "Lunes",
         "type": "\"string\""
        },
        {
         "metadata": "{}",
         "name": "Martes",
         "type": "\"string\""
        },
        {
         "metadata": "{}",
         "name": "Mircoles",
         "type": "\"string\""
        },
        {
         "metadata": "{}",
         "name": "Jueves",
         "type": "\"string\""
        },
        {
         "metadata": "{}",
         "name": "Viernes",
         "type": "\"string\""
        },
        {
         "metadata": "{}",
         "name": "Sbado",
         "type": "\"string\""
        },
        {
         "metadata": "{}",
         "name": "Domingo",
         "type": "\"string\""
        }
       ],
       "type": "table"
      }
     },
     "output_type": "display_data"
    },
    {
     "output_type": "display_data",
     "data": {
      "text/html": [
       "<h4 style='margin:10px 0'>Cuadro 34 — columnas numéricas</h4>"
      ]
     },
     "metadata": {},
     "output_type": "display_data"
    },
    {
     "output_type": "display_data",
     "data": {
      "text/html": [
       "<p style='margin:6px 0 4px 0'><i>Resumen (describe):</i></p>"
      ]
     },
     "metadata": {},
     "output_type": "display_data"
    },
    {
     "output_type": "display_data",
     "data": {
      "text/html": [
       "<style scoped>\n",
       "  .table-result-container {\n",
       "    max-height: 300px;\n",
       "    overflow: auto;\n",
       "  }\n",
       "  table, th, td {\n",
       "    border: 1px solid black;\n",
       "    border-collapse: collapse;\n",
       "  }\n",
       "  th, td {\n",
       "    padding: 5px;\n",
       "  }\n",
       "  th {\n",
       "    text-align: left;\n",
       "  }\n",
       "</style><div class='table-result-container'><table class='table-result'><thead style='background-color: white'><tr><th>summary</th><th>Total</th><th>Menor_de_15</th><th>15__19</th><th>20__24</th><th>25__29</th><th>30__34</th><th>35__39</th><th>40__44</th><th>45__49</th><th>50__54</th><th>55__59</th><th>60__64</th><th>65__69</th><th>70__74</th><th>75__79</th><th>80_y_ms</th><th>Ignorado</th></tr></thead><tbody><tr><td>count</td><td>23</td><td>23</td><td>23</td><td>23</td><td>23</td><td>23</td><td>23</td><td>23</td><td>23</td><td>23</td><td>23</td><td>23</td><td>23</td><td>23</td><td>23</td><td>23</td><td>23</td></tr><tr><td>mean</td><td>774.5217391304348</td><td>62.43478260869565</td><td>89.30434782608695</td><td>136.69565217391303</td><td>103.56521739130434</td><td>78.6086956521739</td><td>57.21739130434783</td><td>44.43478260869565</td><td>29.304347826086957</td><td>24.52173913043478</td><td>13.652173913043478</td><td>12.782608695652174</td><td>10.173913043478262</td><td>7.391304347826087</td><td>6.086956521739131</td><td>4.695652173913044</td><td>93.65217391304348</td></tr><tr><td>stddev</td><td>1912.5380060291427</td><td>146.70218009378314</td><td>216.71397882139672</td><td>344.8612942227128</td><td>259.800242509327</td><td>200.59972335937485</td><td>142.3325033222429</td><td>110.16303046227627</td><td>72.37178931965178</td><td>59.461882033953174</td><td>33.9084445042183</td><td>31.239480442861417</td><td>24.586863036835236</td><td>18.24265513578443</td><td>14.733736931022255</td><td>12.152196893075066</td><td>230.36938888656275</td></tr><tr><td>min</td><td>88</td><td>9</td><td>6</td><td>5</td><td>6</td><td>6</td><td>5</td><td>2</td><td>3</td><td>2</td><td>1</td><td>0</td><td>1</td><td>0</td><td>0</td><td>0</td><td>9</td></tr><tr><td>max</td><td>8907</td><td>718</td><td>1027</td><td>1572</td><td>1191</td><td>904</td><td>658</td><td>511</td><td>337</td><td>282</td><td>157</td><td>147</td><td>117</td><td>85</td><td>70</td><td>54</td><td>1077</td></tr></tbody></table></div>"
      ]
     },
     "metadata": {
      "application/vnd.databricks.v1+output": {
       "addedWidgets": {},
       "aggData": [],
       "aggError": "",
       "aggOverflow": false,
       "aggSchema": [],
       "aggSeriesLimitReached": false,
       "aggType": "",
       "arguments": {},
       "columnCustomDisplayInfos": {},
       "data": [
        [
         "count",
         "23",
         "23",
         "23",
         "23",
         "23",
         "23",
         "23",
         "23",
         "23",
         "23",
         "23",
         "23",
         "23",
         "23",
         "23",
         "23",
         "23"
        ],
        [
         "mean",
         "774.5217391304348",
         "62.43478260869565",
         "89.30434782608695",
         "136.69565217391303",
         "103.56521739130434",
         "78.6086956521739",
         "57.21739130434783",
         "44.43478260869565",
         "29.304347826086957",
         "24.52173913043478",
         "13.652173913043478",
         "12.782608695652174",
         "10.173913043478262",
         "7.391304347826087",
         "6.086956521739131",
         "4.695652173913044",
         "93.65217391304348"
        ],
        [
         "stddev",
         "1912.5380060291427",
         "146.70218009378314",
         "216.71397882139672",
         "344.8612942227128",
         "259.800242509327",
         "200.59972335937485",
         "142.3325033222429",
         "110.16303046227627",
         "72.37178931965178",
         "59.461882033953174",
         "33.9084445042183",
         "31.239480442861417",
         "24.586863036835236",
         "18.24265513578443",
         "14.733736931022255",
         "12.152196893075066",
         "230.36938888656275"
        ],
        [
         "min",
         "88",
         "9",
         "6",
         "5",
         "6",
         "6",
         "5",
         "2",
         "3",
         "2",
         "1",
         "0",
         "1",
         "0",
         "0",
         "0",
         "9"
        ],
        [
         "max",
         "8907",
         "718",
         "1027",
         "1572",
         "1191",
         "904",
         "658",
         "511",
         "337",
         "282",
         "157",
         "147",
         "117",
         "85",
         "70",
         "54",
         "1077"
        ]
       ],
       "datasetInfos": [],
       "dbfsResultPath": null,
       "isJsonSchema": true,
       "metadata": {},
       "overflow": false,
       "plotOptions": {
        "customPlotOptions": {},
        "displayType": "table",
        "pivotAggregation": null,
        "pivotColumns": null,
        "xColumns": null,
        "yColumns": null
       },
       "removedWidgets": [],
       "schema": [
        {
         "metadata": "{}",
         "name": "summary",
         "type": "\"string\""
        },
        {
         "metadata": "{}",
         "name": "Total",
         "type": "\"string\""
        },
        {
         "metadata": "{}",
         "name": "Menor_de_15",
         "type": "\"string\""
        },
        {
         "metadata": "{}",
         "name": "15__19",
         "type": "\"string\""
        },
        {
         "metadata": "{}",
         "name": "20__24",
         "type": "\"string\""
        },
        {
         "metadata": "{}",
         "name": "25__29",
         "type": "\"string\""
        },
        {
         "metadata": "{}",
         "name": "30__34",
         "type": "\"string\""
        },
        {
         "metadata": "{}",
         "name": "35__39",
         "type": "\"string\""
        },
        {
         "metadata": "{}",
         "name": "40__44",
         "type": "\"string\""
        },
        {
         "metadata": "{}",
         "name": "45__49",
         "type": "\"string\""
        },
        {
         "metadata": "{}",
         "name": "50__54",
         "type": "\"string\""
        },
        {
         "metadata": "{}",
         "name": "55__59",
         "type": "\"string\""
        },
        {
         "metadata": "{}",
         "name": "60__64",
         "type": "\"string\""
        },
        {
         "metadata": "{}",
         "name": "65__69",
         "type": "\"string\""
        },
        {
         "metadata": "{}",
         "name": "70__74",
         "type": "\"string\""
        },
        {
         "metadata": "{}",
         "name": "75__79",
         "type": "\"string\""
        },
        {
         "metadata": "{}",
         "name": "80_y_ms",
         "type": "\"string\""
        },
        {
         "metadata": "{}",
         "name": "Ignorado",
         "type": "\"string\""
        }
       ],
       "type": "table"
      }
     },
     "output_type": "display_data"
    },
    {
     "output_type": "display_data",
     "data": {
      "text/html": [
       "<h4 style='margin:10px 0'>Cuadro 35 — columnas numéricas</h4>"
      ]
     },
     "metadata": {},
     "output_type": "display_data"
    },
    {
     "output_type": "display_data",
     "data": {
      "text/html": [
       "<p style='margin:6px 0 4px 0'><i>Resumen (describe):</i></p>"
      ]
     },
     "metadata": {},
     "output_type": "display_data"
    },
    {
     "output_type": "display_data",
     "data": {
      "text/html": [
       "<style scoped>\n",
       "  .table-result-container {\n",
       "    max-height: 300px;\n",
       "    overflow: auto;\n",
       "  }\n",
       "  table, th, td {\n",
       "    border: 1px solid black;\n",
       "    border-collapse: collapse;\n",
       "  }\n",
       "  th, td {\n",
       "    padding: 5px;\n",
       "  }\n",
       "  th {\n",
       "    text-align: left;\n",
       "  }\n",
       "</style><div class='table-result-container'><table class='table-result'><thead style='background-color: white'><tr><th>summary</th><th>Total</th><th>Lunes</th><th>Martes</th><th>Mircoles</th><th>Jueves</th><th>Viernes</th><th>Sbado</th><th>Domingo</th></tr></thead><tbody><tr><td>count</td><td>26</td><td>26</td><td>26</td><td>26</td><td>26</td><td>26</td><td>26</td><td>26</td></tr><tr><td>mean</td><td>685.1538461538462</td><td>96.23076923076923</td><td>79.6923076923077</td><td>75.0</td><td>79.84615384615384</td><td>93.46153846153847</td><td>130.07692307692307</td><td>130.84615384615384</td></tr><tr><td>stddev</td><td>1685.1807663822347</td><td>236.8287664439956</td><td>196.26079980083014</td><td>184.82034520041347</td><td>196.75745318695147</td><td>230.07428900583054</td><td>320.63386260055864</td><td>321.82413735550557</td></tr><tr><td>min</td><td>1</td><td>0</td><td>0</td><td>0</td><td>0</td><td>0</td><td>0</td><td>1</td></tr><tr><td>max</td><td>8907</td><td>1251</td><td>1036</td><td>975</td><td>1038</td><td>1215</td><td>1691</td><td>1701</td></tr></tbody></table></div>"
      ]
     },
     "metadata": {
      "application/vnd.databricks.v1+output": {
       "addedWidgets": {},
       "aggData": [],
       "aggError": "",
       "aggOverflow": false,
       "aggSchema": [],
       "aggSeriesLimitReached": false,
       "aggType": "",
       "arguments": {},
       "columnCustomDisplayInfos": {},
       "data": [
        [
         "count",
         "26",
         "26",
         "26",
         "26",
         "26",
         "26",
         "26",
         "26"
        ],
        [
         "mean",
         "685.1538461538462",
         "96.23076923076923",
         "79.6923076923077",
         "75.0",
         "79.84615384615384",
         "93.46153846153847",
         "130.07692307692307",
         "130.84615384615384"
        ],
        [
         "stddev",
         "1685.1807663822347",
         "236.8287664439956",
         "196.26079980083014",
         "184.82034520041347",
         "196.75745318695147",
         "230.07428900583054",
         "320.63386260055864",
         "321.82413735550557"
        ],
        [
         "min",
         "1",
         "0",
         "0",
         "0",
         "0",
         "0",
         "0",
         "1"
        ],
        [
         "max",
         "8907",
         "1251",
         "1036",
         "975",
         "1038",
         "1215",
         "1691",
         "1701"
        ]
       ],
       "datasetInfos": [],
       "dbfsResultPath": null,
       "isJsonSchema": true,
       "metadata": {},
       "overflow": false,
       "plotOptions": {
        "customPlotOptions": {},
        "displayType": "table",
        "pivotAggregation": null,
        "pivotColumns": null,
        "xColumns": null,
        "yColumns": null
       },
       "removedWidgets": [],
       "schema": [
        {
         "metadata": "{}",
         "name": "summary",
         "type": "\"string\""
        },
        {
         "metadata": "{}",
         "name": "Total",
         "type": "\"string\""
        },
        {
         "metadata": "{}",
         "name": "Lunes",
         "type": "\"string\""
        },
        {
         "metadata": "{}",
         "name": "Martes",
         "type": "\"string\""
        },
        {
         "metadata": "{}",
         "name": "Mircoles",
         "type": "\"string\""
        },
        {
         "metadata": "{}",
         "name": "Jueves",
         "type": "\"string\""
        },
        {
         "metadata": "{}",
         "name": "Viernes",
         "type": "\"string\""
        },
        {
         "metadata": "{}",
         "name": "Sbado",
         "type": "\"string\""
        },
        {
         "metadata": "{}",
         "name": "Domingo",
         "type": "\"string\""
        }
       ],
       "type": "table"
      }
     },
     "output_type": "display_data"
    },
    {
     "output_type": "display_data",
     "data": {
      "text/html": [
       "<h4 style='margin:10px 0'>Cuadro 36 — columnas numéricas</h4>"
      ]
     },
     "metadata": {},
     "output_type": "display_data"
    },
    {
     "output_type": "display_data",
     "data": {
      "text/html": [
       "<p style='margin:6px 0 4px 0'><i>Resumen (describe):</i></p>"
      ]
     },
     "metadata": {},
     "output_type": "display_data"
    },
    {
     "output_type": "display_data",
     "data": {
      "text/html": [
       "<style scoped>\n",
       "  .table-result-container {\n",
       "    max-height: 300px;\n",
       "    overflow: auto;\n",
       "  }\n",
       "  table, th, td {\n",
       "    border: 1px solid black;\n",
       "    border-collapse: collapse;\n",
       "  }\n",
       "  th, td {\n",
       "    padding: 5px;\n",
       "  }\n",
       "  th {\n",
       "    text-align: left;\n",
       "  }\n",
       "</style><div class='table-result-container'><table class='table-result'><thead style='background-color: white'><tr><th>summary</th><th>Total</th><th>Hombre</th><th>Mujer</th><th>Ignorado</th><th>total_colision</th><th>hombre_colision</th><th>mujer_colision</th><th>ignorado_colision</th><th>total_atropello</th><th>hombre_atropello</th><th>mujer_atropello</th><th>ognorado_atropello</th><th>total_derrape</th><th>hombre_derrape</th><th>mujer_derrape</th><th>choque_total</th><th>choque_hombre</th><th>choque_mujer</th><th>choque_ignorado</th><th>total_vuelco</th><th>hombre_vuelco</th><th>mujer_vuelco</th><th>total_embarranc</th><th>hombre_embarranc</th><th>mujer_embarranc</th><th>ignorado_embarranc</th><th>total_encunet</th><th>hombre_encunet</th><th>mujeres_encunet</th><th>total_caida</th><th>mujer_caida</th><th>ignorado_caida</th><th>hombre_ignorado</th><th>mujer_ignorado</th></tr></thead><tbody><tr><td>count</td><td>20</td><td>20</td><td>20</td><td>20</td><td>20</td><td>20</td><td>20</td><td>20</td><td>20</td><td>20</td><td>20</td><td>20</td><td>20</td><td>20</td><td>20</td><td>20</td><td>20</td><td>20</td><td>20</td><td>20</td><td>20</td><td>20</td><td>20</td><td>20</td><td>20</td><td>20</td><td>20</td><td>20</td><td>20</td><td>20</td><td>20</td><td>20</td><td>20</td><td>20</td></tr><tr><td>mean</td><td>890.7</td><td>644.6</td><td>244.5</td><td>1.6</td><td>528.9</td><td>393.1</td><td>135.5</td><td>0.3</td><td>149.5</td><td>98.6</td><td>49.9</td><td>1.0</td><td>102.7</td><td>82.0</td><td>20.7</td><td>32.1</td><td>21.6</td><td>10.3</td><td>0.2</td><td>34.1</td><td>19.9</td><td>14.2</td><td>26.2</td><td>16.4</td><td>9.7</td><td>0.1</td><td>0.6</td><td>0.5</td><td>0.1</td><td>0.1</td><td>0.1</td><td>16.5</td><td>12.5</td><td>4.0</td></tr><tr><td>stddev</td><td>2264.69619433415</td><td>1674.079461108481</td><td>591.474473355849</td><td>3.8580060298444057</td><td>1408.12162677429</td><td>1072.7980582030389</td><td>337.545864330043</td><td>0.9233805168766387</td><td>356.6679865527308</td><td>233.37712872200294</td><td>121.84800713226814</td><td>2.53397960362331</td><td>303.57485853878296</td><td>245.65080050647848</td><td>58.14328942589297</td><td>72.12408897536464</td><td>48.96228408844806</td><td>23.222266991198914</td><td>0.6155870112510925</td><td>78.18257983383307</td><td>45.298890424426645</td><td>33.149740016444994</td><td>58.92778810142391</td><td>36.610898578658805</td><td>22.480634941398367</td><td>0.30779350562554625</td><td>1.6982963599783722</td><td>1.538967528127731</td><td>0.30779350562554625</td><td>0.30779350562554625</td><td>0.30779350562554625</td><td>39.1589204732661</td><td>29.43592506123302</td><td>10.198039027185569</td></tr><tr><td>min</td><td>1</td><td>0</td><td>0</td><td>0</td><td>0</td><td>0</td><td>0</td><td>0</td><td>0</td><td>0</td><td>0</td><td>0</td><td>0</td><td>0</td><td>0</td><td>0</td><td>0</td><td>0</td><td>0</td><td>0</td><td>0</td><td>0</td><td>0</td><td>0</td><td>0</td><td>0</td><td>0</td><td>0</td><td>0</td><td>0</td><td>0</td><td>0</td><td>0</td><td>0</td></tr><tr><td>max</td><td>8907</td><td>6446</td><td>2445</td><td>16</td><td>5289</td><td>3931</td><td>1355</td><td>3</td><td>1495</td><td>986</td><td>499</td><td>10</td><td>1027</td><td>820</td><td>207</td><td>321</td><td>216</td><td>103</td><td>2</td><td>341</td><td>199</td><td>142</td><td>262</td><td>164</td><td>97</td><td>1</td><td>6</td><td>5</td><td>1</td><td>1</td><td>1</td><td>165</td><td>125</td><td>40</td></tr></tbody></table></div>"
      ]
     },
     "metadata": {
      "application/vnd.databricks.v1+output": {
       "addedWidgets": {},
       "aggData": [],
       "aggError": "",
       "aggOverflow": false,
       "aggSchema": [],
       "aggSeriesLimitReached": false,
       "aggType": "",
       "arguments": {},
       "columnCustomDisplayInfos": {},
       "data": [
        [
         "count",
         "20",
         "20",
         "20",
         "20",
         "20",
         "20",
         "20",
         "20",
         "20",
         "20",
         "20",
         "20",
         "20",
         "20",
         "20",
         "20",
         "20",
         "20",
         "20",
         "20",
         "20",
         "20",
         "20",
         "20",
         "20",
         "20",
         "20",
         "20",
         "20",
         "20",
         "20",
         "20",
         "20",
         "20"
        ],
        [
         "mean",
         "890.7",
         "644.6",
         "244.5",
         "1.6",
         "528.9",
         "393.1",
         "135.5",
         "0.3",
         "149.5",
         "98.6",
         "49.9",
         "1.0",
         "102.7",
         "82.0",
         "20.7",
         "32.1",
         "21.6",
         "10.3",
         "0.2",
         "34.1",
         "19.9",
         "14.2",
         "26.2",
         "16.4",
         "9.7",
         "0.1",
         "0.6",
         "0.5",
         "0.1",
         "0.1",
         "0.1",
         "16.5",
         "12.5",
         "4.0"
        ],
        [
         "stddev",
         "2264.69619433415",
         "1674.079461108481",
         "591.474473355849",
         "3.8580060298444057",
         "1408.12162677429",
         "1072.7980582030389",
         "337.545864330043",
         "0.9233805168766387",
         "356.6679865527308",
         "233.37712872200294",
         "121.84800713226814",
         "2.53397960362331",
         "303.57485853878296",
         "245.65080050647848",
         "58.14328942589297",
         "72.12408897536464",
         "48.96228408844806",
         "23.222266991198914",
         "0.6155870112510925",
         "78.18257983383307",
         "45.298890424426645",
         "33.149740016444994",
         "58.92778810142391",
         "36.610898578658805",
         "22.480634941398367",
         "0.30779350562554625",
         "1.6982963599783722",
         "1.538967528127731",
         "0.30779350562554625",
         "0.30779350562554625",
         "0.30779350562554625",
         "39.1589204732661",
         "29.43592506123302",
         "10.198039027185569"
        ],
        [
         "min",
         "1",
         "0",
         "0",
         "0",
         "0",
         "0",
         "0",
         "0",
         "0",
         "0",
         "0",
         "0",
         "0",
         "0",
         "0",
         "0",
         "0",
         "0",
         "0",
         "0",
         "0",
         "0",
         "0",
         "0",
         "0",
         "0",
         "0",
         "0",
         "0",
         "0",
         "0",
         "0",
         "0",
         "0"
        ],
        [
         "max",
         "8907",
         "6446",
         "2445",
         "16",
         "5289",
         "3931",
         "1355",
         "3",
         "1495",
         "986",
         "499",
         "10",
         "1027",
         "820",
         "207",
         "321",
         "216",
         "103",
         "2",
         "341",
         "199",
         "142",
         "262",
         "164",
         "97",
         "1",
         "6",
         "5",
         "1",
         "1",
         "1",
         "165",
         "125",
         "40"
        ]
       ],
       "datasetInfos": [],
       "dbfsResultPath": null,
       "isJsonSchema": true,
       "metadata": {},
       "overflow": false,
       "plotOptions": {
        "customPlotOptions": {},
        "displayType": "table",
        "pivotAggregation": null,
        "pivotColumns": null,
        "xColumns": null,
        "yColumns": null
       },
       "removedWidgets": [],
       "schema": [
        {
         "metadata": "{}",
         "name": "summary",
         "type": "\"string\""
        },
        {
         "metadata": "{}",
         "name": "Total",
         "type": "\"string\""
        },
        {
         "metadata": "{}",
         "name": "Hombre",
         "type": "\"string\""
        },
        {
         "metadata": "{}",
         "name": "Mujer",
         "type": "\"string\""
        },
        {
         "metadata": "{}",
         "name": "Ignorado",
         "type": "\"string\""
        },
        {
         "metadata": "{}",
         "name": "total_colision",
         "type": "\"string\""
        },
        {
         "metadata": "{}",
         "name": "hombre_colision",
         "type": "\"string\""
        },
        {
         "metadata": "{}",
         "name": "mujer_colision",
         "type": "\"string\""
        },
        {
         "metadata": "{}",
         "name": "ignorado_colision",
         "type": "\"string\""
        },
        {
         "metadata": "{}",
         "name": "total_atropello",
         "type": "\"string\""
        },
        {
         "metadata": "{}",
         "name": "hombre_atropello",
         "type": "\"string\""
        },
        {
         "metadata": "{}",
         "name": "mujer_atropello",
         "type": "\"string\""
        },
        {
         "metadata": "{}",
         "name": "ognorado_atropello",
         "type": "\"string\""
        },
        {
         "metadata": "{}",
         "name": "total_derrape",
         "type": "\"string\""
        },
        {
         "metadata": "{}",
         "name": "hombre_derrape",
         "type": "\"string\""
        },
        {
         "metadata": "{}",
         "name": "mujer_derrape",
         "type": "\"string\""
        },
        {
         "metadata": "{}",
         "name": "choque_total",
         "type": "\"string\""
        },
        {
         "metadata": "{}",
         "name": "choque_hombre",
         "type": "\"string\""
        },
        {
         "metadata": "{}",
         "name": "choque_mujer",
         "type": "\"string\""
        },
        {
         "metadata": "{}",
         "name": "choque_ignorado",
         "type": "\"string\""
        },
        {
         "metadata": "{}",
         "name": "total_vuelco",
         "type": "\"string\""
        },
        {
         "metadata": "{}",
         "name": "hombre_vuelco",
         "type": "\"string\""
        },
        {
         "metadata": "{}",
         "name": "mujer_vuelco",
         "type": "\"string\""
        },
        {
         "metadata": "{}",
         "name": "total_embarranc",
         "type": "\"string\""
        },
        {
         "metadata": "{}",
         "name": "hombre_embarranc",
         "type": "\"string\""
        },
        {
         "metadata": "{}",
         "name": "mujer_embarranc",
         "type": "\"string\""
        },
        {
         "metadata": "{}",
         "name": "ignorado_embarranc",
         "type": "\"string\""
        },
        {
         "metadata": "{}",
         "name": "total_encunet",
         "type": "\"string\""
        },
        {
         "metadata": "{}",
         "name": "hombre_encunet",
         "type": "\"string\""
        },
        {
         "metadata": "{}",
         "name": "mujeres_encunet",
         "type": "\"string\""
        },
        {
         "metadata": "{}",
         "name": "total_caida",
         "type": "\"string\""
        },
        {
         "metadata": "{}",
         "name": "mujer_caida",
         "type": "\"string\""
        },
        {
         "metadata": "{}",
         "name": "ignorado_caida",
         "type": "\"string\""
        },
        {
         "metadata": "{}",
         "name": "hombre_ignorado",
         "type": "\"string\""
        },
        {
         "metadata": "{}",
         "name": "mujer_ignorado",
         "type": "\"string\""
        }
       ],
       "type": "table"
      }
     },
     "output_type": "display_data"
    },
    {
     "output_type": "display_data",
     "data": {
      "text/html": [
       "<h4 style='margin:10px 0'>Cuadro 37 — columnas numéricas</h4>"
      ]
     },
     "metadata": {},
     "output_type": "display_data"
    },
    {
     "output_type": "display_data",
     "data": {
      "text/html": [
       "<p style='margin:6px 0 4px 0'><i>Resumen (describe):</i></p>"
      ]
     },
     "metadata": {},
     "output_type": "display_data"
    },
    {
     "output_type": "display_data",
     "data": {
      "text/html": [
       "<style scoped>\n",
       "  .table-result-container {\n",
       "    max-height: 300px;\n",
       "    overflow: auto;\n",
       "  }\n",
       "  table, th, td {\n",
       "    border: 1px solid black;\n",
       "    border-collapse: collapse;\n",
       "  }\n",
       "  th, td {\n",
       "    padding: 5px;\n",
       "  }\n",
       "  th {\n",
       "    text-align: left;\n",
       "  }\n",
       "</style><div class='table-result-container'><table class='table-result'><thead style='background-color: white'><tr><th>summary</th><th>Total</th><th>Lunes</th><th>Martes</th><th>Mircoles</th><th>Jueves</th><th>Viernes</th><th>Sbado</th><th>Domingo</th></tr></thead><tbody><tr><td>count</td><td>34</td><td>34</td><td>34</td><td>34</td><td>34</td><td>34</td><td>34</td><td>34</td></tr><tr><td>mean</td><td>1047.8823529411766</td><td>147.1764705882353</td><td>121.88235294117646</td><td>114.70588235294117</td><td>122.11764705882354</td><td>142.94117647058823</td><td>198.94117647058823</td><td>200.11764705882354</td></tr><tr><td>stddev</td><td>2063.4211774227583</td><td>289.5028623491965</td><td>242.71978664843022</td><td>231.45253187166463</td><td>244.4221093885172</td><td>279.5655657012264</td><td>389.4834139835364</td><td>387.7872553820201</td></tr><tr><td>min</td><td>1</td><td>0</td><td>0</td><td>0</td><td>0</td><td>0</td><td>0</td><td>0</td></tr><tr><td>max</td><td>8907</td><td>1251</td><td>1036</td><td>975</td><td>1038</td><td>1215</td><td>1691</td><td>1701</td></tr></tbody></table></div>"
      ]
     },
     "metadata": {
      "application/vnd.databricks.v1+output": {
       "addedWidgets": {},
       "aggData": [],
       "aggError": "",
       "aggOverflow": false,
       "aggSchema": [],
       "aggSeriesLimitReached": false,
       "aggType": "",
       "arguments": {},
       "columnCustomDisplayInfos": {},
       "data": [
        [
         "count",
         "34",
         "34",
         "34",
         "34",
         "34",
         "34",
         "34",
         "34"
        ],
        [
         "mean",
         "1047.8823529411766",
         "147.1764705882353",
         "121.88235294117646",
         "114.70588235294117",
         "122.11764705882354",
         "142.94117647058823",
         "198.94117647058823",
         "200.11764705882354"
        ],
        [
         "stddev",
         "2063.4211774227583",
         "289.5028623491965",
         "242.71978664843022",
         "231.45253187166463",
         "244.4221093885172",
         "279.5655657012264",
         "389.4834139835364",
         "387.7872553820201"
        ],
        [
         "min",
         "1",
         "0",
         "0",
         "0",
         "0",
         "0",
         "0",
         "0"
        ],
        [
         "max",
         "8907",
         "1251",
         "1036",
         "975",
         "1038",
         "1215",
         "1691",
         "1701"
        ]
       ],
       "datasetInfos": [],
       "dbfsResultPath": null,
       "isJsonSchema": true,
       "metadata": {},
       "overflow": false,
       "plotOptions": {
        "customPlotOptions": {},
        "displayType": "table",
        "pivotAggregation": null,
        "pivotColumns": null,
        "xColumns": null,
        "yColumns": null
       },
       "removedWidgets": [],
       "schema": [
        {
         "metadata": "{}",
         "name": "summary",
         "type": "\"string\""
        },
        {
         "metadata": "{}",
         "name": "Total",
         "type": "\"string\""
        },
        {
         "metadata": "{}",
         "name": "Lunes",
         "type": "\"string\""
        },
        {
         "metadata": "{}",
         "name": "Martes",
         "type": "\"string\""
        },
        {
         "metadata": "{}",
         "name": "Mircoles",
         "type": "\"string\""
        },
        {
         "metadata": "{}",
         "name": "Jueves",
         "type": "\"string\""
        },
        {
         "metadata": "{}",
         "name": "Viernes",
         "type": "\"string\""
        },
        {
         "metadata": "{}",
         "name": "Sbado",
         "type": "\"string\""
        },
        {
         "metadata": "{}",
         "name": "Domingo",
         "type": "\"string\""
        }
       ],
       "type": "table"
      }
     },
     "output_type": "display_data"
    },
    {
     "output_type": "display_data",
     "data": {
      "text/html": [
       "<h4 style='margin:10px 0'>Cuadro 38 — columnas numéricas</h4>"
      ]
     },
     "metadata": {},
     "output_type": "display_data"
    },
    {
     "output_type": "display_data",
     "data": {
      "text/html": [
       "<p style='margin:6px 0 4px 0'><i>Resumen (describe):</i></p>"
      ]
     },
     "metadata": {},
     "output_type": "display_data"
    },
    {
     "output_type": "display_data",
     "data": {
      "text/html": [
       "<style scoped>\n",
       "  .table-result-container {\n",
       "    max-height: 300px;\n",
       "    overflow: auto;\n",
       "  }\n",
       "  table, th, td {\n",
       "    border: 1px solid black;\n",
       "    border-collapse: collapse;\n",
       "  }\n",
       "  th, td {\n",
       "    padding: 5px;\n",
       "  }\n",
       "  th {\n",
       "    text-align: left;\n",
       "  }\n",
       "</style><div class='table-result-container'><table class='table-result'><thead style='background-color: white'><tr><th>summary</th><th>Total</th><th>Hombre</th><th>Mujer</th><th>Ignorado</th></tr></thead><tbody><tr><td>count</td><td>17</td><td>17</td><td>17</td><td>17</td></tr><tr><td>mean</td><td>1047.8823529411766</td><td>758.3529411764706</td><td>287.6470588235294</td><td>1.8823529411764706</td></tr><tr><td>stddev</td><td>2077.662475065216</td><td>1508.1067991515254</td><td>567.183385376422</td><td>4.371532239117888</td></tr><tr><td>min</td><td>54</td><td>32</td><td>22</td><td>0</td></tr><tr><td>max</td><td>8907</td><td>6446</td><td>2445</td><td>16</td></tr></tbody></table></div>"
      ]
     },
     "metadata": {
      "application/vnd.databricks.v1+output": {
       "addedWidgets": {},
       "aggData": [],
       "aggError": "",
       "aggOverflow": false,
       "aggSchema": [],
       "aggSeriesLimitReached": false,
       "aggType": "",
       "arguments": {},
       "columnCustomDisplayInfos": {},
       "data": [
        [
         "count",
         "17",
         "17",
         "17",
         "17"
        ],
        [
         "mean",
         "1047.8823529411766",
         "758.3529411764706",
         "287.6470588235294",
         "1.8823529411764706"
        ],
        [
         "stddev",
         "2077.662475065216",
         "1508.1067991515254",
         "567.183385376422",
         "4.371532239117888"
        ],
        [
         "min",
         "54",
         "32",
         "22",
         "0"
        ],
        [
         "max",
         "8907",
         "6446",
         "2445",
         "16"
        ]
       ],
       "datasetInfos": [],
       "dbfsResultPath": null,
       "isJsonSchema": true,
       "metadata": {},
       "overflow": false,
       "plotOptions": {
        "customPlotOptions": {},
        "displayType": "table",
        "pivotAggregation": null,
        "pivotColumns": null,
        "xColumns": null,
        "yColumns": null
       },
       "removedWidgets": [],
       "schema": [
        {
         "metadata": "{}",
         "name": "summary",
         "type": "\"string\""
        },
        {
         "metadata": "{}",
         "name": "Total",
         "type": "\"string\""
        },
        {
         "metadata": "{}",
         "name": "Hombre",
         "type": "\"string\""
        },
        {
         "metadata": "{}",
         "name": "Mujer",
         "type": "\"string\""
        },
        {
         "metadata": "{}",
         "name": "Ignorado",
         "type": "\"string\""
        }
       ],
       "type": "table"
      }
     },
     "output_type": "display_data"
    },
    {
     "output_type": "display_data",
     "data": {
      "text/html": [
       "<h4 style='margin:10px 0'>Cuadro 39 — columnas numéricas</h4>"
      ]
     },
     "metadata": {},
     "output_type": "display_data"
    },
    {
     "output_type": "display_data",
     "data": {
      "text/html": [
       "<p style='margin:6px 0 4px 0'><i>Resumen (describe):</i></p>"
      ]
     },
     "metadata": {},
     "output_type": "display_data"
    },
    {
     "output_type": "display_data",
     "data": {
      "text/html": [
       "<style scoped>\n",
       "  .table-result-container {\n",
       "    max-height: 300px;\n",
       "    overflow: auto;\n",
       "  }\n",
       "  table, th, td {\n",
       "    border: 1px solid black;\n",
       "    border-collapse: collapse;\n",
       "  }\n",
       "  th, td {\n",
       "    padding: 5px;\n",
       "  }\n",
       "  th {\n",
       "    text-align: left;\n",
       "  }\n",
       "</style><div class='table-result-container'><table class='table-result'><thead style='background-color: white'><tr><th>summary</th><th>Total</th><th>Enero</th><th>Febrero</th><th>Marzo</th><th>Abril</th><th>Mayo</th><th>Junio</th><th>Julio</th><th>Agosto</th><th>Septiembre</th><th>Octubre</th><th>Noviembre</th></tr></thead><tbody><tr><td>count</td><td>23</td><td>23</td><td>23</td><td>23</td><td>23</td><td>23</td><td>23</td><td>23</td><td>23</td><td>23</td><td>23</td><td>23</td></tr><tr><td>mean</td><td>130.0</td><td>11.652173913043478</td><td>12.782608695652174</td><td>14.695652173913043</td><td>10.521739130434783</td><td>9.478260869565217</td><td>8.434782608695652</td><td>12.0</td><td>11.043478260869565</td><td>12.434782608695652</td><td>12.782608695652174</td><td>14.173913043478262</td></tr><tr><td>stddev</td><td>331.25381644456706</td><td>29.390178779579625</td><td>32.89785364888654</td><td>37.532331253574746</td><td>27.43400273253711</td><td>24.950623175342624</td><td>21.491702599664155</td><td>31.41944967980531</td><td>28.128727245339196</td><td>30.49564214315416</td><td>32.189716768133394</td><td>36.433815678586086</td></tr><tr><td>min</td><td>6</td><td>0</td><td>0</td><td>0</td><td>0</td><td>0</td><td>0</td><td>0</td><td>0</td><td>0</td><td>0</td><td>0</td></tr><tr><td>max</td><td>1495</td><td>134</td><td>147</td><td>169</td><td>121</td><td>109</td><td>97</td><td>138</td><td>127</td><td>143</td><td>147</td><td>163</td></tr></tbody></table></div>"
      ]
     },
     "metadata": {
      "application/vnd.databricks.v1+output": {
       "addedWidgets": {},
       "aggData": [],
       "aggError": "",
       "aggOverflow": false,
       "aggSchema": [],
       "aggSeriesLimitReached": false,
       "aggType": "",
       "arguments": {},
       "columnCustomDisplayInfos": {},
       "data": [
        [
         "count",
         "23",
         "23",
         "23",
         "23",
         "23",
         "23",
         "23",
         "23",
         "23",
         "23",
         "23",
         "23"
        ],
        [
         "mean",
         "130.0",
         "11.652173913043478",
         "12.782608695652174",
         "14.695652173913043",
         "10.521739130434783",
         "9.478260869565217",
         "8.434782608695652",
         "12.0",
         "11.043478260869565",
         "12.434782608695652",
         "12.782608695652174",
         "14.173913043478262"
        ],
        [
         "stddev",
         "331.25381644456706",
         "29.390178779579625",
         "32.89785364888654",
         "37.532331253574746",
         "27.43400273253711",
         "24.950623175342624",
         "21.491702599664155",
         "31.41944967980531",
         "28.128727245339196",
         "30.49564214315416",
         "32.189716768133394",
         "36.433815678586086"
        ],
        [
         "min",
         "6",
         "0",
         "0",
         "0",
         "0",
         "0",
         "0",
         "0",
         "0",
         "0",
         "0",
         "0"
        ],
        [
         "max",
         "1495",
         "134",
         "147",
         "169",
         "121",
         "109",
         "97",
         "138",
         "127",
         "143",
         "147",
         "163"
        ]
       ],
       "datasetInfos": [],
       "dbfsResultPath": null,
       "isJsonSchema": true,
       "metadata": {},
       "overflow": false,
       "plotOptions": {
        "customPlotOptions": {},
        "displayType": "table",
        "pivotAggregation": null,
        "pivotColumns": null,
        "xColumns": null,
        "yColumns": null
       },
       "removedWidgets": [],
       "schema": [
        {
         "metadata": "{}",
         "name": "summary",
         "type": "\"string\""
        },
        {
         "metadata": "{}",
         "name": "Total",
         "type": "\"string\""
        },
        {
         "metadata": "{}",
         "name": "Enero",
         "type": "\"string\""
        },
        {
         "metadata": "{}",
         "name": "Febrero",
         "type": "\"string\""
        },
        {
         "metadata": "{}",
         "name": "Marzo",
         "type": "\"string\""
        },
        {
         "metadata": "{}",
         "name": "Abril",
         "type": "\"string\""
        },
        {
         "metadata": "{}",
         "name": "Mayo",
         "type": "\"string\""
        },
        {
         "metadata": "{}",
         "name": "Junio",
         "type": "\"string\""
        },
        {
         "metadata": "{}",
         "name": "Julio",
         "type": "\"string\""
        },
        {
         "metadata": "{}",
         "name": "Agosto",
         "type": "\"string\""
        },
        {
         "metadata": "{}",
         "name": "Septiembre",
         "type": "\"string\""
        },
        {
         "metadata": "{}",
         "name": "Octubre",
         "type": "\"string\""
        },
        {
         "metadata": "{}",
         "name": "Noviembre",
         "type": "\"string\""
        }
       ],
       "type": "table"
      }
     },
     "output_type": "display_data"
    },
    {
     "output_type": "display_data",
     "data": {
      "text/html": [
       "<h4 style='margin:10px 0'>Cuadro 40 — columnas numéricas</h4>"
      ]
     },
     "metadata": {},
     "output_type": "display_data"
    },
    {
     "output_type": "display_data",
     "data": {
      "text/html": [
       "<p style='margin:6px 0 4px 0'><i>Resumen (describe):</i></p>"
      ]
     },
     "metadata": {},
     "output_type": "display_data"
    },
    {
     "output_type": "display_data",
     "data": {
      "text/html": [
       "<style scoped>\n",
       "  .table-result-container {\n",
       "    max-height: 300px;\n",
       "    overflow: auto;\n",
       "  }\n",
       "  table, th, td {\n",
       "    border: 1px solid black;\n",
       "    border-collapse: collapse;\n",
       "  }\n",
       "  th, td {\n",
       "    padding: 5px;\n",
       "  }\n",
       "  th {\n",
       "    text-align: left;\n",
       "  }\n",
       "</style><div class='table-result-container'><table class='table-result'><thead style='background-color: white'><tr><th>summary</th><th>Total</th><th>Lunes</th><th>Martes</th><th>Mircoles</th><th>Jueves</th><th>Viernes</th><th>Sbado</th><th>Domingo</th></tr></thead><tbody><tr><td>count</td><td>23</td><td>23</td><td>23</td><td>23</td><td>23</td><td>23</td><td>23</td><td>23</td></tr><tr><td>mean</td><td>130.0</td><td>17.82608695652174</td><td>15.73913043478261</td><td>13.826086956521738</td><td>15.73913043478261</td><td>18.52173913043478</td><td>24.347826086956523</td><td>24.0</td></tr><tr><td>stddev</td><td>331.25381644456706</td><td>46.29711572982906</td><td>39.811164938430785</td><td>36.121829428543926</td><td>40.4645943907694</td><td>47.163034027256195</td><td>61.25550713323822</td><td>60.59252879237295</td></tr><tr><td>min</td><td>6</td><td>0</td><td>0</td><td>0</td><td>0</td><td>0</td><td>1</td><td>0</td></tr><tr><td>max</td><td>1495</td><td>205</td><td>181</td><td>159</td><td>181</td><td>213</td><td>280</td><td>276</td></tr></tbody></table></div>"
      ]
     },
     "metadata": {
      "application/vnd.databricks.v1+output": {
       "addedWidgets": {},
       "aggData": [],
       "aggError": "",
       "aggOverflow": false,
       "aggSchema": [],
       "aggSeriesLimitReached": false,
       "aggType": "",
       "arguments": {},
       "columnCustomDisplayInfos": {},
       "data": [
        [
         "count",
         "23",
         "23",
         "23",
         "23",
         "23",
         "23",
         "23",
         "23"
        ],
        [
         "mean",
         "130.0",
         "17.82608695652174",
         "15.73913043478261",
         "13.826086956521738",
         "15.73913043478261",
         "18.52173913043478",
         "24.347826086956523",
         "24.0"
        ],
        [
         "stddev",
         "331.25381644456706",
         "46.29711572982906",
         "39.811164938430785",
         "36.121829428543926",
         "40.4645943907694",
         "47.163034027256195",
         "61.25550713323822",
         "60.59252879237295"
        ],
        [
         "min",
         "6",
         "0",
         "0",
         "0",
         "0",
         "0",
         "1",
         "0"
        ],
        [
         "max",
         "1495",
         "205",
         "181",
         "159",
         "181",
         "213",
         "280",
         "276"
        ]
       ],
       "datasetInfos": [],
       "dbfsResultPath": null,
       "isJsonSchema": true,
       "metadata": {},
       "overflow": false,
       "plotOptions": {
        "customPlotOptions": {},
        "displayType": "table",
        "pivotAggregation": null,
        "pivotColumns": null,
        "xColumns": null,
        "yColumns": null
       },
       "removedWidgets": [],
       "schema": [
        {
         "metadata": "{}",
         "name": "summary",
         "type": "\"string\""
        },
        {
         "metadata": "{}",
         "name": "Total",
         "type": "\"string\""
        },
        {
         "metadata": "{}",
         "name": "Lunes",
         "type": "\"string\""
        },
        {
         "metadata": "{}",
         "name": "Martes",
         "type": "\"string\""
        },
        {
         "metadata": "{}",
         "name": "Mircoles",
         "type": "\"string\""
        },
        {
         "metadata": "{}",
         "name": "Jueves",
         "type": "\"string\""
        },
        {
         "metadata": "{}",
         "name": "Viernes",
         "type": "\"string\""
        },
        {
         "metadata": "{}",
         "name": "Sbado",
         "type": "\"string\""
        },
        {
         "metadata": "{}",
         "name": "Domingo",
         "type": "\"string\""
        }
       ],
       "type": "table"
      }
     },
     "output_type": "display_data"
    },
    {
     "output_type": "display_data",
     "data": {
      "text/html": [
       "<h4 style='margin:10px 0'>Cuadro 41 — columnas numéricas</h4>"
      ]
     },
     "metadata": {},
     "output_type": "display_data"
    },
    {
     "output_type": "display_data",
     "data": {
      "text/html": [
       "<p style='margin:6px 0 4px 0'><i>Resumen (describe):</i></p>"
      ]
     },
     "metadata": {},
     "output_type": "display_data"
    },
    {
     "output_type": "display_data",
     "data": {
      "text/html": [
       "<style scoped>\n",
       "  .table-result-container {\n",
       "    max-height: 300px;\n",
       "    overflow: auto;\n",
       "  }\n",
       "  table, th, td {\n",
       "    border: 1px solid black;\n",
       "    border-collapse: collapse;\n",
       "  }\n",
       "  th, td {\n",
       "    padding: 5px;\n",
       "  }\n",
       "  th {\n",
       "    text-align: left;\n",
       "  }\n",
       "</style><div class='table-result-container'><table class='table-result'><thead style='background-color: white'><tr><th>summary</th><th>Total</th><th>Menor_de_15</th><th>1519</th><th>2024</th><th>2529</th><th>3034</th><th>3539</th><th>4044</th><th>4549</th><th>5054</th><th>5559</th><th>6064</th><th>6569</th><th>7074</th><th>7579</th><th>80_y_ms</th><th>Ignorado</th></tr></thead><tbody><tr><td>count</td><td>23</td><td>23</td><td>23</td><td>23</td><td>23</td><td>23</td><td>23</td><td>23</td><td>23</td><td>23</td><td>23</td><td>23</td><td>23</td><td>23</td><td>23</td><td>23</td><td>23</td></tr><tr><td>mean</td><td>130.0</td><td>16.434782608695652</td><td>10.695652173913043</td><td>15.130434782608695</td><td>10.347826086956522</td><td>10.08695652173913</td><td>9.73913043478261</td><td>8.26086956521739</td><td>6.086956521739131</td><td>5.739130434782608</td><td>4.434782608695652</td><td>4.608695652173913</td><td>4.434782608695652</td><td>4.3478260869565215</td><td>3.3043478260869565</td><td>3.4782608695652173</td><td>12.869565217391305</td></tr><tr><td>stddev</td><td>331.25381644456706</td><td>40.178947548274046</td><td>26.93499714398063</td><td>38.83450240540103</td><td>26.79316177285841</td><td>27.252878152388465</td><td>25.600457011730988</td><td>21.05882969921157</td><td>15.658030305356997</td><td>14.903377870025269</td><td>11.468637419884484</td><td>12.357328081436249</td><td>10.862052739851713</td><td>11.142093387657837</td><td>8.42849486514049</td><td>9.044684854137921</td><td>32.229721387431546</td></tr><tr><td>min</td><td>6</td><td>0</td><td>0</td><td>0</td><td>0</td><td>0</td><td>0</td><td>0</td><td>0</td><td>0</td><td>0</td><td>0</td><td>0</td><td>0</td><td>0</td><td>0</td><td>0</td></tr><tr><td>max</td><td>1495</td><td>189</td><td>123</td><td>174</td><td>119</td><td>116</td><td>112</td><td>95</td><td>70</td><td>66</td><td>51</td><td>53</td><td>51</td><td>50</td><td>38</td><td>40</td><td>148</td></tr></tbody></table></div>"
      ]
     },
     "metadata": {
      "application/vnd.databricks.v1+output": {
       "addedWidgets": {},
       "aggData": [],
       "aggError": "",
       "aggOverflow": false,
       "aggSchema": [],
       "aggSeriesLimitReached": false,
       "aggType": "",
       "arguments": {},
       "columnCustomDisplayInfos": {},
       "data": [
        [
         "count",
         "23",
         "23",
         "23",
         "23",
         "23",
         "23",
         "23",
         "23",
         "23",
         "23",
         "23",
         "23",
         "23",
         "23",
         "23",
         "23",
         "23"
        ],
        [
         "mean",
         "130.0",
         "16.434782608695652",
         "10.695652173913043",
         "15.130434782608695",
         "10.347826086956522",
         "10.08695652173913",
         "9.73913043478261",
         "8.26086956521739",
         "6.086956521739131",
         "5.739130434782608",
         "4.434782608695652",
         "4.608695652173913",
         "4.434782608695652",
         "4.3478260869565215",
         "3.3043478260869565",
         "3.4782608695652173",
         "12.869565217391305"
        ],
        [
         "stddev",
         "331.25381644456706",
         "40.178947548274046",
         "26.93499714398063",
         "38.83450240540103",
         "26.79316177285841",
         "27.252878152388465",
         "25.600457011730988",
         "21.05882969921157",
         "15.658030305356997",
         "14.903377870025269",
         "11.468637419884484",
         "12.357328081436249",
         "10.862052739851713",
         "11.142093387657837",
         "8.42849486514049",
         "9.044684854137921",
         "32.229721387431546"
        ],
        [
         "min",
         "6",
         "0",
         "0",
         "0",
         "0",
         "0",
         "0",
         "0",
         "0",
         "0",
         "0",
         "0",
         "0",
         "0",
         "0",
         "0",
         "0"
        ],
        [
         "max",
         "1495",
         "189",
         "123",
         "174",
         "119",
         "116",
         "112",
         "95",
         "70",
         "66",
         "51",
         "53",
         "51",
         "50",
         "38",
         "40",
         "148"
        ]
       ],
       "datasetInfos": [],
       "dbfsResultPath": null,
       "isJsonSchema": true,
       "metadata": {},
       "overflow": false,
       "plotOptions": {
        "customPlotOptions": {},
        "displayType": "table",
        "pivotAggregation": null,
        "pivotColumns": null,
        "xColumns": null,
        "yColumns": null
       },
       "removedWidgets": [],
       "schema": [
        {
         "metadata": "{}",
         "name": "summary",
         "type": "\"string\""
        },
        {
         "metadata": "{}",
         "name": "Total",
         "type": "\"string\""
        },
        {
         "metadata": "{}",
         "name": "Menor_de_15",
         "type": "\"string\""
        },
        {
         "metadata": "{}",
         "name": "1519",
         "type": "\"string\""
        },
        {
         "metadata": "{}",
         "name": "2024",
         "type": "\"string\""
        },
        {
         "metadata": "{}",
         "name": "2529",
         "type": "\"string\""
        },
        {
         "metadata": "{}",
         "name": "3034",
         "type": "\"string\""
        },
        {
         "metadata": "{}",
         "name": "3539",
         "type": "\"string\""
        },
        {
         "metadata": "{}",
         "name": "4044",
         "type": "\"string\""
        },
        {
         "metadata": "{}",
         "name": "4549",
         "type": "\"string\""
        },
        {
         "metadata": "{}",
         "name": "5054",
         "type": "\"string\""
        },
        {
         "metadata": "{}",
         "name": "5559",
         "type": "\"string\""
        },
        {
         "metadata": "{}",
         "name": "6064",
         "type": "\"string\""
        },
        {
         "metadata": "{}",
         "name": "6569",
         "type": "\"string\""
        },
        {
         "metadata": "{}",
         "name": "7074",
         "type": "\"string\""
        },
        {
         "metadata": "{}",
         "name": "7579",
         "type": "\"string\""
        },
        {
         "metadata": "{}",
         "name": "80_y_ms",
         "type": "\"string\""
        },
        {
         "metadata": "{}",
         "name": "Ignorado",
         "type": "\"string\""
        }
       ],
       "type": "table"
      }
     },
     "output_type": "display_data"
    },
    {
     "output_type": "display_data",
     "data": {
      "text/html": [
       "<h4 style='margin:10px 0'>Cuadro 42 — columnas numéricas</h4>"
      ]
     },
     "metadata": {},
     "output_type": "display_data"
    },
    {
     "output_type": "display_data",
     "data": {
      "text/html": [
       "<p style='margin:6px 0 4px 0'><i>Resumen (describe):</i></p>"
      ]
     },
     "metadata": {},
     "output_type": "display_data"
    },
    {
     "output_type": "display_data",
     "data": {
      "text/html": [
       "<style scoped>\n",
       "  .table-result-container {\n",
       "    max-height: 300px;\n",
       "    overflow: auto;\n",
       "  }\n",
       "  table, th, td {\n",
       "    border: 1px solid black;\n",
       "    border-collapse: collapse;\n",
       "  }\n",
       "  th, td {\n",
       "    padding: 5px;\n",
       "  }\n",
       "  th {\n",
       "    text-align: left;\n",
       "  }\n",
       "</style><div class='table-result-container'><table class='table-result'><thead style='background-color: white'><tr><th>summary</th><th>Total</th><th>Lunes</th><th>Martes</th><th>Mircoles</th><th>Jueves</th><th>Viernes</th><th>Sbado</th><th>Domingo</th></tr></thead><tbody><tr><td>count</td><td>25</td><td>25</td><td>25</td><td>25</td><td>25</td><td>25</td><td>25</td><td>25</td></tr><tr><td>mean</td><td>119.6</td><td>16.4</td><td>14.48</td><td>12.72</td><td>14.48</td><td>17.04</td><td>22.4</td><td>22.08</td></tr><tr><td>stddev</td><td>288.82636075446214</td><td>39.84448937222479</td><td>35.115428707810665</td><td>30.820069219044058</td><td>35.06436937975643</td><td>41.32138268096394</td><td>54.457169714678855</td><td>53.31269392305489</td></tr><tr><td>min</td><td>8</td><td>0</td><td>0</td><td>0</td><td>2</td><td>0</td><td>1</td><td>2</td></tr><tr><td>max</td><td>1495</td><td>205</td><td>181</td><td>159</td><td>181</td><td>213</td><td>280</td><td>276</td></tr></tbody></table></div>"
      ]
     },
     "metadata": {
      "application/vnd.databricks.v1+output": {
       "addedWidgets": {},
       "aggData": [],
       "aggError": "",
       "aggOverflow": false,
       "aggSchema": [],
       "aggSeriesLimitReached": false,
       "aggType": "",
       "arguments": {},
       "columnCustomDisplayInfos": {},
       "data": [
        [
         "count",
         "25",
         "25",
         "25",
         "25",
         "25",
         "25",
         "25",
         "25"
        ],
        [
         "mean",
         "119.6",
         "16.4",
         "14.48",
         "12.72",
         "14.48",
         "17.04",
         "22.4",
         "22.08"
        ],
        [
         "stddev",
         "288.82636075446214",
         "39.84448937222479",
         "35.115428707810665",
         "30.820069219044058",
         "35.06436937975643",
         "41.32138268096394",
         "54.457169714678855",
         "53.31269392305489"
        ],
        [
         "min",
         "8",
         "0",
         "0",
         "0",
         "2",
         "0",
         "1",
         "2"
        ],
        [
         "max",
         "1495",
         "205",
         "181",
         "159",
         "181",
         "213",
         "280",
         "276"
        ]
       ],
       "datasetInfos": [],
       "dbfsResultPath": null,
       "isJsonSchema": true,
       "metadata": {},
       "overflow": false,
       "plotOptions": {
        "customPlotOptions": {},
        "displayType": "table",
        "pivotAggregation": null,
        "pivotColumns": null,
        "xColumns": null,
        "yColumns": null
       },
       "removedWidgets": [],
       "schema": [
        {
         "metadata": "{}",
         "name": "summary",
         "type": "\"string\""
        },
        {
         "metadata": "{}",
         "name": "Total",
         "type": "\"string\""
        },
        {
         "metadata": "{}",
         "name": "Lunes",
         "type": "\"string\""
        },
        {
         "metadata": "{}",
         "name": "Martes",
         "type": "\"string\""
        },
        {
         "metadata": "{}",
         "name": "Mircoles",
         "type": "\"string\""
        },
        {
         "metadata": "{}",
         "name": "Jueves",
         "type": "\"string\""
        },
        {
         "metadata": "{}",
         "name": "Viernes",
         "type": "\"string\""
        },
        {
         "metadata": "{}",
         "name": "Sbado",
         "type": "\"string\""
        },
        {
         "metadata": "{}",
         "name": "Domingo",
         "type": "\"string\""
        }
       ],
       "type": "table"
      }
     },
     "output_type": "display_data"
    },
    {
     "output_type": "display_data",
     "data": {
      "text/html": [
       "<h4 style='margin:10px 0'>Cuadro 43 — columnas numéricas</h4>"
      ]
     },
     "metadata": {},
     "output_type": "display_data"
    },
    {
     "output_type": "display_data",
     "data": {
      "text/html": [
       "<p style='margin:6px 0 4px 0'><i>Resumen (describe):</i></p>"
      ]
     },
     "metadata": {},
     "output_type": "display_data"
    },
    {
     "output_type": "display_data",
     "data": {
      "text/html": [
       "<style scoped>\n",
       "  .table-result-container {\n",
       "    max-height: 300px;\n",
       "    overflow: auto;\n",
       "  }\n",
       "  table, th, td {\n",
       "    border: 1px solid black;\n",
       "    border-collapse: collapse;\n",
       "  }\n",
       "  th, td {\n",
       "    padding: 5px;\n",
       "  }\n",
       "  th {\n",
       "    text-align: left;\n",
       "  }\n",
       "</style><div class='table-result-container'><table class='table-result'><thead style='background-color: white'><tr><th>summary</th><th>Total</th><th>Hombre</th><th>Mujer</th><th>Ignorado</th></tr></thead><tbody><tr><td>count</td><td>18</td><td>18</td><td>18</td><td>18</td></tr><tr><td>mean</td><td>166.11111111111111</td><td>109.55555555555556</td><td>55.44444444444444</td><td>1.1111111111111112</td></tr><tr><td>stddev</td><td>373.17097309865704</td><td>244.1345391431011</td><td>127.54663378878203</td><td>2.6543834753077653</td></tr><tr><td>min</td><td>1</td><td>0</td><td>0</td><td>0</td></tr><tr><td>max</td><td>1495</td><td>986</td><td>499</td><td>10</td></tr></tbody></table></div>"
      ]
     },
     "metadata": {
      "application/vnd.databricks.v1+output": {
       "addedWidgets": {},
       "aggData": [],
       "aggError": "",
       "aggOverflow": false,
       "aggSchema": [],
       "aggSeriesLimitReached": false,
       "aggType": "",
       "arguments": {},
       "columnCustomDisplayInfos": {},
       "data": [
        [
         "count",
         "18",
         "18",
         "18",
         "18"
        ],
        [
         "mean",
         "166.11111111111111",
         "109.55555555555556",
         "55.44444444444444",
         "1.1111111111111112"
        ],
        [
         "stddev",
         "373.17097309865704",
         "244.1345391431011",
         "127.54663378878203",
         "2.6543834753077653"
        ],
        [
         "min",
         "1",
         "0",
         "0",
         "0"
        ],
        [
         "max",
         "1495",
         "986",
         "499",
         "10"
        ]
       ],
       "datasetInfos": [],
       "dbfsResultPath": null,
       "isJsonSchema": true,
       "metadata": {},
       "overflow": false,
       "plotOptions": {
        "customPlotOptions": {},
        "displayType": "table",
        "pivotAggregation": null,
        "pivotColumns": null,
        "xColumns": null,
        "yColumns": null
       },
       "removedWidgets": [],
       "schema": [
        {
         "metadata": "{}",
         "name": "summary",
         "type": "\"string\""
        },
        {
         "metadata": "{}",
         "name": "Total",
         "type": "\"string\""
        },
        {
         "metadata": "{}",
         "name": "Hombre",
         "type": "\"string\""
        },
        {
         "metadata": "{}",
         "name": "Mujer",
         "type": "\"string\""
        },
        {
         "metadata": "{}",
         "name": "Ignorado",
         "type": "\"string\""
        }
       ],
       "type": "table"
      }
     },
     "output_type": "display_data"
    },
    {
     "output_type": "display_data",
     "data": {
      "text/html": [
       "<h4 style='margin:10px 0'>Cuadro 44 — columnas numéricas</h4>"
      ]
     },
     "metadata": {},
     "output_type": "display_data"
    },
    {
     "output_type": "display_data",
     "data": {
      "text/html": [
       "<p style='margin:6px 0 4px 0'><i>Resumen (describe):</i></p>"
      ]
     },
     "metadata": {},
     "output_type": "display_data"
    },
    {
     "output_type": "display_data",
     "data": {
      "text/html": [
       "<style scoped>\n",
       "  .table-result-container {\n",
       "    max-height: 300px;\n",
       "    overflow: auto;\n",
       "  }\n",
       "  table, th, td {\n",
       "    border: 1px solid black;\n",
       "    border-collapse: collapse;\n",
       "  }\n",
       "  th, td {\n",
       "    padding: 5px;\n",
       "  }\n",
       "  th {\n",
       "    text-align: left;\n",
       "  }\n",
       "</style><div class='table-result-container'><table class='table-result'><thead style='background-color: white'><tr><th>summary</th><th>Total</th><th>Menor_de_15</th><th>1519</th><th>2024</th><th>2529</th><th>3034</th><th>3539</th><th>4044</th><th>4549</th><th>5054</th><th>5559</th><th>6064</th><th>6569</th><th>7074</th><th>7579</th><th>80_y_ms</th><th>Ignorado</th></tr></thead><tbody><tr><td>count</td><td>24</td><td>24</td><td>24</td><td>24</td><td>24</td><td>24</td><td>24</td><td>24</td><td>24</td><td>24</td><td>24</td><td>24</td><td>24</td><td>24</td><td>24</td><td>24</td><td>24</td></tr><tr><td>mean</td><td>147.41666666666666</td><td>5.25</td><td>12.333333333333334</td><td>28.25</td><td>22.333333333333332</td><td>20.833333333333332</td><td>12.166666666666666</td><td>10.083333333333334</td><td>5.416666666666667</td><td>4.25</td><td>2.8333333333333335</td><td>1.9166666666666667</td><td>1.6666666666666667</td><td>1.5833333333333333</td><td>1.4166666666666667</td><td>1.4166666666666667</td><td>15.666666666666666</td></tr><tr><td>stddev</td><td>354.047149484318</td><td>12.783311131246899</td><td>30.053093115303465</td><td>67.89521978435019</td><td>53.820689949745784</td><td>49.75650856850324</td><td>29.40077885195304</td><td>24.33447485906912</td><td>13.081406209035677</td><td>10.300907515950907</td><td>6.81855949766433</td><td>4.652410938022551</td><td>4.177232979176387</td><td>3.922251645549339</td><td>3.412466488660641</td><td>3.4504778077027645</td><td>38.17997046787145</td></tr><tr><td>min</td><td>4</td><td>0</td><td>0</td><td>0</td><td>0</td><td>1</td><td>0</td><td>0</td><td>0</td><td>0</td><td>0</td><td>0</td><td>0</td><td>0</td><td>0</td><td>0</td><td>0</td></tr><tr><td>max</td><td>1769</td><td>63</td><td>148</td><td>339</td><td>268</td><td>250</td><td>146</td><td>121</td><td>65</td><td>51</td><td>34</td><td>23</td><td>20</td><td>19</td><td>17</td><td>17</td><td>188</td></tr></tbody></table></div>"
      ]
     },
     "metadata": {
      "application/vnd.databricks.v1+output": {
       "addedWidgets": {},
       "aggData": [],
       "aggError": "",
       "aggOverflow": false,
       "aggSchema": [],
       "aggSeriesLimitReached": false,
       "aggType": "",
       "arguments": {},
       "columnCustomDisplayInfos": {},
       "data": [
        [
         "count",
         "24",
         "24",
         "24",
         "24",
         "24",
         "24",
         "24",
         "24",
         "24",
         "24",
         "24",
         "24",
         "24",
         "24",
         "24",
         "24",
         "24"
        ],
        [
         "mean",
         "147.41666666666666",
         "5.25",
         "12.333333333333334",
         "28.25",
         "22.333333333333332",
         "20.833333333333332",
         "12.166666666666666",
         "10.083333333333334",
         "5.416666666666667",
         "4.25",
         "2.8333333333333335",
         "1.9166666666666667",
         "1.6666666666666667",
         "1.5833333333333333",
         "1.4166666666666667",
         "1.4166666666666667",
         "15.666666666666666"
        ],
        [
         "stddev",
         "354.047149484318",
         "12.783311131246899",
         "30.053093115303465",
         "67.89521978435019",
         "53.820689949745784",
         "49.75650856850324",
         "29.40077885195304",
         "24.33447485906912",
         "13.081406209035677",
         "10.300907515950907",
         "6.81855949766433",
         "4.652410938022551",
         "4.177232979176387",
         "3.922251645549339",
         "3.412466488660641",
         "3.4504778077027645",
         "38.17997046787145"
        ],
        [
         "min",
         "4",
         "0",
         "0",
         "0",
         "0",
         "1",
         "0",
         "0",
         "0",
         "0",
         "0",
         "0",
         "0",
         "0",
         "0",
         "0",
         "0"
        ],
        [
         "max",
         "1769",
         "63",
         "148",
         "339",
         "268",
         "250",
         "146",
         "121",
         "65",
         "51",
         "34",
         "23",
         "20",
         "19",
         "17",
         "17",
         "188"
        ]
       ],
       "datasetInfos": [],
       "dbfsResultPath": null,
       "isJsonSchema": true,
       "metadata": {},
       "overflow": false,
       "plotOptions": {
        "customPlotOptions": {},
        "displayType": "table",
        "pivotAggregation": null,
        "pivotColumns": null,
        "xColumns": null,
        "yColumns": null
       },
       "removedWidgets": [],
       "schema": [
        {
         "metadata": "{}",
         "name": "summary",
         "type": "\"string\""
        },
        {
         "metadata": "{}",
         "name": "Total",
         "type": "\"string\""
        },
        {
         "metadata": "{}",
         "name": "Menor_de_15",
         "type": "\"string\""
        },
        {
         "metadata": "{}",
         "name": "1519",
         "type": "\"string\""
        },
        {
         "metadata": "{}",
         "name": "2024",
         "type": "\"string\""
        },
        {
         "metadata": "{}",
         "name": "2529",
         "type": "\"string\""
        },
        {
         "metadata": "{}",
         "name": "3034",
         "type": "\"string\""
        },
        {
         "metadata": "{}",
         "name": "3539",
         "type": "\"string\""
        },
        {
         "metadata": "{}",
         "name": "4044",
         "type": "\"string\""
        },
        {
         "metadata": "{}",
         "name": "4549",
         "type": "\"string\""
        },
        {
         "metadata": "{}",
         "name": "5054",
         "type": "\"string\""
        },
        {
         "metadata": "{}",
         "name": "5559",
         "type": "\"string\""
        },
        {
         "metadata": "{}",
         "name": "6064",
         "type": "\"string\""
        },
        {
         "metadata": "{}",
         "name": "6569",
         "type": "\"string\""
        },
        {
         "metadata": "{}",
         "name": "7074",
         "type": "\"string\""
        },
        {
         "metadata": "{}",
         "name": "7579",
         "type": "\"string\""
        },
        {
         "metadata": "{}",
         "name": "80_y_ms",
         "type": "\"string\""
        },
        {
         "metadata": "{}",
         "name": "Ignorado",
         "type": "\"string\""
        }
       ],
       "type": "table"
      }
     },
     "output_type": "display_data"
    },
    {
     "output_type": "display_data",
     "data": {
      "text/html": [
       "<h4 style='margin:10px 0'>Cuadro 45 — columnas numéricas</h4>"
      ]
     },
     "metadata": {},
     "output_type": "display_data"
    },
    {
     "output_type": "display_data",
     "data": {
      "text/html": [
       "<p style='margin:6px 0 4px 0'><i>Resumen (describe):</i></p>"
      ]
     },
     "metadata": {},
     "output_type": "display_data"
    },
    {
     "output_type": "display_data",
     "data": {
      "text/html": [
       "<style scoped>\n",
       "  .table-result-container {\n",
       "    max-height: 300px;\n",
       "    overflow: auto;\n",
       "  }\n",
       "  table, th, td {\n",
       "    border: 1px solid black;\n",
       "    border-collapse: collapse;\n",
       "  }\n",
       "  th, td {\n",
       "    padding: 5px;\n",
       "  }\n",
       "  th {\n",
       "    text-align: left;\n",
       "  }\n",
       "</style><div class='table-result-container'><table class='table-result'><thead style='background-color: white'><tr><th>summary</th><th>Total</th><th>Lunes</th><th>Martes</th><th>Mircoles</th><th>Jueves</th><th>Viernes</th><th>Sbado</th><th>Domingo</th></tr></thead><tbody><tr><td>count</td><td>24</td><td>24</td><td>24</td><td>24</td><td>24</td><td>24</td><td>24</td><td>24</td></tr><tr><td>mean</td><td>147.41666666666666</td><td>18.666666666666668</td><td>18.25</td><td>15.166666666666666</td><td>17.666666666666668</td><td>20.5</td><td>29.166666666666668</td><td>28.0</td></tr><tr><td>stddev</td><td>354.047149484318</td><td>44.92376795791101</td><td>43.78728225131724</td><td>36.32183038227617</td><td>42.586655050682225</td><td>49.547517816124056</td><td>70.42767901198002</td><td>67.84573294070063</td></tr><tr><td>min</td><td>4</td><td>0</td><td>0</td><td>0</td><td>0</td><td>0</td><td>0</td><td>0</td></tr><tr><td>max</td><td>1769</td><td>224</td><td>219</td><td>182</td><td>212</td><td>246</td><td>350</td><td>336</td></tr></tbody></table></div>"
      ]
     },
     "metadata": {
      "application/vnd.databricks.v1+output": {
       "addedWidgets": {},
       "aggData": [],
       "aggError": "",
       "aggOverflow": false,
       "aggSchema": [],
       "aggSeriesLimitReached": false,
       "aggType": "",
       "arguments": {},
       "columnCustomDisplayInfos": {},
       "data": [
        [
         "count",
         "24",
         "24",
         "24",
         "24",
         "24",
         "24",
         "24",
         "24"
        ],
        [
         "mean",
         "147.41666666666666",
         "18.666666666666668",
         "18.25",
         "15.166666666666666",
         "17.666666666666668",
         "20.5",
         "29.166666666666668",
         "28.0"
        ],
        [
         "stddev",
         "354.047149484318",
         "44.92376795791101",
         "43.78728225131724",
         "36.32183038227617",
         "42.586655050682225",
         "49.547517816124056",
         "70.42767901198002",
         "67.84573294070063"
        ],
        [
         "min",
         "4",
         "0",
         "0",
         "0",
         "0",
         "0",
         "0",
         "0"
        ],
        [
         "max",
         "1769",
         "224",
         "219",
         "182",
         "212",
         "246",
         "350",
         "336"
        ]
       ],
       "datasetInfos": [],
       "dbfsResultPath": null,
       "isJsonSchema": true,
       "metadata": {},
       "overflow": false,
       "plotOptions": {
        "customPlotOptions": {},
        "displayType": "table",
        "pivotAggregation": null,
        "pivotColumns": null,
        "xColumns": null,
        "yColumns": null
       },
       "removedWidgets": [],
       "schema": [
        {
         "metadata": "{}",
         "name": "summary",
         "type": "\"string\""
        },
        {
         "metadata": "{}",
         "name": "Total",
         "type": "\"string\""
        },
        {
         "metadata": "{}",
         "name": "Lunes",
         "type": "\"string\""
        },
        {
         "metadata": "{}",
         "name": "Martes",
         "type": "\"string\""
        },
        {
         "metadata": "{}",
         "name": "Mircoles",
         "type": "\"string\""
        },
        {
         "metadata": "{}",
         "name": "Jueves",
         "type": "\"string\""
        },
        {
         "metadata": "{}",
         "name": "Viernes",
         "type": "\"string\""
        },
        {
         "metadata": "{}",
         "name": "Sbado",
         "type": "\"string\""
        },
        {
         "metadata": "{}",
         "name": "Domingo",
         "type": "\"string\""
        }
       ],
       "type": "table"
      }
     },
     "output_type": "display_data"
    },
    {
     "output_type": "display_data",
     "data": {
      "text/html": [
       "<h4 style='margin:10px 0'>Cuadro 46 — columnas numéricas</h4>"
      ]
     },
     "metadata": {},
     "output_type": "display_data"
    },
    {
     "output_type": "display_data",
     "data": {
      "text/html": [
       "<p style='margin:6px 0 4px 0'><i>Resumen (describe):</i></p>"
      ]
     },
     "metadata": {},
     "output_type": "display_data"
    },
    {
     "output_type": "display_data",
     "data": {
      "text/html": [
       "<style scoped>\n",
       "  .table-result-container {\n",
       "    max-height: 300px;\n",
       "    overflow: auto;\n",
       "  }\n",
       "  table, th, td {\n",
       "    border: 1px solid black;\n",
       "    border-collapse: collapse;\n",
       "  }\n",
       "  th, td {\n",
       "    padding: 5px;\n",
       "  }\n",
       "  th {\n",
       "    text-align: left;\n",
       "  }\n",
       "</style><div class='table-result-container'><table class='table-result'><thead style='background-color: white'><tr><th>summary</th><th>Total</th><th>Hombre</th><th>Mujer</th><th>Ignorado</th></tr></thead><tbody><tr><td>count</td><td>24</td><td>24</td><td>24</td><td>24</td></tr><tr><td>mean</td><td>147.41666666666666</td><td>108.0</td><td>39.25</td><td>0.16666666666666666</td></tr><tr><td>stddev</td><td>354.047149484318</td><td>259.6104104564979</td><td>94.32195096997627</td><td>0.48154341234307674</td></tr><tr><td>min</td><td>4</td><td>3</td><td>1</td><td>0</td></tr><tr><td>max</td><td>1769</td><td>1296</td><td>471</td><td>2</td></tr></tbody></table></div>"
      ]
     },
     "metadata": {
      "application/vnd.databricks.v1+output": {
       "addedWidgets": {},
       "aggData": [],
       "aggError": "",
       "aggOverflow": false,
       "aggSchema": [],
       "aggSeriesLimitReached": false,
       "aggType": "",
       "arguments": {},
       "columnCustomDisplayInfos": {},
       "data": [
        [
         "count",
         "24",
         "24",
         "24",
         "24"
        ],
        [
         "mean",
         "147.41666666666666",
         "108.0",
         "39.25",
         "0.16666666666666666"
        ],
        [
         "stddev",
         "354.047149484318",
         "259.6104104564979",
         "94.32195096997627",
         "0.48154341234307674"
        ],
        [
         "min",
         "4",
         "3",
         "1",
         "0"
        ],
        [
         "max",
         "1769",
         "1296",
         "471",
         "2"
        ]
       ],
       "datasetInfos": [],
       "dbfsResultPath": null,
       "isJsonSchema": true,
       "metadata": {},
       "overflow": false,
       "plotOptions": {
        "customPlotOptions": {},
        "displayType": "table",
        "pivotAggregation": null,
        "pivotColumns": null,
        "xColumns": null,
        "yColumns": null
       },
       "removedWidgets": [],
       "schema": [
        {
         "metadata": "{}",
         "name": "summary",
         "type": "\"string\""
        },
        {
         "metadata": "{}",
         "name": "Total",
         "type": "\"string\""
        },
        {
         "metadata": "{}",
         "name": "Hombre",
         "type": "\"string\""
        },
        {
         "metadata": "{}",
         "name": "Mujer",
         "type": "\"string\""
        },
        {
         "metadata": "{}",
         "name": "Ignorado",
         "type": "\"string\""
        }
       ],
       "type": "table"
      }
     },
     "output_type": "display_data"
    },
    {
     "output_type": "display_data",
     "data": {
      "text/html": [
       "<h4 style='margin:10px 0'>Cuadro 47 — columnas numéricas</h4>"
      ]
     },
     "metadata": {},
     "output_type": "display_data"
    },
    {
     "output_type": "display_data",
     "data": {
      "text/html": [
       "<p style='margin:6px 0 4px 0'><i>Resumen (describe):</i></p>"
      ]
     },
     "metadata": {},
     "output_type": "display_data"
    },
    {
     "output_type": "display_data",
     "data": {
      "text/html": [
       "<style scoped>\n",
       "  .table-result-container {\n",
       "    max-height: 300px;\n",
       "    overflow: auto;\n",
       "  }\n",
       "  table, th, td {\n",
       "    border: 1px solid black;\n",
       "    border-collapse: collapse;\n",
       "  }\n",
       "  th, td {\n",
       "    padding: 5px;\n",
       "  }\n",
       "  th {\n",
       "    text-align: left;\n",
       "  }\n",
       "</style><div class='table-result-container'><table class='table-result'><thead style='background-color: white'><tr><th>summary</th><th>2020</th><th>2021</th><th>2022</th><th>2023</th><th>2024</th></tr></thead><tbody><tr><td>count</td><td>23</td><td>23</td><td>23</td><td>23</td><td>23</td></tr><tr><td>mean</td><td>134.69565217391303</td><td>186.95652173913044</td><td>189.2173913043478</td><td>197.82608695652175</td><td>205.65217391304347</td></tr><tr><td>stddev</td><td>319.41273310741116</td><td>440.7303317182092</td><td>446.027410136289</td><td>467.0705272979185</td><td>485.19430116338236</td></tr><tr><td>min</td><td>14</td><td>23</td><td>26</td><td>18</td><td>14</td></tr><tr><td>max</td><td>1549</td><td>2150</td><td>2176</td><td>2275</td><td>2365</td></tr></tbody></table></div>"
      ]
     },
     "metadata": {
      "application/vnd.databricks.v1+output": {
       "addedWidgets": {},
       "aggData": [],
       "aggError": "",
       "aggOverflow": false,
       "aggSchema": [],
       "aggSeriesLimitReached": false,
       "aggType": "",
       "arguments": {},
       "columnCustomDisplayInfos": {},
       "data": [
        [
         "count",
         "23",
         "23",
         "23",
         "23",
         "23"
        ],
        [
         "mean",
         "134.69565217391303",
         "186.95652173913044",
         "189.2173913043478",
         "197.82608695652175",
         "205.65217391304347"
        ],
        [
         "stddev",
         "319.41273310741116",
         "440.7303317182092",
         "446.027410136289",
         "467.0705272979185",
         "485.19430116338236"
        ],
        [
         "min",
         "14",
         "23",
         "26",
         "18",
         "14"
        ],
        [
         "max",
         "1549",
         "2150",
         "2176",
         "2275",
         "2365"
        ]
       ],
       "datasetInfos": [],
       "dbfsResultPath": null,
       "isJsonSchema": true,
       "metadata": {},
       "overflow": false,
       "plotOptions": {
        "customPlotOptions": {},
        "displayType": "table",
        "pivotAggregation": null,
        "pivotColumns": null,
        "xColumns": null,
        "yColumns": null
       },
       "removedWidgets": [],
       "schema": [
        {
         "metadata": "{}",
         "name": "summary",
         "type": "\"string\""
        },
        {
         "metadata": "{}",
         "name": "2020",
         "type": "\"string\""
        },
        {
         "metadata": "{}",
         "name": "2021",
         "type": "\"string\""
        },
        {
         "metadata": "{}",
         "name": "2022",
         "type": "\"string\""
        },
        {
         "metadata": "{}",
         "name": "2023",
         "type": "\"string\""
        },
        {
         "metadata": "{}",
         "name": "2024",
         "type": "\"string\""
        }
       ],
       "type": "table"
      }
     },
     "output_type": "display_data"
    },
    {
     "output_type": "display_data",
     "data": {
      "text/html": [
       "<h4 style='margin:10px 0'>Cuadro 48 — columnas numéricas</h4>"
      ]
     },
     "metadata": {},
     "output_type": "display_data"
    },
    {
     "output_type": "display_data",
     "data": {
      "text/html": [
       "<p style='margin:6px 0 4px 0'><i>Resumen (describe):</i></p>"
      ]
     },
     "metadata": {},
     "output_type": "display_data"
    },
    {
     "output_type": "display_data",
     "data": {
      "text/html": [
       "<style scoped>\n",
       "  .table-result-container {\n",
       "    max-height: 300px;\n",
       "    overflow: auto;\n",
       "  }\n",
       "  table, th, td {\n",
       "    border: 1px solid black;\n",
       "    border-collapse: collapse;\n",
       "  }\n",
       "  th, td {\n",
       "    padding: 5px;\n",
       "  }\n",
       "  th {\n",
       "    text-align: left;\n",
       "  }\n",
       "</style><div class='table-result-container'><table class='table-result'><thead style='background-color: white'><tr><th>summary</th><th>Total</th><th>Enero</th><th>Febrero</th><th>Marzo</th><th>Abril</th><th>Mayo</th><th>Junio</th><th>Julio</th><th>Agosto</th><th>Septiembre</th><th>Octubre</th><th>Noviembre</th><th>Diciembre</th></tr></thead><tbody><tr><td>count</td><td>23</td><td>23</td><td>23</td><td>23</td><td>23</td><td>23</td><td>23</td><td>23</td><td>23</td><td>23</td><td>23</td><td>23</td><td>23</td></tr><tr><td>mean</td><td>205.65217391304347</td><td>16.347826086956523</td><td>17.82608695652174</td><td>19.217391304347824</td><td>16.608695652173914</td><td>16.434782608695652</td><td>14.521739130434783</td><td>17.217391304347824</td><td>16.347826086956523</td><td>17.217391304347824</td><td>17.47826086956522</td><td>15.826086956521738</td><td>20.608695652173914</td></tr><tr><td>stddev</td><td>485.19430116338236</td><td>38.561177716421874</td><td>42.57789884853092</td><td>45.24876344040107</td><td>39.42396494339081</td><td>39.344430224916465</td><td>34.92832865014428</td><td>40.54173665578714</td><td>38.48330062348433</td><td>40.38221539438003</td><td>41.33551143906234</td><td>37.240803836057715</td><td>48.689871198353494</td></tr><tr><td>min</td><td>14</td><td>0</td><td>1</td><td>0</td><td>1</td><td>0</td><td>1</td><td>0</td><td>0</td><td>0</td><td>0</td><td>0</td><td>1</td></tr><tr><td>max</td><td>2365</td><td>188</td><td>205</td><td>221</td><td>191</td><td>189</td><td>167</td><td>198</td><td>188</td><td>198</td><td>201</td><td>182</td><td>237</td></tr></tbody></table></div>"
      ]
     },
     "metadata": {
      "application/vnd.databricks.v1+output": {
       "addedWidgets": {},
       "aggData": [],
       "aggError": "",
       "aggOverflow": false,
       "aggSchema": [],
       "aggSeriesLimitReached": false,
       "aggType": "",
       "arguments": {},
       "columnCustomDisplayInfos": {},
       "data": [
        [
         "count",
         "23",
         "23",
         "23",
         "23",
         "23",
         "23",
         "23",
         "23",
         "23",
         "23",
         "23",
         "23",
         "23"
        ],
        [
         "mean",
         "205.65217391304347",
         "16.347826086956523",
         "17.82608695652174",
         "19.217391304347824",
         "16.608695652173914",
         "16.434782608695652",
         "14.521739130434783",
         "17.217391304347824",
         "16.347826086956523",
         "17.217391304347824",
         "17.47826086956522",
         "15.826086956521738",
         "20.608695652173914"
        ],
        [
         "stddev",
         "485.19430116338236",
         "38.561177716421874",
         "42.57789884853092",
         "45.24876344040107",
         "39.42396494339081",
         "39.344430224916465",
         "34.92832865014428",
         "40.54173665578714",
         "38.48330062348433",
         "40.38221539438003",
         "41.33551143906234",
         "37.240803836057715",
         "48.689871198353494"
        ],
        [
         "min",
         "14",
         "0",
         "1",
         "0",
         "1",
         "0",
         "1",
         "0",
         "0",
         "0",
         "0",
         "0",
         "1"
        ],
        [
         "max",
         "2365",
         "188",
         "205",
         "221",
         "191",
         "189",
         "167",
         "198",
         "188",
         "198",
         "201",
         "182",
         "237"
        ]
       ],
       "datasetInfos": [],
       "dbfsResultPath": null,
       "isJsonSchema": true,
       "metadata": {},
       "overflow": false,
       "plotOptions": {
        "customPlotOptions": {},
        "displayType": "table",
        "pivotAggregation": null,
        "pivotColumns": null,
        "xColumns": null,
        "yColumns": null
       },
       "removedWidgets": [],
       "schema": [
        {
         "metadata": "{}",
         "name": "summary",
         "type": "\"string\""
        },
        {
         "metadata": "{}",
         "name": "Total",
         "type": "\"string\""
        },
        {
         "metadata": "{}",
         "name": "Enero",
         "type": "\"string\""
        },
        {
         "metadata": "{}",
         "name": "Febrero",
         "type": "\"string\""
        },
        {
         "metadata": "{}",
         "name": "Marzo",
         "type": "\"string\""
        },
        {
         "metadata": "{}",
         "name": "Abril",
         "type": "\"string\""
        },
        {
         "metadata": "{}",
         "name": "Mayo",
         "type": "\"string\""
        },
        {
         "metadata": "{}",
         "name": "Junio",
         "type": "\"string\""
        },
        {
         "metadata": "{}",
         "name": "Julio",
         "type": "\"string\""
        },
        {
         "metadata": "{}",
         "name": "Agosto",
         "type": "\"string\""
        },
        {
         "metadata": "{}",
         "name": "Septiembre",
         "type": "\"string\""
        },
        {
         "metadata": "{}",
         "name": "Octubre",
         "type": "\"string\""
        },
        {
         "metadata": "{}",
         "name": "Noviembre",
         "type": "\"string\""
        },
        {
         "metadata": "{}",
         "name": "Diciembre",
         "type": "\"string\""
        }
       ],
       "type": "table"
      }
     },
     "output_type": "display_data"
    },
    {
     "output_type": "display_data",
     "data": {
      "text/html": [
       "<h4 style='margin:10px 0'>Cuadro 49 — columnas numéricas</h4>"
      ]
     },
     "metadata": {},
     "output_type": "display_data"
    },
    {
     "output_type": "display_data",
     "data": {
      "text/html": [
       "<p style='margin:6px 0 4px 0'><i>Resumen (describe):</i></p>"
      ]
     },
     "metadata": {},
     "output_type": "display_data"
    },
    {
     "output_type": "display_data",
     "data": {
      "text/html": [
       "<style scoped>\n",
       "  .table-result-container {\n",
       "    max-height: 300px;\n",
       "    overflow: auto;\n",
       "  }\n",
       "  table, th, td {\n",
       "    border: 1px solid black;\n",
       "    border-collapse: collapse;\n",
       "  }\n",
       "  th, td {\n",
       "    padding: 5px;\n",
       "  }\n",
       "  th {\n",
       "    text-align: left;\n",
       "  }\n",
       "</style><div class='table-result-container'><table class='table-result'><thead style='background-color: white'><tr><th>summary</th><th>Total</th><th>Lunes</th><th>Martes</th><th>Mircoles</th><th>Jueves</th><th>Viernes</th><th>Sbado</th><th>Domingo</th></tr></thead><tbody><tr><td>count</td><td>23</td><td>23</td><td>23</td><td>23</td><td>23</td><td>23</td><td>23</td><td>23</td></tr><tr><td>mean</td><td>205.65217391304347</td><td>26.347826086956523</td><td>21.652173913043477</td><td>21.565217391304348</td><td>22.26086956521739</td><td>30.434782608695652</td><td>39.91304347826087</td><td>43.47826086956522</td></tr><tr><td>stddev</td><td>485.19430116338236</td><td>61.943969326871354</td><td>50.7100570047296</td><td>50.60796387827847</td><td>52.71899553404426</td><td>72.67976214935597</td><td>94.94539724756555</td><td>102.33317668959268</td></tr><tr><td>min</td><td>14</td><td>0</td><td>1</td><td>1</td><td>1</td><td>0</td><td>0</td><td>3</td></tr><tr><td>max</td><td>2365</td><td>303</td><td>249</td><td>248</td><td>256</td><td>350</td><td>459</td><td>500</td></tr></tbody></table></div>"
      ]
     },
     "metadata": {
      "application/vnd.databricks.v1+output": {
       "addedWidgets": {},
       "aggData": [],
       "aggError": "",
       "aggOverflow": false,
       "aggSchema": [],
       "aggSeriesLimitReached": false,
       "aggType": "",
       "arguments": {},
       "columnCustomDisplayInfos": {},
       "data": [
        [
         "count",
         "23",
         "23",
         "23",
         "23",
         "23",
         "23",
         "23",
         "23"
        ],
        [
         "mean",
         "205.65217391304347",
         "26.347826086956523",
         "21.652173913043477",
         "21.565217391304348",
         "22.26086956521739",
         "30.434782608695652",
         "39.91304347826087",
         "43.47826086956522"
        ],
        [
         "stddev",
         "485.19430116338236",
         "61.943969326871354",
         "50.7100570047296",
         "50.60796387827847",
         "52.71899553404426",
         "72.67976214935597",
         "94.94539724756555",
         "102.33317668959268"
        ],
        [
         "min",
         "14",
         "0",
         "1",
         "1",
         "1",
         "0",
         "0",
         "3"
        ],
        [
         "max",
         "2365",
         "303",
         "249",
         "248",
         "256",
         "350",
         "459",
         "500"
        ]
       ],
       "datasetInfos": [],
       "dbfsResultPath": null,
       "isJsonSchema": true,
       "metadata": {},
       "overflow": false,
       "plotOptions": {
        "customPlotOptions": {},
        "displayType": "table",
        "pivotAggregation": null,
        "pivotColumns": null,
        "xColumns": null,
        "yColumns": null
       },
       "removedWidgets": [],
       "schema": [
        {
         "metadata": "{}",
         "name": "summary",
         "type": "\"string\""
        },
        {
         "metadata": "{}",
         "name": "Total",
         "type": "\"string\""
        },
        {
         "metadata": "{}",
         "name": "Lunes",
         "type": "\"string\""
        },
        {
         "metadata": "{}",
         "name": "Martes",
         "type": "\"string\""
        },
        {
         "metadata": "{}",
         "name": "Mircoles",
         "type": "\"string\""
        },
        {
         "metadata": "{}",
         "name": "Jueves",
         "type": "\"string\""
        },
        {
         "metadata": "{}",
         "name": "Viernes",
         "type": "\"string\""
        },
        {
         "metadata": "{}",
         "name": "Sbado",
         "type": "\"string\""
        },
        {
         "metadata": "{}",
         "name": "Domingo",
         "type": "\"string\""
        }
       ],
       "type": "table"
      }
     },
     "output_type": "display_data"
    },
    {
     "output_type": "display_data",
     "data": {
      "text/html": [
       "<h4 style='margin:10px 0'>Cuadro 50 — columnas numéricas</h4>"
      ]
     },
     "metadata": {},
     "output_type": "display_data"
    },
    {
     "output_type": "display_data",
     "data": {
      "text/html": [
       "<p style='margin:6px 0 4px 0'><i>Resumen (describe):</i></p>"
      ]
     },
     "metadata": {},
     "output_type": "display_data"
    },
    {
     "output_type": "display_data",
     "data": {
      "text/html": [
       "<style scoped>\n",
       "  .table-result-container {\n",
       "    max-height: 300px;\n",
       "    overflow: auto;\n",
       "  }\n",
       "  table, th, td {\n",
       "    border: 1px solid black;\n",
       "    border-collapse: collapse;\n",
       "  }\n",
       "  th, td {\n",
       "    padding: 5px;\n",
       "  }\n",
       "  th {\n",
       "    text-align: left;\n",
       "  }\n",
       "</style><div class='table-result-container'><table class='table-result'><thead style='background-color: white'><tr><th>summary</th><th>Total</th><th>Menor_de_15</th><th>1519</th><th>2024</th><th>2529</th><th>3034</th><th>3539</th><th>4044</th><th>4549</th><th>5054</th><th>5559</th><th>6064</th><th>6569</th><th>7074</th><th>7579</th><th>80_y_ms</th><th>Ignorado</th></tr></thead><tbody><tr><td>count</td><td>23</td><td>23</td><td>23</td><td>23</td><td>23</td><td>23</td><td>23</td><td>23</td><td>23</td><td>23</td><td>23</td><td>23</td><td>23</td><td>23</td><td>23</td><td>23</td><td>23</td></tr><tr><td>mean</td><td>205.65217391304347</td><td>8.347826086956522</td><td>15.217391304347826</td><td>30.0</td><td>28.434782608695652</td><td>21.217391304347824</td><td>17.130434782608695</td><td>11.826086956521738</td><td>9.91304347826087</td><td>7.739130434782608</td><td>5.478260869565218</td><td>6.0</td><td>5.130434782608695</td><td>2.608695652173913</td><td>2.5217391304347827</td><td>3.3043478260869565</td><td>30.782608695652176</td></tr><tr><td>stddev</td><td>485.19430116338236</td><td>19.413230483012384</td><td>35.64083016294034</td><td>71.0371221775821</td><td>67.94371071767391</td><td>50.77576061087267</td><td>41.35248079600775</td><td>28.566751452301133</td><td>23.182895425640975</td><td>18.01821651779702</td><td>13.041435940240598</td><td>14.419053051746877</td><td>11.864018742039415</td><td>6.177224519701256</td><td>6.051818398535582</td><td>7.882286139351241</td><td>72.50263726973795</td></tr><tr><td>min</td><td>14</td><td>0</td><td>0</td><td>3</td><td>0</td><td>1</td><td>0</td><td>1</td><td>1</td><td>0</td><td>0</td><td>0</td><td>0</td><td>0</td><td>0</td><td>0</td><td>1</td></tr><tr><td>max</td><td>2365</td><td>96</td><td>175</td><td>345</td><td>327</td><td>244</td><td>197</td><td>136</td><td>114</td><td>89</td><td>63</td><td>69</td><td>59</td><td>30</td><td>29</td><td>38</td><td>354</td></tr></tbody></table></div>"
      ]
     },
     "metadata": {
      "application/vnd.databricks.v1+output": {
       "addedWidgets": {},
       "aggData": [],
       "aggError": "",
       "aggOverflow": false,
       "aggSchema": [],
       "aggSeriesLimitReached": false,
       "aggType": "",
       "arguments": {},
       "columnCustomDisplayInfos": {},
       "data": [
        [
         "count",
         "23",
         "23",
         "23",
         "23",
         "23",
         "23",
         "23",
         "23",
         "23",
         "23",
         "23",
         "23",
         "23",
         "23",
         "23",
         "23",
         "23"
        ],
        [
         "mean",
         "205.65217391304347",
         "8.347826086956522",
         "15.217391304347826",
         "30.0",
         "28.434782608695652",
         "21.217391304347824",
         "17.130434782608695",
         "11.826086956521738",
         "9.91304347826087",
         "7.739130434782608",
         "5.478260869565218",
         "6.0",
         "5.130434782608695",
         "2.608695652173913",
         "2.5217391304347827",
         "3.3043478260869565",
         "30.782608695652176"
        ],
        [
         "stddev",
         "485.19430116338236",
         "19.413230483012384",
         "35.64083016294034",
         "71.0371221775821",
         "67.94371071767391",
         "50.77576061087267",
         "41.35248079600775",
         "28.566751452301133",
         "23.182895425640975",
         "18.01821651779702",
         "13.041435940240598",
         "14.419053051746877",
         "11.864018742039415",
         "6.177224519701256",
         "6.051818398535582",
         "7.882286139351241",
         "72.50263726973795"
        ],
        [
         "min",
         "14",
         "0",
         "0",
         "3",
         "0",
         "1",
         "0",
         "1",
         "1",
         "0",
         "0",
         "0",
         "0",
         "0",
         "0",
         "0",
         "1"
        ],
        [
         "max",
         "2365",
         "96",
         "175",
         "345",
         "327",
         "244",
         "197",
         "136",
         "114",
         "89",
         "63",
         "69",
         "59",
         "30",
         "29",
         "38",
         "354"
        ]
       ],
       "datasetInfos": [],
       "dbfsResultPath": null,
       "isJsonSchema": true,
       "metadata": {},
       "overflow": false,
       "plotOptions": {
        "customPlotOptions": {},
        "displayType": "table",
        "pivotAggregation": null,
        "pivotColumns": null,
        "xColumns": null,
        "yColumns": null
       },
       "removedWidgets": [],
       "schema": [
        {
         "metadata": "{}",
         "name": "summary",
         "type": "\"string\""
        },
        {
         "metadata": "{}",
         "name": "Total",
         "type": "\"string\""
        },
        {
         "metadata": "{}",
         "name": "Menor_de_15",
         "type": "\"string\""
        },
        {
         "metadata": "{}",
         "name": "1519",
         "type": "\"string\""
        },
        {
         "metadata": "{}",
         "name": "2024",
         "type": "\"string\""
        },
        {
         "metadata": "{}",
         "name": "2529",
         "type": "\"string\""
        },
        {
         "metadata": "{}",
         "name": "3034",
         "type": "\"string\""
        },
        {
         "metadata": "{}",
         "name": "3539",
         "type": "\"string\""
        },
        {
         "metadata": "{}",
         "name": "4044",
         "type": "\"string\""
        },
        {
         "metadata": "{}",
         "name": "4549",
         "type": "\"string\""
        },
        {
         "metadata": "{}",
         "name": "5054",
         "type": "\"string\""
        },
        {
         "metadata": "{}",
         "name": "5559",
         "type": "\"string\""
        },
        {
         "metadata": "{}",
         "name": "6064",
         "type": "\"string\""
        },
        {
         "metadata": "{}",
         "name": "6569",
         "type": "\"string\""
        },
        {
         "metadata": "{}",
         "name": "7074",
         "type": "\"string\""
        },
        {
         "metadata": "{}",
         "name": "7579",
         "type": "\"string\""
        },
        {
         "metadata": "{}",
         "name": "80_y_ms",
         "type": "\"string\""
        },
        {
         "metadata": "{}",
         "name": "Ignorado",
         "type": "\"string\""
        }
       ],
       "type": "table"
      }
     },
     "output_type": "display_data"
    },
    {
     "output_type": "display_data",
     "data": {
      "text/html": [
       "<h4 style='margin:10px 0'>Cuadro 51 — columnas numéricas</h4>"
      ]
     },
     "metadata": {},
     "output_type": "display_data"
    },
    {
     "output_type": "display_data",
     "data": {
      "text/html": [
       "<p style='margin:6px 0 4px 0'><i>Resumen (describe):</i></p>"
      ]
     },
     "metadata": {},
     "output_type": "display_data"
    },
    {
     "output_type": "display_data",
     "data": {
      "text/html": [
       "<style scoped>\n",
       "  .table-result-container {\n",
       "    max-height: 300px;\n",
       "    overflow: auto;\n",
       "  }\n",
       "  table, th, td {\n",
       "    border: 1px solid black;\n",
       "    border-collapse: collapse;\n",
       "  }\n",
       "  th, td {\n",
       "    padding: 5px;\n",
       "  }\n",
       "  th {\n",
       "    text-align: left;\n",
       "  }\n",
       "</style><div class='table-result-container'><table class='table-result'><thead style='background-color: white'><tr><th>summary</th><th>Total</th><th>Lunes</th><th>Martes</th><th>Mircoles</th><th>Jueves</th><th>Viernes</th><th>Sbado</th><th>Domingo</th></tr></thead><tbody><tr><td>count</td><td>25</td><td>25</td><td>25</td><td>25</td><td>25</td><td>25</td><td>25</td><td>25</td></tr><tr><td>mean</td><td>189.2</td><td>24.24</td><td>19.92</td><td>19.84</td><td>20.48</td><td>28.0</td><td>36.72</td><td>40.0</td></tr><tr><td>stddev</td><td>454.9556754967089</td><td>58.361859691639935</td><td>48.04244651000473</td><td>47.727245887438336</td><td>49.23592861586614</td><td>67.51172737631094</td><td>88.76538364324988</td><td>96.46933882500353</td></tr><tr><td>min</td><td>43</td><td>3</td><td>3</td><td>3</td><td>4</td><td>3</td><td>5</td><td>7</td></tr><tr><td>max</td><td>2365</td><td>303</td><td>249</td><td>248</td><td>256</td><td>350</td><td>459</td><td>500</td></tr></tbody></table></div>"
      ]
     },
     "metadata": {
      "application/vnd.databricks.v1+output": {
       "addedWidgets": {},
       "aggData": [],
       "aggError": "",
       "aggOverflow": false,
       "aggSchema": [],
       "aggSeriesLimitReached": false,
       "aggType": "",
       "arguments": {},
       "columnCustomDisplayInfos": {},
       "data": [
        [
         "count",
         "25",
         "25",
         "25",
         "25",
         "25",
         "25",
         "25",
         "25"
        ],
        [
         "mean",
         "189.2",
         "24.24",
         "19.92",
         "19.84",
         "20.48",
         "28.0",
         "36.72",
         "40.0"
        ],
        [
         "stddev",
         "454.9556754967089",
         "58.361859691639935",
         "48.04244651000473",
         "47.727245887438336",
         "49.23592861586614",
         "67.51172737631094",
         "88.76538364324988",
         "96.46933882500353"
        ],
        [
         "min",
         "43",
         "3",
         "3",
         "3",
         "4",
         "3",
         "5",
         "7"
        ],
        [
         "max",
         "2365",
         "303",
         "249",
         "248",
         "256",
         "350",
         "459",
         "500"
        ]
       ],
       "datasetInfos": [],
       "dbfsResultPath": null,
       "isJsonSchema": true,
       "metadata": {},
       "overflow": false,
       "plotOptions": {
        "customPlotOptions": {},
        "displayType": "table",
        "pivotAggregation": null,
        "pivotColumns": null,
        "xColumns": null,
        "yColumns": null
       },
       "removedWidgets": [],
       "schema": [
        {
         "metadata": "{}",
         "name": "summary",
         "type": "\"string\""
        },
        {
         "metadata": "{}",
         "name": "Total",
         "type": "\"string\""
        },
        {
         "metadata": "{}",
         "name": "Lunes",
         "type": "\"string\""
        },
        {
         "metadata": "{}",
         "name": "Martes",
         "type": "\"string\""
        },
        {
         "metadata": "{}",
         "name": "Mircoles",
         "type": "\"string\""
        },
        {
         "metadata": "{}",
         "name": "Jueves",
         "type": "\"string\""
        },
        {
         "metadata": "{}",
         "name": "Viernes",
         "type": "\"string\""
        },
        {
         "metadata": "{}",
         "name": "Sbado",
         "type": "\"string\""
        },
        {
         "metadata": "{}",
         "name": "Domingo",
         "type": "\"string\""
        }
       ],
       "type": "table"
      }
     },
     "output_type": "display_data"
    },
    {
     "output_type": "display_data",
     "data": {
      "text/html": [
       "<h4 style='margin:10px 0'>Cuadro 52 — columnas numéricas</h4>"
      ]
     },
     "metadata": {},
     "output_type": "display_data"
    },
    {
     "output_type": "display_data",
     "data": {
      "text/html": [
       "<p style='margin:6px 0 4px 0'><i>Resumen (describe):</i></p>"
      ]
     },
     "metadata": {},
     "output_type": "display_data"
    },
    {
     "output_type": "display_data",
     "data": {
      "text/html": [
       "<style scoped>\n",
       "  .table-result-container {\n",
       "    max-height: 300px;\n",
       "    overflow: auto;\n",
       "  }\n",
       "  table, th, td {\n",
       "    border: 1px solid black;\n",
       "    border-collapse: collapse;\n",
       "  }\n",
       "  th, td {\n",
       "    padding: 5px;\n",
       "  }\n",
       "  th {\n",
       "    text-align: left;\n",
       "  }\n",
       "</style><div class='table-result-container'><table class='table-result'><thead style='background-color: white'><tr><th>summary</th><th>Total</th><th>Hombres</th><th>Mujeres</th><th>Ignorado</th><th>total_colision</th><th>hombre_colision</th><th>mujer_colision</th><th>total_atropello</th><th>hombre_atropello</th><th>mujer_atropello</th><th>ignorado_atropello</th><th>total_derrape</th><th>hombre_derrape</th><th>mujer_derrape</th><th>total_choque</th><th>hombre_choque</th><th>mujer_choque</th><th>total_embarranc</th><th>hombre_embarranc</th><th>mujer_embarranc</th><th>total_vuelco</th><th>hombre_vuelco</th><th>mujer_vuelco</th><th>total_encunet</th><th>hombre_encunet</th><th>total_ignorado</th><th>hombre_ignorado</th><th>mujer_ignorado</th></tr></thead><tbody><tr><td>count</td><td>16</td><td>16</td><td>16</td><td>16</td><td>16</td><td>16</td><td>16</td><td>16</td><td>16</td><td>16</td><td>16</td><td>16</td><td>16</td><td>16</td><td>16</td><td>16</td><td>16</td><td>16</td><td>16</td><td>16</td><td>16</td><td>16</td><td>16</td><td>16</td><td>16</td><td>16</td><td>16</td><td>16</td></tr><tr><td>mean</td><td>295.625</td><td>252.625</td><td>40.875</td><td>2.125</td><td>116.25</td><td>97.75</td><td>18.5</td><td>78.625</td><td>65.75</td><td>10.75</td><td>2.125</td><td>53.5</td><td>49.75</td><td>3.75</td><td>16.625</td><td>14.375</td><td>2.25</td><td>11.875</td><td>9.375</td><td>2.5</td><td>9.5</td><td>7.625</td><td>1.875</td><td>0.125</td><td>0.125</td><td>9.125</td><td>7.875</td><td>1.25</td></tr><tr><td>stddev</td><td>644.0455341045383</td><td>556.2995446100359</td><td>84.72691425987377</td><td>4.303099657998484</td><td>281.7382946400199</td><td>240.6088111437318</td><td>41.6381235568239</td><td>159.4389642883236</td><td>134.2621813219692</td><td>21.383794487103234</td><td>4.303099657998484</td><td>143.29503364271446</td><td>133.8140500844362</td><td>9.51139667276403</td><td>35.68916735743028</td><td>31.232194927670392</td><td>4.597100535482483</td><td>23.93289228934383</td><td>19.393727508312235</td><td>4.993328882953068</td><td>19.26309078696009</td><td>15.29215485142627</td><td>4.112987559751022</td><td>0.3415650255319866</td><td>0.3415650255319866</td><td>18.66502969012729</td><td>16.161167449579047</td><td>2.569046515733026</td></tr><tr><td>min</td><td>1</td><td>0</td><td>0</td><td>0</td><td>0</td><td>0</td><td>0</td><td>1</td><td>0</td><td>0</td><td>0</td><td>0</td><td>0</td><td>0</td><td>0</td><td>0</td><td>0</td><td>0</td><td>0</td><td>0</td><td>0</td><td>0</td><td>0</td><td>0</td><td>0</td><td>0</td><td>0</td><td>0</td></tr><tr><td>max</td><td>2365</td><td>2021</td><td>327</td><td>17</td><td>930</td><td>782</td><td>148</td><td>629</td><td>526</td><td>86</td><td>17</td><td>428</td><td>398</td><td>30</td><td>133</td><td>115</td><td>18</td><td>95</td><td>75</td><td>20</td><td>76</td><td>61</td><td>15</td><td>1</td><td>1</td><td>73</td><td>63</td><td>10</td></tr></tbody></table></div>"
      ]
     },
     "metadata": {
      "application/vnd.databricks.v1+output": {
       "addedWidgets": {},
       "aggData": [],
       "aggError": "",
       "aggOverflow": false,
       "aggSchema": [],
       "aggSeriesLimitReached": false,
       "aggType": "",
       "arguments": {},
       "columnCustomDisplayInfos": {},
       "data": [
        [
         "count",
         "16",
         "16",
         "16",
         "16",
         "16",
         "16",
         "16",
         "16",
         "16",
         "16",
         "16",
         "16",
         "16",
         "16",
         "16",
         "16",
         "16",
         "16",
         "16",
         "16",
         "16",
         "16",
         "16",
         "16",
         "16",
         "16",
         "16",
         "16"
        ],
        [
         "mean",
         "295.625",
         "252.625",
         "40.875",
         "2.125",
         "116.25",
         "97.75",
         "18.5",
         "78.625",
         "65.75",
         "10.75",
         "2.125",
         "53.5",
         "49.75",
         "3.75",
         "16.625",
         "14.375",
         "2.25",
         "11.875",
         "9.375",
         "2.5",
         "9.5",
         "7.625",
         "1.875",
         "0.125",
         "0.125",
         "9.125",
         "7.875",
         "1.25"
        ],
        [
         "stddev",
         "644.0455341045383",
         "556.2995446100359",
         "84.72691425987377",
         "4.303099657998484",
         "281.7382946400199",
         "240.6088111437318",
         "41.6381235568239",
         "159.4389642883236",
         "134.2621813219692",
         "21.383794487103234",
         "4.303099657998484",
         "143.29503364271446",
         "133.8140500844362",
         "9.51139667276403",
         "35.68916735743028",
         "31.232194927670392",
         "4.597100535482483",
         "23.93289228934383",
         "19.393727508312235",
         "4.993328882953068",
         "19.26309078696009",
         "15.29215485142627",
         "4.112987559751022",
         "0.3415650255319866",
         "0.3415650255319866",
         "18.66502969012729",
         "16.161167449579047",
         "2.569046515733026"
        ],
        [
         "min",
         "1",
         "0",
         "0",
         "0",
         "0",
         "0",
         "0",
         "1",
         "0",
         "0",
         "0",
         "0",
         "0",
         "0",
         "0",
         "0",
         "0",
         "0",
         "0",
         "0",
         "0",
         "0",
         "0",
         "0",
         "0",
         "0",
         "0",
         "0"
        ],
        [
         "max",
         "2365",
         "2021",
         "327",
         "17",
         "930",
         "782",
         "148",
         "629",
         "526",
         "86",
         "17",
         "428",
         "398",
         "30",
         "133",
         "115",
         "18",
         "95",
         "75",
         "20",
         "76",
         "61",
         "15",
         "1",
         "1",
         "73",
         "63",
         "10"
        ]
       ],
       "datasetInfos": [],
       "dbfsResultPath": null,
       "isJsonSchema": true,
       "metadata": {},
       "overflow": false,
       "plotOptions": {
        "customPlotOptions": {},
        "displayType": "table",
        "pivotAggregation": null,
        "pivotColumns": null,
        "xColumns": null,
        "yColumns": null
       },
       "removedWidgets": [],
       "schema": [
        {
         "metadata": "{}",
         "name": "summary",
         "type": "\"string\""
        },
        {
         "metadata": "{}",
         "name": "Total",
         "type": "\"string\""
        },
        {
         "metadata": "{}",
         "name": "Hombres",
         "type": "\"string\""
        },
        {
         "metadata": "{}",
         "name": "Mujeres",
         "type": "\"string\""
        },
        {
         "metadata": "{}",
         "name": "Ignorado",
         "type": "\"string\""
        },
        {
         "metadata": "{}",
         "name": "total_colision",
         "type": "\"string\""
        },
        {
         "metadata": "{}",
         "name": "hombre_colision",
         "type": "\"string\""
        },
        {
         "metadata": "{}",
         "name": "mujer_colision",
         "type": "\"string\""
        },
        {
         "metadata": "{}",
         "name": "total_atropello",
         "type": "\"string\""
        },
        {
         "metadata": "{}",
         "name": "hombre_atropello",
         "type": "\"string\""
        },
        {
         "metadata": "{}",
         "name": "mujer_atropello",
         "type": "\"string\""
        },
        {
         "metadata": "{}",
         "name": "ignorado_atropello",
         "type": "\"string\""
        },
        {
         "metadata": "{}",
         "name": "total_derrape",
         "type": "\"string\""
        },
        {
         "metadata": "{}",
         "name": "hombre_derrape",
         "type": "\"string\""
        },
        {
         "metadata": "{}",
         "name": "mujer_derrape",
         "type": "\"string\""
        },
        {
         "metadata": "{}",
         "name": "total_choque",
         "type": "\"string\""
        },
        {
         "metadata": "{}",
         "name": "hombre_choque",
         "type": "\"string\""
        },
        {
         "metadata": "{}",
         "name": "mujer_choque",
         "type": "\"string\""
        },
        {
         "metadata": "{}",
         "name": "total_embarranc",
         "type": "\"string\""
        },
        {
         "metadata": "{}",
         "name": "hombre_embarranc",
         "type": "\"string\""
        },
        {
         "metadata": "{}",
         "name": "mujer_embarranc",
         "type": "\"string\""
        },
        {
         "metadata": "{}",
         "name": "total_vuelco",
         "type": "\"string\""
        },
        {
         "metadata": "{}",
         "name": "hombre_vuelco",
         "type": "\"string\""
        },
        {
         "metadata": "{}",
         "name": "mujer_vuelco",
         "type": "\"string\""
        },
        {
         "metadata": "{}",
         "name": "total_encunet",
         "type": "\"string\""
        },
        {
         "metadata": "{}",
         "name": "hombre_encunet",
         "type": "\"string\""
        },
        {
         "metadata": "{}",
         "name": "total_ignorado",
         "type": "\"string\""
        },
        {
         "metadata": "{}",
         "name": "hombre_ignorado",
         "type": "\"string\""
        },
        {
         "metadata": "{}",
         "name": "mujer_ignorado",
         "type": "\"string\""
        }
       ],
       "type": "table"
      }
     },
     "output_type": "display_data"
    },
    {
     "output_type": "display_data",
     "data": {
      "text/html": [
       "<h4 style='margin:10px 0'>Cuadro 53 — columnas numéricas</h4>"
      ]
     },
     "metadata": {},
     "output_type": "display_data"
    },
    {
     "output_type": "display_data",
     "data": {
      "text/html": [
       "<p style='margin:6px 0 4px 0'><i>Resumen (describe):</i></p>"
      ]
     },
     "metadata": {},
     "output_type": "display_data"
    },
    {
     "output_type": "display_data",
     "data": {
      "text/html": [
       "<style scoped>\n",
       "  .table-result-container {\n",
       "    max-height: 300px;\n",
       "    overflow: auto;\n",
       "  }\n",
       "  table, th, td {\n",
       "    border: 1px solid black;\n",
       "    border-collapse: collapse;\n",
       "  }\n",
       "  th, td {\n",
       "    padding: 5px;\n",
       "  }\n",
       "  th {\n",
       "    text-align: left;\n",
       "  }\n",
       "</style><div class='table-result-container'><table class='table-result'><thead style='background-color: white'><tr><th>summary</th><th>Total</th><th>Lunes</th><th>Martes</th><th>Mircoles</th><th>Jueves</th><th>Viernes</th><th>Sbado</th><th>Domingo</th></tr></thead><tbody><tr><td>count</td><td>28</td><td>28</td><td>28</td><td>28</td><td>28</td><td>28</td><td>28</td><td>28</td></tr><tr><td>mean</td><td>337.85714285714283</td><td>43.285714285714285</td><td>35.57142857142857</td><td>35.42857142857143</td><td>36.57142857142857</td><td>50.0</td><td>65.57142857142857</td><td>71.42857142857143</td></tr><tr><td>stddev</td><td>582.9358464344091</td><td>74.23978026331284</td><td>61.79501872015526</td><td>58.67956207480596</td><td>63.14617291205504</td><td>88.42950739305165</td><td>116.21736613121207</td><td>122.40716166758068</td></tr><tr><td>min</td><td>1</td><td>0</td><td>0</td><td>0</td><td>0</td><td>0</td><td>0</td><td>0</td></tr><tr><td>max</td><td>2365</td><td>303</td><td>249</td><td>248</td><td>256</td><td>350</td><td>459</td><td>500</td></tr></tbody></table></div>"
      ]
     },
     "metadata": {
      "application/vnd.databricks.v1+output": {
       "addedWidgets": {},
       "aggData": [],
       "aggError": "",
       "aggOverflow": false,
       "aggSchema": [],
       "aggSeriesLimitReached": false,
       "aggType": "",
       "arguments": {},
       "columnCustomDisplayInfos": {},
       "data": [
        [
         "count",
         "28",
         "28",
         "28",
         "28",
         "28",
         "28",
         "28",
         "28"
        ],
        [
         "mean",
         "337.85714285714283",
         "43.285714285714285",
         "35.57142857142857",
         "35.42857142857143",
         "36.57142857142857",
         "50.0",
         "65.57142857142857",
         "71.42857142857143"
        ],
        [
         "stddev",
         "582.9358464344091",
         "74.23978026331284",
         "61.79501872015526",
         "58.67956207480596",
         "63.14617291205504",
         "88.42950739305165",
         "116.21736613121207",
         "122.40716166758068"
        ],
        [
         "min",
         "1",
         "0",
         "0",
         "0",
         "0",
         "0",
         "0",
         "0"
        ],
        [
         "max",
         "2365",
         "303",
         "249",
         "248",
         "256",
         "350",
         "459",
         "500"
        ]
       ],
       "datasetInfos": [],
       "dbfsResultPath": null,
       "isJsonSchema": true,
       "metadata": {},
       "overflow": false,
       "plotOptions": {
        "customPlotOptions": {},
        "displayType": "table",
        "pivotAggregation": null,
        "pivotColumns": null,
        "xColumns": null,
        "yColumns": null
       },
       "removedWidgets": [],
       "schema": [
        {
         "metadata": "{}",
         "name": "summary",
         "type": "\"string\""
        },
        {
         "metadata": "{}",
         "name": "Total",
         "type": "\"string\""
        },
        {
         "metadata": "{}",
         "name": "Lunes",
         "type": "\"string\""
        },
        {
         "metadata": "{}",
         "name": "Martes",
         "type": "\"string\""
        },
        {
         "metadata": "{}",
         "name": "Mircoles",
         "type": "\"string\""
        },
        {
         "metadata": "{}",
         "name": "Jueves",
         "type": "\"string\""
        },
        {
         "metadata": "{}",
         "name": "Viernes",
         "type": "\"string\""
        },
        {
         "metadata": "{}",
         "name": "Sbado",
         "type": "\"string\""
        },
        {
         "metadata": "{}",
         "name": "Domingo",
         "type": "\"string\""
        }
       ],
       "type": "table"
      }
     },
     "output_type": "display_data"
    },
    {
     "output_type": "display_data",
     "data": {
      "text/html": [
       "<h4 style='margin:10px 0'>Cuadro 54 — columnas numéricas</h4>"
      ]
     },
     "metadata": {},
     "output_type": "display_data"
    },
    {
     "output_type": "display_data",
     "data": {
      "text/html": [
       "<p style='margin:6px 0 4px 0'><i>Resumen (describe):</i></p>"
      ]
     },
     "metadata": {},
     "output_type": "display_data"
    },
    {
     "output_type": "display_data",
     "data": {
      "text/html": [
       "<style scoped>\n",
       "  .table-result-container {\n",
       "    max-height: 300px;\n",
       "    overflow: auto;\n",
       "  }\n",
       "  table, th, td {\n",
       "    border: 1px solid black;\n",
       "    border-collapse: collapse;\n",
       "  }\n",
       "  th, td {\n",
       "    padding: 5px;\n",
       "  }\n",
       "  th {\n",
       "    text-align: left;\n",
       "  }\n",
       "</style><div class='table-result-container'><table class='table-result'><thead style='background-color: white'><tr><th>summary</th><th>Total</th><th>Hombre</th><th>Mujer</th><th>Ignorado</th></tr></thead><tbody><tr><td>count</td><td>17</td><td>17</td><td>17</td><td>17</td></tr><tr><td>mean</td><td>278.2352941176471</td><td>237.76470588235293</td><td>38.470588235294116</td><td>2.0</td></tr><tr><td>stddev</td><td>548.9442741995498</td><td>469.8634814246267</td><td>75.34430772050634</td><td>4.430011286667337</td></tr><tr><td>min</td><td>29</td><td>22</td><td>4</td><td>0</td></tr><tr><td>max</td><td>2365</td><td>2021</td><td>327</td><td>17</td></tr></tbody></table></div>"
      ]
     },
     "metadata": {
      "application/vnd.databricks.v1+output": {
       "addedWidgets": {},
       "aggData": [],
       "aggError": "",
       "aggOverflow": false,
       "aggSchema": [],
       "aggSeriesLimitReached": false,
       "aggType": "",
       "arguments": {},
       "columnCustomDisplayInfos": {},
       "data": [
        [
         "count",
         "17",
         "17",
         "17",
         "17"
        ],
        [
         "mean",
         "278.2352941176471",
         "237.76470588235293",
         "38.470588235294116",
         "2.0"
        ],
        [
         "stddev",
         "548.9442741995498",
         "469.8634814246267",
         "75.34430772050634",
         "4.430011286667337"
        ],
        [
         "min",
         "29",
         "22",
         "4",
         "0"
        ],
        [
         "max",
         "2365",
         "2021",
         "327",
         "17"
        ]
       ],
       "datasetInfos": [],
       "dbfsResultPath": null,
       "isJsonSchema": true,
       "metadata": {},
       "overflow": false,
       "plotOptions": {
        "customPlotOptions": {},
        "displayType": "table",
        "pivotAggregation": null,
        "pivotColumns": null,
        "xColumns": null,
        "yColumns": null
       },
       "removedWidgets": [],
       "schema": [
        {
         "metadata": "{}",
         "name": "summary",
         "type": "\"string\""
        },
        {
         "metadata": "{}",
         "name": "Total",
         "type": "\"string\""
        },
        {
         "metadata": "{}",
         "name": "Hombre",
         "type": "\"string\""
        },
        {
         "metadata": "{}",
         "name": "Mujer",
         "type": "\"string\""
        },
        {
         "metadata": "{}",
         "name": "Ignorado",
         "type": "\"string\""
        }
       ],
       "type": "table"
      }
     },
     "output_type": "display_data"
    },
    {
     "output_type": "display_data",
     "data": {
      "text/html": [
       "<h4 style='margin:10px 0'>Cuadro 55 — columnas numéricas</h4>"
      ]
     },
     "metadata": {},
     "output_type": "display_data"
    },
    {
     "output_type": "display_data",
     "data": {
      "text/html": [
       "<p style='margin:6px 0 4px 0'><i>Resumen (describe):</i></p>"
      ]
     },
     "metadata": {},
     "output_type": "display_data"
    },
    {
     "output_type": "display_data",
     "data": {
      "text/html": [
       "<style scoped>\n",
       "  .table-result-container {\n",
       "    max-height: 300px;\n",
       "    overflow: auto;\n",
       "  }\n",
       "  table, th, td {\n",
       "    border: 1px solid black;\n",
       "    border-collapse: collapse;\n",
       "  }\n",
       "  th, td {\n",
       "    padding: 5px;\n",
       "  }\n",
       "  th {\n",
       "    text-align: left;\n",
       "  }\n",
       "</style><div class='table-result-container'><table class='table-result'><thead style='background-color: white'><tr><th>summary</th><th>Total</th><th>Enero</th><th>Febrero</th><th>Marzo</th><th>Abril</th><th>Mayo</th><th>Junio</th><th>Julio</th><th>Agosto</th><th>Septiembre</th><th>Octubre</th><th>Noviembre</th></tr></thead><tbody><tr><td>count</td><td>23</td><td>23</td><td>23</td><td>23</td><td>23</td><td>23</td><td>23</td><td>23</td><td>23</td><td>23</td><td>23</td><td>23</td></tr><tr><td>mean</td><td>54.69565217391305</td><td>4.608695652173913</td><td>6.086956521739131</td><td>5.565217391304348</td><td>4.695652173913044</td><td>3.652173913043478</td><td>4.869565217391305</td><td>5.913043478260869</td><td>4.869565217391305</td><td>5.043478260869565</td><td>5.043478260869565</td><td>4.3478260869565215</td></tr><tr><td>stddev</td><td>129.39560017200554</td><td>11.11812251332678</td><td>14.637787474013527</td><td>13.313786726399348</td><td>11.116878169574145</td><td>8.860580196743602</td><td>11.709764176750054</td><td>14.46598846032954</td><td>11.45070203415925</td><td>11.830155078018228</td><td>11.902934171759213</td><td>10.236337660298831</td></tr><tr><td>min</td><td>2</td><td>0</td><td>0</td><td>0</td><td>0</td><td>0</td><td>0</td><td>0</td><td>0</td><td>0</td><td>0</td><td>0</td></tr><tr><td>max</td><td>629</td><td>53</td><td>70</td><td>64</td><td>54</td><td>42</td><td>56</td><td>68</td><td>56</td><td>58</td><td>58</td><td>50</td></tr></tbody></table></div>"
      ]
     },
     "metadata": {
      "application/vnd.databricks.v1+output": {
       "addedWidgets": {},
       "aggData": [],
       "aggError": "",
       "aggOverflow": false,
       "aggSchema": [],
       "aggSeriesLimitReached": false,
       "aggType": "",
       "arguments": {},
       "columnCustomDisplayInfos": {},
       "data": [
        [
         "count",
         "23",
         "23",
         "23",
         "23",
         "23",
         "23",
         "23",
         "23",
         "23",
         "23",
         "23",
         "23"
        ],
        [
         "mean",
         "54.69565217391305",
         "4.608695652173913",
         "6.086956521739131",
         "5.565217391304348",
         "4.695652173913044",
         "3.652173913043478",
         "4.869565217391305",
         "5.913043478260869",
         "4.869565217391305",
         "5.043478260869565",
         "5.043478260869565",
         "4.3478260869565215"
        ],
        [
         "stddev",
         "129.39560017200554",
         "11.11812251332678",
         "14.637787474013527",
         "13.313786726399348",
         "11.116878169574145",
         "8.860580196743602",
         "11.709764176750054",
         "14.46598846032954",
         "11.45070203415925",
         "11.830155078018228",
         "11.902934171759213",
         "10.236337660298831"
        ],
        [
         "min",
         "2",
         "0",
         "0",
         "0",
         "0",
         "0",
         "0",
         "0",
         "0",
         "0",
         "0",
         "0"
        ],
        [
         "max",
         "629",
         "53",
         "70",
         "64",
         "54",
         "42",
         "56",
         "68",
         "56",
         "58",
         "58",
         "50"
        ]
       ],
       "datasetInfos": [],
       "dbfsResultPath": null,
       "isJsonSchema": true,
       "metadata": {},
       "overflow": false,
       "plotOptions": {
        "customPlotOptions": {},
        "displayType": "table",
        "pivotAggregation": null,
        "pivotColumns": null,
        "xColumns": null,
        "yColumns": null
       },
       "removedWidgets": [],
       "schema": [
        {
         "metadata": "{}",
         "name": "summary",
         "type": "\"string\""
        },
        {
         "metadata": "{}",
         "name": "Total",
         "type": "\"string\""
        },
        {
         "metadata": "{}",
         "name": "Enero",
         "type": "\"string\""
        },
        {
         "metadata": "{}",
         "name": "Febrero",
         "type": "\"string\""
        },
        {
         "metadata": "{}",
         "name": "Marzo",
         "type": "\"string\""
        },
        {
         "metadata": "{}",
         "name": "Abril",
         "type": "\"string\""
        },
        {
         "metadata": "{}",
         "name": "Mayo",
         "type": "\"string\""
        },
        {
         "metadata": "{}",
         "name": "Junio",
         "type": "\"string\""
        },
        {
         "metadata": "{}",
         "name": "Julio",
         "type": "\"string\""
        },
        {
         "metadata": "{}",
         "name": "Agosto",
         "type": "\"string\""
        },
        {
         "metadata": "{}",
         "name": "Septiembre",
         "type": "\"string\""
        },
        {
         "metadata": "{}",
         "name": "Octubre",
         "type": "\"string\""
        },
        {
         "metadata": "{}",
         "name": "Noviembre",
         "type": "\"string\""
        }
       ],
       "type": "table"
      }
     },
     "output_type": "display_data"
    },
    {
     "output_type": "display_data",
     "data": {
      "text/html": [
       "<h4 style='margin:10px 0'>Cuadro 56 — columnas numéricas</h4>"
      ]
     },
     "metadata": {},
     "output_type": "display_data"
    },
    {
     "output_type": "display_data",
     "data": {
      "text/html": [
       "<p style='margin:6px 0 4px 0'><i>Resumen (describe):</i></p>"
      ]
     },
     "metadata": {},
     "output_type": "display_data"
    },
    {
     "output_type": "display_data",
     "data": {
      "text/html": [
       "<style scoped>\n",
       "  .table-result-container {\n",
       "    max-height: 300px;\n",
       "    overflow: auto;\n",
       "  }\n",
       "  table, th, td {\n",
       "    border: 1px solid black;\n",
       "    border-collapse: collapse;\n",
       "  }\n",
       "  th, td {\n",
       "    padding: 5px;\n",
       "  }\n",
       "  th {\n",
       "    text-align: left;\n",
       "  }\n",
       "</style><div class='table-result-container'><table class='table-result'><thead style='background-color: white'><tr><th>summary</th><th>Total</th><th>Lunes</th><th>Martes</th><th>Mircoles</th><th>Jueves</th><th>Viernes</th><th>Sbado</th><th>Domingo</th></tr></thead><tbody><tr><td>count</td><td>23</td><td>23</td><td>23</td><td>23</td><td>23</td><td>23</td><td>23</td><td>23</td></tr><tr><td>mean</td><td>54.69565217391305</td><td>6.869565217391305</td><td>5.6521739130434785</td><td>6.260869565217392</td><td>5.478260869565218</td><td>8.521739130434783</td><td>9.391304347826088</td><td>12.521739130434783</td></tr><tr><td>stddev</td><td>129.39560017200554</td><td>16.413144255377336</td><td>13.316458359530385</td><td>14.982466696121675</td><td>13.371848193524782</td><td>20.32210969098657</td><td>22.24193240957838</td><td>29.512508234517945</td></tr><tr><td>min</td><td>2</td><td>0</td><td>0</td><td>0</td><td>0</td><td>0</td><td>0</td><td>0</td></tr><tr><td>max</td><td>629</td><td>79</td><td>65</td><td>72</td><td>63</td><td>98</td><td>108</td><td>144</td></tr></tbody></table></div>"
      ]
     },
     "metadata": {
      "application/vnd.databricks.v1+output": {
       "addedWidgets": {},
       "aggData": [],
       "aggError": "",
       "aggOverflow": false,
       "aggSchema": [],
       "aggSeriesLimitReached": false,
       "aggType": "",
       "arguments": {},
       "columnCustomDisplayInfos": {},
       "data": [
        [
         "count",
         "23",
         "23",
         "23",
         "23",
         "23",
         "23",
         "23",
         "23"
        ],
        [
         "mean",
         "54.69565217391305",
         "6.869565217391305",
         "5.6521739130434785",
         "6.260869565217392",
         "5.478260869565218",
         "8.521739130434783",
         "9.391304347826088",
         "12.521739130434783"
        ],
        [
         "stddev",
         "129.39560017200554",
         "16.413144255377336",
         "13.316458359530385",
         "14.982466696121675",
         "13.371848193524782",
         "20.32210969098657",
         "22.24193240957838",
         "29.512508234517945"
        ],
        [
         "min",
         "2",
         "0",
         "0",
         "0",
         "0",
         "0",
         "0",
         "0"
        ],
        [
         "max",
         "629",
         "79",
         "65",
         "72",
         "63",
         "98",
         "108",
         "144"
        ]
       ],
       "datasetInfos": [],
       "dbfsResultPath": null,
       "isJsonSchema": true,
       "metadata": {},
       "overflow": false,
       "plotOptions": {
        "customPlotOptions": {},
        "displayType": "table",
        "pivotAggregation": null,
        "pivotColumns": null,
        "xColumns": null,
        "yColumns": null
       },
       "removedWidgets": [],
       "schema": [
        {
         "metadata": "{}",
         "name": "summary",
         "type": "\"string\""
        },
        {
         "metadata": "{}",
         "name": "Total",
         "type": "\"string\""
        },
        {
         "metadata": "{}",
         "name": "Lunes",
         "type": "\"string\""
        },
        {
         "metadata": "{}",
         "name": "Martes",
         "type": "\"string\""
        },
        {
         "metadata": "{}",
         "name": "Mircoles",
         "type": "\"string\""
        },
        {
         "metadata": "{}",
         "name": "Jueves",
         "type": "\"string\""
        },
        {
         "metadata": "{}",
         "name": "Viernes",
         "type": "\"string\""
        },
        {
         "metadata": "{}",
         "name": "Sbado",
         "type": "\"string\""
        },
        {
         "metadata": "{}",
         "name": "Domingo",
         "type": "\"string\""
        }
       ],
       "type": "table"
      }
     },
     "output_type": "display_data"
    },
    {
     "output_type": "display_data",
     "data": {
      "text/html": [
       "<h4 style='margin:10px 0'>Cuadro 57 — columnas numéricas</h4>"
      ]
     },
     "metadata": {},
     "output_type": "display_data"
    },
    {
     "output_type": "display_data",
     "data": {
      "text/html": [
       "<p style='margin:6px 0 4px 0'><i>Resumen (describe):</i></p>"
      ]
     },
     "metadata": {},
     "output_type": "display_data"
    },
    {
     "output_type": "display_data",
     "data": {
      "text/html": [
       "<style scoped>\n",
       "  .table-result-container {\n",
       "    max-height: 300px;\n",
       "    overflow: auto;\n",
       "  }\n",
       "  table, th, td {\n",
       "    border: 1px solid black;\n",
       "    border-collapse: collapse;\n",
       "  }\n",
       "  th, td {\n",
       "    padding: 5px;\n",
       "  }\n",
       "  th {\n",
       "    text-align: left;\n",
       "  }\n",
       "</style><div class='table-result-container'><table class='table-result'><thead style='background-color: white'><tr><th>summary</th><th>Total</th><th>Menor_de_15</th><th>1519</th><th>2024</th><th>2529</th><th>3034</th><th>3539</th><th>4044</th><th>4549</th><th>5054</th><th>5559</th><th>6064</th><th>6569</th><th>7074</th><th>7579</th><th>80_y_ms</th><th>Ignorado</th></tr></thead><tbody><tr><td>count</td><td>23</td><td>23</td><td>23</td><td>23</td><td>23</td><td>23</td><td>23</td><td>23</td><td>23</td><td>23</td><td>23</td><td>23</td><td>23</td><td>23</td><td>23</td><td>23</td><td>23</td></tr><tr><td>mean</td><td>54.69565217391305</td><td>2.4347826086956523</td><td>2.260869565217391</td><td>3.391304347826087</td><td>4.260869565217392</td><td>4.086956521739131</td><td>5.391304347826087</td><td>4.0</td><td>3.3043478260869565</td><td>3.4782608695652173</td><td>2.782608695652174</td><td>3.130434782608696</td><td>2.6956521739130435</td><td>1.7391304347826086</td><td>1.826086956521739</td><td>2.347826086956522</td><td>7.565217391304348</td></tr><tr><td>stddev</td><td>129.39560017200554</td><td>5.727335466122269</td><td>5.395430653502914</td><td>8.100163468803816</td><td>10.792326361836691</td><td>9.746388811332128</td><td>13.020051425798393</td><td>9.797958971132712</td><td>7.824406934299735</td><td>8.162383593586725</td><td>6.598598485760791</td><td>7.405798390610667</td><td>6.334858702655387</td><td>4.114468830230788</td><td>4.376093877930237</td><td>5.5808821040484755</td><td>18.185473940774624</td></tr><tr><td>min</td><td>2</td><td>0</td><td>0</td><td>0</td><td>0</td><td>0</td><td>0</td><td>0</td><td>0</td><td>0</td><td>0</td><td>0</td><td>0</td><td>0</td><td>0</td><td>0</td><td>0</td></tr><tr><td>max</td><td>629</td><td>28</td><td>26</td><td>39</td><td>49</td><td>47</td><td>62</td><td>46</td><td>38</td><td>40</td><td>32</td><td>36</td><td>31</td><td>20</td><td>21</td><td>27</td><td>87</td></tr></tbody></table></div>"
      ]
     },
     "metadata": {
      "application/vnd.databricks.v1+output": {
       "addedWidgets": {},
       "aggData": [],
       "aggError": "",
       "aggOverflow": false,
       "aggSchema": [],
       "aggSeriesLimitReached": false,
       "aggType": "",
       "arguments": {},
       "columnCustomDisplayInfos": {},
       "data": [
        [
         "count",
         "23",
         "23",
         "23",
         "23",
         "23",
         "23",
         "23",
         "23",
         "23",
         "23",
         "23",
         "23",
         "23",
         "23",
         "23",
         "23",
         "23"
        ],
        [
         "mean",
         "54.69565217391305",
         "2.4347826086956523",
         "2.260869565217391",
         "3.391304347826087",
         "4.260869565217392",
         "4.086956521739131",
         "5.391304347826087",
         "4.0",
         "3.3043478260869565",
         "3.4782608695652173",
         "2.782608695652174",
         "3.130434782608696",
         "2.6956521739130435",
         "1.7391304347826086",
         "1.826086956521739",
         "2.347826086956522",
         "7.565217391304348"
        ],
        [
         "stddev",
         "129.39560017200554",
         "5.727335466122269",
         "5.395430653502914",
         "8.100163468803816",
         "10.792326361836691",
         "9.746388811332128",
         "13.020051425798393",
         "9.797958971132712",
         "7.824406934299735",
         "8.162383593586725",
         "6.598598485760791",
         "7.405798390610667",
         "6.334858702655387",
         "4.114468830230788",
         "4.376093877930237",
         "5.5808821040484755",
         "18.185473940774624"
        ],
        [
         "min",
         "2",
         "0",
         "0",
         "0",
         "0",
         "0",
         "0",
         "0",
         "0",
         "0",
         "0",
         "0",
         "0",
         "0",
         "0",
         "0",
         "0"
        ],
        [
         "max",
         "629",
         "28",
         "26",
         "39",
         "49",
         "47",
         "62",
         "46",
         "38",
         "40",
         "32",
         "36",
         "31",
         "20",
         "21",
         "27",
         "87"
        ]
       ],
       "datasetInfos": [],
       "dbfsResultPath": null,
       "isJsonSchema": true,
       "metadata": {},
       "overflow": false,
       "plotOptions": {
        "customPlotOptions": {},
        "displayType": "table",
        "pivotAggregation": null,
        "pivotColumns": null,
        "xColumns": null,
        "yColumns": null
       },
       "removedWidgets": [],
       "schema": [
        {
         "metadata": "{}",
         "name": "summary",
         "type": "\"string\""
        },
        {
         "metadata": "{}",
         "name": "Total",
         "type": "\"string\""
        },
        {
         "metadata": "{}",
         "name": "Menor_de_15",
         "type": "\"string\""
        },
        {
         "metadata": "{}",
         "name": "1519",
         "type": "\"string\""
        },
        {
         "metadata": "{}",
         "name": "2024",
         "type": "\"string\""
        },
        {
         "metadata": "{}",
         "name": "2529",
         "type": "\"string\""
        },
        {
         "metadata": "{}",
         "name": "3034",
         "type": "\"string\""
        },
        {
         "metadata": "{}",
         "name": "3539",
         "type": "\"string\""
        },
        {
         "metadata": "{}",
         "name": "4044",
         "type": "\"string\""
        },
        {
         "metadata": "{}",
         "name": "4549",
         "type": "\"string\""
        },
        {
         "metadata": "{}",
         "name": "5054",
         "type": "\"string\""
        },
        {
         "metadata": "{}",
         "name": "5559",
         "type": "\"string\""
        },
        {
         "metadata": "{}",
         "name": "6064",
         "type": "\"string\""
        },
        {
         "metadata": "{}",
         "name": "6569",
         "type": "\"string\""
        },
        {
         "metadata": "{}",
         "name": "7074",
         "type": "\"string\""
        },
        {
         "metadata": "{}",
         "name": "7579",
         "type": "\"string\""
        },
        {
         "metadata": "{}",
         "name": "80_y_ms",
         "type": "\"string\""
        },
        {
         "metadata": "{}",
         "name": "Ignorado",
         "type": "\"string\""
        }
       ],
       "type": "table"
      }
     },
     "output_type": "display_data"
    },
    {
     "output_type": "display_data",
     "data": {
      "text/html": [
       "<h4 style='margin:10px 0'>Cuadro 58 — columnas numéricas</h4>"
      ]
     },
     "metadata": {},
     "output_type": "display_data"
    },
    {
     "output_type": "display_data",
     "data": {
      "text/html": [
       "<p style='margin:6px 0 4px 0'><i>Resumen (describe):</i></p>"
      ]
     },
     "metadata": {},
     "output_type": "display_data"
    },
    {
     "output_type": "display_data",
     "data": {
      "text/html": [
       "<style scoped>\n",
       "  .table-result-container {\n",
       "    max-height: 300px;\n",
       "    overflow: auto;\n",
       "  }\n",
       "  table, th, td {\n",
       "    border: 1px solid black;\n",
       "    border-collapse: collapse;\n",
       "  }\n",
       "  th, td {\n",
       "    padding: 5px;\n",
       "  }\n",
       "  th {\n",
       "    text-align: left;\n",
       "  }\n",
       "</style><div class='table-result-container'><table class='table-result'><thead style='background-color: white'><tr><th>summary</th><th>Total</th><th>Lunes</th><th>Martes</th><th>Mircoles</th><th>Jueves</th><th>Viernes</th><th>Sbado</th><th>Domingo</th></tr></thead><tbody><tr><td>count</td><td>25</td><td>25</td><td>25</td><td>25</td><td>25</td><td>25</td><td>25</td><td>25</td></tr><tr><td>mean</td><td>50.32</td><td>6.32</td><td>5.2</td><td>5.76</td><td>5.04</td><td>7.84</td><td>8.64</td><td>11.52</td></tr><tr><td>stddev</td><td>121.26098575661776</td><td>15.323511346946562</td><td>12.672147936846905</td><td>13.950149342091878</td><td>12.201366043740077</td><td>18.928990112170982</td><td>20.948110495539527</td><td>27.879383063475412</td></tr><tr><td>min</td><td>11</td><td>0</td><td>0</td><td>0</td><td>0</td><td>0</td><td>0</td><td>1</td></tr><tr><td>max</td><td>629</td><td>79</td><td>65</td><td>72</td><td>63</td><td>98</td><td>108</td><td>144</td></tr></tbody></table></div>"
      ]
     },
     "metadata": {
      "application/vnd.databricks.v1+output": {
       "addedWidgets": {},
       "aggData": [],
       "aggError": "",
       "aggOverflow": false,
       "aggSchema": [],
       "aggSeriesLimitReached": false,
       "aggType": "",
       "arguments": {},
       "columnCustomDisplayInfos": {},
       "data": [
        [
         "count",
         "25",
         "25",
         "25",
         "25",
         "25",
         "25",
         "25",
         "25"
        ],
        [
         "mean",
         "50.32",
         "6.32",
         "5.2",
         "5.76",
         "5.04",
         "7.84",
         "8.64",
         "11.52"
        ],
        [
         "stddev",
         "121.26098575661776",
         "15.323511346946562",
         "12.672147936846905",
         "13.950149342091878",
         "12.201366043740077",
         "18.928990112170982",
         "20.948110495539527",
         "27.879383063475412"
        ],
        [
         "min",
         "11",
         "0",
         "0",
         "0",
         "0",
         "0",
         "0",
         "1"
        ],
        [
         "max",
         "629",
         "79",
         "65",
         "72",
         "63",
         "98",
         "108",
         "144"
        ]
       ],
       "datasetInfos": [],
       "dbfsResultPath": null,
       "isJsonSchema": true,
       "metadata": {},
       "overflow": false,
       "plotOptions": {
        "customPlotOptions": {},
        "displayType": "table",
        "pivotAggregation": null,
        "pivotColumns": null,
        "xColumns": null,
        "yColumns": null
       },
       "removedWidgets": [],
       "schema": [
        {
         "metadata": "{}",
         "name": "summary",
         "type": "\"string\""
        },
        {
         "metadata": "{}",
         "name": "Total",
         "type": "\"string\""
        },
        {
         "metadata": "{}",
         "name": "Lunes",
         "type": "\"string\""
        },
        {
         "metadata": "{}",
         "name": "Martes",
         "type": "\"string\""
        },
        {
         "metadata": "{}",
         "name": "Mircoles",
         "type": "\"string\""
        },
        {
         "metadata": "{}",
         "name": "Jueves",
         "type": "\"string\""
        },
        {
         "metadata": "{}",
         "name": "Viernes",
         "type": "\"string\""
        },
        {
         "metadata": "{}",
         "name": "Sbado",
         "type": "\"string\""
        },
        {
         "metadata": "{}",
         "name": "Domingo",
         "type": "\"string\""
        }
       ],
       "type": "table"
      }
     },
     "output_type": "display_data"
    },
    {
     "output_type": "display_data",
     "data": {
      "text/html": [
       "<h4 style='margin:10px 0'>Cuadro 59 — columnas numéricas</h4>"
      ]
     },
     "metadata": {},
     "output_type": "display_data"
    },
    {
     "output_type": "display_data",
     "data": {
      "text/html": [
       "<p style='margin:6px 0 4px 0'><i>Resumen (describe):</i></p>"
      ]
     },
     "metadata": {},
     "output_type": "display_data"
    },
    {
     "output_type": "display_data",
     "data": {
      "text/html": [
       "<style scoped>\n",
       "  .table-result-container {\n",
       "    max-height: 300px;\n",
       "    overflow: auto;\n",
       "  }\n",
       "  table, th, td {\n",
       "    border: 1px solid black;\n",
       "    border-collapse: collapse;\n",
       "  }\n",
       "  th, td {\n",
       "    padding: 5px;\n",
       "  }\n",
       "  th {\n",
       "    text-align: left;\n",
       "  }\n",
       "</style><div class='table-result-container'><table class='table-result'><thead style='background-color: white'><tr><th>summary</th><th>Total</th><th>Hombre</th><th>Mujer</th><th>Ignorado</th></tr></thead><tbody><tr><td>count</td><td>16</td><td>16</td><td>16</td><td>16</td></tr><tr><td>mean</td><td>78.625</td><td>65.75</td><td>10.75</td><td>2.125</td></tr><tr><td>stddev</td><td>159.4389642883236</td><td>134.2621813219692</td><td>21.383794487103234</td><td>4.303099657998484</td></tr><tr><td>min</td><td>1</td><td>0</td><td>0</td><td>0</td></tr><tr><td>max</td><td>629</td><td>526</td><td>86</td><td>17</td></tr></tbody></table></div>"
      ]
     },
     "metadata": {
      "application/vnd.databricks.v1+output": {
       "addedWidgets": {},
       "aggData": [],
       "aggError": "",
       "aggOverflow": false,
       "aggSchema": [],
       "aggSeriesLimitReached": false,
       "aggType": "",
       "arguments": {},
       "columnCustomDisplayInfos": {},
       "data": [
        [
         "count",
         "16",
         "16",
         "16",
         "16"
        ],
        [
         "mean",
         "78.625",
         "65.75",
         "10.75",
         "2.125"
        ],
        [
         "stddev",
         "159.4389642883236",
         "134.2621813219692",
         "21.383794487103234",
         "4.303099657998484"
        ],
        [
         "min",
         "1",
         "0",
         "0",
         "0"
        ],
        [
         "max",
         "629",
         "526",
         "86",
         "17"
        ]
       ],
       "datasetInfos": [],
       "dbfsResultPath": null,
       "isJsonSchema": true,
       "metadata": {},
       "overflow": false,
       "plotOptions": {
        "customPlotOptions": {},
        "displayType": "table",
        "pivotAggregation": null,
        "pivotColumns": null,
        "xColumns": null,
        "yColumns": null
       },
       "removedWidgets": [],
       "schema": [
        {
         "metadata": "{}",
         "name": "summary",
         "type": "\"string\""
        },
        {
         "metadata": "{}",
         "name": "Total",
         "type": "\"string\""
        },
        {
         "metadata": "{}",
         "name": "Hombre",
         "type": "\"string\""
        },
        {
         "metadata": "{}",
         "name": "Mujer",
         "type": "\"string\""
        },
        {
         "metadata": "{}",
         "name": "Ignorado",
         "type": "\"string\""
        }
       ],
       "type": "table"
      }
     },
     "output_type": "display_data"
    },
    {
     "output_type": "display_data",
     "data": {
      "text/html": [
       "<h4 style='margin:10px 0'>Cuadro 60 — columnas numéricas</h4>"
      ]
     },
     "metadata": {},
     "output_type": "display_data"
    },
    {
     "output_type": "display_data",
     "data": {
      "text/html": [
       "<p style='margin:6px 0 4px 0'><i>Resumen (describe):</i></p>"
      ]
     },
     "metadata": {},
     "output_type": "display_data"
    },
    {
     "output_type": "display_data",
     "data": {
      "text/html": [
       "<style scoped>\n",
       "  .table-result-container {\n",
       "    max-height: 300px;\n",
       "    overflow: auto;\n",
       "  }\n",
       "  table, th, td {\n",
       "    border: 1px solid black;\n",
       "    border-collapse: collapse;\n",
       "  }\n",
       "  th, td {\n",
       "    padding: 5px;\n",
       "  }\n",
       "  th {\n",
       "    text-align: left;\n",
       "  }\n",
       "</style><div class='table-result-container'><table class='table-result'><thead style='background-color: white'><tr><th>summary</th><th>Total</th><th>Menor_de_15</th><th>1519</th><th>2024</th><th>2529</th><th>3034</th><th>3539</th><th>4044</th><th>4549</th><th>5054</th><th>5559</th><th>6064</th><th>6569</th><th>7074</th><th>7579</th><th>80_y_ms</th><th>Ignorado</th></tr></thead><tbody><tr><td>count</td><td>23</td><td>23</td><td>23</td><td>23</td><td>23</td><td>23</td><td>23</td><td>23</td><td>23</td><td>23</td><td>23</td><td>23</td><td>23</td><td>23</td><td>23</td><td>23</td><td>23</td></tr><tr><td>mean</td><td>23.73913043478261</td><td>0.08695652173913043</td><td>0.8695652173913043</td><td>2.782608695652174</td><td>3.9130434782608696</td><td>3.0434782608695654</td><td>2.782608695652174</td><td>1.826086956521739</td><td>1.2173913043478262</td><td>0.782608695652174</td><td>1.0434782608695652</td><td>0.6086956521739131</td><td>0.17391304347826086</td><td>0.08695652173913043</td><td>0.17391304347826086</td><td>0.43478260869565216</td><td>3.9130434782608696</td></tr><tr><td>stddev</td><td>55.44958184226652</td><td>0.2881040655200305</td><td>2.138486036813022</td><td>6.570986654426277</td><td>9.100015202176413</td><td>7.27685159735723</td><td>6.550201396897729</td><td>4.41744654660301</td><td>2.9380965040640987</td><td>1.9295906711276265</td><td>2.5132062258391845</td><td>1.5296800151066239</td><td>0.49102619010353127</td><td>0.28810406552003043</td><td>0.4910261901035311</td><td>1.0798184593432079</td><td>9.443194006451323</td></tr><tr><td>min</td><td>1</td><td>0</td><td>0</td><td>0</td><td>0</td><td>0</td><td>0</td><td>0</td><td>0</td><td>0</td><td>0</td><td>0</td><td>0</td><td>0</td><td>0</td><td>0</td><td>0</td></tr><tr><td>max</td><td>273</td><td>1</td><td>10</td><td>32</td><td>45</td><td>35</td><td>32</td><td>21</td><td>14</td><td>9</td><td>12</td><td>7</td><td>2</td><td>1</td><td>2</td><td>5</td><td>45</td></tr></tbody></table></div>"
      ]
     },
     "metadata": {
      "application/vnd.databricks.v1+output": {
       "addedWidgets": {},
       "aggData": [],
       "aggError": "",
       "aggOverflow": false,
       "aggSchema": [],
       "aggSeriesLimitReached": false,
       "aggType": "",
       "arguments": {},
       "columnCustomDisplayInfos": {},
       "data": [
        [
         "count",
         "23",
         "23",
         "23",
         "23",
         "23",
         "23",
         "23",
         "23",
         "23",
         "23",
         "23",
         "23",
         "23",
         "23",
         "23",
         "23",
         "23"
        ],
        [
         "mean",
         "23.73913043478261",
         "0.08695652173913043",
         "0.8695652173913043",
         "2.782608695652174",
         "3.9130434782608696",
         "3.0434782608695654",
         "2.782608695652174",
         "1.826086956521739",
         "1.2173913043478262",
         "0.782608695652174",
         "1.0434782608695652",
         "0.6086956521739131",
         "0.17391304347826086",
         "0.08695652173913043",
         "0.17391304347826086",
         "0.43478260869565216",
         "3.9130434782608696"
        ],
        [
         "stddev",
         "55.44958184226652",
         "0.2881040655200305",
         "2.138486036813022",
         "6.570986654426277",
         "9.100015202176413",
         "7.27685159735723",
         "6.550201396897729",
         "4.41744654660301",
         "2.9380965040640987",
         "1.9295906711276265",
         "2.5132062258391845",
         "1.5296800151066239",
         "0.49102619010353127",
         "0.28810406552003043",
         "0.4910261901035311",
         "1.0798184593432079",
         "9.443194006451323"
        ],
        [
         "min",
         "1",
         "0",
         "0",
         "0",
         "0",
         "0",
         "0",
         "0",
         "0",
         "0",
         "0",
         "0",
         "0",
         "0",
         "0",
         "0",
         "0"
        ],
        [
         "max",
         "273",
         "1",
         "10",
         "32",
         "45",
         "35",
         "32",
         "21",
         "14",
         "9",
         "12",
         "7",
         "2",
         "1",
         "2",
         "5",
         "45"
        ]
       ],
       "datasetInfos": [],
       "dbfsResultPath": null,
       "isJsonSchema": true,
       "metadata": {},
       "overflow": false,
       "plotOptions": {
        "customPlotOptions": {},
        "displayType": "table",
        "pivotAggregation": null,
        "pivotColumns": null,
        "xColumns": null,
        "yColumns": null
       },
       "removedWidgets": [],
       "schema": [
        {
         "metadata": "{}",
         "name": "summary",
         "type": "\"string\""
        },
        {
         "metadata": "{}",
         "name": "Total",
         "type": "\"string\""
        },
        {
         "metadata": "{}",
         "name": "Menor_de_15",
         "type": "\"string\""
        },
        {
         "metadata": "{}",
         "name": "1519",
         "type": "\"string\""
        },
        {
         "metadata": "{}",
         "name": "2024",
         "type": "\"string\""
        },
        {
         "metadata": "{}",
         "name": "2529",
         "type": "\"string\""
        },
        {
         "metadata": "{}",
         "name": "3034",
         "type": "\"string\""
        },
        {
         "metadata": "{}",
         "name": "3539",
         "type": "\"string\""
        },
        {
         "metadata": "{}",
         "name": "4044",
         "type": "\"string\""
        },
        {
         "metadata": "{}",
         "name": "4549",
         "type": "\"string\""
        },
        {
         "metadata": "{}",
         "name": "5054",
         "type": "\"string\""
        },
        {
         "metadata": "{}",
         "name": "5559",
         "type": "\"string\""
        },
        {
         "metadata": "{}",
         "name": "6064",
         "type": "\"string\""
        },
        {
         "metadata": "{}",
         "name": "6569",
         "type": "\"string\""
        },
        {
         "metadata": "{}",
         "name": "7074",
         "type": "\"string\""
        },
        {
         "metadata": "{}",
         "name": "7579",
         "type": "\"string\""
        },
        {
         "metadata": "{}",
         "name": "80_y_ms",
         "type": "\"string\""
        },
        {
         "metadata": "{}",
         "name": "Ignorado",
         "type": "\"string\""
        }
       ],
       "type": "table"
      }
     },
     "output_type": "display_data"
    },
    {
     "output_type": "display_data",
     "data": {
      "text/html": [
       "<h4 style='margin:10px 0'>Cuadro 61 — columnas numéricas</h4>"
      ]
     },
     "metadata": {},
     "output_type": "display_data"
    },
    {
     "output_type": "display_data",
     "data": {
      "text/html": [
       "<p style='margin:6px 0 4px 0'><i>Resumen (describe):</i></p>"
      ]
     },
     "metadata": {},
     "output_type": "display_data"
    },
    {
     "output_type": "display_data",
     "data": {
      "text/html": [
       "<style scoped>\n",
       "  .table-result-container {\n",
       "    max-height: 300px;\n",
       "    overflow: auto;\n",
       "  }\n",
       "  table, th, td {\n",
       "    border: 1px solid black;\n",
       "    border-collapse: collapse;\n",
       "  }\n",
       "  th, td {\n",
       "    padding: 5px;\n",
       "  }\n",
       "  th {\n",
       "    text-align: left;\n",
       "  }\n",
       "</style><div class='table-result-container'><table class='table-result'><thead style='background-color: white'><tr><th>summary</th><th>Total</th><th>Lunes</th><th>Martes</th><th>Mircoles</th><th>Jueves</th><th>Viernes</th><th>Sbado</th><th>Domingo</th></tr></thead><tbody><tr><td>count</td><td>23</td><td>23</td><td>23</td><td>23</td><td>23</td><td>23</td><td>23</td><td>23</td></tr><tr><td>mean</td><td>23.73913043478261</td><td>2.869565217391304</td><td>2.0</td><td>2.5217391304347827</td><td>2.5217391304347827</td><td>4.521739130434782</td><td>5.6521739130434785</td><td>3.652173913043478</td></tr><tr><td>stddev</td><td>55.44958184226652</td><td>6.811116233615905</td><td>4.738622738153508</td><td>6.021699889999287</td><td>6.08178775464009</td><td>10.638137077247515</td><td>13.3913428468211</td><td>8.62137246852882</td></tr><tr><td>min</td><td>1</td><td>0</td><td>0</td><td>0</td><td>0</td><td>0</td><td>0</td><td>0</td></tr><tr><td>max</td><td>273</td><td>33</td><td>23</td><td>29</td><td>29</td><td>52</td><td>65</td><td>42</td></tr></tbody></table></div>"
      ]
     },
     "metadata": {
      "application/vnd.databricks.v1+output": {
       "addedWidgets": {},
       "aggData": [],
       "aggError": "",
       "aggOverflow": false,
       "aggSchema": [],
       "aggSeriesLimitReached": false,
       "aggType": "",
       "arguments": {},
       "columnCustomDisplayInfos": {},
       "data": [
        [
         "count",
         "23",
         "23",
         "23",
         "23",
         "23",
         "23",
         "23",
         "23"
        ],
        [
         "mean",
         "23.73913043478261",
         "2.869565217391304",
         "2.0",
         "2.5217391304347827",
         "2.5217391304347827",
         "4.521739130434782",
         "5.6521739130434785",
         "3.652173913043478"
        ],
        [
         "stddev",
         "55.44958184226652",
         "6.811116233615905",
         "4.738622738153508",
         "6.021699889999287",
         "6.08178775464009",
         "10.638137077247515",
         "13.3913428468211",
         "8.62137246852882"
        ],
        [
         "min",
         "1",
         "0",
         "0",
         "0",
         "0",
         "0",
         "0",
         "0"
        ],
        [
         "max",
         "273",
         "33",
         "23",
         "29",
         "29",
         "52",
         "65",
         "42"
        ]
       ],
       "datasetInfos": [],
       "dbfsResultPath": null,
       "isJsonSchema": true,
       "metadata": {},
       "overflow": false,
       "plotOptions": {
        "customPlotOptions": {},
        "displayType": "table",
        "pivotAggregation": null,
        "pivotColumns": null,
        "xColumns": null,
        "yColumns": null
       },
       "removedWidgets": [],
       "schema": [
        {
         "metadata": "{}",
         "name": "summary",
         "type": "\"string\""
        },
        {
         "metadata": "{}",
         "name": "Total",
         "type": "\"string\""
        },
        {
         "metadata": "{}",
         "name": "Lunes",
         "type": "\"string\""
        },
        {
         "metadata": "{}",
         "name": "Martes",
         "type": "\"string\""
        },
        {
         "metadata": "{}",
         "name": "Mircoles",
         "type": "\"string\""
        },
        {
         "metadata": "{}",
         "name": "Jueves",
         "type": "\"string\""
        },
        {
         "metadata": "{}",
         "name": "Viernes",
         "type": "\"string\""
        },
        {
         "metadata": "{}",
         "name": "Sbado",
         "type": "\"string\""
        },
        {
         "metadata": "{}",
         "name": "Domingo",
         "type": "\"string\""
        }
       ],
       "type": "table"
      }
     },
     "output_type": "display_data"
    },
    {
     "output_type": "display_data",
     "data": {
      "text/html": [
       "<h4 style='margin:10px 0'>Cuadro 62 — columnas numéricas</h4>"
      ]
     },
     "metadata": {},
     "output_type": "display_data"
    },
    {
     "output_type": "display_data",
     "data": {
      "text/html": [
       "<p style='margin:6px 0 4px 0'><i>Resumen (describe):</i></p>"
      ]
     },
     "metadata": {},
     "output_type": "display_data"
    },
    {
     "output_type": "display_data",
     "data": {
      "text/html": [
       "<style scoped>\n",
       "  .table-result-container {\n",
       "    max-height: 300px;\n",
       "    overflow: auto;\n",
       "  }\n",
       "  table, th, td {\n",
       "    border: 1px solid black;\n",
       "    border-collapse: collapse;\n",
       "  }\n",
       "  th, td {\n",
       "    padding: 5px;\n",
       "  }\n",
       "  th {\n",
       "    text-align: left;\n",
       "  }\n",
       "</style><div class='table-result-container'><table class='table-result'><thead style='background-color: white'><tr><th>summary</th><th>Total</th><th>Hombre</th><th>Mujer</th><th>Ignorado</th></tr></thead><tbody><tr><td>count</td><td>23</td><td>23</td><td>23</td><td>23</td></tr><tr><td>mean</td><td>23.73913043478261</td><td>20.869565217391305</td><td>2.6956521739130435</td><td>0.17391304347826086</td></tr><tr><td>stddev</td><td>55.44958184226652</td><td>48.69226590428177</td><td>6.3777652299267995</td><td>0.5762081310400607</td></tr><tr><td>min</td><td>1</td><td>0</td><td>0</td><td>0</td></tr><tr><td>max</td><td>273</td><td>240</td><td>31</td><td>2</td></tr></tbody></table></div>"
      ]
     },
     "metadata": {
      "application/vnd.databricks.v1+output": {
       "addedWidgets": {},
       "aggData": [],
       "aggError": "",
       "aggOverflow": false,
       "aggSchema": [],
       "aggSeriesLimitReached": false,
       "aggType": "",
       "arguments": {},
       "columnCustomDisplayInfos": {},
       "data": [
        [
         "count",
         "23",
         "23",
         "23",
         "23"
        ],
        [
         "mean",
         "23.73913043478261",
         "20.869565217391305",
         "2.6956521739130435",
         "0.17391304347826086"
        ],
        [
         "stddev",
         "55.44958184226652",
         "48.69226590428177",
         "6.3777652299267995",
         "0.5762081310400607"
        ],
        [
         "min",
         "1",
         "0",
         "0",
         "0"
        ],
        [
         "max",
         "273",
         "240",
         "31",
         "2"
        ]
       ],
       "datasetInfos": [],
       "dbfsResultPath": null,
       "isJsonSchema": true,
       "metadata": {},
       "overflow": false,
       "plotOptions": {
        "customPlotOptions": {},
        "displayType": "table",
        "pivotAggregation": null,
        "pivotColumns": null,
        "xColumns": null,
        "yColumns": null
       },
       "removedWidgets": [],
       "schema": [
        {
         "metadata": "{}",
         "name": "summary",
         "type": "\"string\""
        },
        {
         "metadata": "{}",
         "name": "Total",
         "type": "\"string\""
        },
        {
         "metadata": "{}",
         "name": "Hombre",
         "type": "\"string\""
        },
        {
         "metadata": "{}",
         "name": "Mujer",
         "type": "\"string\""
        },
        {
         "metadata": "{}",
         "name": "Ignorado",
         "type": "\"string\""
        }
       ],
       "type": "table"
      }
     },
     "output_type": "display_data"
    },
    {
     "output_type": "display_data",
     "data": {
      "text/html": [
       "<h4 style='margin:10px 0'>Cuadro 63 — columnas numéricas</h4>"
      ]
     },
     "metadata": {},
     "output_type": "display_data"
    },
    {
     "output_type": "display_data",
     "data": {
      "text/html": [
       "<p style='margin:6px 0 4px 0'><i>Resumen (describe):</i></p>"
      ]
     },
     "metadata": {},
     "output_type": "display_data"
    },
    {
     "output_type": "display_data",
     "data": {
      "text/html": [
       "<style scoped>\n",
       "  .table-result-container {\n",
       "    max-height: 300px;\n",
       "    overflow: auto;\n",
       "  }\n",
       "  table, th, td {\n",
       "    border: 1px solid black;\n",
       "    border-collapse: collapse;\n",
       "  }\n",
       "  th, td {\n",
       "    padding: 5px;\n",
       "  }\n",
       "  th {\n",
       "    text-align: left;\n",
       "  }\n",
       "</style><div class='table-result-container'><table class='table-result'><thead style='background-color: white'><tr><th>summary</th><th>2020</th><th>2021</th><th>2022</th><th>2023</th><th>2024</th></tr></thead><tbody><tr><td>count</td><td>23</td><td>23</td><td>23</td><td>23</td><td>23</td></tr><tr><td>mean</td><td>48.30813182367503</td><td>60.261817066754524</td><td>61.628441426780554</td><td>62.91823002589395</td><td>62.4297369886169</td></tr><tr><td>stddev</td><td>24.970932129197266</td><td>30.966964022040415</td><td>34.97849563828073</td><td>38.96776146553452</td><td>42.56541258788181</td></tr><tr><td>min</td><td>12.612307862789756</td><td>14.006332863358933</td><td>14.36751399956547</td><td>13.273554197022186</td><td>11.209392120067445</td></tr><tr><td>max</td><td>102.55400918842486</td><td>130.152067000021</td><td>135.43002867028156</td><td>160.49844357787694</td><td>185.72562486061585</td></tr></tbody></table></div>"
      ]
     },
     "metadata": {
      "application/vnd.databricks.v1+output": {
       "addedWidgets": {},
       "aggData": [],
       "aggError": "",
       "aggOverflow": false,
       "aggSchema": [],
       "aggSeriesLimitReached": false,
       "aggType": "",
       "arguments": {},
       "columnCustomDisplayInfos": {},
       "data": [
        [
         "count",
         "23",
         "23",
         "23",
         "23",
         "23"
        ],
        [
         "mean",
         "48.30813182367503",
         "60.261817066754524",
         "61.628441426780554",
         "62.91823002589395",
         "62.4297369886169"
        ],
        [
         "stddev",
         "24.970932129197266",
         "30.966964022040415",
         "34.97849563828073",
         "38.96776146553452",
         "42.56541258788181"
        ],
        [
         "min",
         "12.612307862789756",
         "14.006332863358933",
         "14.36751399956547",
         "13.273554197022186",
         "11.209392120067445"
        ],
        [
         "max",
         "102.55400918842486",
         "130.152067000021",
         "135.43002867028156",
         "160.49844357787694",
         "185.72562486061585"
        ]
       ],
       "datasetInfos": [],
       "dbfsResultPath": null,
       "isJsonSchema": true,
       "metadata": {},
       "overflow": false,
       "plotOptions": {
        "customPlotOptions": {},
        "displayType": "table",
        "pivotAggregation": null,
        "pivotColumns": null,
        "xColumns": null,
        "yColumns": null
       },
       "removedWidgets": [],
       "schema": [
        {
         "metadata": "{}",
         "name": "summary",
         "type": "\"string\""
        },
        {
         "metadata": "{}",
         "name": "2020",
         "type": "\"string\""
        },
        {
         "metadata": "{}",
         "name": "2021",
         "type": "\"string\""
        },
        {
         "metadata": "{}",
         "name": "2022",
         "type": "\"string\""
        },
        {
         "metadata": "{}",
         "name": "2023",
         "type": "\"string\""
        },
        {
         "metadata": "{}",
         "name": "2024",
         "type": "\"string\""
        }
       ],
       "type": "table"
      }
     },
     "output_type": "display_data"
    },
    {
     "output_type": "display_data",
     "data": {
      "text/html": [
       "<h4 style='margin:10px 0'>Cuadro 64 — columnas numéricas</h4>"
      ]
     },
     "metadata": {},
     "output_type": "display_data"
    },
    {
     "output_type": "display_data",
     "data": {
      "text/html": [
       "<p style='margin:6px 0 4px 0'><i>Resumen (describe):</i></p>"
      ]
     },
     "metadata": {},
     "output_type": "display_data"
    },
    {
     "output_type": "display_data",
     "data": {
      "text/html": [
       "<style scoped>\n",
       "  .table-result-container {\n",
       "    max-height: 300px;\n",
       "    overflow: auto;\n",
       "  }\n",
       "  table, th, td {\n",
       "    border: 1px solid black;\n",
       "    border-collapse: collapse;\n",
       "  }\n",
       "  th, td {\n",
       "    padding: 5px;\n",
       "  }\n",
       "  th {\n",
       "    text-align: left;\n",
       "  }\n",
       "</style><div class='table-result-container'><table class='table-result'><thead style='background-color: white'><tr><th>summary</th><th>2020</th><th>2021</th><th>2022</th><th>2023</th><th>2024</th></tr></thead><tbody><tr><td>count</td><td>23</td><td>23</td><td>23</td><td>23</td><td>23</td></tr><tr><td>mean</td><td>37.899007661813904</td><td>45.98942857921133</td><td>47.22729776990445</td><td>47.96487284064589</td><td>47.40683564275011</td></tr><tr><td>stddev</td><td>19.208482678174025</td><td>23.63176988414674</td><td>28.033293408208166</td><td>30.97813530014346</td><td>34.688566852202506</td></tr><tr><td>min</td><td>10.49810596671517</td><td>9.933062591871897</td><td>11.564096633796598</td><td>10.316233831882526</td><td>8.238227943664025</td></tr><tr><td>max</td><td>75.62063303792945</td><td>97.47298202399217</td><td>102.72239910462864</td><td>125.53357841113827</td><td>150.235124564462</td></tr></tbody></table></div>"
      ]
     },
     "metadata": {
      "application/vnd.databricks.v1+output": {
       "addedWidgets": {},
       "aggData": [],
       "aggError": "",
       "aggOverflow": false,
       "aggSchema": [],
       "aggSeriesLimitReached": false,
       "aggType": "",
       "arguments": {},
       "columnCustomDisplayInfos": {},
       "data": [
        [
         "count",
         "23",
         "23",
         "23",
         "23",
         "23"
        ],
        [
         "mean",
         "37.899007661813904",
         "45.98942857921133",
         "47.22729776990445",
         "47.96487284064589",
         "47.40683564275011"
        ],
        [
         "stddev",
         "19.208482678174025",
         "23.63176988414674",
         "28.033293408208166",
         "30.97813530014346",
         "34.688566852202506"
        ],
        [
         "min",
         "10.49810596671517",
         "9.933062591871897",
         "11.564096633796598",
         "10.316233831882526",
         "8.238227943664025"
        ],
        [
         "max",
         "75.62063303792945",
         "97.47298202399217",
         "102.72239910462864",
         "125.53357841113827",
         "150.235124564462"
        ]
       ],
       "datasetInfos": [],
       "dbfsResultPath": null,
       "isJsonSchema": true,
       "metadata": {},
       "overflow": false,
       "plotOptions": {
        "customPlotOptions": {},
        "displayType": "table",
        "pivotAggregation": null,
        "pivotColumns": null,
        "xColumns": null,
        "yColumns": null
       },
       "removedWidgets": [],
       "schema": [
        {
         "metadata": "{}",
         "name": "summary",
         "type": "\"string\""
        },
        {
         "metadata": "{}",
         "name": "2020",
         "type": "\"string\""
        },
        {
         "metadata": "{}",
         "name": "2021",
         "type": "\"string\""
        },
        {
         "metadata": "{}",
         "name": "2022",
         "type": "\"string\""
        },
        {
         "metadata": "{}",
         "name": "2023",
         "type": "\"string\""
        },
        {
         "metadata": "{}",
         "name": "2024",
         "type": "\"string\""
        }
       ],
       "type": "table"
      }
     },
     "output_type": "display_data"
    },
    {
     "output_type": "display_data",
     "data": {
      "text/html": [
       "<h4 style='margin:10px 0'>Cuadro 65 — columnas numéricas</h4>"
      ]
     },
     "metadata": {},
     "output_type": "display_data"
    },
    {
     "output_type": "display_data",
     "data": {
      "text/html": [
       "<p style='margin:6px 0 4px 0'><i>Resumen (describe):</i></p>"
      ]
     },
     "metadata": {},
     "output_type": "display_data"
    },
    {
     "output_type": "display_data",
     "data": {
      "text/html": [
       "<style scoped>\n",
       "  .table-result-container {\n",
       "    max-height: 300px;\n",
       "    overflow: auto;\n",
       "  }\n",
       "  table, th, td {\n",
       "    border: 1px solid black;\n",
       "    border-collapse: collapse;\n",
       "  }\n",
       "  th, td {\n",
       "    padding: 5px;\n",
       "  }\n",
       "  th {\n",
       "    text-align: left;\n",
       "  }\n",
       "</style><div class='table-result-container'><table class='table-result'><thead style='background-color: white'><tr><th>summary</th><th>2020</th><th>2021</th><th>2022</th><th>2023</th><th>2024</th></tr></thead><tbody><tr><td>count</td><td>23</td><td>23</td><td>23</td><td>23</td><td>23</td></tr><tr><td>mean</td><td>10.409124161861136</td><td>14.272388487543198</td><td>14.378673318520585</td><td>14.95047408640869</td><td>15.011883499471567</td></tr><tr><td>stddev</td><td>6.709878873542623</td><td>9.159590613673977</td><td>8.237840149658068</td><td>10.210806031216327</td><td>9.294429807348218</td></tr><tr><td>min</td><td>2.114201896074583</td><td>3.7838210538530226</td><td>2.803417365768872</td><td>2.957320365139658</td><td>2.7197351755006256</td></tr><tr><td>max</td><td>26.933376150495416</td><td>35.63956190753901</td><td>32.196572853689574</td><td>40.11842552953783</td><td>35.49050029615384</td></tr></tbody></table></div>"
      ]
     },
     "metadata": {
      "application/vnd.databricks.v1+output": {
       "addedWidgets": {},
       "aggData": [],
       "aggError": "",
       "aggOverflow": false,
       "aggSchema": [],
       "aggSeriesLimitReached": false,
       "aggType": "",
       "arguments": {},
       "columnCustomDisplayInfos": {},
       "data": [
        [
         "count",
         "23",
         "23",
         "23",
         "23",
         "23"
        ],
        [
         "mean",
         "10.409124161861136",
         "14.272388487543198",
         "14.378673318520585",
         "14.95047408640869",
         "15.011883499471567"
        ],
        [
         "stddev",
         "6.709878873542623",
         "9.159590613673977",
         "8.237840149658068",
         "10.210806031216327",
         "9.294429807348218"
        ],
        [
         "min",
         "2.114201896074583",
         "3.7838210538530226",
         "2.803417365768872",
         "2.957320365139658",
         "2.7197351755006256"
        ],
        [
         "max",
         "26.933376150495416",
         "35.63956190753901",
         "32.196572853689574",
         "40.11842552953783",
         "35.49050029615384"
        ]
       ],
       "datasetInfos": [],
       "dbfsResultPath": null,
       "isJsonSchema": true,
       "metadata": {},
       "overflow": false,
       "plotOptions": {
        "customPlotOptions": {},
        "displayType": "table",
        "pivotAggregation": null,
        "pivotColumns": null,
        "xColumns": null,
        "yColumns": null
       },
       "removedWidgets": [],
       "schema": [
        {
         "metadata": "{}",
         "name": "summary",
         "type": "\"string\""
        },
        {
         "metadata": "{}",
         "name": "2020",
         "type": "\"string\""
        },
        {
         "metadata": "{}",
         "name": "2021",
         "type": "\"string\""
        },
        {
         "metadata": "{}",
         "name": "2022",
         "type": "\"string\""
        },
        {
         "metadata": "{}",
         "name": "2023",
         "type": "\"string\""
        },
        {
         "metadata": "{}",
         "name": "2024",
         "type": "\"string\""
        }
       ],
       "type": "table"
      }
     },
     "output_type": "display_data"
    }
   ],
   "source": [
    "import re\n",
    "\n",
    "def _idx(name: str) -> int:\n",
    "    m = re.search(r\"(\\d+)$\", name.strip())\n",
    "    return int(m.group(1)) if m else 10**9\n",
    "\n",
    "numeric_primitives = (\"byte\", \"short\", \"int\", \"bigint\", \"long\", \"float\", \"double\")\n",
    "\n",
    "for name in sorted(loaded_names, key=_idx):\n",
    "    df = dfs[name]\n",
    "\n",
    "    # Detect numeric columns (including decimal with any precision/scale)\n",
    "    num_cols = [\n",
    "        c for c, t in df.dtypes\n",
    "        if t in numeric_primitives or t.lower().startswith(\"decimal\")\n",
    "    ]\n",
    "\n",
    "    displayHTML(f\"<h4 style='margin:10px 0'>{name.title()} — columnas numéricas</h4>\")\n",
    "    if not num_cols:\n",
    "        displayHTML(\"<p style='margin:0 0 8px 0'><i>Sin columnas numéricas detectadas.</i></p>\")\n",
    "        continue\n",
    "\n",
    "    # Ensure all columns exist in DataFrame\n",
    "    existing_num_cols = [c for c in num_cols if c in df.columns]\n",
    "    if not existing_num_cols:\n",
    "        displayHTML(\"<p style='margin:0 0 8px 0'><i>No valid numeric columns found in DataFrame.</i></p>\")\n",
    "        continue\n",
    "\n",
    "    # Show statistical summary of numeric columns\n",
    "    displayHTML(\"<p style='margin:6px 0 4px 0'><i>Resumen (describe):</i></p>\")\n",
    "    display(\n",
    "        df.select(*existing_num_cols).describe()\n",
    "    )"
   ]
  },
  {
   "cell_type": "code",
   "execution_count": 0,
   "metadata": {
    "application/vnd.databricks.v1+cell": {
     "cellMetadata": {
      "byteLimit": 2048000,
      "rowLimit": 10000
     },
     "inputWidgets": {},
     "nuid": "bf073d46-456b-423b-abaf-4e99cc56156e",
     "showTitle": false,
     "tableResultSettingsMap": {},
     "title": ""
    }
   },
   "outputs": [
    {
     "output_type": "display_data",
     "data": {
      "text/html": [
       "<h4 style='margin:10px 0'>Cuadro 1 — percentiles</h4>"
      ]
     },
     "metadata": {},
     "output_type": "display_data"
    },
    {
     "output_type": "stream",
     "name": "stdout",
     "output_type": "stream",
     "text": [
      "+----+-----+-----+-----+\n|col |p25  |p50  |p75  |\n+----+-----+-----+-----+\n|2020|121.0|197.0|229.0|\n|2021|154.0|228.0|270.0|\n|2022|138.0|216.0|297.0|\n|2023|129.0|198.0|300.0|\n|2024|128.0|194.0|299.0|\n+----+-----+-----+-----+\n\n"
     ]
    },
    {
     "output_type": "display_data",
     "data": {
      "text/html": [
       "<h4 style='margin:10px 0'>Cuadro 2 — percentiles</h4>"
      ]
     },
     "metadata": {},
     "output_type": "display_data"
    },
    {
     "output_type": "stream",
     "name": "stdout",
     "output_type": "stream",
     "text": [
      "+----------+-----+-----+-----+\n|col       |p25  |p50  |p75  |\n+----------+-----+-----+-----+\n|Total     |128.0|194.0|299.0|\n|Enero     |7.0  |15.0 |25.0 |\n|Febrero   |10.0 |17.0 |28.0 |\n|Marzo     |14.0 |23.0 |29.0 |\n|Abril     |11.0 |14.0 |22.0 |\n|Mayo      |11.0 |17.0 |25.0 |\n|Junio     |6.0  |13.0 |23.0 |\n|Julio     |12.0 |15.0 |24.0 |\n|Agosto    |8.0  |17.0 |21.0 |\n|Septiembre|9.0  |15.0 |30.0 |\n|Octubre   |11.0 |17.0 |33.0 |\n|Noviembre |12.0 |19.0 |27.0 |\n|Diciembre |12.0 |19.0 |31.0 |\n+----------+-----+-----+-----+\n\n"
     ]
    },
    {
     "output_type": "display_data",
     "data": {
      "text/html": [
       "<h4 style='margin:10px 0'>Cuadro 3 — percentiles</h4>"
      ]
     },
     "metadata": {},
     "output_type": "display_data"
    },
    {
     "output_type": "stream",
     "name": "stdout",
     "output_type": "stream",
     "text": [
      "+--------+-----+-----+-----+\n|col     |p25  |p50  |p75  |\n+--------+-----+-----+-----+\n|Total   |128.0|194.0|299.0|\n|Lunes   |17.0 |32.0 |41.0 |\n|Martes  |15.0 |23.0 |33.0 |\n|Mircoles|14.0 |20.0 |40.0 |\n|Jueves  |13.0 |27.0 |31.0 |\n|Viernes |19.0 |27.0 |39.0 |\n|Sbado   |23.0 |39.0 |59.0 |\n|Domingo |28.0 |35.0 |66.0 |\n+--------+-----+-----+-----+\n\n"
     ]
    },
    {
     "output_type": "display_data",
     "data": {
      "text/html": [
       "<h4 style='margin:10px 0'>Cuadro 4 — percentiles</h4>"
      ]
     },
     "metadata": {},
     "output_type": "display_data"
    },
    {
     "output_type": "stream",
     "name": "stdout",
     "output_type": "stream",
     "text": [
      "+----+-----+-----+-----+\n|col |p25  |p50  |p75  |\n+----+-----+-----+-----+\n|2020|405.0|590.0|626.0|\n|2021|643.0|657.0|701.0|\n|2022|624.0|671.0|719.0|\n|2023|615.0|647.0|696.0|\n|2024|674.0|703.0|768.0|\n+----+-----+-----+-----+\n\n"
     ]
    },
    {
     "output_type": "display_data",
     "data": {
      "text/html": [
       "<h4 style='margin:10px 0'>Cuadro 5 — percentiles</h4>"
      ]
     },
     "metadata": {},
     "output_type": "display_data"
    },
    {
     "output_type": "stream",
     "name": "stdout",
     "output_type": "stream",
     "text": [
      "+--------+-----+-----+-----+\n|col     |p25  |p50  |p75  |\n+--------+-----+-----+-----+\n|Total   |674.0|703.0|768.0|\n|Lunes   |86.0 |95.0 |107.0|\n|Martes  |66.0 |87.0 |103.0|\n|Mircoles|69.0 |74.0 |87.0 |\n|Jueves  |74.0 |80.0 |92.0 |\n|Viernes |89.0 |101.0|123.0|\n|Sbado   |116.0|139.0|149.0|\n|Domingo |118.0|130.0|159.0|\n+--------+-----+-----+-----+\n\n"
     ]
    },
    {
     "output_type": "display_data",
     "data": {
      "text/html": [
       "<h4 style='margin:10px 0'>Cuadro 6 — percentiles</h4>"
      ]
     },
     "metadata": {},
     "output_type": "display_data"
    },
    {
     "output_type": "stream",
     "name": "stdout",
     "output_type": "stream",
     "text": [
      "+----+-----+------+------+\n|col |p25  |p50   |p75   |\n+----+-----+------+------+\n|2020|783.0|873.0 |1055.0|\n|2021|921.0|1064.0|1488.0|\n|2022|935.0|985.0 |1505.0|\n|2023|933.0|1053.0|1557.0|\n|2024|970.0|1141.0|1602.0|\n+----+-----+------+------+\n\n"
     ]
    },
    {
     "output_type": "display_data",
     "data": {
      "text/html": [
       "<h4 style='margin:10px 0'>Cuadro 7 — percentiles</h4>"
      ]
     },
     "metadata": {},
     "output_type": "display_data"
    },
    {
     "output_type": "stream",
     "name": "stdout",
     "output_type": "stream",
     "text": [
      "+--------+-----+-----+-----+\n|col     |p25  |p50  |p75  |\n+--------+-----+-----+-----+\n|Total   |240.0|309.0|458.0|\n|Lunes   |33.0 |44.0 |58.0 |\n|Martes  |29.0 |38.0 |53.0 |\n|Mircoles|28.0 |38.0 |47.0 |\n|Jueves  |27.0 |37.0 |56.0 |\n|Viernes |31.0 |44.0 |70.0 |\n|Sbado   |37.0 |53.0 |103.0|\n|Domingo |47.0 |56.0 |90.0 |\n+--------+-----+-----+-----+\n\n"
     ]
    },
    {
     "output_type": "display_data",
     "data": {
      "text/html": [
       "<h4 style='margin:10px 0'>Cuadro 8 — percentiles</h4>"
      ]
     },
     "metadata": {},
     "output_type": "display_data"
    },
    {
     "output_type": "stream",
     "name": "stdout",
     "output_type": "stream",
     "text": [
      "+---------+-----+-----+-----+\n|col      |p25  |p50  |p75  |\n+---------+-----+-----+-----+\n|Total    |128.0|194.0|299.0|\n|Colisin  |80.0 |113.0|147.0|\n|Atropello|28.0 |49.0 |76.0 |\n|Derrape  |13.0 |19.0 |31.0 |\n|Choque   |6.0  |12.0 |14.0 |\n|Vuelco   |2.0  |4.0  |9.0  |\n|Embarranc|1.0  |3.0  |5.0  |\n|Encunet  |0.0  |0.0  |0.0  |\n|Cada     |0.0  |0.0  |0.0  |\n|Ignorado |0.0  |0.0  |0.0  |\n+---------+-----+-----+-----+\n\n"
     ]
    },
    {
     "output_type": "display_data",
     "data": {
      "text/html": [
       "<h4 style='margin:10px 0'>Cuadro 9 — percentiles</h4>"
      ]
     },
     "metadata": {},
     "output_type": "display_data"
    },
    {
     "output_type": "stream",
     "name": "stdout",
     "output_type": "stream",
     "text": [
      "+---------+-----+-----+-----+\n|col      |p25  |p50  |p75  |\n+---------+-----+-----+-----+\n|Total    |674.0|703.0|768.0|\n|Colisin  |364.0|374.0|430.0|\n|Atropello|155.0|174.0|203.0|\n|Derrape  |93.0 |99.0 |111.0|\n|Choque   |32.0 |32.0 |37.0 |\n|Vuelco   |10.0 |13.0 |14.0 |\n|Embarranc|4.0  |5.0  |10.0 |\n|Encunet  |0.0  |0.0  |0.0  |\n|Cada     |0.0  |0.0  |0.0  |\n|Ignorado |0.0  |0.0  |0.0  |\n+---------+-----+-----+-----+\n\n"
     ]
    },
    {
     "output_type": "display_data",
     "data": {
      "text/html": [
       "<h4 style='margin:10px 0'>Cuadro 10 — percentiles</h4>"
      ]
     },
     "metadata": {},
     "output_type": "display_data"
    },
    {
     "output_type": "stream",
     "name": "stdout",
     "output_type": "stream",
     "text": [
      "+---------+-----+-----+-----+\n|col      |p25  |p50  |p75  |\n+---------+-----+-----+-----+\n|Total    |254.0|272.0|293.0|\n|Colisin  |132.0|143.0|165.0|\n|Atropello|58.0 |68.0 |75.0 |\n|Derrape  |34.0 |38.0 |45.0 |\n|Choque   |10.0 |13.0 |15.0 |\n|Vuelco   |3.0  |5.0  |5.0  |\n|Embarranc|1.0  |2.0  |3.0  |\n|Encunet  |0.0  |0.0  |0.0  |\n|Cada     |0.0  |0.0  |0.0  |\n|Ignorado |0.0  |0.0  |0.0  |\n+---------+-----+-----+-----+\n\n"
     ]
    },
    {
     "output_type": "display_data",
     "data": {
      "text/html": [
       "<h4 style='margin:10px 0'>Cuadro 11 — percentiles</h4>"
      ]
     },
     "metadata": {},
     "output_type": "display_data"
    },
    {
     "output_type": "stream",
     "name": "stdout",
     "output_type": "stream",
     "text": [
      "+----------+----+----+----+\n|col       |p25 |p50 |p75 |\n+----------+----+----+----+\n|Total     |28.0|49.0|76.0|\n|Enero     |1.0 |4.0 |9.0 |\n|Febrero   |3.0 |5.0 |7.0 |\n|Marzo     |2.0 |3.0 |9.0 |\n|Abril     |2.0 |4.0 |6.0 |\n|Mayo      |1.0 |3.0 |6.0 |\n|Junio     |1.0 |3.0 |9.0 |\n|Julio     |1.0 |4.0 |7.0 |\n|Agosto    |2.0 |3.0 |7.0 |\n|Septiembre|2.0 |4.0 |11.0|\n|Octubre   |3.0 |4.0 |10.0|\n|Noviembre |1.0 |6.0 |8.0 |\n|Diciembre |2.0 |5.0 |9.0 |\n+----------+----+----+----+\n\n"
     ]
    },
    {
     "output_type": "display_data",
     "data": {
      "text/html": [
       "<h4 style='margin:10px 0'>Cuadro 12 — percentiles</h4>"
      ]
     },
     "metadata": {},
     "output_type": "display_data"
    },
    {
     "output_type": "stream",
     "name": "stdout",
     "output_type": "stream",
     "text": [
      "+--------+----+----+----+\n|col     |p25 |p50 |p75 |\n+--------+----+----+----+\n|Total   |28.0|49.0|76.0|\n|Lunes   |4.0 |6.0 |14.0|\n|Martes  |4.0 |6.0 |11.0|\n|Mircoles|2.0 |5.0 |9.0 |\n|Jueves  |3.0 |5.0 |10.0|\n|Viernes |4.0 |6.0 |9.0 |\n|Sbado   |5.0 |7.0 |18.0|\n|Domingo |6.0 |10.0|19.0|\n+--------+----+----+----+\n\n"
     ]
    },
    {
     "output_type": "display_data",
     "data": {
      "text/html": [
       "<h4 style='margin:10px 0'>Cuadro 13 — percentiles</h4>"
      ]
     },
     "metadata": {},
     "output_type": "display_data"
    },
    {
     "output_type": "stream",
     "name": "stdout",
     "output_type": "stream",
     "text": [
      "+--------+-----+-----+-----+\n|col     |p25  |p50  |p75  |\n+--------+-----+-----+-----+\n|Total   |155.0|174.0|203.0|\n|Lunes   |19.0 |24.0 |28.0 |\n|Martes  |17.0 |20.0 |27.0 |\n|Mircoles|18.0 |21.0 |22.0 |\n|Jueves  |17.0 |19.0 |24.0 |\n|Viernes |19.0 |25.0 |29.0 |\n|Sbado   |27.0 |31.0 |38.0 |\n|Domingo |28.0 |34.0 |38.0 |\n+--------+-----+-----+-----+\n\n"
     ]
    },
    {
     "output_type": "display_data",
     "data": {
      "text/html": [
       "<h4 style='margin:10px 0'>Cuadro 14 — percentiles</h4>"
      ]
     },
     "metadata": {},
     "output_type": "display_data"
    },
    {
     "output_type": "stream",
     "name": "stdout",
     "output_type": "stream",
     "text": [
      "+-----+----+----+----+\n|col  |p25 |p50 |p75 |\n+-----+----+----+----+\n|Total|57.0|68.0|87.0|\n|1    |4.0 |7.0 |11.0|\n|2    |0.0 |1.0 |2.0 |\n|3    |1.0 |2.0 |3.0 |\n|4    |0.0 |1.0 |2.0 |\n|5    |1.0 |2.0 |5.0 |\n|6    |2.0 |3.0 |6.0 |\n|7    |7.0 |9.0 |11.0|\n|8    |0.0 |1.0 |2.0 |\n|9    |2.0 |3.0 |6.0 |\n|10   |1.0 |3.0 |4.0 |\n|11   |3.0 |4.0 |6.0 |\n|12   |7.0 |10.0|14.0|\n|13   |2.0 |4.0 |5.0 |\n|14   |0.0 |0.0 |1.0 |\n|15   |0.0 |1.0 |2.0 |\n|16   |0.0 |0.0 |1.0 |\n|17   |1.0 |1.0 |3.0 |\n|18   |4.0 |6.0 |8.0 |\n|19   |0.0 |1.0 |1.0 |\n+-----+----+----+----+\nonly showing top 20 rows\n"
     ]
    },
    {
     "output_type": "display_data",
     "data": {
      "text/html": [
       "<h4 style='margin:10px 0'>Cuadro 15 — percentiles</h4>"
      ]
     },
     "metadata": {},
     "output_type": "display_data"
    },
    {
     "output_type": "stream",
     "name": "stdout",
     "output_type": "stream",
     "text": [
      "+--------+----+----+-----+\n|col     |p25 |p50 |p75  |\n+--------+----+----+-----+\n|Total   |25.0|51.0|112.0|\n|Lunes   |3.0 |6.0 |15.0 |\n|Martes  |3.0 |6.0 |15.0 |\n|Mircoles|2.0 |8.0 |10.0 |\n|Jueves  |2.0 |5.0 |10.0 |\n|Viernes |3.0 |7.0 |18.0 |\n|Sbado   |6.0 |10.0|21.0 |\n|Domingo |3.0 |11.0|15.0 |\n+--------+----+----+-----+\n\n"
     ]
    },
    {
     "output_type": "display_data",
     "data": {
      "text/html": [
       "<h4 style='margin:10px 0'>Cuadro 16 — percentiles</h4>"
      ]
     },
     "metadata": {},
     "output_type": "display_data"
    },
    {
     "output_type": "stream",
     "name": "stdout",
     "output_type": "stream",
     "text": [
      "+---------+----+----+-----+\n|col      |p25 |p50 |p75  |\n+---------+----+----+-----+\n|Total    |25.0|51.0|112.0|\n|Colisin  |13.0|27.0|61.0 |\n|Atropello|5.0 |12.0|32.0 |\n|Derrape  |4.0 |7.0 |13.0 |\n|Choque   |1.0 |3.0 |6.0  |\n|Vuelco   |0.0 |0.0 |1.0  |\n|Embarranc|0.0 |0.0 |0.0  |\n+---------+----+----+-----+\n\n"
     ]
    },
    {
     "output_type": "display_data",
     "data": {
      "text/html": [
       "<h4 style='margin:10px 0'>Cuadro 17 — percentiles</h4>"
      ]
     },
     "metadata": {},
     "output_type": "display_data"
    },
    {
     "output_type": "stream",
     "name": "stdout",
     "output_type": "stream",
     "text": [
      "+----+-----+-----+-----+\n|col |p25  |p50  |p75  |\n+----+-----+-----+-----+\n|2020|186.0|312.0|340.0|\n|2021|253.0|369.0|438.0|\n|2022|205.0|364.0|444.0|\n|2023|200.0|315.0|432.0|\n|2024|211.0|313.0|440.0|\n+----+-----+-----+-----+\n\n"
     ]
    },
    {
     "output_type": "display_data",
     "data": {
      "text/html": [
       "<h4 style='margin:10px 0'>Cuadro 18 — percentiles</h4>"
      ]
     },
     "metadata": {},
     "output_type": "display_data"
    },
    {
     "output_type": "stream",
     "name": "stdout",
     "output_type": "stream",
     "text": [
      "+---------+---+-----+-----+\n|col      |p25|p50  |p75  |\n+---------+---+-----+-----+\n|Total    |8.0|157.0|978.0|\n|Colisin  |5.0|76.0 |799.0|\n|Atropello|2.0|19.0 |164.0|\n|Derrape  |0.0|2.0  |6.0  |\n|Choque   |0.0|9.0  |38.0 |\n|Vuelco   |0.0|4.0  |17.0 |\n|Embarranc|0.0|2.0  |11.0 |\n|Encunet  |0.0|0.0  |0.0  |\n|Cada     |0.0|0.0  |0.0  |\n|Ignorado |0.0|0.0  |0.0  |\n+---------+---+-----+-----+\n\n"
     ]
    },
    {
     "output_type": "display_data",
     "data": {
      "text/html": [
       "<h4 style='margin:10px 0'>Cuadro 19 — percentiles</h4>"
      ]
     },
     "metadata": {},
     "output_type": "display_data"
    },
    {
     "output_type": "stream",
     "name": "stdout",
     "output_type": "stream",
     "text": [
      "+---------+----+-----+------+\n|col      |p25 |p50  |p75   |\n+---------+----+-----+------+\n|Total    |68.0|197.0|1653.0|\n|Colisin  |48.0|144.0|1188.0|\n|Atropello|8.0 |25.0 |185.0 |\n|Derrape  |1.0 |8.0  |79.0  |\n|Choque   |3.0 |13.0 |64.0  |\n|Vuelco   |1.0 |5.0  |12.0  |\n|Embarranc|0.0 |2.0  |9.0   |\n|Cada     |0.0 |0.0  |0.0   |\n|Encunet  |0.0 |0.0  |0.0   |\n|Ignorado |0.0 |0.0  |0.0   |\n+---------+----+-----+------+\n\n"
     ]
    },
    {
     "output_type": "display_data",
     "data": {
      "text/html": [
       "<h4 style='margin:10px 0'>Cuadro 20 — percentiles</h4>"
      ]
     },
     "metadata": {},
     "output_type": "display_data"
    },
    {
     "output_type": "stream",
     "name": "stdout",
     "output_type": "stream",
     "text": [
      "+---------+-----+------+------+\n|col      |p25  |p50   |p75   |\n+---------+-----+------+------+\n|Total    |109.0|1032.0|1900.0|\n|Colisin  |87.0 |839.0 |1403.0|\n|Atropello|10.0 |123.0 |232.0 |\n|Derrape  |0.0  |13.0  |204.0 |\n|Choque   |7.0  |36.0  |45.0  |\n|Vuelco   |3.0  |9.0   |15.0  |\n|Embarranc|2.0  |5.0   |10.0  |\n|Encunet  |0.0  |0.0   |1.0   |\n|Cada     |0.0  |0.0   |0.0   |\n|Ignorado |0.0  |0.0   |0.0   |\n+---------+-----+------+------+\n\n"
     ]
    },
    {
     "output_type": "display_data",
     "data": {
      "text/html": [
       "<h4 style='margin:10px 0'>Cuadro 21 — percentiles</h4>"
      ]
     },
     "metadata": {},
     "output_type": "display_data"
    },
    {
     "output_type": "stream",
     "name": "stdout",
     "output_type": "stream",
     "text": [
      "+---------------+-----+-----+-----+\n|col            |p25  |p50  |p75  |\n+---------------+-----+-----+-----+\n|Total          |211.0|313.0|440.0|\n|Motocicleta    |97.0 |143.0|187.0|\n|Automvil       |26.0 |42.0 |75.0 |\n|Pick_Up        |30.0 |44.0 |53.0 |\n|Camioneta      |16.0 |28.0 |41.0 |\n|Camin          |13.0 |21.0 |29.0 |\n|Cabezal        |5.0  |11.0 |21.0 |\n|Bus_Urbano     |4.0  |6.0  |14.0 |\n|Microbs        |4.0  |5.0  |10.0 |\n|Moto_Taxi      |3.0  |4.0  |7.0  |\n|Panel          |1.0  |2.0  |2.0  |\n|Cuatrimoto     |0.0  |1.0  |3.0  |\n|Tractor        |0.0  |0.0  |1.0  |\n|Bus_Extraurbano|0.0  |0.0  |1.0  |\n|Jeep           |0.0  |0.0  |0.0  |\n|Bicicleta      |0.0  |0.0  |0.0  |\n|Montacargas    |0.0  |0.0  |0.0  |\n|Taxi           |0.0  |0.0  |0.0  |\n|Ignorado       |3.0  |5.0  |9.0  |\n+---------------+-----+-----+-----+\n\n"
     ]
    },
    {
     "output_type": "display_data",
     "data": {
      "text/html": [
       "<h4 style='margin:10px 0'>Cuadro 22 — percentiles</h4>"
      ]
     },
     "metadata": {},
     "output_type": "display_data"
    },
    {
     "output_type": "stream",
     "name": "stdout",
     "output_type": "stream",
     "text": [
      "+----------------+-----+-----+-----+\n|col             |p25  |p50  |p75  |\n+----------------+-----+-----+-----+\n|Total           |211.0|313.0|440.0|\n|Hombre          |191.0|290.0|396.0|\n|Mujer           |12.0 |21.0 |32.0 |\n|Ignorado        |4.0  |6.0  |15.0 |\n|Total_no_ebrio  |7.0  |12.0 |18.0 |\n|Hombre_no_ebrio |6.0  |10.0 |17.0 |\n|Mujer_no_ebrio  |0.0  |1.0  |2.0  |\n|Ignorado1       |0.0  |0.0  |0.0  |\n|Total_ebrio     |8.0  |13.0 |26.0 |\n|Hombre_ebrio    |7.0  |12.0 |25.0 |\n|Mujer_ebrio     |0.0  |0.0  |1.0  |\n|Total_ignorados |203.0|290.0|408.0|\n|Hombre_ignorados|177.0|270.0|362.0|\n|Mujer_ignorados |10.0 |20.0 |29.0 |\n|Ignorado2       |4.0  |6.0  |15.0 |\n+----------------+-----+-----+-----+\n\n"
     ]
    },
    {
     "output_type": "display_data",
     "data": {
      "text/html": [
       "<h4 style='margin:10px 0'>Cuadro 23 — percentiles</h4>"
      ]
     },
     "metadata": {},
     "output_type": "display_data"
    },
    {
     "output_type": "stream",
     "name": "stdout",
     "output_type": "stream",
     "text": [
      "+---------------+------+------+------+\n|col            |p25   |p50   |p75   |\n+---------------+------+------+------+\n|Total1         |1039.0|1075.0|1194.0|\n|Hombre         |899.0 |980.0 |1104.0|\n|Mujer          |74.0  |82.0  |91.0  |\n|Ignorado       |2.0   |3.0   |35.0  |\n|total_no_ebrio |10.0  |50.0  |73.0  |\n|hombre_no_ebrio|10.0  |40.0  |64.0  |\n|mujer_no_ebrio |0.0   |6.0   |9.0   |\n|Ignorado1      |0.0   |0.0   |0.0   |\n|total_ebrio    |33.0  |43.0  |54.0  |\n|hombre_ebrio   |31.0  |41.0  |54.0  |\n|mujer_ebrio    |1.0   |1.0   |3.0   |\n|total12        |981.0 |1025.0|1093.0|\n|hombre_ignorado|798.0 |954.0 |978.0 |\n|mujer_ignorado |69.0  |72.0  |86.0  |\n|Ignorado2      |2.0   |3.0   |35.0  |\n+---------------+------+------+------+\n\n"
     ]
    },
    {
     "output_type": "display_data",
     "data": {
      "text/html": [
       "<h4 style='margin:10px 0'>Cuadro 24 — percentiles</h4>"
      ]
     },
     "metadata": {},
     "output_type": "display_data"
    },
    {
     "output_type": "stream",
     "name": "stdout",
     "output_type": "stream",
     "text": [
      "+--------+-----+-----+-------+\n|col     |p25  |p50  |p75    |\n+--------+-----+-----+-------+\n|Total   |310.0|495.0|10829.0|\n|Lunes   |45.0 |60.0 |1462.0 |\n|Martes  |33.0 |53.0 |1281.0 |\n|Mircoles|39.0 |44.0 |1218.0 |\n|Jueves  |34.0 |85.0 |1261.0 |\n|Viernes |49.0 |66.0 |1538.0 |\n|Sbado   |56.0 |112.0|2057.0 |\n|Domingo |54.0 |119.0|2012.0 |\n+--------+-----+-----+-------+\n\n"
     ]
    },
    {
     "output_type": "display_data",
     "data": {
      "text/html": [
       "<h4 style='margin:10px 0'>Cuadro 25 — percentiles</h4>"
      ]
     },
     "metadata": {},
     "output_type": "display_data"
    },
    {
     "output_type": "stream",
     "name": "stdout",
     "output_type": "stream",
     "text": [
      "+---------------+-----+-----+-----+\n|col            |p25  |p50  |p75  |\n+---------------+-----+-----+-----+\n|Total          |372.0|461.0|775.0|\n|Hombre         |326.0|420.0|689.0|\n|Mujer          |29.0 |38.0 |56.0 |\n|Ignorado       |8.0  |11.0 |19.0 |\n|total_no_ebrio |14.0 |17.0 |32.0 |\n|hombre_no_ebrio|12.0 |15.0 |27.0 |\n|mujer_no_ebrio |1.0  |2.0  |4.0  |\n|Ignorado1      |0.0  |0.0  |0.0  |\n|total_ebrio    |11.0 |17.0 |31.0 |\n|hombre_ebrio   |11.0 |16.0 |29.0 |\n|mujer_ebrio    |0.0  |0.0  |1.0  |\n|Total1         |353.0|434.0|724.0|\n|hombre_ignorado|309.0|401.0|644.0|\n|mujer_ignorado |28.0 |35.0 |52.0 |\n|Ignorado2      |8.0  |11.0 |19.0 |\n+---------------+-----+-----+-----+\n\n"
     ]
    },
    {
     "output_type": "display_data",
     "data": {
      "text/html": [
       "<h4 style='margin:10px 0'>Cuadro 26 — percentiles</h4>"
      ]
     },
     "metadata": {},
     "output_type": "display_data"
    },
    {
     "output_type": "stream",
     "name": "stdout",
     "output_type": "stream",
     "text": [
      "+---------------+-----+-----+------+\n|col            |p25  |p50  |p75   |\n+---------------+-----+-----+------+\n|Total          |125.0|617.0|1489.0|\n|Hombres        |116.0|548.0|1331.0|\n|Mujeres        |9.0  |69.0 |99.0  |\n|Ignorado       |0.0  |0.0  |1.0   |\n|total_no_ebrio |7.0  |33.0 |54.0  |\n|hombre_no_ebrio|6.0  |29.0 |45.0  |\n|mujer_no_ebrio |1.0  |2.0  |6.0   |\n|Ignorado1      |0.0  |0.0  |0.0   |\n|total_ebrio    |4.0  |20.0 |50.0  |\n|hombre_ebrio   |4.0  |18.0 |48.0  |\n|mujer_ebrio    |0.0  |1.0  |2.0   |\n|Total1         |114.0|556.0|1341.0|\n|hombre_ignorado|105.0|493.0|1199.0|\n|mujer_ignorado |9.0  |63.0 |91.0  |\n|Ignorado2      |0.0  |0.0  |1.0   |\n+---------------+-----+-----+------+\n\n"
     ]
    },
    {
     "output_type": "display_data",
     "data": {
      "text/html": [
       "<h4 style='margin:10px 0'>Cuadro 27 — percentiles</h4>"
      ]
     },
     "metadata": {},
     "output_type": "display_data"
    },
    {
     "output_type": "stream",
     "name": "stdout",
     "output_type": "stream",
     "text": [
      "+---------+---+----+-----+\n|col      |p25|p50 |p75  |\n+---------+---+----+-----+\n|Total    |4.0|40.0|311.0|\n|Atropello|1.0|7.0 |58.0 |\n+---------+---+----+-----+\n\n"
     ]
    },
    {
     "output_type": "display_data",
     "data": {
      "text/html": [
       "<h4 style='margin:10px 0'>Cuadro 28 — percentiles</h4>"
      ]
     },
     "metadata": {},
     "output_type": "display_data"
    },
    {
     "output_type": "stream",
     "name": "stdout",
     "output_type": "stream",
     "text": [
      "+---------------+----+----+-----+\n|col            |p25 |p50 |p75  |\n+---------------+----+----+-----+\n|Total          |34.0|69.0|153.0|\n|Motocicleta    |15.0|39.0|82.0 |\n|Automvil       |10.0|20.0|37.0 |\n|Camioneta      |3.0 |6.0 |16.0 |\n|Pick_Up        |1.0 |3.0 |6.0  |\n|Camin          |1.0 |2.0 |6.0  |\n|Bus_Urbano     |0.0 |1.0 |2.0  |\n|Cabezal        |0.0 |0.0 |3.0  |\n|Microbs        |0.0 |0.0 |1.0  |\n|Moto_Taxi      |0.0 |0.0 |1.0  |\n|Panel          |0.0 |0.0 |1.0  |\n|Jeep           |0.0 |0.0 |0.0  |\n|Cuatrimoto     |0.0 |0.0 |0.0  |\n|Bicicleta      |0.0 |0.0 |0.0  |\n|Taxi           |0.0 |0.0 |0.0  |\n|Bus_Extraurbano|0.0 |0.0 |0.0  |\n|Ignorado       |0.0 |1.0 |2.0  |\n+---------------+----+----+-----+\n\n"
     ]
    },
    {
     "output_type": "display_data",
     "data": {
      "text/html": [
       "<h4 style='margin:10px 0'>Cuadro 29 — percentiles</h4>"
      ]
     },
     "metadata": {},
     "output_type": "display_data"
    },
    {
     "output_type": "stream",
     "name": "stdout",
     "output_type": "stream",
     "text": [
      "+----+-----+-----+-----+\n|col |p25  |p50  |p75  |\n+----+-----+-----+-----+\n|2020|173.0|240.0|294.0|\n|2021|217.0|296.0|368.0|\n|2022|205.0|285.0|403.0|\n|2023|193.0|289.0|442.0|\n|2024|199.0|311.0|426.0|\n+----+-----+-----+-----+\n\n"
     ]
    },
    {
     "output_type": "display_data",
     "data": {
      "text/html": [
       "<h4 style='margin:10px 0'>Cuadro 30 — percentiles</h4>"
      ]
     },
     "metadata": {},
     "output_type": "display_data"
    },
    {
     "output_type": "stream",
     "name": "stdout",
     "output_type": "stream",
     "text": [
      "+-----------------+-----+-----+-----+\n|col              |p25  |p50  |p75  |\n+-----------------+-----+-----+-----+\n|Total            |199.0|311.0|426.0|\n|Hombre           |153.0|229.0|318.0|\n|Mujer            |46.0 |74.0 |105.0|\n|Ignorado         |0.0  |1.0  |2.0  |\n|Total_fallecidos |47.0 |71.0 |134.0|\n|hombre_fallecidoa|41.0 |57.0 |112.0|\n|mujer_fallecidas |6.0  |9.0  |17.0 |\n|Ignorado1        |0.0  |1.0  |1.0  |\n|Total_lesionados |150.0|214.0|290.0|\n|hombre_lesionados|112.0|149.0|206.0|\n|mujer_lesionados |37.0 |65.0 |82.0 |\n|Ignorado2        |0.0  |0.0  |1.0  |\n|Total1           |0.0  |0.0  |0.0  |\n|hombre_ignorado  |0.0  |0.0  |0.0  |\n|mujer_ignorado   |0.0  |0.0  |0.0  |\n+-----------------+-----+-----+-----+\n\n"
     ]
    },
    {
     "output_type": "display_data",
     "data": {
      "text/html": [
       "<h4 style='margin:10px 0'>Cuadro 31 — percentiles</h4>"
      ]
     },
     "metadata": {},
     "output_type": "display_data"
    },
    {
     "output_type": "stream",
     "name": "stdout",
     "output_type": "stream",
     "text": [
      "+----+-----+-----+-----+\n|col |p25  |p50  |p75  |\n+----+-----+-----+-----+\n|2020|144.0|180.0|217.0|\n|2021|179.0|231.0|269.0|\n|2022|165.0|210.0|306.0|\n|2023|150.0|223.0|360.0|\n|2024|150.0|214.0|290.0|\n+----+-----+-----+-----+\n\n"
     ]
    },
    {
     "output_type": "display_data",
     "data": {
      "text/html": [
       "<h4 style='margin:10px 0'>Cuadro 32 — percentiles</h4>"
      ]
     },
     "metadata": {},
     "output_type": "display_data"
    },
    {
     "output_type": "stream",
     "name": "stdout",
     "output_type": "stream",
     "text": [
      "+----------+-----+-----+-----+\n|col       |p25  |p50  |p75  |\n+----------+-----+-----+-----+\n|Total     |150.0|214.0|290.0|\n|Enero     |12.0 |15.0 |27.0 |\n|Febrero   |11.0 |16.0 |24.0 |\n|Marzo     |12.0 |19.0 |30.0 |\n|Abril     |9.0  |14.0 |31.0 |\n|Mayo      |12.0 |15.0 |24.0 |\n|Junio     |6.0  |11.0 |21.0 |\n|Julio     |9.0  |14.0 |26.0 |\n|Agosto    |13.0 |16.0 |24.0 |\n|Septiembre|10.0 |17.0 |33.0 |\n|Octubre   |11.0 |21.0 |38.0 |\n|Noviembre |9.0  |20.0 |37.0 |\n|Diciembre |16.0 |22.0 |30.0 |\n+----------+-----+-----+-----+\n\n"
     ]
    },
    {
     "output_type": "display_data",
     "data": {
      "text/html": [
       "<h4 style='margin:10px 0'>Cuadro 33 — percentiles</h4>"
      ]
     },
     "metadata": {},
     "output_type": "display_data"
    },
    {
     "output_type": "stream",
     "name": "stdout",
     "output_type": "stream",
     "text": [
      "+--------+-----+-----+-----+\n|col     |p25  |p50  |p75  |\n+--------+-----+-----+-----+\n|Total   |150.0|214.0|290.0|\n|Lunes   |20.0 |30.0 |52.0 |\n|Martes  |14.0 |24.0 |36.0 |\n|Mircoles|14.0 |21.0 |35.0 |\n|Jueves  |13.0 |23.0 |38.0 |\n|Viernes |15.0 |29.0 |44.0 |\n|Sbado   |26.0 |46.0 |68.0 |\n|Domingo |24.0 |44.0 |63.0 |\n+--------+-----+-----+-----+\n\n"
     ]
    },
    {
     "output_type": "display_data",
     "data": {
      "text/html": [
       "<h4 style='margin:10px 0'>Cuadro 34 — percentiles</h4>"
      ]
     },
     "metadata": {},
     "output_type": "display_data"
    },
    {
     "output_type": "stream",
     "name": "stdout",
     "output_type": "stream",
     "text": [
      "+-----------+-----+-----+-----+\n|col        |p25  |p50  |p75  |\n+-----------+-----+-----+-----+\n|Total      |150.0|214.0|290.0|\n|Menor_de_15|16.0 |23.0 |29.0 |\n|15__19     |21.0 |30.0 |38.0 |\n|20__24     |23.0 |32.0 |51.0 |\n|25__29     |13.0 |30.0 |37.0 |\n|30__34     |12.0 |18.0 |25.0 |\n|35__39     |10.0 |16.0 |24.0 |\n|40__44     |6.0  |12.0 |17.0 |\n|45__49     |6.0  |8.0  |12.0 |\n|50__54     |4.0  |7.0  |11.0 |\n|55__59     |2.0  |3.0  |7.0  |\n|60__64     |1.0  |4.0  |7.0  |\n|65__69     |2.0  |3.0  |7.0  |\n|70__74     |1.0  |2.0  |5.0  |\n|75__79     |1.0  |2.0  |4.0  |\n|80_y_ms    |0.0  |1.0  |2.0  |\n|Ignorado   |17.0 |24.0 |38.0 |\n+-----------+-----+-----+-----+\n\n"
     ]
    },
    {
     "output_type": "display_data",
     "data": {
      "text/html": [
       "<h4 style='margin:10px 0'>Cuadro 35 — percentiles</h4>"
      ]
     },
     "metadata": {},
     "output_type": "display_data"
    },
    {
     "output_type": "stream",
     "name": "stdout",
     "output_type": "stream",
     "text": [
      "+--------+-----+-----+-----+\n|col     |p25  |p50  |p75  |\n+--------+-----+-----+-----+\n|Total   |235.0|341.0|562.0|\n|Lunes   |30.0 |49.0 |71.0 |\n|Martes  |30.0 |39.0 |62.0 |\n|Mircoles|26.0 |38.0 |55.0 |\n|Jueves  |24.0 |45.0 |59.0 |\n|Viernes |31.0 |45.0 |71.0 |\n|Sbado   |38.0 |59.0 |104.0|\n|Domingo |43.0 |62.0 |98.0 |\n+--------+-----+-----+-----+\n\n"
     ]
    },
    {
     "output_type": "display_data",
     "data": {
      "text/html": [
       "<h4 style='margin:10px 0'>Cuadro 36 — percentiles</h4>"
      ]
     },
     "metadata": {},
     "output_type": "display_data"
    },
    {
     "output_type": "stream",
     "name": "stdout",
     "output_type": "stream",
     "text": [
      "+------------------+---+----+-----+\n|col               |p25|p50 |p75  |\n+------------------+---+----+-----+\n|Total             |3.0|63.0|313.0|\n|Hombre            |3.0|52.0|199.0|\n|Mujer             |1.0|18.0|150.0|\n|Ignorado          |0.0|0.0 |1.0  |\n|total_colision    |1.0|26.0|133.0|\n|hombre_colision   |1.0|16.0|93.0 |\n|mujer_colision    |0.0|5.0 |63.0 |\n|ignorado_colision |0.0|0.0 |0.0  |\n|total_atropello   |1.0|14.0|83.0 |\n|hombre_atropello  |1.0|7.0 |64.0 |\n|mujer_atropello   |0.0|3.0 |18.0 |\n|ognorado_atropello|0.0|0.0 |0.0  |\n|total_derrape     |0.0|2.0 |9.0  |\n|hombre_derrape    |0.0|1.0 |5.0  |\n|mujer_derrape     |0.0|0.0 |3.0  |\n|choque_total      |0.0|1.0 |27.0 |\n|choque_hombre     |0.0|1.0 |17.0 |\n|choque_mujer      |0.0|0.0 |9.0  |\n|choque_ignorado   |0.0|0.0 |0.0  |\n|total_vuelco      |0.0|2.0 |29.0 |\n+------------------+---+----+-----+\nonly showing top 20 rows\n"
     ]
    },
    {
     "output_type": "display_data",
     "data": {
      "text/html": [
       "<h4 style='margin:10px 0'>Cuadro 37 — percentiles</h4>"
      ]
     },
     "metadata": {},
     "output_type": "display_data"
    },
    {
     "output_type": "stream",
     "name": "stdout",
     "output_type": "stream",
     "text": [
      "+--------+----+-----+-----+\n|col     |p25 |p50  |p75  |\n+--------+----+-----+-----+\n|Total   |10.0|165.0|986.0|\n|Lunes   |1.0 |24.0 |128.0|\n|Martes  |4.0 |19.0 |108.0|\n|Mircoles|1.0 |18.0 |85.0 |\n|Jueves  |1.0 |16.0 |98.0 |\n|Viernes |3.0 |23.0 |131.0|\n|Sbado   |0.0 |33.0 |199.0|\n|Domingo |3.0 |34.0 |188.0|\n+--------+----+-----+-----+\n\n"
     ]
    },
    {
     "output_type": "display_data",
     "data": {
      "text/html": [
       "<h4 style='margin:10px 0'>Cuadro 38 — percentiles</h4>"
      ]
     },
     "metadata": {},
     "output_type": "display_data"
    },
    {
     "output_type": "stream",
     "name": "stdout",
     "output_type": "stream",
     "text": [
      "+--------+-----+-----+------+\n|col     |p25  |p50  |p75   |\n+--------+-----+-----+------+\n|Total   |147.0|511.0|1027.0|\n|Hombre  |95.0 |360.0|784.0 |\n|Mujer   |46.0 |151.0|262.0 |\n|Ignorado|0.0  |0.0  |1.0   |\n+--------+-----+-----+------+\n\n"
     ]
    },
    {
     "output_type": "display_data",
     "data": {
      "text/html": [
       "<h4 style='margin:10px 0'>Cuadro 39 — percentiles</h4>"
      ]
     },
     "metadata": {},
     "output_type": "display_data"
    },
    {
     "output_type": "stream",
     "name": "stdout",
     "output_type": "stream",
     "text": [
      "+----------+----+----+----+\n|col       |p25 |p50 |p75 |\n+----------+----+----+----+\n|Total     |17.0|31.0|50.0|\n|Enero     |1.0 |2.0 |5.0 |\n|Febrero   |1.0 |2.0 |6.0 |\n|Marzo     |0.0 |2.0 |9.0 |\n|Abril     |0.0 |2.0 |4.0 |\n|Mayo      |0.0 |2.0 |4.0 |\n|Junio     |0.0 |2.0 |5.0 |\n|Julio     |1.0 |2.0 |5.0 |\n|Agosto    |1.0 |3.0 |6.0 |\n|Septiembre|1.0 |4.0 |8.0 |\n|Octubre   |1.0 |3.0 |7.0 |\n|Noviembre |1.0 |3.0 |8.0 |\n+----------+----+----+----+\n\n"
     ]
    },
    {
     "output_type": "display_data",
     "data": {
      "text/html": [
       "<h4 style='margin:10px 0'>Cuadro 40 — percentiles</h4>"
      ]
     },
     "metadata": {},
     "output_type": "display_data"
    },
    {
     "output_type": "stream",
     "name": "stdout",
     "output_type": "stream",
     "text": [
      "+--------+----+----+----+\n|col     |p25 |p50 |p75 |\n+--------+----+----+----+\n|Total   |17.0|31.0|50.0|\n|Lunes   |3.0 |4.0 |6.0 |\n|Martes  |2.0 |4.0 |6.0 |\n|Mircoles|0.0 |3.0 |6.0 |\n|Jueves  |1.0 |4.0 |7.0 |\n|Viernes |3.0 |5.0 |7.0 |\n|Sbado   |3.0 |5.0 |13.0|\n|Domingo |4.0 |5.0 |11.0|\n+--------+----+----+----+\n\n"
     ]
    },
    {
     "output_type": "display_data",
     "data": {
      "text/html": [
       "<h4 style='margin:10px 0'>Cuadro 41 — percentiles</h4>"
      ]
     },
     "metadata": {},
     "output_type": "display_data"
    },
    {
     "output_type": "stream",
     "name": "stdout",
     "output_type": "stream",
     "text": [
      "+-----------+----+----+----+\n|col        |p25 |p50 |p75 |\n+-----------+----+----+----+\n|Total      |17.0|31.0|50.0|\n|Menor_de_15|2.0 |4.0 |9.0 |\n|1519       |1.0 |2.0 |5.0 |\n|2024       |1.0 |3.0 |7.0 |\n|2529       |0.0 |2.0 |5.0 |\n|3034       |1.0 |2.0 |4.0 |\n|3539       |0.0 |2.0 |4.0 |\n|4044       |1.0 |2.0 |4.0 |\n|4549       |0.0 |2.0 |3.0 |\n|5054       |0.0 |1.0 |2.0 |\n|5559       |0.0 |1.0 |2.0 |\n|6064       |0.0 |1.0 |2.0 |\n|6569       |1.0 |1.0 |2.0 |\n|7074       |0.0 |1.0 |3.0 |\n|7579       |0.0 |1.0 |2.0 |\n|80_y_ms    |0.0 |1.0 |2.0 |\n|Ignorado   |1.0 |3.0 |7.0 |\n+-----------+----+----+----+\n\n"
     ]
    },
    {
     "output_type": "display_data",
     "data": {
      "text/html": [
       "<h4 style='margin:10px 0'>Cuadro 42 — percentiles</h4>"
      ]
     },
     "metadata": {},
     "output_type": "display_data"
    },
    {
     "output_type": "stream",
     "name": "stdout",
     "output_type": "stream",
     "text": [
      "+--------+----+----+----+\n|col     |p25 |p50 |p75 |\n+--------+----+----+----+\n|Total   |41.0|62.0|84.0|\n|Lunes   |4.0 |7.0 |11.0|\n|Martes  |3.0 |7.0 |12.0|\n|Mircoles|3.0 |7.0 |11.0|\n|Jueves  |5.0 |6.0 |9.0 |\n|Viernes |4.0 |8.0 |14.0|\n|Sbado   |6.0 |9.0 |16.0|\n|Domingo |7.0 |11.0|17.0|\n+--------+----+----+----+\n\n"
     ]
    },
    {
     "output_type": "display_data",
     "data": {
      "text/html": [
       "<h4 style='margin:10px 0'>Cuadro 43 — percentiles</h4>"
      ]
     },
     "metadata": {},
     "output_type": "display_data"
    },
    {
     "output_type": "stream",
     "name": "stdout",
     "output_type": "stream",
     "text": [
      "+--------+---+----+-----+\n|col     |p25|p50 |p75  |\n+--------+---+----+-----+\n|Total   |3.0|14.0|101.0|\n|Hombre  |2.0|11.0|66.0 |\n|Mujer   |1.0|6.0 |32.0 |\n|Ignorado|0.0|0.0 |1.0  |\n+--------+---+----+-----+\n\n"
     ]
    },
    {
     "output_type": "display_data",
     "data": {
      "text/html": [
       "<h4 style='margin:10px 0'>Cuadro 44 — percentiles</h4>"
      ]
     },
     "metadata": {},
     "output_type": "display_data"
    },
    {
     "output_type": "stream",
     "name": "stdout",
     "output_type": "stream",
     "text": [
      "+-----------+----+----+-----+\n|col        |p25 |p50 |p75  |\n+-----------+----+----+-----+\n|Total      |20.0|38.0|104.0|\n|Menor_de_15|0.0 |2.0 |3.0  |\n|1519       |1.0 |3.0 |6.0  |\n|2024       |3.0 |7.0 |24.0 |\n|2529       |2.0 |5.0 |18.0 |\n|3034       |2.0 |9.0 |16.0 |\n|3539       |1.0 |4.0 |9.0  |\n|4044       |1.0 |3.0 |8.0  |\n|4549       |0.0 |2.0 |5.0  |\n|5054       |0.0 |1.0 |4.0  |\n|5559       |0.0 |1.0 |3.0  |\n|6064       |0.0 |0.0 |2.0  |\n|6569       |0.0 |0.0 |1.0  |\n|7074       |0.0 |0.0 |1.0  |\n|7579       |0.0 |1.0 |1.0  |\n|80_y_ms    |0.0 |1.0 |1.0  |\n|Ignorado   |2.0 |4.0 |10.0 |\n+-----------+----+----+-----+\n\n"
     ]
    },
    {
     "output_type": "display_data",
     "data": {
      "text/html": [
       "<h4 style='margin:10px 0'>Cuadro 45 — percentiles</h4>"
      ]
     },
     "metadata": {},
     "output_type": "display_data"
    },
    {
     "output_type": "stream",
     "name": "stdout",
     "output_type": "stream",
     "text": [
      "+--------+----+----+-----+\n|col     |p25 |p50 |p75  |\n+--------+----+----+-----+\n|Total   |20.0|38.0|104.0|\n|Lunes   |3.0 |6.0 |13.0 |\n|Martes  |2.0 |6.0 |17.0 |\n|Mircoles|2.0 |6.0 |11.0 |\n|Jueves  |2.0 |4.0 |15.0 |\n|Viernes |2.0 |4.0 |16.0 |\n|Sbado   |3.0 |8.0 |24.0 |\n|Domingo |2.0 |8.0 |17.0 |\n+--------+----+----+-----+\n\n"
     ]
    },
    {
     "output_type": "display_data",
     "data": {
      "text/html": [
       "<h4 style='margin:10px 0'>Cuadro 46 — percentiles</h4>"
      ]
     },
     "metadata": {},
     "output_type": "display_data"
    },
    {
     "output_type": "stream",
     "name": "stdout",
     "output_type": "stream",
     "text": [
      "+--------+----+----+-----+\n|col     |p25 |p50 |p75  |\n+--------+----+----+-----+\n|Total   |20.0|38.0|104.0|\n|Hombre  |12.0|30.0|79.0 |\n|Mujer   |5.0 |10.0|33.0 |\n|Ignorado|0.0 |0.0 |0.0  |\n+--------+----+----+-----+\n\n"
     ]
    },
    {
     "output_type": "display_data",
     "data": {
      "text/html": [
       "<h4 style='margin:10px 0'>Cuadro 47 — percentiles</h4>"
      ]
     },
     "metadata": {},
     "output_type": "display_data"
    },
    {
     "output_type": "stream",
     "name": "stdout",
     "output_type": "stream",
     "text": [
      "+----+----+----+-----+\n|col |p25 |p50 |p75  |\n+----+----+----+-----+\n|2020|31.0|49.0|73.0 |\n|2021|56.0|67.0|115.0|\n|2022|53.0|75.0|103.0|\n|2023|44.0|79.0|104.0|\n|2024|47.0|71.0|134.0|\n+----+----+----+-----+\n\n"
     ]
    },
    {
     "output_type": "display_data",
     "data": {
      "text/html": [
       "<h4 style='margin:10px 0'>Cuadro 48 — percentiles</h4>"
      ]
     },
     "metadata": {},
     "output_type": "display_data"
    },
    {
     "output_type": "stream",
     "name": "stdout",
     "output_type": "stream",
     "text": [
      "+----------+----+----+-----+\n|col       |p25 |p50 |p75  |\n+----------+----+----+-----+\n|Total     |47.0|71.0|134.0|\n|Enero     |3.0 |7.0 |11.0 |\n|Febrero   |3.0 |8.0 |11.0 |\n|Marzo     |4.0 |8.0 |13.0 |\n|Abril     |2.0 |6.0 |13.0 |\n|Mayo      |3.0 |6.0 |10.0 |\n|Junio     |2.0 |4.0 |10.0 |\n|Julio     |4.0 |7.0 |11.0 |\n|Agosto    |3.0 |6.0 |12.0 |\n|Septiembre|3.0 |7.0 |13.0 |\n|Octubre   |4.0 |7.0 |9.0  |\n|Noviembre |3.0 |7.0 |9.0  |\n|Diciembre |4.0 |7.0 |12.0 |\n+----------+----+----+-----+\n\n"
     ]
    },
    {
     "output_type": "display_data",
     "data": {
      "text/html": [
       "<h4 style='margin:10px 0'>Cuadro 49 — percentiles</h4>"
      ]
     },
     "metadata": {},
     "output_type": "display_data"
    },
    {
     "output_type": "stream",
     "name": "stdout",
     "output_type": "stream",
     "text": [
      "+--------+----+----+-----+\n|col     |p25 |p50 |p75  |\n+--------+----+----+-----+\n|Total   |47.0|71.0|134.0|\n|Lunes   |7.0 |11.0|16.0 |\n|Martes  |5.0 |9.0 |15.0 |\n|Mircoles|6.0 |9.0 |14.0 |\n|Jueves  |5.0 |8.0 |13.0 |\n|Viernes |5.0 |11.0|16.0 |\n|Sbado   |8.0 |14.0|25.0 |\n|Domingo |12.0|14.0|25.0 |\n+--------+----+----+-----+\n\n"
     ]
    },
    {
     "output_type": "display_data",
     "data": {
      "text/html": [
       "<h4 style='margin:10px 0'>Cuadro 50 — percentiles</h4>"
      ]
     },
     "metadata": {},
     "output_type": "display_data"
    },
    {
     "output_type": "stream",
     "name": "stdout",
     "output_type": "stream",
     "text": [
      "+-----------+----+----+-----+\n|col        |p25 |p50 |p75  |\n+-----------+----+----+-----+\n|Total      |47.0|71.0|134.0|\n|Menor_de_15|2.0 |4.0 |8.0  |\n|1519       |3.0 |5.0 |14.0 |\n|2024       |6.0 |11.0|17.0 |\n|2529       |5.0 |10.0|17.0 |\n|3034       |4.0 |8.0 |13.0 |\n|3539       |3.0 |4.0 |12.0 |\n|4044       |2.0 |3.0 |8.0  |\n|4549       |2.0 |3.0 |8.0  |\n|5054       |2.0 |4.0 |6.0  |\n|5559       |1.0 |2.0 |3.0  |\n|6064       |0.0 |2.0 |4.0  |\n|6569       |2.0 |3.0 |4.0  |\n|7074       |0.0 |1.0 |2.0  |\n|7579       |0.0 |1.0 |2.0  |\n|80_y_ms    |0.0 |1.0 |2.0  |\n|Ignorado   |6.0 |12.0|20.0 |\n+-----------+----+----+-----+\n\n"
     ]
    },
    {
     "output_type": "display_data",
     "data": {
      "text/html": [
       "<h4 style='margin:10px 0'>Cuadro 51 — percentiles</h4>"
      ]
     },
     "metadata": {},
     "output_type": "display_data"
    },
    {
     "output_type": "stream",
     "name": "stdout",
     "output_type": "stream",
     "text": [
      "+--------+----+----+-----+\n|col     |p25 |p50 |p75  |\n+--------+----+----+-----+\n|Total   |65.0|87.0|119.0|\n|Lunes   |8.0 |13.0|15.0 |\n|Martes  |7.0 |10.0|14.0 |\n|Mircoles|8.0 |9.0 |15.0 |\n|Jueves  |8.0 |11.0|14.0 |\n|Viernes |10.0|12.0|16.0 |\n|Sbado   |9.0 |17.0|26.0 |\n|Domingo |12.0|19.0|27.0 |\n+--------+----+----+-----+\n\n"
     ]
    },
    {
     "output_type": "display_data",
     "data": {
      "text/html": [
       "<h4 style='margin:10px 0'>Cuadro 52 — percentiles</h4>"
      ]
     },
     "metadata": {},
     "output_type": "display_data"
    },
    {
     "output_type": "stream",
     "name": "stdout",
     "output_type": "stream",
     "text": [
      "+------------------+---+----+-----+\n|col               |p25|p50 |p75  |\n+------------------+---+----+-----+\n|Total             |7.0|43.0|113.0|\n|Hombres           |6.0|29.0|102.0|\n|Mujeres           |1.0|6.0 |28.0 |\n|Ignorado          |0.0|0.0 |2.0  |\n|total_colision    |1.0|5.0 |43.0 |\n|hombre_colision   |1.0|3.0 |29.0 |\n|mujer_colision    |0.0|1.0 |7.0  |\n|total_atropello   |1.0|21.0|60.0 |\n|hombre_atropello  |1.0|13.0|52.0 |\n|mujer_atropello   |0.0|2.0 |7.0  |\n|ignorado_atropello|0.0|0.0 |2.0  |\n|total_derrape     |0.0|1.0 |2.0  |\n|hombre_derrape    |0.0|1.0 |2.0  |\n|mujer_derrape     |0.0|0.0 |1.0  |\n|total_choque      |1.0|2.0 |9.0  |\n|hombre_choque     |1.0|2.0 |8.0  |\n|mujer_choque      |0.0|1.0 |1.0  |\n|total_embarranc   |0.0|3.0 |9.0  |\n|hombre_embarranc  |0.0|2.0 |6.0  |\n|mujer_embarranc   |0.0|1.0 |2.0  |\n+------------------+---+----+-----+\nonly showing top 20 rows\n"
     ]
    },
    {
     "output_type": "display_data",
     "data": {
      "text/html": [
       "<h4 style='margin:10px 0'>Cuadro 53 — percentiles</h4>"
      ]
     },
     "metadata": {},
     "output_type": "display_data"
    },
    {
     "output_type": "stream",
     "name": "stdout",
     "output_type": "stream",
     "text": [
      "+--------+----+----+-----+\n|col     |p25 |p50 |p75  |\n+--------+----+----+-----+\n|Total   |18.0|76.0|398.0|\n|Lunes   |3.0 |11.0|53.0 |\n|Martes  |2.0 |11.0|28.0 |\n|Mircoles|4.0 |9.0 |34.0 |\n|Jueves  |1.0 |9.0 |34.0 |\n|Viernes |2.0 |14.0|54.0 |\n|Sbado   |3.0 |13.0|98.0 |\n|Domingo |7.0 |16.0|92.0 |\n+--------+----+----+-----+\n\n"
     ]
    },
    {
     "output_type": "display_data",
     "data": {
      "text/html": [
       "<h4 style='margin:10px 0'>Cuadro 54 — percentiles</h4>"
      ]
     },
     "metadata": {},
     "output_type": "display_data"
    },
    {
     "output_type": "stream",
     "name": "stdout",
     "output_type": "stream",
     "text": [
      "+--------+----+-----+-----+\n|col     |p25 |p50  |p75  |\n+--------+----+-----+-----+\n|Total   |63.0|114.0|244.0|\n|Hombre  |54.0|96.0 |205.0|\n|Mujer   |12.0|18.0 |34.0 |\n|Ignorado|0.0 |0.0  |1.0  |\n+--------+----+-----+-----+\n\n"
     ]
    },
    {
     "output_type": "display_data",
     "data": {
      "text/html": [
       "<h4 style='margin:10px 0'>Cuadro 55 — percentiles</h4>"
      ]
     },
     "metadata": {},
     "output_type": "display_data"
    },
    {
     "output_type": "stream",
     "name": "stdout",
     "output_type": "stream",
     "text": [
      "+----------+----+----+----+\n|col       |p25 |p50 |p75 |\n+----------+----+----+----+\n|Total     |11.0|15.0|41.0|\n|Enero     |0.0 |2.0 |3.0 |\n|Febrero   |1.0 |2.0 |4.0 |\n|Marzo     |1.0 |2.0 |3.0 |\n|Abril     |1.0 |1.0 |3.0 |\n|Mayo      |0.0 |1.0 |2.0 |\n|Junio     |0.0 |1.0 |5.0 |\n|Julio     |0.0 |2.0 |5.0 |\n|Agosto    |1.0 |2.0 |4.0 |\n|Septiembre|1.0 |2.0 |5.0 |\n|Octubre   |1.0 |2.0 |5.0 |\n|Noviembre |1.0 |1.0 |4.0 |\n+----------+----+----+----+\n\n"
     ]
    },
    {
     "output_type": "display_data",
     "data": {
      "text/html": [
       "<h4 style='margin:10px 0'>Cuadro 56 — percentiles</h4>"
      ]
     },
     "metadata": {},
     "output_type": "display_data"
    },
    {
     "output_type": "stream",
     "name": "stdout",
     "output_type": "stream",
     "text": [
      "+--------+----+----+----+\n|col     |p25 |p50 |p75 |\n+--------+----+----+----+\n|Total   |11.0|15.0|41.0|\n|Lunes   |1.0 |2.0 |5.0 |\n|Martes  |0.0 |2.0 |5.0 |\n|Mircoles|1.0 |2.0 |5.0 |\n|Jueves  |0.0 |2.0 |3.0 |\n|Viernes |1.0 |3.0 |5.0 |\n|Sbado   |1.0 |3.0 |8.0 |\n|Domingo |2.0 |5.0 |10.0|\n+--------+----+----+----+\n\n"
     ]
    },
    {
     "output_type": "display_data",
     "data": {
      "text/html": [
       "<h4 style='margin:10px 0'>Cuadro 57 — percentiles</h4>"
      ]
     },
     "metadata": {},
     "output_type": "display_data"
    },
    {
     "output_type": "stream",
     "name": "stdout",
     "output_type": "stream",
     "text": [
      "+-----------+----+----+----+\n|col        |p25 |p50 |p75 |\n+-----------+----+----+----+\n|Total      |11.0|15.0|41.0|\n|Menor_de_15|0.0 |1.0 |3.0 |\n|1519       |0.0 |1.0 |3.0 |\n|2024       |0.0 |1.0 |3.0 |\n|2529       |0.0 |1.0 |3.0 |\n|3034       |1.0 |1.0 |4.0 |\n|3539       |1.0 |1.0 |4.0 |\n|4044       |0.0 |1.0 |3.0 |\n|4549       |0.0 |1.0 |3.0 |\n|5054       |1.0 |1.0 |3.0 |\n|5559       |0.0 |1.0 |2.0 |\n|6064       |0.0 |1.0 |3.0 |\n|6569       |0.0 |2.0 |2.0 |\n|7074       |0.0 |1.0 |2.0 |\n|7579       |0.0 |1.0 |1.0 |\n|80_y_ms    |0.0 |1.0 |2.0 |\n|Ignorado   |1.0 |3.0 |5.0 |\n+-----------+----+----+----+\n\n"
     ]
    },
    {
     "output_type": "display_data",
     "data": {
      "text/html": [
       "<h4 style='margin:10px 0'>Cuadro 58 — percentiles</h4>"
      ]
     },
     "metadata": {},
     "output_type": "display_data"
    },
    {
     "output_type": "stream",
     "name": "stdout",
     "output_type": "stream",
     "text": [
      "+--------+----+----+----+\n|col     |p25 |p50 |p75 |\n+--------+----+----+----+\n|Total   |16.0|23.0|36.0|\n|Lunes   |2.0 |3.0 |5.0 |\n|Martes  |1.0 |2.0 |4.0 |\n|Mircoles|2.0 |3.0 |5.0 |\n|Jueves  |1.0 |3.0 |4.0 |\n|Viernes |3.0 |4.0 |6.0 |\n|Sbado   |3.0 |4.0 |7.0 |\n|Domingo |3.0 |5.0 |9.0 |\n+--------+----+----+----+\n\n"
     ]
    },
    {
     "output_type": "display_data",
     "data": {
      "text/html": [
       "<h4 style='margin:10px 0'>Cuadro 59 — percentiles</h4>"
      ]
     },
     "metadata": {},
     "output_type": "display_data"
    },
    {
     "output_type": "stream",
     "name": "stdout",
     "output_type": "stream",
     "text": [
      "+--------+---+----+----+\n|col     |p25|p50 |p75 |\n+--------+---+----+----+\n|Total   |1.0|21.0|60.0|\n|Hombre  |1.0|13.0|52.0|\n|Mujer   |0.0|2.0 |7.0 |\n|Ignorado|0.0|0.0 |2.0 |\n+--------+---+----+----+\n\n"
     ]
    },
    {
     "output_type": "display_data",
     "data": {
      "text/html": [
       "<h4 style='margin:10px 0'>Cuadro 60 — percentiles</h4>"
      ]
     },
     "metadata": {},
     "output_type": "display_data"
    },
    {
     "output_type": "stream",
     "name": "stdout",
     "output_type": "stream",
     "text": [
      "+-----------+---+----+----+\n|col        |p25|p50 |p75 |\n+-----------+---+----+----+\n|Total      |4.0|11.0|17.0|\n|Menor_de_15|0.0|0.0 |0.0 |\n|1519       |0.0|0.0 |1.0 |\n|2024       |0.0|1.0 |2.0 |\n|2529       |1.0|2.0 |4.0 |\n|3034       |0.0|1.0 |2.0 |\n|3539       |0.0|1.0 |2.0 |\n|4044       |0.0|0.0 |2.0 |\n|4549       |0.0|0.0 |1.0 |\n|5054       |0.0|0.0 |1.0 |\n|5559       |0.0|0.0 |1.0 |\n|6064       |0.0|0.0 |1.0 |\n|6569       |0.0|0.0 |0.0 |\n|7074       |0.0|0.0 |0.0 |\n|7579       |0.0|0.0 |0.0 |\n|80_y_ms    |0.0|0.0 |1.0 |\n|Ignorado   |1.0|1.0 |3.0 |\n+-----------+---+----+----+\n\n"
     ]
    },
    {
     "output_type": "display_data",
     "data": {
      "text/html": [
       "<h4 style='margin:10px 0'>Cuadro 61 — percentiles</h4>"
      ]
     },
     "metadata": {},
     "output_type": "display_data"
    },
    {
     "output_type": "stream",
     "name": "stdout",
     "output_type": "stream",
     "text": [
      "+--------+---+----+----+\n|col     |p25|p50 |p75 |\n+--------+---+----+----+\n|Total   |4.0|11.0|17.0|\n|Lunes   |0.0|1.0 |2.0 |\n|Martes  |0.0|1.0 |2.0 |\n|Mircoles|0.0|1.0 |3.0 |\n|Jueves  |0.0|1.0 |2.0 |\n|Viernes |1.0|1.0 |4.0 |\n|Sbado   |1.0|2.0 |4.0 |\n|Domingo |0.0|1.0 |4.0 |\n+--------+---+----+----+\n\n"
     ]
    },
    {
     "output_type": "display_data",
     "data": {
      "text/html": [
       "<h4 style='margin:10px 0'>Cuadro 62 — percentiles</h4>"
      ]
     },
     "metadata": {},
     "output_type": "display_data"
    },
    {
     "output_type": "stream",
     "name": "stdout",
     "output_type": "stream",
     "text": [
      "+--------+---+----+----+\n|col     |p25|p50 |p75 |\n+--------+---+----+----+\n|Total   |4.0|11.0|17.0|\n|Hombre  |3.0|11.0|15.0|\n|Mujer   |0.0|1.0 |2.0 |\n|Ignorado|0.0|0.0 |0.0 |\n+--------+---+----+----+\n\n"
     ]
    },
    {
     "output_type": "display_data",
     "data": {
      "text/html": [
       "<h4 style='margin:10px 0'>Cuadro 63 — percentiles</h4>"
      ]
     },
     "metadata": {},
     "output_type": "display_data"
    },
    {
     "output_type": "stream",
     "name": "stdout",
     "output_type": "stream",
     "text": [
      "+----+------------------+------------------+-----------------+\n|col |p25               |p50               |p75              |\n+----+------------------+------------------+-----------------+\n|2020|26.773701977461005|46.42430912701917 |67.19482138231545|\n|2021|37.322874493927124|58.31828825769086 |75.4520480980239 |\n|2022|37.50218099073812 |53.081003191445916|74.67868513108075|\n|2023|33.26166912457135 |59.985847089202394|75.74649590597829|\n|2024|32.758531701516056|54.088705476982256|73.15716453219456|\n+----+------------------+------------------+-----------------+\n\n"
     ]
    },
    {
     "output_type": "display_data",
     "data": {
      "text/html": [
       "<h4 style='margin:10px 0'>Cuadro 64 — percentiles</h4>"
      ]
     },
     "metadata": {},
     "output_type": "display_data"
    },
    {
     "output_type": "stream",
     "name": "stdout",
     "output_type": "stream",
     "text": [
      "+----+------------------+------------------+------------------+\n|col |p25               |p50               |p75               |\n+----+------------------+------------------+------------------+\n|2020|20.080276483095755|35.189220533984034|55.28205051584129 |\n|2021|30.575236167341433|44.898417330789094|60.574179458976936|\n|2022|30.045183612270886|43.19357593725152 |58.97304342185187 |\n|2023|25.870187096888827|35.59917563164591 |64.11864016774263 |\n|2024|25.27989584682911 |36.47773515900976 |53.987968395614686|\n+----+------------------+------------------+------------------+\n\n"
     ]
    },
    {
     "output_type": "display_data",
     "data": {
      "text/html": [
       "<h4 style='margin:10px 0'>Cuadro 65 — percentiles</h4>"
      ]
     },
     "metadata": {},
     "output_type": "display_data"
    },
    {
     "output_type": "stream",
     "name": "stdout",
     "output_type": "stream",
     "text": [
      "+----+------------------+------------------+------------------+\n|col |p25               |p50               |p75               |\n+----+------------------+------------------+------------------+\n|2020|5.494224290793486 |9.136305496237751 |13.855495333958189|\n|2021|6.747638326585695 |12.565937565642413|18.367694361565825|\n|2022|6.9323264129218565|14.743260855462967|19.16664686641164 |\n|2023|7.391482027682522 |12.766389577983782|20.07461882705471 |\n|2024|7.478635854686945 |13.425579442295717|22.677815788584855|\n+----+------------------+------------------+------------------+\n\n"
     ]
    }
   ],
   "source": [
    "from pyspark.sql import Row\n",
    "\n",
    "percentiles = [0.25, 0.5, 0.75]\n",
    "rel_tol = 0.01  # tolerancia de approxQuantile\n",
    "\n",
    "for name in sorted(loaded_names, key=_idx):\n",
    "    df = dfs[name]\n",
    "    num_cols = [c for c, t in df.dtypes\n",
    "                if t in numeric_primitives or t.lower().startswith(\"decimal\")]\n",
    "\n",
    "    if not num_cols:\n",
    "        continue\n",
    "\n",
    "    displayHTML(f\"<h4 style='margin:10px 0'>{name.title()} — percentiles</h4>\")\n",
    "    rows = []\n",
    "    for c in num_cols:\n",
    "        qs = df.approxQuantile(c, percentiles, rel_tol)\n",
    "        rows.append(Row(col=c, p25=qs[0], p50=qs[1], p75=qs[2]))\n",
    "    spark.createDataFrame(rows).show(truncate=False)"
   ]
  },
  {
   "cell_type": "markdown",
   "metadata": {
    "application/vnd.databricks.v1+cell": {
     "cellMetadata": {
      "byteLimit": 2048000,
      "rowLimit": 10000
     },
     "inputWidgets": {},
     "nuid": "e31da645-f7a2-455e-9860-e485889f37c7",
     "showTitle": false,
     "tableResultSettingsMap": {},
     "title": ""
    }
   },
   "source": [
    "#2. Identificar los años disponibles en cada tabla y validar si coinciden."
   ]
  },
  {
   "cell_type": "code",
   "execution_count": 0,
   "metadata": {
    "application/vnd.databricks.v1+cell": {
     "cellMetadata": {
      "byteLimit": 2048000,
      "rowLimit": 10000
     },
     "inputWidgets": {},
     "nuid": "bf232a9b-caca-4ece-8417-c75e84ab6cb4",
     "showTitle": false,
     "tableResultSettingsMap": {},
     "title": ""
    }
   },
   "outputs": [
    {
     "output_type": "display_data",
     "data": {
      "text/html": [
       "<h3 style='margin:8px 0'>Años disponibles por tabla</h3>"
      ]
     },
     "metadata": {},
     "output_type": "display_data"
    },
    {
     "output_type": "display_data",
     "data": {
      "text/html": [
       "<p style='margin:4px 0'><b>Cuadro 1:</b> 2020, 2021, 2022, 2023, 2024</p>"
      ]
     },
     "metadata": {},
     "output_type": "display_data"
    },
    {
     "output_type": "display_data",
     "data": {
      "text/html": [
       "<p style='margin:4px 0'><b>Cuadro 2:</b> <i>No se encontraron años</i></p>"
      ]
     },
     "metadata": {},
     "output_type": "display_data"
    },
    {
     "output_type": "display_data",
     "data": {
      "text/html": [
       "<p style='margin:4px 0'><b>Cuadro 3:</b> <i>No se encontraron años</i></p>"
      ]
     },
     "metadata": {},
     "output_type": "display_data"
    },
    {
     "output_type": "display_data",
     "data": {
      "text/html": [
       "<p style='margin:4px 0'><b>Cuadro 4:</b> 2020, 2021, 2022, 2023, 2024</p>"
      ]
     },
     "metadata": {},
     "output_type": "display_data"
    },
    {
     "output_type": "display_data",
     "data": {
      "text/html": [
       "<p style='margin:4px 0'><b>Cuadro 5:</b> <i>No se encontraron años</i></p>"
      ]
     },
     "metadata": {},
     "output_type": "display_data"
    },
    {
     "output_type": "display_data",
     "data": {
      "text/html": [
       "<p style='margin:4px 0'><b>Cuadro 6:</b> 2020, 2021, 2022, 2023, 2024</p>"
      ]
     },
     "metadata": {},
     "output_type": "display_data"
    },
    {
     "output_type": "display_data",
     "data": {
      "text/html": [
       "<p style='margin:4px 0'><b>Cuadro 7:</b> <i>No se encontraron años</i></p>"
      ]
     },
     "metadata": {},
     "output_type": "display_data"
    },
    {
     "output_type": "display_data",
     "data": {
      "text/html": [
       "<p style='margin:4px 0'><b>Cuadro 8:</b> <i>No se encontraron años</i></p>"
      ]
     },
     "metadata": {},
     "output_type": "display_data"
    },
    {
     "output_type": "display_data",
     "data": {
      "text/html": [
       "<p style='margin:4px 0'><b>Cuadro 9:</b> <i>No se encontraron años</i></p>"
      ]
     },
     "metadata": {},
     "output_type": "display_data"
    },
    {
     "output_type": "display_data",
     "data": {
      "text/html": [
       "<p style='margin:4px 0'><b>Cuadro 10:</b> <i>No se encontraron años</i></p>"
      ]
     },
     "metadata": {},
     "output_type": "display_data"
    },
    {
     "output_type": "display_data",
     "data": {
      "text/html": [
       "<p style='margin:4px 0'><b>Cuadro 11:</b> <i>No se encontraron años</i></p>"
      ]
     },
     "metadata": {},
     "output_type": "display_data"
    },
    {
     "output_type": "display_data",
     "data": {
      "text/html": [
       "<p style='margin:4px 0'><b>Cuadro 12:</b> <i>No se encontraron años</i></p>"
      ]
     },
     "metadata": {},
     "output_type": "display_data"
    },
    {
     "output_type": "display_data",
     "data": {
      "text/html": [
       "<p style='margin:4px 0'><b>Cuadro 13:</b> <i>No se encontraron años</i></p>"
      ]
     },
     "metadata": {},
     "output_type": "display_data"
    },
    {
     "output_type": "display_data",
     "data": {
      "text/html": [
       "<p style='margin:4px 0'><b>Cuadro 14:</b> <i>No se encontraron años</i></p>"
      ]
     },
     "metadata": {},
     "output_type": "display_data"
    },
    {
     "output_type": "display_data",
     "data": {
      "text/html": [
       "<p style='margin:4px 0'><b>Cuadro 15:</b> <i>No se encontraron años</i></p>"
      ]
     },
     "metadata": {},
     "output_type": "display_data"
    },
    {
     "output_type": "display_data",
     "data": {
      "text/html": [
       "<p style='margin:4px 0'><b>Cuadro 16:</b> <i>No se encontraron años</i></p>"
      ]
     },
     "metadata": {},
     "output_type": "display_data"
    },
    {
     "output_type": "display_data",
     "data": {
      "text/html": [
       "<p style='margin:4px 0'><b>Cuadro 17:</b> 2020, 2021, 2022, 2023, 2024</p>"
      ]
     },
     "metadata": {},
     "output_type": "display_data"
    },
    {
     "output_type": "display_data",
     "data": {
      "text/html": [
       "<p style='margin:4px 0'><b>Cuadro 18:</b> <i>No se encontraron años</i></p>"
      ]
     },
     "metadata": {},
     "output_type": "display_data"
    },
    {
     "output_type": "display_data",
     "data": {
      "text/html": [
       "<p style='margin:4px 0'><b>Cuadro 19:</b> <i>No se encontraron años</i></p>"
      ]
     },
     "metadata": {},
     "output_type": "display_data"
    },
    {
     "output_type": "display_data",
     "data": {
      "text/html": [
       "<p style='margin:4px 0'><b>Cuadro 20:</b> <i>No se encontraron años</i></p>"
      ]
     },
     "metadata": {},
     "output_type": "display_data"
    },
    {
     "output_type": "display_data",
     "data": {
      "text/html": [
       "<p style='margin:4px 0'><b>Cuadro 21:</b> <i>No se encontraron años</i></p>"
      ]
     },
     "metadata": {},
     "output_type": "display_data"
    },
    {
     "output_type": "display_data",
     "data": {
      "text/html": [
       "<p style='margin:4px 0'><b>Cuadro 22:</b> <i>No se encontraron años</i></p>"
      ]
     },
     "metadata": {},
     "output_type": "display_data"
    },
    {
     "output_type": "display_data",
     "data": {
      "text/html": [
       "<p style='margin:4px 0'><b>Cuadro 23:</b> <i>No se encontraron años</i></p>"
      ]
     },
     "metadata": {},
     "output_type": "display_data"
    },
    {
     "output_type": "display_data",
     "data": {
      "text/html": [
       "<p style='margin:4px 0'><b>Cuadro 24:</b> <i>No se encontraron años</i></p>"
      ]
     },
     "metadata": {},
     "output_type": "display_data"
    },
    {
     "output_type": "display_data",
     "data": {
      "text/html": [
       "<p style='margin:4px 0'><b>Cuadro 25:</b> <i>No se encontraron años</i></p>"
      ]
     },
     "metadata": {},
     "output_type": "display_data"
    },
    {
     "output_type": "display_data",
     "data": {
      "text/html": [
       "<p style='margin:4px 0'><b>Cuadro 26:</b> <i>No se encontraron años</i></p>"
      ]
     },
     "metadata": {},
     "output_type": "display_data"
    },
    {
     "output_type": "display_data",
     "data": {
      "text/html": [
       "<p style='margin:4px 0'><b>Cuadro 27:</b> <i>No se encontraron años</i></p>"
      ]
     },
     "metadata": {},
     "output_type": "display_data"
    },
    {
     "output_type": "display_data",
     "data": {
      "text/html": [
       "<p style='margin:4px 0'><b>Cuadro 28:</b> <i>No se encontraron años</i></p>"
      ]
     },
     "metadata": {},
     "output_type": "display_data"
    },
    {
     "output_type": "display_data",
     "data": {
      "text/html": [
       "<p style='margin:4px 0'><b>Cuadro 29:</b> 2020, 2021, 2022, 2023, 2024</p>"
      ]
     },
     "metadata": {},
     "output_type": "display_data"
    },
    {
     "output_type": "display_data",
     "data": {
      "text/html": [
       "<p style='margin:4px 0'><b>Cuadro 30:</b> <i>No se encontraron años</i></p>"
      ]
     },
     "metadata": {},
     "output_type": "display_data"
    },
    {
     "output_type": "display_data",
     "data": {
      "text/html": [
       "<p style='margin:4px 0'><b>Cuadro 31:</b> 2020, 2021, 2022, 2023, 2024</p>"
      ]
     },
     "metadata": {},
     "output_type": "display_data"
    },
    {
     "output_type": "display_data",
     "data": {
      "text/html": [
       "<p style='margin:4px 0'><b>Cuadro 32:</b> <i>No se encontraron años</i></p>"
      ]
     },
     "metadata": {},
     "output_type": "display_data"
    },
    {
     "output_type": "display_data",
     "data": {
      "text/html": [
       "<p style='margin:4px 0'><b>Cuadro 33:</b> <i>No se encontraron años</i></p>"
      ]
     },
     "metadata": {},
     "output_type": "display_data"
    },
    {
     "output_type": "display_data",
     "data": {
      "text/html": [
       "<p style='margin:4px 0'><b>Cuadro 34:</b> <i>No se encontraron años</i></p>"
      ]
     },
     "metadata": {},
     "output_type": "display_data"
    },
    {
     "output_type": "display_data",
     "data": {
      "text/html": [
       "<p style='margin:4px 0'><b>Cuadro 35:</b> <i>No se encontraron años</i></p>"
      ]
     },
     "metadata": {},
     "output_type": "display_data"
    },
    {
     "output_type": "display_data",
     "data": {
      "text/html": [
       "<p style='margin:4px 0'><b>Cuadro 36:</b> <i>No se encontraron años</i></p>"
      ]
     },
     "metadata": {},
     "output_type": "display_data"
    },
    {
     "output_type": "display_data",
     "data": {
      "text/html": [
       "<p style='margin:4px 0'><b>Cuadro 37:</b> <i>No se encontraron años</i></p>"
      ]
     },
     "metadata": {},
     "output_type": "display_data"
    },
    {
     "output_type": "display_data",
     "data": {
      "text/html": [
       "<p style='margin:4px 0'><b>Cuadro 38:</b> <i>No se encontraron años</i></p>"
      ]
     },
     "metadata": {},
     "output_type": "display_data"
    },
    {
     "output_type": "display_data",
     "data": {
      "text/html": [
       "<p style='margin:4px 0'><b>Cuadro 39:</b> <i>No se encontraron años</i></p>"
      ]
     },
     "metadata": {},
     "output_type": "display_data"
    },
    {
     "output_type": "display_data",
     "data": {
      "text/html": [
       "<p style='margin:4px 0'><b>Cuadro 40:</b> <i>No se encontraron años</i></p>"
      ]
     },
     "metadata": {},
     "output_type": "display_data"
    },
    {
     "output_type": "display_data",
     "data": {
      "text/html": [
       "<p style='margin:4px 0'><b>Cuadro 41:</b> 2024</p>"
      ]
     },
     "metadata": {},
     "output_type": "display_data"
    },
    {
     "output_type": "display_data",
     "data": {
      "text/html": [
       "<p style='margin:4px 0'><b>Cuadro 42:</b> <i>No se encontraron años</i></p>"
      ]
     },
     "metadata": {},
     "output_type": "display_data"
    },
    {
     "output_type": "display_data",
     "data": {
      "text/html": [
       "<p style='margin:4px 0'><b>Cuadro 43:</b> <i>No se encontraron años</i></p>"
      ]
     },
     "metadata": {},
     "output_type": "display_data"
    },
    {
     "output_type": "display_data",
     "data": {
      "text/html": [
       "<p style='margin:4px 0'><b>Cuadro 44:</b> 2024</p>"
      ]
     },
     "metadata": {},
     "output_type": "display_data"
    },
    {
     "output_type": "display_data",
     "data": {
      "text/html": [
       "<p style='margin:4px 0'><b>Cuadro 45:</b> <i>No se encontraron años</i></p>"
      ]
     },
     "metadata": {},
     "output_type": "display_data"
    },
    {
     "output_type": "display_data",
     "data": {
      "text/html": [
       "<p style='margin:4px 0'><b>Cuadro 46:</b> <i>No se encontraron años</i></p>"
      ]
     },
     "metadata": {},
     "output_type": "display_data"
    },
    {
     "output_type": "display_data",
     "data": {
      "text/html": [
       "<p style='margin:4px 0'><b>Cuadro 47:</b> 2020, 2021, 2022, 2023, 2024</p>"
      ]
     },
     "metadata": {},
     "output_type": "display_data"
    },
    {
     "output_type": "display_data",
     "data": {
      "text/html": [
       "<p style='margin:4px 0'><b>Cuadro 48:</b> <i>No se encontraron años</i></p>"
      ]
     },
     "metadata": {},
     "output_type": "display_data"
    },
    {
     "output_type": "display_data",
     "data": {
      "text/html": [
       "<p style='margin:4px 0'><b>Cuadro 49:</b> <i>No se encontraron años</i></p>"
      ]
     },
     "metadata": {},
     "output_type": "display_data"
    },
    {
     "output_type": "display_data",
     "data": {
      "text/html": [
       "<p style='margin:4px 0'><b>Cuadro 50:</b> 2024</p>"
      ]
     },
     "metadata": {},
     "output_type": "display_data"
    },
    {
     "output_type": "display_data",
     "data": {
      "text/html": [
       "<p style='margin:4px 0'><b>Cuadro 51:</b> <i>No se encontraron años</i></p>"
      ]
     },
     "metadata": {},
     "output_type": "display_data"
    },
    {
     "output_type": "display_data",
     "data": {
      "text/html": [
       "<p style='margin:4px 0'><b>Cuadro 52:</b> <i>No se encontraron años</i></p>"
      ]
     },
     "metadata": {},
     "output_type": "display_data"
    },
    {
     "output_type": "display_data",
     "data": {
      "text/html": [
       "<p style='margin:4px 0'><b>Cuadro 53:</b> <i>No se encontraron años</i></p>"
      ]
     },
     "metadata": {},
     "output_type": "display_data"
    },
    {
     "output_type": "display_data",
     "data": {
      "text/html": [
       "<p style='margin:4px 0'><b>Cuadro 54:</b> <i>No se encontraron años</i></p>"
      ]
     },
     "metadata": {},
     "output_type": "display_data"
    },
    {
     "output_type": "display_data",
     "data": {
      "text/html": [
       "<p style='margin:4px 0'><b>Cuadro 55:</b> <i>No se encontraron años</i></p>"
      ]
     },
     "metadata": {},
     "output_type": "display_data"
    },
    {
     "output_type": "display_data",
     "data": {
      "text/html": [
       "<p style='margin:4px 0'><b>Cuadro 56:</b> <i>No se encontraron años</i></p>"
      ]
     },
     "metadata": {},
     "output_type": "display_data"
    },
    {
     "output_type": "display_data",
     "data": {
      "text/html": [
       "<p style='margin:4px 0'><b>Cuadro 57:</b> 2024</p>"
      ]
     },
     "metadata": {},
     "output_type": "display_data"
    },
    {
     "output_type": "display_data",
     "data": {
      "text/html": [
       "<p style='margin:4px 0'><b>Cuadro 58:</b> <i>No se encontraron años</i></p>"
      ]
     },
     "metadata": {},
     "output_type": "display_data"
    },
    {
     "output_type": "display_data",
     "data": {
      "text/html": [
       "<p style='margin:4px 0'><b>Cuadro 59:</b> <i>No se encontraron años</i></p>"
      ]
     },
     "metadata": {},
     "output_type": "display_data"
    },
    {
     "output_type": "display_data",
     "data": {
      "text/html": [
       "<p style='margin:4px 0'><b>Cuadro 60:</b> 2024</p>"
      ]
     },
     "metadata": {},
     "output_type": "display_data"
    },
    {
     "output_type": "display_data",
     "data": {
      "text/html": [
       "<p style='margin:4px 0'><b>Cuadro 61:</b> <i>No se encontraron años</i></p>"
      ]
     },
     "metadata": {},
     "output_type": "display_data"
    },
    {
     "output_type": "display_data",
     "data": {
      "text/html": [
       "<p style='margin:4px 0'><b>Cuadro 62:</b> <i>No se encontraron años</i></p>"
      ]
     },
     "metadata": {},
     "output_type": "display_data"
    },
    {
     "output_type": "display_data",
     "data": {
      "text/html": [
       "<p style='margin:4px 0'><b>Cuadro 63:</b> 2020, 2021, 2022, 2023, 2024</p>"
      ]
     },
     "metadata": {},
     "output_type": "display_data"
    },
    {
     "output_type": "display_data",
     "data": {
      "text/html": [
       "<p style='margin:4px 0'><b>Cuadro 64:</b> 2020, 2021, 2022, 2023, 2024</p>"
      ]
     },
     "metadata": {},
     "output_type": "display_data"
    },
    {
     "output_type": "display_data",
     "data": {
      "text/html": [
       "<p style='margin:4px 0'><b>Cuadro 65:</b> 2020, 2021, 2022, 2023, 2024</p>"
      ]
     },
     "metadata": {},
     "output_type": "display_data"
    },
    {
     "output_type": "display_data",
     "data": {
      "text/html": [
       "<h3 style='margin:12px 0 4px 0'>Validación</h3>"
      ]
     },
     "metadata": {},
     "output_type": "display_data"
    },
    {
     "output_type": "display_data",
     "data": {
      "text/html": [
       "<p style='margin:0'><b>¿Todos iguales?</b> No</p>"
      ]
     },
     "metadata": {},
     "output_type": "display_data"
    },
    {
     "output_type": "display_data",
     "data": {
      "text/html": [
       "<p style='margin:0'><b>Intersección:</b> 2024</p>"
      ]
     },
     "metadata": {},
     "output_type": "display_data"
    },
    {
     "output_type": "display_data",
     "data": {
      "text/html": [
       "<p style='margin:0'><b>Unión:</b> 2020, 2021, 2022, 2023, 2024</p>"
      ]
     },
     "metadata": {},
     "output_type": "display_data"
    }
   ],
   "source": [
    "# ===================== DETECCIÓN DE AÑOS EN TODAS LAS TABLAS (1–65) =====================\n",
    "def _idx(name: str) -> int:\n",
    "    m = re.search(r\"(\\d+)$\", name.strip())\n",
    "    return int(m.group(1)) if m else 10**9\n",
    "\n",
    "YEAR_COL_REGEX = re.compile(\n",
    "    r\"^(anio|ano|a[o]?|year|anio_?hecho|ano_?hecho|anio_?ocurrencia|ano_?ocurrencia|anio_?registro)$\",\n",
    "    re.I\n",
    ")\n",
    "\n",
    "YEAR_MIN, YEAR_MAX = 1990, 2035\n",
    "\n",
    "def _years_from_candidate_cols(df):\n",
    "    years = set()\n",
    "    candidates = [c for c in df.columns if YEAR_COL_REGEX.search(c)]\n",
    "    for c in candidates:\n",
    "        ydf = (df\n",
    "               .select(F.col(c).cast(\"int\").alias(\"y\"))\n",
    "               .where(F.col(\"y\").isNotNull() & (F.col(\"y\") >= YEAR_MIN) & (F.col(\"y\") <= YEAR_MAX))\n",
    "               .select(\"y\").distinct())\n",
    "        years.update([r[\"y\"] for r in ydf.collect()])\n",
    "    return years\n",
    "\n",
    "def _years_from_headers(df):\n",
    "    \"\"\"Si la tabla está en formato ancho (años como columnas), detecta encabezados 'YYYY' válidos.\"\"\"\n",
    "    years = set()\n",
    "    for c in df.columns:\n",
    "        cc = c.strip()\n",
    "        if re.fullmatch(r\"\\d{4}\", cc):\n",
    "            y = int(cc)\n",
    "            if YEAR_MIN <= y <= YEAR_MAX:\n",
    "                years.add(y)\n",
    "    return years\n",
    "\n",
    "def detectar_anios(df):\n",
    "    \"\"\"Intenta por columnas de año; si no hay, intenta por encabezados.\"\"\"\n",
    "    y1 = _years_from_candidate_cols(df)\n",
    "    if y1:\n",
    "        return sorted(y1)\n",
    "    y2 = _years_from_headers(df)\n",
    "    if y2:\n",
    "        return sorted(y2)\n",
    "    return []\n",
    "\n",
    "displayHTML(\"<h3 style='margin:8px 0'>Años disponibles por tabla</h3>\")\n",
    "\n",
    "anios_por_tabla = {}\n",
    "problemas_fuera_de_rango = []\n",
    "\n",
    "for name in sorted(loaded_names, key=_idx):\n",
    "    df = dfs[name]\n",
    "    anios = detectar_anios(df)\n",
    "    anios_por_tabla[name] = anios if anios else None\n",
    "    lista = \", \".join(map(str, anios)) if anios else \"<i>No se encontraron años</i>\"\n",
    "    displayHTML(f\"<p style='margin:4px 0'><b>{name.title()}:</b> {lista}</p>\")\n",
    "\n",
    "# --- Validación global ---\n",
    "validas = [set(v) for v in anios_por_tabla.values() if v]\n",
    "\n",
    "if validas:\n",
    "    all_equal = all(s == validas[0] for s in validas)\n",
    "    inter = sorted(list(set.intersection(*validas))) if len(validas) > 1 else sorted(list(validas[0]))\n",
    "    uni = sorted(list(set.union(*validas)))        if len(validas) > 1 else sorted(list(validas[0]))\n",
    "\n",
    "    displayHTML(\"<h3 style='margin:12px 0 4px 0'>Validación</h3>\")\n",
    "    displayHTML(f\"<p style='margin:0'><b>¿Todos iguales?</b> {'Sí' if all_equal else 'No'}</p>\")\n",
    "    displayHTML(f\"<p style='margin:0'><b>Intersección:</b> {', '.join(map(str, inter)) if inter else '—'}</p>\")\n",
    "    displayHTML(f\"<p style='margin:0'><b>Unión:</b> {', '.join(map(str, uni)) if uni else '—'}</p>\")\n",
    "else:\n",
    "    displayHTML(\"<p style='margin:8px 0'><i>No hay tablas con años detectados para comparar.</i></p>\")\n",
    "#=============================================================================="
   ]
  },
  {
   "cell_type": "markdown",
   "metadata": {
    "application/vnd.databricks.v1+cell": {
     "cellMetadata": {
      "byteLimit": 2048000,
      "rowLimit": 10000
     },
     "inputWidgets": {},
     "nuid": "81a7c166-c49d-4523-a41d-a9b5b27fb90b",
     "showTitle": false,
     "tableResultSettingsMap": {},
     "title": ""
    }
   },
   "source": [
    "# 3. Mostrar los valores distintos de tipo de accidente."
   ]
  },
  {
   "cell_type": "code",
   "execution_count": 0,
   "metadata": {
    "application/vnd.databricks.v1+cell": {
     "cellMetadata": {
      "byteLimit": 2048000,
      "rowLimit": 10000
     },
     "inputWidgets": {},
     "nuid": "c159fb0a-1acf-4014-9cfb-9d54349de8ce",
     "showTitle": false,
     "tableResultSettingsMap": {},
     "title": ""
    }
   },
   "outputs": [
    {
     "output_type": "display_data",
     "data": {
      "text/html": [
       "<h3 style='margin:8px 0'>Valores distintos de <i>tipo de accidente</i></h3>"
      ]
     },
     "metadata": {},
     "output_type": "display_data"
    },
    {
     "output_type": "display_data",
     "data": {
      "text/html": [
       "<p style='margin:4px 0'><b>Cuadro 8:</b> Atropello, Cada, Choque, Colisin, Derrape, Embarranc, Encunet, Ignorado, Vuelco</p>"
      ]
     },
     "metadata": {},
     "output_type": "display_data"
    },
    {
     "output_type": "display_data",
     "data": {
      "text/html": [
       "<p style='margin:4px 0'><b>Cuadro 9:</b> Atropello, Cada, Choque, Colisin, Derrape, Embarranc, Encunet, Ignorado, Mes_de_ocurrencia, Vuelco</p>"
      ]
     },
     "metadata": {},
     "output_type": "display_data"
    },
    {
     "output_type": "display_data",
     "data": {
      "text/html": [
       "<p style='margin:4px 0'><b>Cuadro 10:</b> Atropello, Cada, Choque, Colisin, Da_de_ocurrencia, Derrape, Embarranc, Encunet, Ignorado, Vuelco</p>"
      ]
     },
     "metadata": {},
     "output_type": "display_data"
    },
    {
     "output_type": "display_data",
     "data": {
      "text/html": [
       "<p style='margin:4px 0'><b>Cuadro 16:</b> Atropello, Choque, Colisin, Derrape, Embarranc, Vuelco, Zona_de_ocurrencia</p>"
      ]
     },
     "metadata": {},
     "output_type": "display_data"
    },
    {
     "output_type": "display_data",
     "data": {
      "text/html": [
       "<p style='margin:4px 0'><b>Cuadro 18:</b> Atropello, Cada, Choque, Colisin, Derrape, Embarranc, Encunet, Ignorado, Tipo_de_vehculo, Unnamed_11, Unnamed_12, Vuelco</p>"
      ]
     },
     "metadata": {},
     "output_type": "display_data"
    },
    {
     "output_type": "display_data",
     "data": {
      "text/html": [
       "<p style='margin:4px 0'><b>Cuadro 19:</b> Atropello, Cada, Choque, Colisin, Color_de_vehculo, Derrape, Embarranc, Encunet, Ignorado, Vuelco</p>"
      ]
     },
     "metadata": {},
     "output_type": "display_data"
    },
    {
     "output_type": "display_data",
     "data": {
      "text/html": [
       "<p style='margin:4px 0'><b>Cuadro 20:</b> Atropello, Cada, Choque, Colisin, Derrape, Embarranc, Encunet, Ignorado, Modelo_de_vehculo, Vuelco</p>"
      ]
     },
     "metadata": {},
     "output_type": "display_data"
    },
    {
     "output_type": "display_data",
     "data": {
      "text/html": [
       "<p style='margin:4px 0'><b>Cuadro 27:</b> Atropello, Cada, Choque, Colisin, Derrape, Embarranc, Encunet, Ignorado, Tipo_de_vehculo_y_sexo_de_la_persona, Vuelco</p>"
      ]
     },
     "metadata": {},
     "output_type": "display_data"
    },
    {
     "output_type": "display_data",
     "data": {
      "text/html": [
       "<p style='margin:4px 0'><b>Cuadro 36:</b> Hombre, Ignorado, Mujer, Tipo_de_vehculo, choque_hombre, choque_ignorado, choque_mujer, choque_total, hombre_atropello, hombre_colision, hombre_derrape, hombre_embarranc, hombre_encunet, hombre_ignorado, hombre_vuelco, ignorado_caida, ignorado_colision, ignorado_embarranc, mujer_atropello, mujer_caida, mujer_colision, mujer_derrape, mujer_embarranc, mujer_ignorado, mujer_vuelco, mujeres_encunet, ognorado_atropello, total_atropello, total_caida, total_colision, total_derrape, total_embarranc, total_encunet, total_vuelco</p>"
      ]
     },
     "metadata": {},
     "output_type": "display_data"
    },
    {
     "output_type": "display_data",
     "data": {
      "text/html": [
       "<p style='margin:4px 0'><b>Cuadro 37:</b> Atropello, Caída, Choque, Colisión, Derrape, Embarrancó, Encunetó, Hombre, Ignorado, Mujer, Total, Vuelco</p>"
      ]
     },
     "metadata": {},
     "output_type": "display_data"
    },
    {
     "output_type": "display_data",
     "data": {
      "text/html": [
       "<p style='margin:4px 0'><b>Cuadro 52:</b> Hombres, Ignorado, Mujeres, Tipo_de_vehculo, hombre_atropello, hombre_choque, hombre_colision, hombre_derrape, hombre_embarranc, hombre_encunet, hombre_ignorado, hombre_vuelco, ignorado_atropello, mujer_atropello, mujer_choque, mujer_colision, mujer_derrape, mujer_embarranc, mujer_ignorado, mujer_vuelco, total_atropello, total_choque, total_colision, total_derrape, total_embarranc, total_encunet, total_ignorado, total_vuelco</p>"
      ]
     },
     "metadata": {},
     "output_type": "display_data"
    },
    {
     "output_type": "display_data",
     "data": {
      "text/html": [
       "<p style='margin:4px 0'><b>Cuadro 53:</b> Atropello, Choque, Colisión, Derrape, Embarrancó, Encunetó, Hombre, Ignorado, Mujer, Total, Vuelco</p>"
      ]
     },
     "metadata": {},
     "output_type": "display_data"
    },
    {
     "output_type": "display_data",
     "data": {
      "text/html": [
       "<h4 style='margin:12px 0 6px 0'>Resumen global (únicos)</h4>"
      ]
     },
     "metadata": {},
     "output_type": "display_data"
    },
    {
     "output_type": "display_data",
     "data": {
      "text/html": [
       "<p style='margin:0'>Atropello, Cada, Caída, Choque, Colisin, Colisión, Color_de_vehculo, Da_de_ocurrencia, Derrape, Embarranc, Embarrancó, Encunet, Encunetó, Hombre, Hombres, Ignorado, Mes_de_ocurrencia, Modelo_de_vehculo, Mujer, Mujeres, Tipo_de_vehculo, Tipo_de_vehculo_y_sexo_de_la_persona, Total, Unnamed_11, Unnamed_12, Vuelco, Zona_de_ocurrencia, choque_hombre, choque_ignorado, choque_mujer, choque_total, hombre_atropello, hombre_choque, hombre_colision, hombre_derrape, hombre_embarranc, hombre_encunet, hombre_ignorado, hombre_vuelco, ignorado_atropello, ignorado_caida, ignorado_colision, ignorado_embarranc, mujer_atropello, mujer_caida, mujer_choque, mujer_colision, mujer_derrape, mujer_embarranc, mujer_ignorado, mujer_vuelco, mujeres_encunet, ognorado_atropello, total_atropello, total_caida, total_choque, total_colision, total_derrape, total_embarranc, total_encunet, total_ignorado, total_vuelco</p>"
      ]
     },
     "metadata": {},
     "output_type": "display_data"
    }
   ],
   "source": [
    "# ===================== TIPOS DE ACCIDENTE (valores distintos) =====================\n",
    "import re\n",
    "from pyspark.sql import functions as F\n",
    "\n",
    "# --- 1) identificar qué cuadros \"van de tipo de accidente\" a partir del diccionario ---\n",
    "diccionario = TITULOS  \n",
    "cuadros_tipo = sorted([i for i, desc in diccionario.items() if \"tipo de accidente\" in desc.lower()])\n",
    "\n",
    "# --- 2) normalizador simple de columnas (igual al que usamos antes) ---\n",
    "import re as _re\n",
    "def normalizar_cols(df):\n",
    "    nuevos, vistos = [], set()\n",
    "    for i, c in enumerate(df.columns):\n",
    "        name = str(c) if c is not None else f\"col_{i+1}\"\n",
    "        name = name.strip()\n",
    "        name = _re.sub(r\"\\s+\", \"_\", name)\n",
    "        name = _re.sub(r\"[^0-9A-Za-z_]\", \"\", name)\n",
    "        if not name:\n",
    "            name = f\"col_{i+1}\"\n",
    "        base, k = name, 1\n",
    "        while name in vistos:\n",
    "            k += 1\n",
    "            name = f\"{base}_{k}\"\n",
    "        vistos.add(name)\n",
    "        nuevos.append(name)\n",
    "    return df.toDF(*nuevos)\n",
    "\n",
    "# --- 3) helpers de detección ---\n",
    "RE_TIPO_COL = re.compile(r\"(tipo.*acciden|acciden.*tipo)\", re.I)\n",
    "\n",
    "# columnas de dimensión / medidas a excluir cuando la tabla esté \"ancha\"\n",
    "EXCLUDE_HEADERS = set([\n",
    "    \"departamento\",\"depto\",\"municipio\",\"zona\",\"mes\",\"dia\",\"hora\",\n",
    "    \"anio\",\"ano\",\"ao\",\"anio_hecho\",\"ano_hecho\",\"anio_ocurrencia\",\"ano_ocurrencia\",\"anio_registro\",\n",
    "    \"sexo\",\"condicion\",\"estado\",\"grupos_de_edad\",\"grupo_de_edad\",\"grupo_edad\",\"edad\",\n",
    "    \"tipo_de_vehiculo\",\"tipo_vehiculo\",\"vehiculo\",\"color\",\"modelo\",\n",
    "    \"total\",\"cantidad\",\"conteo\",\"victimas\",\"lesionados\",\"fallecidos\"\n",
    "])\n",
    "\n",
    "YEAR_MIN, YEAR_MAX = 1990, 2035\n",
    "\n",
    "def _is_year_col(name: str) -> bool:\n",
    "    return bool(re.fullmatch(r\"\\d{4}\", name)) and (YEAR_MIN <= int(name) <= YEAR_MAX)\n",
    "\n",
    "def _idx(name: str) -> int:\n",
    "    m = re.search(r\"(\\d+)$\", name.strip())\n",
    "    return int(m.group(1)) if m else 10**9\n",
    "\n",
    "# --- 4) recorrer y mostrar valores distintos ---\n",
    "displayHTML(\"<h3 style='margin:8px 0'>Valores distintos de <i>tipo de accidente</i></h3>\")\n",
    "\n",
    "tipos_global = set()\n",
    "\n",
    "for i in cuadros_tipo:\n",
    "    name = f\"cuadro {i}\"\n",
    "    if name not in dfs:\n",
    "        displayHTML(f\"<p><b>{name.title()}:</b> <i>No cargado.</i></p>\")\n",
    "        continue\n",
    "\n",
    "    df_raw = dfs[name]\n",
    "    df = normalizar_cols(df_raw)\n",
    "\n",
    "    # a) intentar columna explícita\n",
    "    tipo_col = None\n",
    "    for c in df.columns:\n",
    "        if RE_TIPO_COL.search(c):\n",
    "            tipo_col = c\n",
    "            break\n",
    "\n",
    "    tipos = []\n",
    "    if tipo_col:\n",
    "        # columna encontrada -> extraer valores distintos (string limpio, sin nulos)\n",
    "        vals = (df.select(F.col(tipo_col).cast(\"string\").alias(\"tipo\"))\n",
    "                  .where(F.col(\"tipo\").isNotNull() & (F.length(F.trim(\"tipo\")) > 0))\n",
    "                  .select(F.trim(\"tipo\").alias(\"tipo\")).distinct()\n",
    "                  .orderBy(\"tipo\"))\n",
    "        tipos = [r[\"tipo\"] for r in vals.collect()]\n",
    "    else:\n",
    "        # b) formato ancho: los encabezados son los tipos\n",
    "        # candidatos = columnas que NO sean año, NO estén en EXCLUDE_HEADERS y NO sean 4 dígitos\n",
    "        candidatos = []\n",
    "        for c in df.columns:\n",
    "            cl = c.lower()\n",
    "            if _is_year_col(c):\n",
    "                continue\n",
    "            if cl in EXCLUDE_HEADERS:\n",
    "                continue\n",
    "            # si parece claramente métrica numérica genérica, saltar (opcional)\n",
    "            if cl in (\"valor\",\"valores\",\"monto\",\"cantidad_total\"):\n",
    "                continue\n",
    "            candidatos.append(c)\n",
    "\n",
    "        # si la tabla es bien ancha, estos suelen ser los tipos\n",
    "        # Validación ligera: si hay muy pocos candidatos y además ninguna col de \"tipo\", mostramos aviso\n",
    "        tipos = sorted(candidatos)\n",
    "\n",
    "    if tipos:\n",
    "        tipos_global.update(tipos)\n",
    "        lista = \", \".join(tipos)\n",
    "        displayHTML(f\"<p style='margin:4px 0'><b>{name.title()}:</b> {lista}</p>\")\n",
    "    else:\n",
    "        displayHTML(f\"<p style='margin:4px 0'><b>{name.title()}:</b> <i>No se detectaron tipos</i></p>\")\n",
    "\n",
    "# --- 5) resumen global ---\n",
    "if tipos_global:\n",
    "    displayHTML(\"<h4 style='margin:12px 0 6px 0'>Resumen global (únicos)</h4>\")\n",
    "    displayHTML(\"<p style='margin:0'>\" + \", \".join(sorted(tipos_global)) + \"</p>\")\n",
    "else:\n",
    "    displayHTML(\"<p style='margin:12px 0'><i>No se detectaron tipos de accidente en los cuadros identificados.</i></p>\")\n",
    "# ============================================================================================="
   ]
  },
  {
   "cell_type": "markdown",
   "metadata": {
    "application/vnd.databricks.v1+cell": {
     "cellMetadata": {
      "byteLimit": 2048000,
      "rowLimit": 10000
     },
     "inputWidgets": {},
     "nuid": "ba02ff7e-4c3c-45d5-b99f-4c2e406b63c7",
     "showTitle": false,
     "tableResultSettingsMap": {},
     "title": ""
    }
   },
   "source": [
    "#4. Calcular cuántos departamentos únicos aparecen en las bases."
   ]
  },
  {
   "cell_type": "code",
   "execution_count": 0,
   "metadata": {
    "application/vnd.databricks.v1+cell": {
     "cellMetadata": {
      "byteLimit": 2048000,
      "rowLimit": 10000
     },
     "inputWidgets": {},
     "nuid": "ef5970af-b741-44c7-88a0-6d09f0cd37f8",
     "showTitle": false,
     "tableResultSettingsMap": {},
     "title": ""
    }
   },
   "outputs": [
    {
     "output_type": "display_data",
     "data": {
      "text/html": [
       "<h3 style='margin:8px 0'>Departamentos únicos (solo cuadros que mencionan “departamento”)</h3>"
      ]
     },
     "metadata": {},
     "output_type": "display_data"
    },
    {
     "output_type": "display_data",
     "data": {
      "text/html": [
       "<p style='margin:0 0 6px 0'><b>Total:</b> 23</p>"
      ]
     },
     "metadata": {},
     "output_type": "display_data"
    },
    {
     "output_type": "display_data",
     "data": {
      "text/html": [
       "<p>Alta Verapaz, Baja Verapaz, Chimaltenango, Chiquimula, El Progreso, Escuintla, Guatemala, Huehuetenango, Izabal, Jalapa, Jutiapa, Petén, Quetzaltenango, Quiché, Retalhuleu, Sacatepéquez, San Marcos, Santa Rosa, Sololá, Suchitepéquez, Total, Totonicapán, Zacapa</p>"
      ]
     },
     "metadata": {},
     "output_type": "display_data"
    }
   ],
   "source": [
    "# ===================== DEPARTAMENTOS ÚNICOS (filtrando por TITULOS) =====================\n",
    "import re\n",
    "from pyspark.sql import functions as F\n",
    "\n",
    "# 1) Identificar qué cuadros mencionan \"departamento\" en el título/descripción\n",
    "cuadros_con_departamento = sorted(\n",
    "    [i for i, txt in TITULOS.items() if re.search(r\"departament\", txt, re.I)]\n",
    ")\n",
    "\n",
    "# 2) Helper: localizar la columna de departamento en cada DF\n",
    "DEPTO_COL_REGEX = re.compile(r\"^(depto|departamento|departament|dpto|dep)$\", re.I)\n",
    "\n",
    "def encontrar_col_departamento(df):\n",
    "    for c in df.columns:\n",
    "        if DEPTO_COL_REGEX.search(c.strip()):\n",
    "            return c\n",
    "    return None\n",
    "\n",
    "# 3) Recorrer solo esos cuadros y reunir valores únicos\n",
    "departamentos_global = set()\n",
    "\n",
    "for i in cuadros_con_departamento:\n",
    "    name = f\"cuadro {i}\"\n",
    "    if name not in dfs:\n",
    "        print(f\"[WARN] {name} no está cargado; se omite.\")\n",
    "        continue\n",
    "\n",
    "    df = dfs[name]\n",
    "    col = encontrar_col_departamento(df)\n",
    "    if not col:\n",
    "        print(f\"[INFO] {name} no tiene columna de departamento detectable; se omite.\")\n",
    "        continue\n",
    "\n",
    "    vals = (df.select(F.col(col).cast(\"string\").alias(\"depto\"))\n",
    "              .where(F.col(\"depto\").isNotNull() & (F.length(F.trim(\"depto\")) > 0))\n",
    "              .select(F.trim(\"depto\").alias(\"depto\")).distinct())\n",
    "    departamentos_global.update([r[\"depto\"] for r in vals.collect()])\n",
    "\n",
    "# 4) Mostrar resultados\n",
    "lista_departamentos = sorted(departamentos_global)\n",
    "displayHTML(\"<h3 style='margin:8px 0'>Departamentos únicos (solo cuadros que mencionan “departamento”)</h3>\")\n",
    "displayHTML(f\"<p style='margin:0 0 6px 0'><b>Total:</b> {len(lista_departamentos)}</p>\")\n",
    "displayHTML(\"<p>\" + \", \".join(lista_departamentos) + \"</p>\")\n",
    "# ========================================================================================="
   ]
  },
  {
   "cell_type": "markdown",
   "metadata": {
    "application/vnd.databricks.v1+cell": {
     "cellMetadata": {
      "byteLimit": 2048000,
      "rowLimit": 10000
     },
     "inputWidgets": {},
     "nuid": "4178fefe-fe29-4cf4-87d6-93204f0dc652",
     "showTitle": false,
     "tableResultSettingsMap": {},
     "title": ""
    }
   },
   "source": [
    "# 5. ¿Cuál es el total de accidentes por año y departamento? Apóyese de la función groupBy. Investigue la función display que tiene Databricks y muestre su resultado en formato de gráfico de barras."
   ]
  },
  {
   "cell_type": "code",
   "execution_count": 0,
   "metadata": {
    "application/vnd.databricks.v1+cell": {
     "cellMetadata": {
      "byteLimit": 2048000,
      "rowLimit": 10000
     },
     "inputWidgets": {},
     "nuid": "97e388ca-58fb-4e1b-8b83-af4d61ceb360",
     "showTitle": false,
     "tableResultSettingsMap": {},
     "title": ""
    }
   },
   "outputs": [
    {
     "output_type": "display_data",
     "data": {
      "text/html": [
       "<style scoped>\n",
       "  .table-result-container {\n",
       "    max-height: 300px;\n",
       "    overflow: auto;\n",
       "  }\n",
       "  table, th, td {\n",
       "    border: 1px solid black;\n",
       "    border-collapse: collapse;\n",
       "  }\n",
       "  th, td {\n",
       "    padding: 5px;\n",
       "  }\n",
       "  th {\n",
       "    text-align: left;\n",
       "  }\n",
       "</style><div class='table-result-container'><table class='table-result'><thead style='background-color: white'><tr><th>año</th><th>total_accidentes</th></tr></thead><tbody><tr><td>2020</td><td>6350</td></tr><tr><td>2021</td><td>8153</td></tr><tr><td>2022</td><td>7924</td></tr><tr><td>2023</td><td>8218</td></tr><tr><td>2024</td><td>8401</td></tr></tbody></table></div>"
      ]
     },
     "metadata": {
      "application/vnd.databricks.v1+output": {
       "addedWidgets": {},
       "aggData": [],
       "aggError": "",
       "aggOverflow": false,
       "aggSchema": [],
       "aggSeriesLimitReached": false,
       "aggType": "",
       "arguments": {},
       "columnCustomDisplayInfos": {},
       "data": [
        [
         "2020",
         6350
        ],
        [
         "2021",
         8153
        ],
        [
         "2022",
         7924
        ],
        [
         "2023",
         8218
        ],
        [
         "2024",
         8401
        ]
       ],
       "datasetInfos": [],
       "dbfsResultPath": null,
       "isJsonSchema": true,
       "metadata": {},
       "overflow": false,
       "plotOptions": {
        "customPlotOptions": {},
        "displayType": "table",
        "pivotAggregation": null,
        "pivotColumns": null,
        "xColumns": null,
        "yColumns": null
       },
       "removedWidgets": [],
       "schema": [
        {
         "metadata": "{}",
         "name": "año",
         "type": "\"string\""
        },
        {
         "metadata": "{}",
         "name": "total_accidentes",
         "type": "\"integer\""
        }
       ],
       "type": "table"
      }
     },
     "output_type": "display_data"
    },
    {
     "output_type": "display_data",
     "data": {
      "text/plain": [
       "Databricks visualization. Run in Databricks to view."
      ]
     },
     "metadata": {
      "application/vnd.databricks.v1.subcommand+json": {
       "baseErrorDetails": null,
       "bindings": {},
       "collapsed": false,
       "command": "%python\n__backend_agg_display_orig = display\n__backend_agg_dfs = []\ndef __backend_agg_display_new(df):\n    __backend_agg_df_modules = [\"pandas.core.frame\", \"databricks.koalas.frame\", \"pyspark.sql.dataframe\", \"pyspark.pandas.frame\", \"pyspark.sql.connect.dataframe\"]\n    if (type(df).__module__ in __backend_agg_df_modules and type(df).__name__ == 'DataFrame') or isinstance(df, list):\n        __backend_agg_dfs.append(df)\n\ndisplay = __backend_agg_display_new\n\ndef __backend_agg_user_code_fn():\n    import base64\n    exec(base64.standard_b64decode(\"ZnJvbSBweXNwYXJrLnNxbCBpbXBvcnQgZnVuY3Rpb25zIGFzIEYKaW1wb3J0IHJlCgpkZiA9IGRmc1siY3VhZHJvIDEiXQoKZGVwdF9jb2wgPSBuZXh0KChjIGZvciBjIGluIGRmLmNvbHVtbnMgaWYgcmUuc2VhcmNoKHIiKGRlcHRvfGRlcGFydHxkZXBhcnRhbWVudG8pIiwgYywgcmUuSSkpLCBkZi5jb2x1bW5zWzBdKQp5ZWFyX2NvbHMgPSBbYyBmb3IgYyBpbiBkZi5jb2x1bW5zIGlmIHJlLmZ1bGxtYXRjaChyIlxkezR9IiwgYyldCgpkZl90b3RhbCA9IGRmLmZpbHRlcihGLmxvd2VyKEYuY29sKGRlcHRfY29sKSkubGlrZSgidG90YWwlIikpCmlmIGRmX3RvdGFsLmNvdW50KCkgPT0gMDoKICAgIGRmX3RvdGFsID0gZGYuZ3JvdXBCeSgpLmFnZygqW0Yuc3VtKEYuY29sKGMpKS5hbGlhcyhjKSBmb3IgYyBpbiB5ZWFyX2NvbHNdKQoKZGZfdG90YWxfbG9uZyA9IChkZl90b3RhbAogICAgLnNlbGVjdCgKICAgICAgICBGLmV4cGxvZGUoCiAgICAgICAgICAgIEYuYXJyYXlzX3ppcCgKICAgICAgICAgICAgICAgIEYuYXJyYXkoKltGLmxpdChjKSBmb3IgYyBpbiB5ZWFyX2NvbHNdKSwKICAgICAgICAgICAgICAgIEYuYXJyYXkoKltGLmNvbChjKSBmb3IgYyBpbiB5ZWFyX2NvbHNdKQogICAgICAgICAgICApCiAgICAgICAgKS5hbGlhcygia3YiKQogICAgKQogICAgLnNlbGVjdChGLmNvbCgia3YuMCIpLmFsaWFzKCJhw7FvIiksIEYuY29sKCJrdi4xIikuY2FzdCgiaW50IikuYWxpYXMoInRvdGFsX2FjY2lkZW50ZXMiKSkKICAgIC5vcmRlckJ5KCJhw7FvIikpCgpkaXNwbGF5KGRmX3RvdGFsX2xvbmcp\").decode())\n\ntry:\n    # run user code\n    __backend_agg_user_code_fn()\n\n    #reset display function\n    display = __backend_agg_display_orig\n\n    if len(__backend_agg_dfs) > 0:\n        # create a temp view\n        if type(__backend_agg_dfs[0]).__module__ == \"databricks.koalas.frame\":\n            # koalas dataframe\n            __backend_agg_dfs[0].to_spark().createOrReplaceTempView(\"DatabricksView792e363\")\n        elif type(__backend_agg_dfs[0]).__module__ == \"pandas.core.frame\" or isinstance(__backend_agg_dfs[0], list):\n            # pandas dataframe\n            spark.createDataFrame(__backend_agg_dfs[0]).createOrReplaceTempView(\"DatabricksView792e363\")\n        else:\n            __backend_agg_dfs[0].createOrReplaceTempView(\"DatabricksView792e363\")\n        #run backend agg\n        display(spark.sql(\"\"\"WITH q AS (select * from DatabricksView792e363) SELECT `año`,SUM(`total_accidentes`) `column_c1b28254219` FROM q GROUP BY `año`\"\"\"))\n    else:\n        displayHTML(\"dataframe no longer exists. If you're using dataframe.display(), use display(dataframe) instead.\")\n\n\nfinally:\n    spark.sql(\"drop view if exists DatabricksView792e363\")\n    display = __backend_agg_display_orig\n    del __backend_agg_display_new\n    del __backend_agg_display_orig\n    del __backend_agg_dfs\n    del __backend_agg_user_code_fn\n\n",
       "commandTitle": "Visualization 1",
       "commandType": "auto",
       "commandVersion": 0,
       "commentThread": [],
       "commentsVisible": false,
       "contentSha256Hex": null,
       "customPlotOptions": {
        "redashChart": [
         {
          "key": "type",
          "value": "CHART"
         },
         {
          "key": "options",
          "value": {
           "alignYAxesAtZero": true,
           "coefficient": 1,
           "columnConfigurationMap": {
            "x": {
             "column": "año",
             "id": "column_c1b28254218"
            },
            "y": [
             {
              "column": "total_accidentes",
              "id": "column_c1b28254219",
              "transform": "SUM"
             }
            ]
           },
           "dateTimeFormat": "DD/MM/YYYY HH:mm",
           "direction": {
            "type": "counterclockwise"
           },
           "error_y": {
            "type": "data",
            "visible": true
           },
           "globalSeriesType": "column",
           "isAggregationOn": true,
           "legend": {
            "traceorder": "normal"
           },
           "missingValuesAsZero": true,
           "numberFormat": "0,0.[00000]",
           "percentFormat": "0[.]00%",
           "series": {
            "error_y": {
             "type": "data",
             "visible": true
            },
            "stacking": null
           },
           "seriesOptions": {
            "column_c1b28254219": {
             "name": "total_accidentes",
             "yAxis": 0
            }
           },
           "showDataLabels": false,
           "sizemode": "diameter",
           "sortX": true,
           "sortY": true,
           "swappedAxes": false,
           "textFormat": "",
           "useAggregationsUi": true,
           "valuesOptions": {},
           "version": 2,
           "xAxis": {
            "labels": {
             "enabled": true
            },
            "type": "-"
           },
           "yAxis": [
            {
             "type": "-"
            },
            {
             "opposite": true,
             "type": "-"
            }
           ]
          }
         }
        ]
       },
       "datasetPreviewNameToCmdIdMap": {},
       "diffDeletes": [],
       "diffInserts": [],
       "displayType": "redashChart",
       "error": null,
       "errorDetails": null,
       "errorSummary": null,
       "errorTraceType": null,
       "finishTime": 0,
       "globalVars": {},
       "guid": "",
       "height": "auto",
       "hideCommandCode": false,
       "hideCommandResult": false,
       "iPythonMetadata": null,
       "inputWidgets": {},
       "isLockedInExamMode": false,
       "latestAssumeRoleInfo": null,
       "latestUser": "a user",
       "latestUserId": null,
       "listResultMetadata": null,
       "metadata": {
        "byteLimit": 2048000,
        "rowLimit": 10000
       },
       "nuid": "617fe244-3322-455d-bf89-aef92d3f126e",
       "origId": 0,
       "parentHierarchy": [],
       "pivotAggregation": null,
       "pivotColumns": null,
       "position": 13.5,
       "resultDbfsErrorMessage": null,
       "resultDbfsStatus": "INLINED_IN_TREE",
       "results": null,
       "showCommandTitle": false,
       "startTime": 0,
       "state": "finished",
       "streamStates": {},
       "subcommandOptions": {
        "queryPlan": {
         "groups": [
          {
           "column": "año",
           "type": "column"
          }
         ],
         "selects": [
          {
           "column": "año",
           "type": "column"
          },
          {
           "alias": "column_c1b28254219",
           "args": [
            {
             "column": "total_accidentes",
             "type": "column"
            }
           ],
           "function": "SUM",
           "type": "function"
          }
         ]
        }
       },
       "submitTime": 0,
       "subtype": "tableResultSubCmd.visualization",
       "tableResultIndex": 0,
       "tableResultSettingsMap": {},
       "useConsistentColors": false,
       "version": "CommandV1",
       "width": "auto",
       "workflows": [],
       "xColumns": null,
       "yColumns": null
      }
     },
     "output_type": "display_data"
    }
   ],
   "source": [
    "from pyspark.sql import functions as F\n",
    "import re\n",
    "\n",
    "df = dfs[\"cuadro 1\"]\n",
    "\n",
    "dept_col = next((c for c in df.columns if re.search(r\"(depto|depart|departamento)\", c, re.I)), df.columns[0])\n",
    "year_cols = [c for c in df.columns if re.fullmatch(r\"\\d{4}\", c)]\n",
    "\n",
    "df_total = df.filter(F.lower(F.col(dept_col)).like(\"total%\"))\n",
    "if df_total.count() == 0:\n",
    "    df_total = df.groupBy().agg(*[F.sum(F.col(c)).alias(c) for c in year_cols])\n",
    "\n",
    "df_total_long = (df_total\n",
    "    .select(\n",
    "        F.explode(\n",
    "            F.arrays_zip(\n",
    "                F.array(*[F.lit(c) for c in year_cols]),\n",
    "                F.array(*[F.col(c) for c in year_cols])\n",
    "            )\n",
    "        ).alias(\"kv\")\n",
    "    )\n",
    "    .select(F.col(\"kv.0\").alias(\"año\"), F.col(\"kv.1\").cast(\"int\").alias(\"total_accidentes\"))\n",
    "    .orderBy(\"año\"))\n",
    "\n",
    "display(df_total_long)"
   ]
  },
  {
   "cell_type": "code",
   "execution_count": 0,
   "metadata": {
    "application/vnd.databricks.v1+cell": {
     "cellMetadata": {
      "byteLimit": 2048000,
      "rowLimit": 10000
     },
     "inputWidgets": {},
     "nuid": "a737c75c-eaab-495d-b700-b9975f5ce072",
     "showTitle": false,
     "tableResultSettingsMap": {},
     "title": ""
    }
   },
   "outputs": [
    {
     "output_type": "display_data",
     "data": {
      "text/html": [
       "<style scoped>\n",
       "  .table-result-container {\n",
       "    max-height: 300px;\n",
       "    overflow: auto;\n",
       "  }\n",
       "  table, th, td {\n",
       "    border: 1px solid black;\n",
       "    border-collapse: collapse;\n",
       "  }\n",
       "  th, td {\n",
       "    padding: 5px;\n",
       "  }\n",
       "  th {\n",
       "    text-align: left;\n",
       "  }\n",
       "</style><div class='table-result-container'><table class='table-result'><thead style='background-color: white'><tr><th>anio</th><th>departamento</th><th>total_accidentes</th></tr></thead><tbody><tr><td>2020</td><td>     </td><td>null</td></tr><tr><td>2020</td><td>Alta Verapaz</td><td>296</td></tr><tr><td>2020</td><td>Baja Verapaz</td><td>96</td></tr><tr><td>2020</td><td>Chimaltenango</td><td>229</td></tr><tr><td>2020</td><td>Chiquimula</td><td>130</td></tr><tr><td>2020</td><td>El Progreso</td><td>124</td></tr><tr><td>2020</td><td>Escuintla</td><td>440</td></tr><tr><td>2020</td><td>Guatemala</td><td>2676</td></tr><tr><td>2020</td><td>Huehuetenango</td><td>113</td></tr><tr><td>2020</td><td>Izabal</td><td>230</td></tr><tr><td>2020</td><td>Jalapa</td><td>121</td></tr><tr><td>2020</td><td>Jutiapa</td><td>165</td></tr><tr><td>2020</td><td>Petén</td><td>206</td></tr><tr><td>2020</td><td>Quetzaltenango</td><td>197</td></tr><tr><td>2020</td><td>Quiché</td><td>106</td></tr><tr><td>2020</td><td>Retalhuleu</td><td>203</td></tr><tr><td>2020</td><td>Sacatepéquez</td><td>202</td></tr><tr><td>2020</td><td>San Marcos</td><td>147</td></tr><tr><td>2020</td><td>Santa Rosa</td><td>197</td></tr><tr><td>2020</td><td>Sololá</td><td>81</td></tr><tr><td>2020</td><td>Suchitepéquez</td><td>201</td></tr><tr><td>2020</td><td>Totonicapán</td><td>49</td></tr><tr><td>2020</td><td>Zacapa</td><td>141</td></tr><tr><td>2021</td><td>     </td><td>null</td></tr><tr><td>2021</td><td>Alta Verapaz</td><td>380</td></tr><tr><td>2021</td><td>Baja Verapaz</td><td>137</td></tr><tr><td>2021</td><td>Chimaltenango</td><td>297</td></tr><tr><td>2021</td><td>Chiquimula</td><td>166</td></tr><tr><td>2021</td><td>El Progreso</td><td>170</td></tr><tr><td>2021</td><td>Escuintla</td><td>615</td></tr><tr><td>2021</td><td>Guatemala</td><td>3450</td></tr><tr><td>2021</td><td>Huehuetenango</td><td>141</td></tr><tr><td>2021</td><td>Izabal</td><td>237</td></tr><tr><td>2021</td><td>Jalapa</td><td>146</td></tr><tr><td>2021</td><td>Jutiapa</td><td>228</td></tr><tr><td>2021</td><td>Petén</td><td>266</td></tr><tr><td>2021</td><td>Quetzaltenango</td><td>253</td></tr><tr><td>2021</td><td>Quiché</td><td>186</td></tr><tr><td>2021</td><td>Retalhuleu</td><td>222</td></tr><tr><td>2021</td><td>Sacatepéquez</td><td>270</td></tr><tr><td>2021</td><td>San Marcos</td><td>182</td></tr><tr><td>2021</td><td>Santa Rosa</td><td>238</td></tr><tr><td>2021</td><td>Sololá</td><td>109</td></tr><tr><td>2021</td><td>Suchitepéquez</td><td>229</td></tr><tr><td>2021</td><td>Totonicapán</td><td>77</td></tr><tr><td>2021</td><td>Zacapa</td><td>154</td></tr><tr><td>2022</td><td>     </td><td>null</td></tr><tr><td>2022</td><td>Alta Verapaz</td><td>355</td></tr><tr><td>2022</td><td>Baja Verapaz</td><td>145</td></tr><tr><td>2022</td><td>Chimaltenango</td><td>297</td></tr><tr><td>2022</td><td>Chiquimula</td><td>135</td></tr><tr><td>2022</td><td>El Progreso</td><td>147</td></tr><tr><td>2022</td><td>Escuintla</td><td>695</td></tr><tr><td>2022</td><td>Guatemala</td><td>3387</td></tr><tr><td>2022</td><td>Huehuetenango</td><td>118</td></tr><tr><td>2022</td><td>Izabal</td><td>233</td></tr><tr><td>2022</td><td>Jalapa</td><td>127</td></tr><tr><td>2022</td><td>Jutiapa</td><td>239</td></tr><tr><td>2022</td><td>Petén</td><td>226</td></tr><tr><td>2022</td><td>Quetzaltenango</td><td>239</td></tr><tr><td>2022</td><td>Quiché</td><td>160</td></tr><tr><td>2022</td><td>Retalhuleu</td><td>216</td></tr><tr><td>2022</td><td>Sacatepéquez</td><td>325</td></tr><tr><td>2022</td><td>San Marcos</td><td>138</td></tr><tr><td>2022</td><td>Santa Rosa</td><td>231</td></tr><tr><td>2022</td><td>Sololá</td><td>68</td></tr><tr><td>2022</td><td>Suchitepéquez</td><td>215</td></tr><tr><td>2022</td><td>Totonicapán</td><td>82</td></tr><tr><td>2022</td><td>Zacapa</td><td>146</td></tr><tr><td>2023</td><td>     </td><td>null</td></tr><tr><td>2023</td><td>Alta Verapaz</td><td>356</td></tr><tr><td>2023</td><td>Baja Verapaz</td><td>145</td></tr><tr><td>2023</td><td>Chimaltenango</td><td>300</td></tr><tr><td>2023</td><td>Chiquimula</td><td>112</td></tr><tr><td>2023</td><td>El Progreso</td><td>173</td></tr><tr><td>2023</td><td>Escuintla</td><td>930</td></tr><tr><td>2023</td><td>Guatemala</td><td>3457</td></tr><tr><td>2023</td><td>Huehuetenango</td><td>126</td></tr><tr><td>2023</td><td>Izabal</td><td>244</td></tr><tr><td>2023</td><td>Jalapa</td><td>118</td></tr><tr><td>2023</td><td>Jutiapa</td><td>226</td></tr><tr><td>2023</td><td>Petén</td><td>256</td></tr><tr><td>2023</td><td>Quetzaltenango</td><td>232</td></tr><tr><td>2023</td><td>Quiché</td><td>129</td></tr><tr><td>2023</td><td>Retalhuleu</td><td>198</td></tr><tr><td>2023</td><td>Sacatepéquez</td><td>325</td></tr><tr><td>2023</td><td>San Marcos</td><td>178</td></tr><tr><td>2023</td><td>Santa Rosa</td><td>272</td></tr><tr><td>2023</td><td>Sololá</td><td>72</td></tr><tr><td>2023</td><td>Suchitepéquez</td><td>187</td></tr><tr><td>2023</td><td>Totonicapán</td><td>40</td></tr><tr><td>2023</td><td>Zacapa</td><td>142</td></tr><tr><td>2024</td><td>     </td><td>null</td></tr><tr><td>2024</td><td>Alta Verapaz</td><td>364</td></tr><tr><td>2024</td><td>Baja Verapaz</td><td>172</td></tr><tr><td>2024</td><td>Chimaltenango</td><td>299</td></tr><tr><td>2024</td><td>Chiquimula</td><td>124</td></tr><tr><td>2024</td><td>El Progreso</td><td>182</td></tr><tr><td>2024</td><td>Escuintla</td><td>1123</td></tr><tr><td>2024</td><td>Guatemala</td><td>3408</td></tr><tr><td>2024</td><td>Huehuetenango</td><td>128</td></tr><tr><td>2024</td><td>Izabal</td><td>271</td></tr><tr><td>2024</td><td>Jalapa</td><td>108</td></tr><tr><td>2024</td><td>Jutiapa</td><td>228</td></tr><tr><td>2024</td><td>Petén</td><td>268</td></tr><tr><td>2024</td><td>Quetzaltenango</td><td>218</td></tr><tr><td>2024</td><td>Quiché</td><td>153</td></tr><tr><td>2024</td><td>Retalhuleu</td><td>176</td></tr><tr><td>2024</td><td>Sacatepéquez</td><td>366</td></tr><tr><td>2024</td><td>San Marcos</td><td>144</td></tr><tr><td>2024</td><td>Santa Rosa</td><td>233</td></tr><tr><td>2024</td><td>Sololá</td><td>73</td></tr><tr><td>2024</td><td>Suchitepéquez</td><td>194</td></tr><tr><td>2024</td><td>Totonicapán</td><td>49</td></tr><tr><td>2024</td><td>Zacapa</td><td>120</td></tr></tbody></table></div>"
      ]
     },
     "metadata": {
      "application/vnd.databricks.v1+output": {
       "addedWidgets": {},
       "aggData": [],
       "aggError": "",
       "aggOverflow": false,
       "aggSchema": [],
       "aggSeriesLimitReached": false,
       "aggType": "",
       "arguments": {},
       "columnCustomDisplayInfos": {},
       "data": [
        [
         "2020",
         "     ",
         null
        ],
        [
         "2020",
         "Alta Verapaz",
         296
        ],
        [
         "2020",
         "Baja Verapaz",
         96
        ],
        [
         "2020",
         "Chimaltenango",
         229
        ],
        [
         "2020",
         "Chiquimula",
         130
        ],
        [
         "2020",
         "El Progreso",
         124
        ],
        [
         "2020",
         "Escuintla",
         440
        ],
        [
         "2020",
         "Guatemala",
         2676
        ],
        [
         "2020",
         "Huehuetenango",
         113
        ],
        [
         "2020",
         "Izabal",
         230
        ],
        [
         "2020",
         "Jalapa",
         121
        ],
        [
         "2020",
         "Jutiapa",
         165
        ],
        [
         "2020",
         "Petén",
         206
        ],
        [
         "2020",
         "Quetzaltenango",
         197
        ],
        [
         "2020",
         "Quiché",
         106
        ],
        [
         "2020",
         "Retalhuleu",
         203
        ],
        [
         "2020",
         "Sacatepéquez",
         202
        ],
        [
         "2020",
         "San Marcos",
         147
        ],
        [
         "2020",
         "Santa Rosa",
         197
        ],
        [
         "2020",
         "Sololá",
         81
        ],
        [
         "2020",
         "Suchitepéquez",
         201
        ],
        [
         "2020",
         "Totonicapán",
         49
        ],
        [
         "2020",
         "Zacapa",
         141
        ],
        [
         "2021",
         "     ",
         null
        ],
        [
         "2021",
         "Alta Verapaz",
         380
        ],
        [
         "2021",
         "Baja Verapaz",
         137
        ],
        [
         "2021",
         "Chimaltenango",
         297
        ],
        [
         "2021",
         "Chiquimula",
         166
        ],
        [
         "2021",
         "El Progreso",
         170
        ],
        [
         "2021",
         "Escuintla",
         615
        ],
        [
         "2021",
         "Guatemala",
         3450
        ],
        [
         "2021",
         "Huehuetenango",
         141
        ],
        [
         "2021",
         "Izabal",
         237
        ],
        [
         "2021",
         "Jalapa",
         146
        ],
        [
         "2021",
         "Jutiapa",
         228
        ],
        [
         "2021",
         "Petén",
         266
        ],
        [
         "2021",
         "Quetzaltenango",
         253
        ],
        [
         "2021",
         "Quiché",
         186
        ],
        [
         "2021",
         "Retalhuleu",
         222
        ],
        [
         "2021",
         "Sacatepéquez",
         270
        ],
        [
         "2021",
         "San Marcos",
         182
        ],
        [
         "2021",
         "Santa Rosa",
         238
        ],
        [
         "2021",
         "Sololá",
         109
        ],
        [
         "2021",
         "Suchitepéquez",
         229
        ],
        [
         "2021",
         "Totonicapán",
         77
        ],
        [
         "2021",
         "Zacapa",
         154
        ],
        [
         "2022",
         "     ",
         null
        ],
        [
         "2022",
         "Alta Verapaz",
         355
        ],
        [
         "2022",
         "Baja Verapaz",
         145
        ],
        [
         "2022",
         "Chimaltenango",
         297
        ],
        [
         "2022",
         "Chiquimula",
         135
        ],
        [
         "2022",
         "El Progreso",
         147
        ],
        [
         "2022",
         "Escuintla",
         695
        ],
        [
         "2022",
         "Guatemala",
         3387
        ],
        [
         "2022",
         "Huehuetenango",
         118
        ],
        [
         "2022",
         "Izabal",
         233
        ],
        [
         "2022",
         "Jalapa",
         127
        ],
        [
         "2022",
         "Jutiapa",
         239
        ],
        [
         "2022",
         "Petén",
         226
        ],
        [
         "2022",
         "Quetzaltenango",
         239
        ],
        [
         "2022",
         "Quiché",
         160
        ],
        [
         "2022",
         "Retalhuleu",
         216
        ],
        [
         "2022",
         "Sacatepéquez",
         325
        ],
        [
         "2022",
         "San Marcos",
         138
        ],
        [
         "2022",
         "Santa Rosa",
         231
        ],
        [
         "2022",
         "Sololá",
         68
        ],
        [
         "2022",
         "Suchitepéquez",
         215
        ],
        [
         "2022",
         "Totonicapán",
         82
        ],
        [
         "2022",
         "Zacapa",
         146
        ],
        [
         "2023",
         "     ",
         null
        ],
        [
         "2023",
         "Alta Verapaz",
         356
        ],
        [
         "2023",
         "Baja Verapaz",
         145
        ],
        [
         "2023",
         "Chimaltenango",
         300
        ],
        [
         "2023",
         "Chiquimula",
         112
        ],
        [
         "2023",
         "El Progreso",
         173
        ],
        [
         "2023",
         "Escuintla",
         930
        ],
        [
         "2023",
         "Guatemala",
         3457
        ],
        [
         "2023",
         "Huehuetenango",
         126
        ],
        [
         "2023",
         "Izabal",
         244
        ],
        [
         "2023",
         "Jalapa",
         118
        ],
        [
         "2023",
         "Jutiapa",
         226
        ],
        [
         "2023",
         "Petén",
         256
        ],
        [
         "2023",
         "Quetzaltenango",
         232
        ],
        [
         "2023",
         "Quiché",
         129
        ],
        [
         "2023",
         "Retalhuleu",
         198
        ],
        [
         "2023",
         "Sacatepéquez",
         325
        ],
        [
         "2023",
         "San Marcos",
         178
        ],
        [
         "2023",
         "Santa Rosa",
         272
        ],
        [
         "2023",
         "Sololá",
         72
        ],
        [
         "2023",
         "Suchitepéquez",
         187
        ],
        [
         "2023",
         "Totonicapán",
         40
        ],
        [
         "2023",
         "Zacapa",
         142
        ],
        [
         "2024",
         "     ",
         null
        ],
        [
         "2024",
         "Alta Verapaz",
         364
        ],
        [
         "2024",
         "Baja Verapaz",
         172
        ],
        [
         "2024",
         "Chimaltenango",
         299
        ],
        [
         "2024",
         "Chiquimula",
         124
        ],
        [
         "2024",
         "El Progreso",
         182
        ],
        [
         "2024",
         "Escuintla",
         1123
        ],
        [
         "2024",
         "Guatemala",
         3408
        ],
        [
         "2024",
         "Huehuetenango",
         128
        ],
        [
         "2024",
         "Izabal",
         271
        ],
        [
         "2024",
         "Jalapa",
         108
        ],
        [
         "2024",
         "Jutiapa",
         228
        ],
        [
         "2024",
         "Petén",
         268
        ],
        [
         "2024",
         "Quetzaltenango",
         218
        ],
        [
         "2024",
         "Quiché",
         153
        ],
        [
         "2024",
         "Retalhuleu",
         176
        ],
        [
         "2024",
         "Sacatepéquez",
         366
        ],
        [
         "2024",
         "San Marcos",
         144
        ],
        [
         "2024",
         "Santa Rosa",
         233
        ],
        [
         "2024",
         "Sololá",
         73
        ],
        [
         "2024",
         "Suchitepéquez",
         194
        ],
        [
         "2024",
         "Totonicapán",
         49
        ],
        [
         "2024",
         "Zacapa",
         120
        ]
       ],
       "datasetInfos": [],
       "dbfsResultPath": null,
       "isJsonSchema": true,
       "metadata": {},
       "overflow": false,
       "plotOptions": {
        "customPlotOptions": {},
        "displayType": "table",
        "pivotAggregation": null,
        "pivotColumns": null,
        "xColumns": null,
        "yColumns": null
       },
       "removedWidgets": [],
       "schema": [
        {
         "metadata": "{}",
         "name": "anio",
         "type": "\"string\""
        },
        {
         "metadata": "{}",
         "name": "departamento",
         "type": "\"string\""
        },
        {
         "metadata": "{}",
         "name": "total_accidentes",
         "type": "\"long\""
        }
       ],
       "type": "table"
      }
     },
     "output_type": "display_data"
    },
    {
     "output_type": "display_data",
     "data": {
      "text/plain": [
       "Databricks visualization. Run in Databricks to view."
      ]
     },
     "metadata": {
      "application/vnd.databricks.v1.subcommand+json": {
       "baseErrorDetails": null,
       "bindings": {},
       "collapsed": false,
       "command": "%python\n__backend_agg_display_orig = display\n__backend_agg_dfs = []\ndef __backend_agg_display_new(df):\n    __backend_agg_df_modules = [\"pandas.core.frame\", \"databricks.koalas.frame\", \"pyspark.sql.dataframe\", \"pyspark.pandas.frame\", \"pyspark.sql.connect.dataframe\"]\n    if (type(df).__module__ in __backend_agg_df_modules and type(df).__name__ == 'DataFrame') or isinstance(df, list):\n        __backend_agg_dfs.append(df)\n\ndisplay = __backend_agg_display_new\n\ndef __backend_agg_user_code_fn():\n    import base64\n    exec(base64.standard_b64decode(\"ZGZfZGVwdCA9IGRmLmZpbHRlcih+Ri5sb3dlcihGLmNvbChkZXB0X2NvbCkpLmxpa2UoInRvdGFsJSIpKQoKZGZfbG9uZyA9IChkZl9kZXB0CiAgICAuc2VsZWN0KAogICAgICAgIEYuY29sKGRlcHRfY29sKSwKICAgICAgICBGLmV4cGxvZGUoCiAgICAgICAgICAgIEYuYXJyYXlzX3ppcCgKICAgICAgICAgICAgICAgIEYuYXJyYXkoKltGLmxpdChjKSBmb3IgYyBpbiB5ZWFyX2NvbHNdKSwKICAgICAgICAgICAgICAgIEYuYXJyYXkoKltGLmNvbChjKSBmb3IgYyBpbiB5ZWFyX2NvbHNdKQogICAgICAgICAgICApCiAgICAgICAgKS5hbGlhcygia3YiKQogICAgKQogICAgLnNlbGVjdCgKICAgICAgICBGLmNvbChkZXB0X2NvbCkuYWxpYXMoImRlcGFydGFtZW50byIpLAogICAgICAgIEYuY29sKCJrdi4wIikuYWxpYXMoImFuaW8iKSwKICAgICAgICBGLmNvbCgia3YuMSIpLmNhc3QoImludCIpLmFsaWFzKCJhY2NpZGVudGVzIikKICAgICkpCgpkZl9ncm91cGVkID0gKGRmX2xvbmcuZ3JvdXBCeSgiYW5pbyIsICJkZXBhcnRhbWVudG8iKQogICAgICAgICAgICAgICAgICAgICAgIC5hZ2coRi5zdW0oImFjY2lkZW50ZXMiKS5hbGlhcygidG90YWxfYWNjaWRlbnRlcyIpKQogICAgICAgICAgICAgICAgICAgICAgIC5vcmRlckJ5KCJhbmlvIiwgImRlcGFydGFtZW50byIpKQoKIyBNb3N0cmFyIGVuIERhdGFicmlja3MKZGlzcGxheShkZl9ncm91cGVkKQo=\").decode())\n\ntry:\n    # run user code\n    __backend_agg_user_code_fn()\n\n    #reset display function\n    display = __backend_agg_display_orig\n\n    if len(__backend_agg_dfs) > 0:\n        # create a temp view\n        if type(__backend_agg_dfs[0]).__module__ == \"databricks.koalas.frame\":\n            # koalas dataframe\n            __backend_agg_dfs[0].to_spark().createOrReplaceTempView(\"DatabricksView0a835ba\")\n        elif type(__backend_agg_dfs[0]).__module__ == \"pandas.core.frame\" or isinstance(__backend_agg_dfs[0], list):\n            # pandas dataframe\n            spark.createDataFrame(__backend_agg_dfs[0]).createOrReplaceTempView(\"DatabricksView0a835ba\")\n        else:\n            __backend_agg_dfs[0].createOrReplaceTempView(\"DatabricksView0a835ba\")\n        #run backend agg\n        display(spark.sql(\"\"\"WITH q AS (select * from DatabricksView0a835ba) SELECT `anio`,`departamento`,SUM(`total_accidentes`) `column_c1b28254232` FROM q GROUP BY `anio`,`departamento`\"\"\"))\n    else:\n        displayHTML(\"dataframe no longer exists. If you're using dataframe.display(), use display(dataframe) instead.\")\n\n\nfinally:\n    spark.sql(\"drop view if exists DatabricksView0a835ba\")\n    display = __backend_agg_display_orig\n    del __backend_agg_display_new\n    del __backend_agg_display_orig\n    del __backend_agg_dfs\n    del __backend_agg_user_code_fn\n\n",
       "commandTitle": "Visualization 1",
       "commandType": "auto",
       "commandVersion": 0,
       "commentThread": [],
       "commentsVisible": false,
       "contentSha256Hex": null,
       "customPlotOptions": {
        "redashChart": [
         {
          "key": "type",
          "value": "CHART"
         },
         {
          "key": "options",
          "value": {
           "alignYAxesAtZero": true,
           "coefficient": 1,
           "columnConfigurationMap": {
            "series": {
             "column": "departamento",
             "id": "column_c1b28254231"
            },
            "x": {
             "column": "anio",
             "id": "column_c1b28254230"
            },
            "y": [
             {
              "column": "total_accidentes",
              "id": "column_c1b28254232",
              "transform": "SUM"
             }
            ]
           },
           "dateTimeFormat": "DD/MM/YYYY HH:mm",
           "direction": {
            "type": "counterclockwise"
           },
           "error_y": {
            "type": "data",
            "visible": true
           },
           "globalSeriesType": "column",
           "legend": {
            "traceorder": "normal"
           },
           "missingValuesAsZero": true,
           "numberFormat": "0,0.[00000]",
           "percentFormat": "0[.]00%",
           "series": {
            "error_y": {
             "type": "data",
             "visible": true
            },
            "stacking": "stack"
           },
           "seriesOptions": {
            "column_c1b28254232": {
             "name": "total_accidentes",
             "yAxis": 0
            }
           },
           "showDataLabels": false,
           "sizemode": "diameter",
           "sortX": true,
           "sortY": true,
           "swappedAxes": true,
           "textFormat": "",
           "useAggregationsUi": true,
           "valuesOptions": {},
           "version": 2,
           "xAxis": {
            "labels": {
             "enabled": true
            },
            "type": "-"
           },
           "yAxis": [
            {
             "type": "-"
            },
            {
             "opposite": true,
             "type": "-"
            }
           ]
          }
         }
        ]
       },
       "datasetPreviewNameToCmdIdMap": {},
       "diffDeletes": [],
       "diffInserts": [],
       "displayType": "redashChart",
       "error": null,
       "errorDetails": null,
       "errorSummary": null,
       "errorTraceType": null,
       "finishTime": 0,
       "globalVars": {},
       "guid": "",
       "height": "auto",
       "hideCommandCode": false,
       "hideCommandResult": false,
       "iPythonMetadata": null,
       "inputWidgets": {},
       "isLockedInExamMode": false,
       "latestAssumeRoleInfo": null,
       "latestUser": "a user",
       "latestUserId": null,
       "listResultMetadata": null,
       "metadata": {
        "byteLimit": 2048000,
        "rowLimit": 10000
       },
       "nuid": "e9f426f6-c752-4710-a6a2-7280e24b5ad2",
       "origId": 0,
       "parentHierarchy": [],
       "pivotAggregation": null,
       "pivotColumns": null,
       "position": 13.75,
       "resultDbfsErrorMessage": null,
       "resultDbfsStatus": "INLINED_IN_TREE",
       "results": null,
       "showCommandTitle": false,
       "startTime": 0,
       "state": "finished",
       "streamStates": {},
       "subcommandOptions": {
        "queryPlan": {
         "groups": [
          {
           "column": "anio",
           "type": "column"
          },
          {
           "column": "departamento",
           "type": "column"
          }
         ],
         "selects": [
          {
           "column": "anio",
           "type": "column"
          },
          {
           "column": "departamento",
           "type": "column"
          },
          {
           "alias": "column_c1b28254232",
           "args": [
            {
             "column": "total_accidentes",
             "type": "column"
            }
           ],
           "function": "SUM",
           "type": "function"
          }
         ]
        }
       },
       "submitTime": 0,
       "subtype": "tableResultSubCmd.visualization",
       "tableResultIndex": 0,
       "tableResultSettingsMap": {},
       "useConsistentColors": false,
       "version": "CommandV1",
       "width": "auto",
       "workflows": [],
       "xColumns": null,
       "yColumns": null
      }
     },
     "output_type": "display_data"
    }
   ],
   "source": [
    "df_dept = df.filter(~F.lower(F.col(dept_col)).like(\"total%\"))\n",
    "\n",
    "df_long = (df_dept\n",
    "    .select(\n",
    "        F.col(dept_col),\n",
    "        F.explode(\n",
    "            F.arrays_zip(\n",
    "                F.array(*[F.lit(c) for c in year_cols]),\n",
    "                F.array(*[F.col(c) for c in year_cols])\n",
    "            )\n",
    "        ).alias(\"kv\")\n",
    "    )\n",
    "    .select(\n",
    "        F.col(dept_col).alias(\"departamento\"),\n",
    "        F.col(\"kv.0\").alias(\"anio\"),\n",
    "        F.col(\"kv.1\").cast(\"int\").alias(\"accidentes\")\n",
    "    ))\n",
    "\n",
    "df_grouped = (df_long.groupBy(\"anio\", \"departamento\")\n",
    "                       .agg(F.sum(\"accidentes\").alias(\"total_accidentes\"))\n",
    "                       .orderBy(\"anio\", \"departamento\"))\n",
    "\n",
    "# Mostrar en Databricks\n",
    "display(df_grouped)\n"
   ]
  },
  {
   "cell_type": "markdown",
   "metadata": {
    "application/vnd.databricks.v1+cell": {
     "cellMetadata": {
      "byteLimit": 2048000,
      "rowLimit": 10000
     },
     "inputWidgets": {},
     "nuid": "0911a079-c4af-4c06-ae5c-3eb4aebc576a",
     "showTitle": false,
     "tableResultSettingsMap": {},
     "title": ""
    }
   },
   "source": [
    "# 6. ¿Qué día de la semana registra más accidentes en 2024? Graficar con display en un gráfico de columnas"
   ]
  },
  {
   "cell_type": "code",
   "execution_count": 0,
   "metadata": {
    "application/vnd.databricks.v1+cell": {
     "cellMetadata": {
      "byteLimit": 2048000,
      "rowLimit": 10000
     },
     "inputWidgets": {},
     "nuid": "da1d0808-ba3a-4579-8001-f054ee7ce3f6",
     "showTitle": false,
     "tableResultSettingsMap": {},
     "title": ""
    }
   },
   "outputs": [
    {
     "output_type": "display_data",
     "data": {
      "text/html": [
       "<style scoped>\n",
       "  .table-result-container {\n",
       "    max-height: 300px;\n",
       "    overflow: auto;\n",
       "  }\n",
       "  table, th, td {\n",
       "    border: 1px solid black;\n",
       "    border-collapse: collapse;\n",
       "  }\n",
       "  th, td {\n",
       "    padding: 5px;\n",
       "  }\n",
       "  th {\n",
       "    text-align: left;\n",
       "  }\n",
       "</style><div class='table-result-container'><table class='table-result'><thead style='background-color: white'><tr><th>dia</th><th>total_accidentes</th></tr></thead><tbody><tr><td>Sabado</td><td>1615.0</td></tr><tr><td>Domingo</td><td>1602.0</td></tr><tr><td>Viernes</td><td>1182.0</td></tr><tr><td>Lunes</td><td>1141.0</td></tr><tr><td>Jueves</td><td>981.0</td></tr><tr><td>Martes</td><td>970.0</td></tr><tr><td>Miercoles</td><td>910.0</td></tr></tbody></table></div>"
      ]
     },
     "metadata": {
      "application/vnd.databricks.v1+output": {
       "addedWidgets": {},
       "aggData": [],
       "aggError": "",
       "aggOverflow": false,
       "aggSchema": [],
       "aggSeriesLimitReached": false,
       "aggType": "",
       "arguments": {},
       "columnCustomDisplayInfos": {},
       "data": [
        [
         "Sabado",
         1615.0
        ],
        [
         "Domingo",
         1602.0
        ],
        [
         "Viernes",
         1182.0
        ],
        [
         "Lunes",
         1141.0
        ],
        [
         "Jueves",
         981.0
        ],
        [
         "Martes",
         970.0
        ],
        [
         "Miercoles",
         910.0
        ]
       ],
       "datasetInfos": [],
       "dbfsResultPath": null,
       "isJsonSchema": true,
       "metadata": {},
       "overflow": false,
       "plotOptions": {
        "customPlotOptions": {},
        "displayType": "table",
        "pivotAggregation": null,
        "pivotColumns": null,
        "xColumns": null,
        "yColumns": null
       },
       "removedWidgets": [],
       "schema": [
        {
         "metadata": "{}",
         "name": "dia",
         "type": "\"string\""
        },
        {
         "metadata": "{}",
         "name": "total_accidentes",
         "type": "\"double\""
        }
       ],
       "type": "table"
      }
     },
     "output_type": "display_data"
    },
    {
     "output_type": "display_data",
     "data": {
      "text/plain": [
       "Databricks visualization. Run in Databricks to view."
      ]
     },
     "metadata": {
      "application/vnd.databricks.v1.subcommand+json": {
       "baseErrorDetails": null,
       "bindings": {},
       "collapsed": false,
       "command": "%python\n__backend_agg_display_orig = display\n__backend_agg_dfs = []\ndef __backend_agg_display_new(df):\n    __backend_agg_df_modules = [\"pandas.core.frame\", \"databricks.koalas.frame\", \"pyspark.sql.dataframe\", \"pyspark.pandas.frame\", \"pyspark.sql.connect.dataframe\"]\n    if (type(df).__module__ in __backend_agg_df_modules and type(df).__name__ == 'DataFrame') or isinstance(df, list):\n        __backend_agg_dfs.append(df)\n\ndisplay = __backend_agg_display_new\n\ndef __backend_agg_user_code_fn():\n    import base64\n    exec(base64.standard_b64decode(\"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\").decode())\n\ntry:\n    # run user code\n    __backend_agg_user_code_fn()\n\n    #reset display function\n    display = __backend_agg_display_orig\n\n    if len(__backend_agg_dfs) > 0:\n        # create a temp view\n        if type(__backend_agg_dfs[0]).__module__ == \"databricks.koalas.frame\":\n            # koalas dataframe\n            __backend_agg_dfs[0].to_spark().createOrReplaceTempView(\"DatabricksView7c70fa4\")\n        elif type(__backend_agg_dfs[0]).__module__ == \"pandas.core.frame\" or isinstance(__backend_agg_dfs[0], list):\n            # pandas dataframe\n            spark.createDataFrame(__backend_agg_dfs[0]).createOrReplaceTempView(\"DatabricksView7c70fa4\")\n        else:\n            __backend_agg_dfs[0].createOrReplaceTempView(\"DatabricksView7c70fa4\")\n        #run backend agg\n        display(spark.sql(\"\"\"WITH q AS (select * from DatabricksView7c70fa4) SELECT `dia`,SUM(`total_accidentes`) `column_c1b28254238` FROM q GROUP BY `dia`\"\"\"))\n    else:\n        displayHTML(\"dataframe no longer exists. If you're using dataframe.display(), use display(dataframe) instead.\")\n\n\nfinally:\n    spark.sql(\"drop view if exists DatabricksView7c70fa4\")\n    display = __backend_agg_display_orig\n    del __backend_agg_display_new\n    del __backend_agg_display_orig\n    del __backend_agg_dfs\n    del __backend_agg_user_code_fn\n\n",
       "commandTitle": "Visualization 1",
       "commandType": "auto",
       "commandVersion": 0,
       "commentThread": [],
       "commentsVisible": false,
       "contentSha256Hex": null,
       "customPlotOptions": {
        "redashChart": [
         {
          "key": "type",
          "value": "CHART"
         },
         {
          "key": "options",
          "value": {
           "alignYAxesAtZero": true,
           "coefficient": 1,
           "columnConfigurationMap": {
            "x": {
             "column": "dia",
             "id": "column_c1b28254237"
            },
            "y": [
             {
              "column": "total_accidentes",
              "id": "column_c1b28254238",
              "transform": "SUM"
             }
            ]
           },
           "dateTimeFormat": "DD/MM/YYYY HH:mm",
           "direction": {
            "type": "counterclockwise"
           },
           "error_y": {
            "type": "data",
            "visible": true
           },
           "globalSeriesType": "column",
           "isAggregationOn": true,
           "legend": {
            "traceorder": "normal"
           },
           "missingValuesAsZero": true,
           "numberFormat": "0,0.[00000]",
           "percentFormat": "0[.]00%",
           "series": {
            "error_y": {
             "type": "data",
             "visible": true
            },
            "stacking": null
           },
           "seriesOptions": {
            "column_c1b28254238": {
             "color": "#00A972",
             "name": "total_accidentes",
             "yAxis": 0
            }
           },
           "showDataLabels": false,
           "sizemode": "diameter",
           "sortX": true,
           "sortY": true,
           "swappedAxes": true,
           "textFormat": "",
           "useAggregationsUi": true,
           "valuesOptions": {},
           "version": 2,
           "xAxis": {
            "labels": {
             "enabled": true
            },
            "type": "-"
           },
           "yAxis": [
            {
             "type": "-"
            },
            {
             "opposite": true,
             "type": "-"
            }
           ]
          }
         }
        ]
       },
       "datasetPreviewNameToCmdIdMap": {},
       "diffDeletes": [],
       "diffInserts": [],
       "displayType": "redashChart",
       "error": null,
       "errorDetails": null,
       "errorSummary": null,
       "errorTraceType": null,
       "finishTime": 0,
       "globalVars": {},
       "guid": "",
       "height": "auto",
       "hideCommandCode": false,
       "hideCommandResult": false,
       "iPythonMetadata": null,
       "inputWidgets": {},
       "isLockedInExamMode": false,
       "latestAssumeRoleInfo": null,
       "latestUser": "a user",
       "latestUserId": null,
       "listResultMetadata": null,
       "metadata": {
        "byteLimit": 2048000,
        "rowLimit": 10000
       },
       "nuid": "4177bfe4-2396-4dda-be93-5561042320d3",
       "origId": 0,
       "parentHierarchy": [],
       "pivotAggregation": null,
       "pivotColumns": null,
       "position": 14.5,
       "resultDbfsErrorMessage": null,
       "resultDbfsStatus": "INLINED_IN_TREE",
       "results": null,
       "showCommandTitle": false,
       "startTime": 0,
       "state": "finished",
       "streamStates": {},
       "subcommandOptions": {
        "queryPlan": {
         "groups": [
          {
           "column": "dia",
           "type": "column"
          }
         ],
         "selects": [
          {
           "column": "dia",
           "type": "column"
          },
          {
           "alias": "column_c1b28254238",
           "args": [
            {
             "column": "total_accidentes",
             "type": "column"
            }
           ],
           "function": "SUM",
           "type": "function"
          }
         ]
        }
       },
       "submitTime": 0,
       "subtype": "tableResultSubCmd.visualization",
       "tableResultIndex": 0,
       "tableResultSettingsMap": {},
       "useConsistentColors": false,
       "version": "CommandV1",
       "width": "auto",
       "workflows": [],
       "xColumns": null,
       "yColumns": null
      }
     },
     "output_type": "display_data"
    }
   ],
   "source": [
    "from pyspark.sql import functions as F\n",
    "import re, unicodedata\n",
    "\n",
    "df = dfs[\"cuadro 3\"]  # ajusta el nombre si difiere\n",
    "\n",
    "def strip_accents(s: str) -> str:\n",
    "    return \"\".join(c for c in unicodedata.normalize(\"NFD\", s or \"\") if unicodedata.category(c) != \"Mn\")\n",
    "\n",
    "def norm(s: str) -> str:\n",
    "    s = strip_accents(s).lower()\n",
    "    return re.sub(r\"[^a-z]\", \"\", s)\n",
    "\n",
    "# Variantes por día (para capturar 'Mircoles', 'Sbado', abreviaturas, etc.)\n",
    "day_variants = {\n",
    "    \"Lunes\":      [\"lun\"],\n",
    "    \"Martes\":     [\"mar\"],\n",
    "    \"Miercoles\":  [\"mie\",\"mir\"],   # 'mircoles' sin 'e'\n",
    "    \"Jueves\":     [\"jue\"],\n",
    "    \"Viernes\":    [\"vier\",\"vie\"],\n",
    "    \"Sabado\":     [\"sab\",\"sb\"],     # 'sbado' sin 'a'\n",
    "    \"Domingo\":    [\"dom\"],\n",
    "}\n",
    "\n",
    "# Detectar columna real por día\n",
    "colmap = {}\n",
    "for c in df.columns:\n",
    "    nk = norm(c)\n",
    "    for day, roots in day_variants.items():\n",
    "        if any((nk.startswith(r) or r in nk) for r in roots):\n",
    "            # Si hay empate, quédate con el match más largo (más específico)\n",
    "            if day not in colmap or len(nk) > len(norm(colmap[day])):\n",
    "                colmap[day] = c\n",
    "\n",
    "faltan = [d for d in day_variants if d not in colmap]\n",
    "if faltan:\n",
    "    raise ValueError(f\"No encontré todas las columnas de días. Faltan: {faltan}. Detectadas: {colmap}\")\n",
    "\n",
    "# Quitar la fila Total si existe\n",
    "col_dep = next((c for c in df.columns if \"depar\" in norm(c)), None)\n",
    "df_work = df.where(F.lower(F.col(col_dep).cast(\"string\")) != \"total\") if col_dep else df\n",
    "\n",
    "# Unpivot a formato largo\n",
    "pairs = []\n",
    "ordered_days = [\"Lunes\",\"Martes\",\"Miercoles\",\"Jueves\",\"Viernes\",\"Sabado\",\"Domingo\"]\n",
    "for d in ordered_days:\n",
    "    pairs += [f\"'{d}'\", f\"`{colmap[d]}`\"]\n",
    "stack_expr = f\"stack(7, {', '.join(pairs)}) as (dia, accidentes)\"\n",
    "\n",
    "df_long = (df_work.selectExpr(stack_expr)\n",
    "                   .select(\"dia\", F.col(\"accidentes\").cast(\"double\")))\n",
    "\n",
    "# Sumar 2024 por día\n",
    "df_dia = (df_long.groupBy(\"dia\")\n",
    "                 .agg(F.sum(F.coalesce(\"accidentes\", F.lit(0))).alias(\"total_accidentes\"))\n",
    "                 .orderBy(F.desc(\"total_accidentes\")))\n",
    "\n",
    "# Mostrar tabla (en la UI selecciona Bar chart: X=dia, Y=total_accidentes)\n",
    "display(df_dia)"
   ]
  },
  {
   "cell_type": "markdown",
   "metadata": {
    "application/vnd.databricks.v1+cell": {
     "cellMetadata": {
      "byteLimit": 2048000,
      "rowLimit": 10000
     },
     "inputWidgets": {},
     "nuid": "ba599fa3-548b-4f30-a2c7-03c216bcebf8",
     "showTitle": false,
     "tableResultSettingsMap": {},
     "title": ""
    }
   },
   "source": [
    "# 7. Mostrar la distribución de accidentes por hora del día en el municipio de Guatemala. Graficar en un histograma."
   ]
  },
  {
   "cell_type": "code",
   "execution_count": 0,
   "metadata": {
    "application/vnd.databricks.v1+cell": {
     "cellMetadata": {
      "byteLimit": 2048000,
      "rowLimit": 10000
     },
     "inputWidgets": {},
     "nuid": "f14eb574-28f1-47f3-8d15-87cd8d3ffe6d",
     "showTitle": false,
     "tableResultSettingsMap": {
      "0": {
       "dataGridStateBlob": "{\"version\":1,\"tableState\":{\"columnPinning\":{\"left\":[\"#row_number#\"],\"right\":[]},\"columnSizing\":{},\"columnVisibility\":{}},\"settings\":{\"columns\":{}},\"syncTimestamp\":1759403305624}",
       "filterBlob": "{\"version\":1,\"filterGroups\":[{\"enabled\":true,\"filterGroupId\":\"fg_4a0319c2\",\"op\":\"OR\",\"filters\":[{\"filterId\":\"f_59ce8c70\",\"enabled\":true,\"columnId\":\"Total\",\"dataType\":\"integer\",\"filterType\":\"oneof\"}],\"local\":false,\"updatedAt\":1759403137238},{\"enabled\":true,\"filterGroupId\":\"fg_45213e1a\",\"op\":\"OR\",\"filters\":[{\"filterId\":\"f_72064125\",\"enabled\":true,\"columnId\":\"Hora_de_ocurrencia\",\"dataType\":\"string\",\"filterType\":\"oneof\",\"filterConfig\":{}}],\"local\":false,\"updatedAt\":1759403148295}],\"syncTimestamp\":1759403148304}",
       "queryPlanFiltersBlob": "[]",
       "tableResultIndex": 0
      }
     },
     "title": ""
    }
   },
   "outputs": [
    {
     "output_type": "display_data",
     "data": {
      "text/html": [
       "<style scoped>\n",
       "  .table-result-container {\n",
       "    max-height: 300px;\n",
       "    overflow: auto;\n",
       "  }\n",
       "  table, th, td {\n",
       "    border: 1px solid black;\n",
       "    border-collapse: collapse;\n",
       "  }\n",
       "  th, td {\n",
       "    padding: 5px;\n",
       "  }\n",
       "  th {\n",
       "    text-align: left;\n",
       "  }\n",
       "</style><div class='table-result-container'><table class='table-result'><thead style='background-color: white'><tr><th>Hora_de_ocurrencia</th><th>total_accidentes</th></tr></thead><tbody><tr><td>00:00 a 00:59</td><td>115.0</td></tr><tr><td>01:00 a 01:59</td><td>73.0</td></tr><tr><td>02:00 a 02:59</td><td>76.0</td></tr><tr><td>03:00 a 03:59</td><td>45.0</td></tr><tr><td>04:00 a 04:59</td><td>34.0</td></tr><tr><td>05:00 a 05:59</td><td>55.0</td></tr><tr><td>06:00 a 06:59</td><td>49.0</td></tr><tr><td>07:00 a 07:59</td><td>57.0</td></tr><tr><td>08:00 a 08:59</td><td>35.0</td></tr><tr><td>09:00 a 09:59</td><td>57.0</td></tr><tr><td>10:00 a 10:59</td><td>67.0</td></tr><tr><td>11:00 a 11:59</td><td>63.0</td></tr><tr><td>12:00 a 12:59</td><td>50.0</td></tr><tr><td>13:00 a 13:59</td><td>69.0</td></tr><tr><td>14:00 a 14:59</td><td>62.0</td></tr><tr><td>15:00 a 15:59</td><td>57.0</td></tr><tr><td>16:00 a 16:59</td><td>62.0</td></tr><tr><td>17:00 a 17:59</td><td>75.0</td></tr><tr><td>18:00 a 18:59</td><td>65.0</td></tr><tr><td>19:00 a 19:59</td><td>77.0</td></tr><tr><td>20:00 a 20:59</td><td>86.0</td></tr><tr><td>21:00 a 21:59</td><td>105.0</td></tr><tr><td>22:00 a 22:59</td><td>99.0</td></tr><tr><td>23:00 a 23:59</td><td>93.0</td></tr></tbody></table></div>"
      ]
     },
     "metadata": {
      "application/vnd.databricks.v1+output": {
       "addedWidgets": {},
       "aggData": [],
       "aggError": "",
       "aggOverflow": false,
       "aggSchema": [],
       "aggSeriesLimitReached": false,
       "aggType": "",
       "arguments": {},
       "columnCustomDisplayInfos": {},
       "data": [
        [
         "00:00 a 00:59",
         115.0
        ],
        [
         "01:00 a 01:59",
         73.0
        ],
        [
         "02:00 a 02:59",
         76.0
        ],
        [
         "03:00 a 03:59",
         45.0
        ],
        [
         "04:00 a 04:59",
         34.0
        ],
        [
         "05:00 a 05:59",
         55.0
        ],
        [
         "06:00 a 06:59",
         49.0
        ],
        [
         "07:00 a 07:59",
         57.0
        ],
        [
         "08:00 a 08:59",
         35.0
        ],
        [
         "09:00 a 09:59",
         57.0
        ],
        [
         "10:00 a 10:59",
         67.0
        ],
        [
         "11:00 a 11:59",
         63.0
        ],
        [
         "12:00 a 12:59",
         50.0
        ],
        [
         "13:00 a 13:59",
         69.0
        ],
        [
         "14:00 a 14:59",
         62.0
        ],
        [
         "15:00 a 15:59",
         57.0
        ],
        [
         "16:00 a 16:59",
         62.0
        ],
        [
         "17:00 a 17:59",
         75.0
        ],
        [
         "18:00 a 18:59",
         65.0
        ],
        [
         "19:00 a 19:59",
         77.0
        ],
        [
         "20:00 a 20:59",
         86.0
        ],
        [
         "21:00 a 21:59",
         105.0
        ],
        [
         "22:00 a 22:59",
         99.0
        ],
        [
         "23:00 a 23:59",
         93.0
        ]
       ],
       "datasetInfos": [],
       "dbfsResultPath": null,
       "isJsonSchema": true,
       "metadata": {},
       "overflow": false,
       "plotOptions": {
        "customPlotOptions": {},
        "displayType": "table",
        "pivotAggregation": null,
        "pivotColumns": null,
        "xColumns": null,
        "yColumns": null
       },
       "removedWidgets": [],
       "schema": [
        {
         "metadata": "{}",
         "name": "Hora_de_ocurrencia",
         "type": "\"string\""
        },
        {
         "metadata": "{}",
         "name": "total_accidentes",
         "type": "\"double\""
        }
       ],
       "type": "table"
      }
     },
     "output_type": "display_data"
    },
    {
     "output_type": "display_data",
     "data": {
      "text/plain": [
       "Databricks visualization. Run in Databricks to view."
      ]
     },
     "metadata": {
      "application/vnd.databricks.v1.subcommand+json": {
       "baseErrorDetails": null,
       "bindings": {},
       "collapsed": false,
       "command": "%python\n__backend_agg_display_orig = display\n__backend_agg_dfs = []\ndef __backend_agg_display_new(df):\n    __backend_agg_df_modules = [\"pandas.core.frame\", \"databricks.koalas.frame\", \"pyspark.sql.dataframe\", \"pyspark.pandas.frame\", \"pyspark.sql.connect.dataframe\"]\n    if (type(df).__module__ in __backend_agg_df_modules and type(df).__name__ == 'DataFrame') or isinstance(df, list):\n        __backend_agg_dfs.append(df)\n\ndisplay = __backend_agg_display_new\n\ndef __backend_agg_user_code_fn():\n    import base64\n    exec(base64.standard_b64decode(\"ZnJvbSBweXNwYXJrLnNxbCBpbXBvcnQgZnVuY3Rpb25zIGFzIEYKCiMgMSkgVG9tYW1vcyBlbCBjdWFkcm8gMTQKZGYgPSBkZnNbImN1YWRybyAxNCJdCgojIDIpIFF1aXRhbW9zIGNvbHVtbmFzICdUb3RhbCcgZSAnSWdub3JhZGEnIHNpIGV4aXN0ZW4KY29sc190b19kcm9wID0gW2MgZm9yIGMgaW4gWyJUb3RhbCIsICJJZ25vcmFkYSJdIGlmIGMgaW4gZGYuY29sdW1uc10KZGZfY2xlYW4gPSBkZi5kcm9wKCpjb2xzX3RvX2Ryb3ApCgojIDMpIChQb3Igc2kgdmVuw61hbiBjb21vIGZpbGFzKSBxdWl0YW1vcyBmaWxhcyAnSWdub3JhZGEnIHkgJ1RvdGFsJwpkZl9jbGVhbiA9IGRmX2NsZWFuLmZpbHRlcih+Ri5jb2woIkhvcmFfZGVfb2N1cnJlbmNpYSIpLmlzaW4oWyJJZ25vcmFkYSIsICJUb3RhbCJdKSkKCiMgNCkgU3VtYW1vcyB0b2RhcyBsYXMgY29sdW1uYXMgbnVtw6lyaWNhcyBwb3IgZnJhbmphIGhvcmFyaWEKbnVtX2NvbHMgPSBbYyBmb3IgYyBpbiBkZl9jbGVhbi5jb2x1bW5zIGlmIGMgIT0gIkhvcmFfZGVfb2N1cnJlbmNpYSJdCmRmX2hvcmFzID0gKAogICAgZGZfY2xlYW4KICAgIC53aXRoQ29sdW1uKAogICAgICAgICJ0b3RhbF9hY2NpZGVudGVzIiwKICAgICAgICBzdW0oRi5jb2FsZXNjZShGLmNvbChjKS5jYXN0KCJkb3VibGUiKSwgRi5saXQoMC4wKSkgZm9yIGMgaW4gbnVtX2NvbHMpCiAgICApCiAgICAuc2VsZWN0KCJIb3JhX2RlX29jdXJyZW5jaWEiLCAidG90YWxfYWNjaWRlbnRlcyIpCikKCiMgNSkgT3JkZW5hbW9zIHBvciBsYSBob3JhIGluaWNpYWwgKDAwLCAwMSwgMDIsIOKApikKZGZfaG9yYXMgPSAoCiAgICBkZl9ob3JhcwogICAgLndpdGhDb2x1bW4oInN0YXJ0X2giLCBGLnJlZ2V4cF9leHRyYWN0KCJIb3JhX2RlX29jdXJyZW5jaWEiLCByIl4oXGR7Mn0pIiwgMSkuY2FzdCgiaW50IikpCiAgICAub3JkZXJCeSgic3RhcnRfaCIpCiAgICAuZHJvcCgic3RhcnRfaCIpCikKCiMgNikgTW9zdHJhciB5IGdyYWZpY2FyIGNvbiBkaXNwbGF5IChlbiBsYSBVSTogUGxvdCAtPiBCYXIgLT4gS2V5cz1Ib3JhX2RlX29jdXJyZW5jaWEsIFZhbHVlcz10b3RhbF9hY2NpZGVudGVzKQpkaXNwbGF5KGRmX2hvcmFzKQ==\").decode())\n\ntry:\n    # run user code\n    __backend_agg_user_code_fn()\n\n    #reset display function\n    display = __backend_agg_display_orig\n\n    if len(__backend_agg_dfs) > 0:\n        # create a temp view\n        if type(__backend_agg_dfs[0]).__module__ == \"databricks.koalas.frame\":\n            # koalas dataframe\n            __backend_agg_dfs[0].to_spark().createOrReplaceTempView(\"DatabricksViewc4b7e70\")\n        elif type(__backend_agg_dfs[0]).__module__ == \"pandas.core.frame\" or isinstance(__backend_agg_dfs[0], list):\n            # pandas dataframe\n            spark.createDataFrame(__backend_agg_dfs[0]).createOrReplaceTempView(\"DatabricksViewc4b7e70\")\n        else:\n            __backend_agg_dfs[0].createOrReplaceTempView(\"DatabricksViewc4b7e70\")\n        #run backend agg\n        display(spark.sql(\"\"\"WITH q AS (select * from DatabricksViewc4b7e70) SELECT `Hora_de_ocurrencia`,SUM(`total_accidentes`) `column_c1b28254253` FROM q GROUP BY `Hora_de_ocurrencia`\"\"\"))\n    else:\n        displayHTML(\"dataframe no longer exists. If you're using dataframe.display(), use display(dataframe) instead.\")\n\n\nfinally:\n    spark.sql(\"drop view if exists DatabricksViewc4b7e70\")\n    display = __backend_agg_display_orig\n    del __backend_agg_display_new\n    del __backend_agg_display_orig\n    del __backend_agg_dfs\n    del __backend_agg_user_code_fn\n\n",
       "commandTitle": "Visualization 1",
       "commandType": "auto",
       "commandVersion": 0,
       "commentThread": [],
       "commentsVisible": false,
       "contentSha256Hex": null,
       "customPlotOptions": {
        "redashChart": [
         {
          "key": "type",
          "value": "CHART"
         },
         {
          "key": "options",
          "value": {
           "alignYAxesAtZero": true,
           "coefficient": 1,
           "columnConfigurationMap": {
            "x": {
             "column": "Hora_de_ocurrencia",
             "id": "column_c1b28254252"
            },
            "y": [
             {
              "column": "total_accidentes",
              "id": "column_c1b28254253",
              "transform": "SUM"
             }
            ]
           },
           "dateTimeFormat": "DD/MM/YYYY HH:mm",
           "direction": {
            "type": "counterclockwise"
           },
           "error_y": {
            "type": "data",
            "visible": true
           },
           "globalSeriesType": "column",
           "isAggregationOn": true,
           "legend": {
            "traceorder": "normal"
           },
           "missingValuesAsZero": true,
           "numberFormat": "0,0.[00000]",
           "percentFormat": "0[.]00%",
           "series": {
            "error_y": {
             "type": "data",
             "visible": true
            },
            "stacking": null
           },
           "seriesOptions": {
            "column_c1b28254253": {
             "color": "#AB4057",
             "name": "total_accidentes",
             "yAxis": 0
            }
           },
           "showDataLabels": false,
           "sizemode": "diameter",
           "sortX": true,
           "sortY": true,
           "swappedAxes": true,
           "textFormat": "",
           "useAggregationsUi": true,
           "valuesOptions": {},
           "version": 2,
           "xAxis": {
            "labels": {
             "enabled": true
            },
            "type": "-"
           },
           "yAxis": [
            {
             "type": "-"
            },
            {
             "opposite": true,
             "type": "-"
            }
           ]
          }
         }
        ]
       },
       "datasetPreviewNameToCmdIdMap": {},
       "diffDeletes": [],
       "diffInserts": [],
       "displayType": "redashChart",
       "error": null,
       "errorDetails": null,
       "errorSummary": null,
       "errorTraceType": null,
       "finishTime": 0,
       "globalVars": {},
       "guid": "",
       "height": "auto",
       "hideCommandCode": false,
       "hideCommandResult": false,
       "iPythonMetadata": null,
       "inputWidgets": {},
       "isLockedInExamMode": false,
       "latestAssumeRoleInfo": null,
       "latestUser": "a user",
       "latestUserId": null,
       "listResultMetadata": null,
       "metadata": {},
       "nuid": "0ce08c99-3210-4ce3-847c-67c9fbcc70d2",
       "origId": 0,
       "parentHierarchy": [],
       "pivotAggregation": null,
       "pivotColumns": null,
       "position": 16.0,
       "resultDbfsErrorMessage": null,
       "resultDbfsStatus": "INLINED_IN_TREE",
       "results": null,
       "showCommandTitle": false,
       "startTime": 0,
       "state": "input",
       "streamStates": {},
       "subcommandOptions": {
        "queryPlan": {
         "groups": [
          {
           "column": "Hora_de_ocurrencia",
           "type": "column"
          }
         ],
         "selects": [
          {
           "column": "Hora_de_ocurrencia",
           "type": "column"
          },
          {
           "alias": "column_c1b28254253",
           "args": [
            {
             "column": "total_accidentes",
             "type": "column"
            }
           ],
           "function": "SUM",
           "type": "function"
          }
         ]
        }
       },
       "submitTime": 0,
       "subtype": "tableResultSubCmd.visualization",
       "tableResultIndex": 0,
       "tableResultSettingsMap": {},
       "useConsistentColors": false,
       "version": "CommandV1",
       "width": "auto",
       "workflows": [],
       "xColumns": null,
       "yColumns": null
      }
     },
     "output_type": "display_data"
    }
   ],
   "source": [
    "from pyspark.sql import functions as F\n",
    "\n",
    "# 1) Tomamos el cuadro 14\n",
    "df = dfs[\"cuadro 14\"]\n",
    "\n",
    "# 2) Quitamos columnas 'Total' e 'Ignorada' si existen\n",
    "cols_to_drop = [c for c in [\"Total\", \"Ignorada\"] if c in df.columns]\n",
    "df_clean = df.drop(*cols_to_drop)\n",
    "\n",
    "# 3) (Por si venían como filas) quitamos filas 'Ignorada' y 'Total'\n",
    "df_clean = df_clean.filter(~F.col(\"Hora_de_ocurrencia\").isin([\"Ignorada\", \"Total\"]))\n",
    "\n",
    "# 4) Sumamos todas las columnas numéricas por franja horaria\n",
    "num_cols = [c for c in df_clean.columns if c != \"Hora_de_ocurrencia\"]\n",
    "df_horas = (\n",
    "    df_clean\n",
    "    .withColumn(\n",
    "        \"total_accidentes\",\n",
    "        sum(F.coalesce(F.col(c).cast(\"double\"), F.lit(0.0)) for c in num_cols)\n",
    "    )\n",
    "    .select(\"Hora_de_ocurrencia\", \"total_accidentes\")\n",
    ")\n",
    "\n",
    "# 5) Ordenamos por la hora inicial (00, 01, 02, …)\n",
    "df_horas = (\n",
    "    df_horas\n",
    "    .withColumn(\"start_h\", F.regexp_extract(\"Hora_de_ocurrencia\", r\"^(\\d{2})\", 1).cast(\"int\"))\n",
    "    .orderBy(\"start_h\")\n",
    "    .drop(\"start_h\")\n",
    ")\n",
    "\n",
    "# 6) Mostrar y graficar con display (en la UI: Plot -> Bar -> Keys=Hora_de_ocurrencia, Values=total_accidentes)\n",
    "display(df_horas)"
   ]
  }
 ],
 "metadata": {
  "application/vnd.databricks.v1+notebook": {
   "computePreferences": null,
   "dashboards": [],
   "environmentMetadata": {
    "base_environment": "",
    "environment_version": "3"
   },
   "inputWidgetPreferences": null,
   "language": "python",
   "notebookMetadata": {
    "pythonIndentUnit": 4
   },
   "notebookName": "Lab 8",
   "widgets": {}
  },
  "language_info": {
   "name": "python"
  }
 },
 "nbformat": 4,
 "nbformat_minor": 0
}